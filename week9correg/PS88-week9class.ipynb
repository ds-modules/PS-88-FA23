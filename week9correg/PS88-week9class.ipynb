{
 "cells": [
  {
   "cell_type": "markdown",
   "id": "91f1010f",
   "metadata": {},
   "source": [
    "# PS 88 Week 9 Lecture Notebook"
   ]
  },
  {
   "cell_type": "markdown",
   "id": "1fc8e4e6",
   "metadata": {},
   "source": [
    "Loading Libraries"
   ]
  },
  {
   "cell_type": "code",
   "execution_count": null,
   "id": "66c9baed",
   "metadata": {},
   "outputs": [],
   "source": [
    "import numpy as np\n",
    "import matplotlib.pyplot as plt\n",
    "import pandas as pd\n",
    "import seaborn as sns\n",
    "import statsmodels.formula.api as smf\n",
    "from IPython.display import display, Markdown"
   ]
  },
  {
   "cell_type": "markdown",
   "id": "d5432fbb",
   "metadata": {},
   "source": [
    "Let's look at the economic performance and election result data we studied in week 2.\n",
    "\n",
    "First we loading the election data, which is stored in .dta (Stata) format, and then subsetting to years with elections after 1936.\n",
    "\n",
    "Note we are using pandas syntax, which we will learn more about in the lab."
   ]
  },
  {
   "cell_type": "code",
   "execution_count": null,
   "id": "a714061e",
   "metadata": {},
   "outputs": [],
   "source": [
    "elec = pd.read_stata(\"presvote.dta\")"
   ]
  },
  {
   "cell_type": "markdown",
   "id": "7ef52540",
   "metadata": {},
   "source": [
    "The full data contains all years since 1789, but we are only interested in election years with the relevant economic data. "
   ]
  },
  {
   "cell_type": "code",
   "execution_count": null,
   "id": "2598fd32",
   "metadata": {},
   "outputs": [],
   "source": [
    "elec = elec[elec['incvote']>0]\n",
    "elec = elec[elec['year'] > 1936]\n",
    "elec"
   ]
  },
  {
   "cell_type": "markdown",
   "id": "94300927",
   "metadata": {},
   "source": [
    "We can make a scatterplot with  the `scatterplot` function from seaborn (loaded here as sns). The first argument tells what variable  to use for the x axis, the second argumnt is the y  axis, and the third argument is the data frame containing these variables."
   ]
  },
  {
   "cell_type": "code",
   "execution_count": null,
   "id": "a7abe81b",
   "metadata": {},
   "outputs": [],
   "source": [
    "sns.scatterplot(x='RDIyrgrowth', y='incvote', data=elec)"
   ]
  },
  {
   "cell_type": "markdown",
   "id": "061ab865",
   "metadata": {},
   "source": [
    "Adding horizontal and vertical lines at the means using the `axvline` and `axhline` functions."
   ]
  },
  {
   "cell_type": "code",
   "execution_count": null,
   "id": "b92c2ce1",
   "metadata": {},
   "outputs": [],
   "source": [
    "sns.scatterplot(x='RDIyrgrowth', y='incvote', data=elec)\n",
    "plt.axvline(np.mean(elec['RDIyrgrowth']))\n",
    "plt.axhline(np.mean(elec['incvote']))"
   ]
  },
  {
   "cell_type": "code",
   "execution_count": null,
   "id": "bd990b77",
   "metadata": {},
   "outputs": [],
   "source": [
    "np.corrcoef(elec['RDIyrgrowth'], elec['incvote'])"
   ]
  },
  {
   "cell_type": "markdown",
   "id": "26ded670",
   "metadata": {},
   "source": [
    " Biviarate regression is used to determine how changes in one variable -- the independent variable, often denoted $X$ -- can predict changes in another, the dependent variable, often denoted $Y$. Bivariate regression relies on a linear model, which follows the form $Y_i= a + b X_i$, where $a$ is the y-intercept and $b$ is the slope. \n",
    "\n",
    "If we assume that the relationship between our variables is not perfect (or, in the real world, if there is some predictable inaccuracy in our measurement), we add an error term $e$: $Y_i= a + b X_i + e_i$. \n",
    "\n",
    "Here is a function which draws such a line through the data and then compute the *total sum of squares* $\\sum e_i^2$. A good line will make this small"
   ]
  },
  {
   "cell_type": "code",
   "execution_count": null,
   "id": "ce0fe7d6",
   "metadata": {},
   "outputs": [],
   "source": [
    "def draw_line(slope, intercept):\n",
    "    #The Linear Model\n",
    "    def f(x):\n",
    "        return intercept + slope*x\n",
    "    x = np.arange(0,7)\n",
    "    y_pred = f(x)\n",
    "    display(Markdown(rf'$\\hat y$= {slope}$X$ + {intercept}:'))\n",
    "    #The line\n",
    "    plt.plot(x,y_pred)\n",
    "    #The Data\n",
    "    sns.scatterplot(x='RDIyrgrowth', y='incvote', data=elec)\n",
    "\n",
    "    #Print the loss\n",
    "    print(\"Square Residual Sum:\", sum([(y-f(x))**2 for x,y in zip(elec.RDIyrgrowth, elec.incvote)]))\n",
    " "
   ]
  },
  {
   "cell_type": "code",
   "execution_count": null,
   "id": "490a6bba",
   "metadata": {},
   "outputs": [],
   "source": [
    "draw_line(0, .5)"
   ]
  },
  {
   "cell_type": "code",
   "execution_count": null,
   "id": "f8fbfe22",
   "metadata": {},
   "outputs": [],
   "source": [
    "draw_line(.04, .4)"
   ]
  },
  {
   "cell_type": "code",
   "execution_count": null,
   "id": "58b63747",
   "metadata": {},
   "outputs": [],
   "source": [
    "draw_line(-.05, .6)"
   ]
  },
  {
   "cell_type": "markdown",
   "id": "703cecfe",
   "metadata": {},
   "source": [
    "\n",
    "An easy way to add the best regression line is to use the `regplot` function in seaborn. The `ci=0` option tells it to not plot a confidence interval, which we aren't discussing yet."
   ]
  },
  {
   "cell_type": "code",
   "execution_count": null,
   "id": "00c64fed",
   "metadata": {},
   "outputs": [],
   "source": [
    "sns.regplot(x='RDIyrgrowth', y='incvote', data=elec, ci=0)"
   ]
  },
  {
   "cell_type": "markdown",
   "id": "14159681",
   "metadata": {},
   "source": [
    "For the next plot we  are going to want to loop through the elections, which will be a bit more straightforward with the following step (don't worry about the details here)"
   ]
  },
  {
   "cell_type": "code",
   "execution_count": null,
   "id": "62607ee6",
   "metadata": {},
   "outputs": [],
   "source": [
    "elec = elec.reset_index(drop=True)"
   ]
  },
  {
   "cell_type": "markdown",
   "id": "55497a06",
   "metadata": {},
   "source": [
    "To illustrate the \"total sum of squares\", we can make the scatter plot, and then loop  through each election and draw a line between the realized incumbent vote share and the average. "
   ]
  },
  {
   "cell_type": "code",
   "execution_count": null,
   "id": "e9f2e145",
   "metadata": {},
   "outputs": [],
   "source": [
    "sns.scatterplot(x='RDIyrgrowth', y='incvote', data=elec)\n",
    "ybar = np.mean(elec['incvote'])\n",
    "plt.axhline(ybar)\n",
    "for el in range(0,elec.shape[0]):\n",
    "    plt.vlines(elec.RDIyrgrowth[el],ybar, elec.incvote[el])"
   ]
  },
  {
   "cell_type": "markdown",
   "id": "0b2a7bc3",
   "metadata": {},
   "source": [
    "To do the same on the best fit line, we need the regression output:"
   ]
  },
  {
   "cell_type": "code",
   "execution_count": null,
   "id": "aa38d2f3",
   "metadata": {},
   "outputs": [],
   "source": [
    "m1 = smf.ols('incvote~RDIyrgrowth', data=elec).fit()\n",
    "m1.summary()"
   ]
  },
  {
   "cell_type": "markdown",
   "id": "14b342b5",
   "metadata": {},
   "source": [
    "If you want to do it in one line:"
   ]
  },
  {
   "cell_type": "code",
   "execution_count": null,
   "id": "5a8b9783",
   "metadata": {},
   "outputs": [],
   "source": [
    "smf.ols('incvote~RDIyrgrowth', data=elec).fit().summary()"
   ]
  },
  {
   "cell_type": "markdown",
   "id": "d4201ef7",
   "metadata": {},
   "source": [
    "To retreive the parameters we can use the `.params` function. "
   ]
  },
  {
   "cell_type": "code",
   "execution_count": null,
   "id": "0ab153a2",
   "metadata": {},
   "outputs": [],
   "source": [
    "b0 = m1.params[0]\n",
    "b1 = m1.params[1]"
   ]
  },
  {
   "cell_type": "markdown",
   "id": "79555020",
   "metadata": {},
   "source": [
    "Now we can draw lines between the points and the regression line."
   ]
  },
  {
   "cell_type": "code",
   "execution_count": null,
   "id": "5aa446f5",
   "metadata": {},
   "outputs": [],
   "source": [
    "sns.regplot(x='RDIyrgrowth', y='incvote', data=elec, ci=0)\n",
    "for el in range(0,elec.shape[0]):\n",
    "    plt.vlines(elec.RDIyrgrowth[el],b0 + b1*elec.RDIyrgrowth[el], elec.incvote[el])"
   ]
  },
  {
   "cell_type": "markdown",
   "id": "a56fdf9c",
   "metadata": {},
   "source": [
    "Unfortunately seaborn does not have a good function to label points, but we can use the `scatter` function in the plotly.express library  for this."
   ]
  },
  {
   "cell_type": "code",
   "execution_count": null,
   "id": "a2deba99",
   "metadata": {},
   "outputs": [],
   "source": [
    "import plotly.express as px"
   ]
  },
  {
   "cell_type": "code",
   "execution_count": null,
   "id": "4865b45d",
   "metadata": {},
   "outputs": [],
   "source": [
    "fig=px.scatter(elec, x='RDIyrgrowth',y='incvote', text='initials2', trendline='ols')\n",
    "fig.update_traces(textposition='top center')\n",
    "fig.show()"
   ]
  },
  {
   "cell_type": "code",
   "execution_count": null,
   "id": "4c356662",
   "metadata": {},
   "outputs": [],
   "source": []
  },
  {
   "cell_type": "code",
   "execution_count": null,
   "id": "7088d27e",
   "metadata": {},
   "outputs": [],
   "source": []
  },
  {
   "cell_type": "code",
   "execution_count": null,
   "id": "36af1bc0",
   "metadata": {},
   "outputs": [],
   "source": []
  }
 ],
 "metadata": {
  "kernelspec": {
   "display_name": "Python 3 (ipykernel)",
   "language": "python",
   "name": "python3"
  },
  "language_info": {
   "codemirror_mode": {
    "name": "ipython",
    "version": 3
   },
   "file_extension": ".py",
   "mimetype": "text/x-python",
   "name": "python",
   "nbconvert_exporter": "python",
   "pygments_lexer": "ipython3",
   "version": "3.9.7"
  }
 },
 "nbformat": 4,
 "nbformat_minor": 5
}
