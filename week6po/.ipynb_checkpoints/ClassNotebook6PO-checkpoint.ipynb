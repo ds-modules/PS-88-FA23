{
 "cells": [
  {
   "cell_type": "code",
   "execution_count": null,
   "id": "fe18d1af",
   "metadata": {},
   "outputs": [],
   "source": [
    "import numpy as np\n",
    "from datascience import Table\n",
    "%matplotlib inline"
   ]
  },
  {
   "cell_type": "markdown",
   "id": "34b6972c",
   "metadata": {},
   "source": [
    "Here is a way to collect the potential outcomes and \"treatment\" data for our example in class about health insurance and health outcomes. "
   ]
  },
  {
   "cell_type": "code",
   "execution_count": null,
   "id": "2b3d4999",
   "metadata": {},
   "outputs": [],
   "source": [
    "name=[\"Prof\", \"Student\", \"GSI\"]\n",
    "y0 = [2,7,8]\n",
    "y1 = [4,9,10]\n",
    "d = [1,0,1]\n",
    "alldata = Table().with_columns(\"Name\", name,\n",
    "                               \"Health0\",y0,\n",
    "                            \"Health1\", y1,\n",
    "                            \"Insurance\",d)\n",
    "alldata"
   ]
  },
  {
   "cell_type": "markdown",
   "id": "a33cd902",
   "metadata": {},
   "source": [
    "We can compute the real causal efect of health insurance on each individual by subtracting \"Health0\" from \"Health1\":"
   ]
  },
  {
   "cell_type": "code",
   "execution_count": null,
   "id": "cf508d3c",
   "metadata": {},
   "outputs": [],
   "source": [
    "kappa = alldata.column(\"Health1\")-alldata.column(\"Health0\")\n",
    "kappa"
   ]
  },
  {
   "cell_type": "code",
   "execution_count": null,
   "id": "5ea96b86",
   "metadata": {},
   "outputs": [],
   "source": [
    "alldata = alldata.with_column(\"Causal Effect\", kappa)\n",
    "alldata"
   ]
  },
  {
   "cell_type": "markdown",
   "id": "350fc2e8",
   "metadata": {},
   "source": [
    "It happens to be the case here that the causal effect is the same for everyone. The *realized* health outcome for each individual is \"Health0\" for those without insurance and \"Health1\" for those with insurance. We can create a variable that captures this called \"Health\" using the `np.where` function:"
   ]
  },
  {
   "cell_type": "code",
   "execution_count": null,
   "id": "589c1c98",
   "metadata": {},
   "outputs": [],
   "source": []
  },
  {
   "cell_type": "markdown",
   "id": "2d850bf7",
   "metadata": {},
   "source": [
    "The \"real\" data we can actually observe is just the insurance status and health level:"
   ]
  },
  {
   "cell_type": "code",
   "execution_count": null,
   "id": "fa5ef19f",
   "metadata": {},
   "outputs": [],
   "source": [
    "obsdata = Table().with_columns(\"Name\", name,\n",
    "                            \"Insurance\",d,\n",
    "                            \"Health\",health)\n",
    "obsdata"
   ]
  },
  {
   "cell_type": "markdown",
   "id": "a6ee8bcb",
   "metadata": {},
   "source": [
    "Can we \"reconstruct\" the real data with this information? We know that for those with insurance status 0 that their potential outcome without insurance is the realized outcome. But for others we don't how how healthy they would be without insurance, so let's put a \".\" in for missing data."
   ]
  },
  {
   "cell_type": "code",
   "execution_count": null,
   "id": "b5b72501",
   "metadata": {},
   "outputs": [],
   "source": [
    "obsdata = obsdata.with_column(\"Health0\", \n",
    "                              np.where(obsdata.column(\"Insurance\")==0, obsdata.column(\"Health\"),\".\"))\n",
    "obsdata"
   ]
  },
  {
   "cell_type": "markdown",
   "id": "1a12e5d4",
   "metadata": {},
   "source": [
    "Similarly, for those with insurance we know their \"Health1\":"
   ]
  },
  {
   "cell_type": "code",
   "execution_count": null,
   "id": "569de407",
   "metadata": {},
   "outputs": [],
   "source": []
  },
  {
   "cell_type": "markdown",
   "id": "7d7e5486",
   "metadata": {},
   "source": [
    "Can we compute the causal effect?"
   ]
  },
  {
   "cell_type": "code",
   "execution_count": null,
   "id": "47cb0cba",
   "metadata": {},
   "outputs": [],
   "source": []
  },
  {
   "cell_type": "markdown",
   "id": "0adb7242",
   "metadata": {},
   "source": [
    "We certainly can compute the difference of means in health outcomes, but is this the causal effect (2)?"
   ]
  },
  {
   "cell_type": "code",
   "execution_count": null,
   "id": "99293d49",
   "metadata": {},
   "outputs": [],
   "source": [
    "mean1 = np.mean(obsdata.where(\"Insurance\",1).column(\"Health\"))\n",
    "mean0 = np.mean(obsdata.where(\"Insurance\",0).column(\"Health\"))\n",
    "mean1 - mean0"
   ]
  },
  {
   "cell_type": "markdown",
   "id": "dd076201",
   "metadata": {},
   "source": [
    "In all seeing mode we can compute the selection bias which makes the differences of means not hit the truth:"
   ]
  },
  {
   "cell_type": "code",
   "execution_count": null,
   "id": "9ba71700",
   "metadata": {},
   "outputs": [],
   "source": []
  }
 ],
 "metadata": {
  "kernelspec": {
   "display_name": "Python 3 (ipykernel)",
   "language": "python",
   "name": "python3"
  },
  "language_info": {
   "codemirror_mode": {
    "name": "ipython",
    "version": 3
   },
   "file_extension": ".py",
   "mimetype": "text/x-python",
   "name": "python",
   "nbconvert_exporter": "python",
   "pygments_lexer": "ipython3",
   "version": "3.9.7"
  }
 },
 "nbformat": 4,
 "nbformat_minor": 5
}
