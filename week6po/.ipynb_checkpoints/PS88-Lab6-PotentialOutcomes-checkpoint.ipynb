{
 "cells": [
  {
   "cell_type": "markdown",
   "id": "4c6d28b4",
   "metadata": {},
   "source": [
    "# PS 88 Lab 6 - Potential Outcomes and Causal Inference"
   ]
  },
  {
   "cell_type": "code",
   "execution_count": 3,
   "id": "bfefebc8",
   "metadata": {},
   "outputs": [],
   "source": [
    "import numpy as np\n",
    "from datascience import Table\n",
    "%matplotlib inline"
   ]
  },
  {
   "cell_type": "markdown",
   "id": "3d4b04c0",
   "metadata": {},
   "source": [
    "## Part 1. Reading real causal claims"
   ]
  },
  {
   "cell_type": "markdown",
   "id": "e8c5b1b8",
   "metadata": {},
   "source": [
    "**Question 1.1 Read <a href=\"https://www.nytimes.com/2023/09/28/us/politics/government-shutdown-house-republicans.html\">this article</a> from the New York Times this week. Identify two causal claims. For each, answer the following: (1) What is the independent and dependent variable?\n",
    "(2) Is it a causal claim about a specific case or a general causal claim?\n",
    "(3) What does the causal claim mean about a counterfactual world with a different value of the independent/treatment variable**"
   ]
  },
  {
   "cell_type": "markdown",
   "id": "708c963a",
   "metadata": {},
   "source": [
    "*Answer to 1.1*"
   ]
  },
  {
   "cell_type": "markdown",
   "id": "69e6babc",
   "metadata": {},
   "source": [
    " Consider this quote from Senator Lindsey Graham: \"Russia's actions had no impact at all on the outcome of the (2016) election.\" Let's think about translating this into potential outcomes notation. To simplify, we will interpret the \"outcome\" of the election as the number of electoral college votes won by Trump. We will think of the \"treatment\" here as a binary variable  where $D_{2016}=1$ means \"interference by Russia\" and $D_{2016}=0$ means \"no interference by Russia.\" We will take it as given that in reality $D_{2016}=1$.\n",
    " \n",
    " **Question 1.2. Trump won 304 electoral college votes in 2016. How can we express this outcome in potential outcomes notation? (Hint: it should be of the form that Y with some subscript(s) is equal to something. Look at the markdown cell above to see how to make subscripts if you want to make it look nice.)**"
   ]
  },
  {
   "cell_type": "markdown",
   "id": "e20a2693",
   "metadata": {},
   "source": [
    "*Answer to 1.2*"
   ]
  },
  {
   "cell_type": "markdown",
   "id": "dd6b9f20",
   "metadata": {},
   "source": [
    "**Question 1.3. How can we express Graham's claim in potential outcomes notation (again it should be in the form of Y with some subscript(s) being equal to something)**"
   ]
  },
  {
   "cell_type": "markdown",
   "id": "bab72d6c",
   "metadata": {},
   "source": [
    "*Answer to 1.3*"
   ]
  },
  {
   "cell_type": "markdown",
   "id": "7ff3a066",
   "metadata": {},
   "source": [
    "**Question 1.4. The closest state in the election was my home state of Michigan, which has 16 electoral votes. Suppose someone thinks that Russian interference had a large enough impact to cause Trump to win Michigan, but did not change the outcome in any other state. Express this claim in potential outcomes notation.**"
   ]
  },
  {
   "cell_type": "markdown",
   "id": "da418019",
   "metadata": {},
   "source": [
    "*Answer to 1.4*"
   ]
  },
  {
   "cell_type": "markdown",
   "id": "cd4bf524",
   "metadata": {},
   "source": [
    "## Part 2. Lobbying and Corruption in All Seeing Mode"
   ]
  },
  {
   "cell_type": "markdown",
   "id": "f03d82b3",
   "metadata": {},
   "source": [
    "A common concern in many democratic (and less-than democratic) countries is that those with resources can use lobbying, campaign contributions, or outright bribes to get politicians to do their bidding. Often, the evidence used to make this argument is that those who receive lots of money from a particular interest group tend to vote in a way that the interest group wants (a friend of mine has expressed this in <a href=\"https://www.hrothstein.com/#/the-cost-of-denial/\">art form</a>).\n",
    "\n",
    "Let's think about what causal theories are consistent with this evidence. We will simulate a legislature with 500 members. We assume they all have an ideology which ranges from 0 to 1, where we will interpret this as their predisposition to vote in a \"pro-business\" fashion.\n"
   ]
  },
  {
   "cell_type": "code",
   "execution_count": null,
   "id": "02c6a5ca",
   "metadata": {},
   "outputs": [],
   "source": [
    "n_leg = 500\n",
    "leg_ideol = np.random.rand(n_leg)\n",
    "leg_data = Table().with_column(\"Ideology\", leg_ideol)\n",
    "leg_data"
   ]
  },
  {
   "cell_type": "markdown",
   "id": "10518ece",
   "metadata": {},
   "source": [
    "We may be interested in how legislators vote on particular bills, or their overall voting behavior. Since it will make some calculations a bit more natural, we will do the latter in the lab.\n",
    "\n",
    "An outcome we might care about is what proportion of \"pro-business\" bills the legislator votes for, which will range from 0 to 1. If our ideology has any meaning, then those with a higher ideology should be more likely to vote for these bills. There are probably other factors that matter as well. To capture these ideas, we are going to assume that the proportion of pro-business bills they  vote for can be written:\n",
    "$$\n",
    "\\text{pro} = b_{leg} \\times \\text{ideology} + (1-b_{leg}) \\times e\n",
    "$$\n",
    "where $e$ is an *error term* which is a uniform random number between 0 and 1. The $b_{leg}$ variable measures how much ideology is important relative to other considerations. Here is code for this *data generating process*:"
   ]
  },
  {
   "cell_type": "code",
   "execution_count": null,
   "id": "4bfbfa55",
   "metadata": {},
   "outputs": [],
   "source": [
    "b_leg = 1/2\n",
    "pro = b_leg * leg_ideol + (1-b_leg)*np.random.rand(n_leg)\n",
    "leg_data = leg_data.with_column(\"Pro B Votes\", pro)\n",
    "leg_data"
   ]
  },
  {
   "cell_type": "markdown",
   "id": "66e720f6",
   "metadata": {},
   "source": [
    "Note we haven't said anything about the donor behavior yet; so we have implicitly assumed that this doesn't affect the vote! One theory about donor behavior is that they will give money to those with an aligned ideology in order to help them get re-elected. \n",
    "\n",
    "We can model this with a simple utility framework. Suppose the \"cost\" to donating to any legislator is $c$, and the benefit to donating to a legislator as a function of their ideology is:\n",
    "$$\n",
    "\\text{benefit} = b_{don} \\times \\text{ideology} + (1-b_{don}) \\times e\n",
    "$$\n",
    "where $e$ is a uniform random number between 0 and 1. So, when $b$ is high, the donor puts more weight on ideology, and when $b$  is low they put more weight on other factors. The donor utility is:\n",
    "$$\n",
    "u_{don} = \\text{benefit} - c\n",
    "$$\n",
    "\n",
    "**Question 2.1. Write code to set $b_{don}=1/2$, $c=1/2$, compute the expected utility to donate to each legislator in `leg_data`, and make a variable called `Donate` which is equal to 1 when this is greater than or equal to the cost. (Hint: use the `np.where` function.)**"
   ]
  },
  {
   "cell_type": "code",
   "execution_count": null,
   "id": "d68f349b",
   "metadata": {},
   "outputs": [],
   "source": [
    "# Code for 2.1"
   ]
  },
  {
   "cell_type": "markdown",
   "id": "99b9e0d4",
   "metadata": {},
   "source": [
    "**Question 2.2. What is the average of the `Pro B Votes` variable among those who receive a donation? Among those who do not? What is the difference of means?**"
   ]
  },
  {
   "cell_type": "code",
   "execution_count": null,
   "id": "a6b18b92",
   "metadata": {},
   "outputs": [],
   "source": [
    "#Code for 2.2"
   ]
  },
  {
   "cell_type": "markdown",
   "id": "99fb076b",
   "metadata": {},
   "source": [
    "**Question 2.3. You should get that there is a positive difference of means. But we set this up in a way that there is no real causal effect: the legislator behavior was unaffected of what the donor did. If someone were to say to you \"this just goes to show that politicians do whatever lobbyists want them to do!\" what would be a good response based on what we learned this week?**"
   ]
  },
  {
   "cell_type": "markdown",
   "id": "9be63e73",
   "metadata": {},
   "source": [
    "*Answer to 2.3*"
   ]
  },
  {
   "cell_type": "markdown",
   "id": "3355c10b",
   "metadata": {},
   "source": [
    "**Question 2.4. One thing we might want to study is how the parameters of this data generating process affect the observed difference of means. Write a function called `getdm(b_leg,b_don,c)` which replicates the analysis above, but with these variables as arguments. (That is, create a Table with the legislator ideology as a variable, then add variables for the legislator voting behavior and the donor choice, then compute the difference of means in voting behavior among those who received donations vs those who did not). Check that `getdm(.5, .5, .5)` gives a similar answer to what you got for 2.2 (it won't be exactly the same due to randomness).**"
   ]
  },
  {
   "cell_type": "code",
   "execution_count": null,
   "id": "5ec34d90",
   "metadata": {},
   "outputs": [],
   "source": [
    "# Code for 2.4"
   ]
  },
  {
   "cell_type": "markdown",
   "id": "43051efc",
   "metadata": {},
   "source": [
    "**Question 2.5. See what happens if you increase or decrease the `b_leg` parameter. What does this mean in words? Does this lead to more or less selection bias, and why?**"
   ]
  },
  {
   "cell_type": "code",
   "execution_count": null,
   "id": "7d7c1cde",
   "metadata": {},
   "outputs": [],
   "source": [
    "#Code for 2.5"
   ]
  },
  {
   "cell_type": "markdown",
   "id": "c7e523ba",
   "metadata": {},
   "source": [
    "*Answer to 2.5*"
   ]
  },
  {
   "cell_type": "markdown",
   "id": "c3bd2790",
   "metadata": {},
   "source": [
    "**Question 2.6. Say we want to simulate a donor who is *anti-business*, or prefers to donate to those with a less pro-business ideology. Write code to simulate whether legislators who get contributions from such a donor are more or less likely to vote yes on pro-business legislation**"
   ]
  },
  {
   "cell_type": "code",
   "execution_count": null,
   "id": "dbcc080e",
   "metadata": {},
   "outputs": [],
   "source": [
    "# Code for 2.6"
   ]
  },
  {
   "cell_type": "markdown",
   "id": "e9c6e8cd",
   "metadata": {},
   "source": [
    "*Words for 2.6*"
   ]
  },
  {
   "cell_type": "markdown",
   "id": "01ec7ba2",
   "metadata": {},
   "source": [
    "## Part 3. Donations with causation"
   ]
  },
  {
   "cell_type": "markdown",
   "id": "770d436b",
   "metadata": {},
   "source": [
    "Now let's do a variant of the analysis above, but where there is a real causal effect of donations. To do that, we will first create a table called `leg_data2` with the legislator ideology and the donation choice, which we treat the same as above."
   ]
  },
  {
   "cell_type": "code",
   "execution_count": null,
   "id": "313569c0",
   "metadata": {},
   "outputs": [],
   "source": [
    "b_leg=.5\n",
    "b_don=.5\n",
    "c=.5\n",
    "leg_data2 = Table().with_column(\"Ideology\", leg_ideol)\n",
    "u_don = b_don*leg_ideol + (1-b_don)*np.random.rand(n_leg)\n",
    "leg_data2=leg_data2.with_column(\"Donate\", 1*(u_don > c))"
   ]
  },
  {
   "cell_type": "markdown",
   "id": "e9e9adbd",
   "metadata": {},
   "source": [
    "Let's suppose that if a legislator does not receive a donation, they vote as we assumed above. If they do receive a donation, they will vote in a more pro-business. In particular, their pro-business voting will increase by $0.2$. \n",
    "\n",
    "Building on the potential outcomes approach, we will create two separate variables for the hypothetical voting behavior without a donation (`Pro B Votes 0`) and with a donation (`Pro B Votes 1`)."
   ]
  },
  {
   "cell_type": "code",
   "execution_count": null,
   "id": "1b72f879",
   "metadata": {},
   "outputs": [],
   "source": [
    "b_bribe = .2\n",
    "pro0 = b_leg * leg_ideol + (1-b_leg)*np.random.rand(n_leg)\n",
    "pro1 = pro0 + b_bribe\n",
    "leg_data2 = leg_data2.with_column(\"Pro B Votes 0\", pro0)\n",
    "leg_data2 = leg_data2.with_column(\"Pro B Votes 1\", pro1)\n",
    "leg_data2"
   ]
  },
  {
   "cell_type": "markdown",
   "id": "1a05856f",
   "metadata": {},
   "source": [
    "**Question 3.1. Create a variable which corresponds to the realized voting behavior; that is, the potential outcome with not donation for those not receiving a donation, and the potential outcome with a donation for those who do receive one. Add this variable to the `leg_data2` table with the name \"Pro B Votes\" (Hint: use the `np.where`) function.**"
   ]
  },
  {
   "cell_type": "code",
   "execution_count": null,
   "id": "5e1d3a65",
   "metadata": {},
   "outputs": [],
   "source": [
    "# Code for 3.1"
   ]
  },
  {
   "cell_type": "markdown",
   "id": "8301448e",
   "metadata": {},
   "source": [
    "**Question 3.2. Compute the difference of means in realized voting behavior among those who received a donation versus not.**"
   ]
  },
  {
   "cell_type": "code",
   "execution_count": null,
   "id": "3ed53fcc",
   "metadata": {},
   "outputs": [],
   "source": [
    "# Code for 3.2"
   ]
  },
  {
   "cell_type": "markdown",
   "id": "2e1b9f21",
   "metadata": {},
   "source": [
    "**Question 3.3. Compute the selection bias in this estimate by comparing the difference in the average of \"Pro B Votes 0\" among those who received a donation versus not.**"
   ]
  },
  {
   "cell_type": "code",
   "execution_count": null,
   "id": "4b7aef63",
   "metadata": {},
   "outputs": [],
   "source": [
    "#Code for 3.3"
   ]
  },
  {
   "cell_type": "markdown",
   "id": "d262706c",
   "metadata": {},
   "source": [
    "**Question 3.4. Do a calculation which illustrates the Difference of Means = Causal Effect + Selection Bias formula for this case**"
   ]
  },
  {
   "cell_type": "code",
   "execution_count": null,
   "id": "61f1116d",
   "metadata": {},
   "outputs": [],
   "source": [
    "# Code for 3.4"
   ]
  },
  {
   "cell_type": "markdown",
   "id": "5da5798d",
   "metadata": {},
   "source": [
    "Suppose researchers studying this question also have a dataset which includes the ideology variable, the donation variable, and the realized pro business votes variable.\n",
    "\n",
    "Even without knowing how the data was generated, we can get a sense of whether this might be driving selection bias by looking at the relationship between ideology and donations and the relationship between ideology and voting.\n",
    "\n",
    "**Question 3.5. Create a scatter plot with \"Ideology\" on the x axis and \"Pro B Votes\" on the y axis, using `leg_data2`**"
   ]
  },
  {
   "cell_type": "code",
   "execution_count": null,
   "id": "530f986b",
   "metadata": {},
   "outputs": [],
   "source": [
    "#Code for 3.5"
   ]
  },
  {
   "cell_type": "markdown",
   "id": "cf09b64d",
   "metadata": {},
   "source": [
    "**Question 3.6. Now compare the difference in the mean of the \"Ideology\" variable among those who received donations vs not (in `leg_data2`). Interpret this difference**"
   ]
  },
  {
   "cell_type": "code",
   "execution_count": null,
   "id": "4b9c05d0",
   "metadata": {},
   "outputs": [],
   "source": [
    "#Code for 3.6"
   ]
  },
  {
   "cell_type": "markdown",
   "id": "1dcbdf52",
   "metadata": {},
   "source": [
    "*Words for 3.6*"
   ]
  },
  {
   "cell_type": "markdown",
   "id": "44bf7116",
   "metadata": {},
   "source": [
    "**Question 3.7. We can see all three of these variables together by making a scatterplot of with the \"Ideology\" variable on the x axis and the \"Pro B Votes\" variable on the y axis, using a `group=` option to plot those receiving donations in a different color.**"
   ]
  },
  {
   "cell_type": "code",
   "execution_count": null,
   "id": "6bf74445",
   "metadata": {},
   "outputs": [],
   "source": [
    "#Code for 3.7"
   ]
  },
  {
   "cell_type": "markdown",
   "id": "6be8831b",
   "metadata": {},
   "source": [
    "**Question 3.8. Use what you found in the last three questions to argue that comparing the voting behavior of those who received donations vs not isn't a *ceteris paribus* comparison.**"
   ]
  },
  {
   "cell_type": "markdown",
   "id": "fee8caa1",
   "metadata": {},
   "source": [
    "*Answer to 3.8*"
   ]
  },
  {
   "cell_type": "markdown",
   "id": "653496b2",
   "metadata": {},
   "source": [
    "**Question 3.9 [OPTIONAL]. Create the same graph as you did in 3.7 but using the `legdata` table where there was no causal effect. Compare the two.**"
   ]
  },
  {
   "cell_type": "code",
   "execution_count": null,
   "id": "ad2501a3",
   "metadata": {},
   "outputs": [],
   "source": [
    "# Code for 3.9"
   ]
  },
  {
   "cell_type": "markdown",
   "id": "65b02d6d",
   "metadata": {},
   "source": [
    "## Part 4. A quick exercise with real data.\n",
    "\n",
    "Here is a table which includes data on whether countries allow civil unions between same-sex couples and the fraction of the population living in poverty. The civil union data come from [here]((https://ourworldindata.org/lgbt-rights#all-charts)) and the poverty data come from [here](https://ourworldindata.org/poverty#all-charts) if you would like to read more.\n",
    "\n",
    "Let's look at the data, which has multiple countries and multiple years. So each row indicates whether in a given country and a given year there are any same-sex civil unions (\"Any Union\") and the fraction of the population in extreme poverty (\"Poverty\")."
   ]
  },
  {
   "cell_type": "code",
   "execution_count": 7,
   "id": "80a7a7a3",
   "metadata": {},
   "outputs": [
    {
     "data": {
      "text/html": [
       "<table border=\"1\" class=\"dataframe\">\n",
       "    <thead>\n",
       "        <tr>\n",
       "            <th>Code</th> <th>Year</th> <th>Entity</th> <th>Poverty</th> <th>Any Union</th>\n",
       "        </tr>\n",
       "    </thead>\n",
       "    <tbody>\n",
       "        <tr>\n",
       "            <td>ALB </td> <td>1996</td> <td>Albania</td> <td>0.534846</td> <td>0        </td>\n",
       "        </tr>\n",
       "        <tr>\n",
       "            <td>ALB </td> <td>2002</td> <td>Albania</td> <td>1.09265 </td> <td>0        </td>\n",
       "        </tr>\n",
       "        <tr>\n",
       "            <td>ALB </td> <td>2005</td> <td>Albania</td> <td>0.591086</td> <td>0        </td>\n",
       "        </tr>\n",
       "        <tr>\n",
       "            <td>ALB </td> <td>2008</td> <td>Albania</td> <td>0.199925</td> <td>0        </td>\n",
       "        </tr>\n",
       "        <tr>\n",
       "            <td>ALB </td> <td>2012</td> <td>Albania</td> <td>0.620691</td> <td>0        </td>\n",
       "        </tr>\n",
       "        <tr>\n",
       "            <td>ALB </td> <td>2014</td> <td>Albania</td> <td>1.0231  </td> <td>0        </td>\n",
       "        </tr>\n",
       "        <tr>\n",
       "            <td>ALB </td> <td>2015</td> <td>Albania</td> <td>0.120621</td> <td>0        </td>\n",
       "        </tr>\n",
       "        <tr>\n",
       "            <td>ALB </td> <td>2016</td> <td>Albania</td> <td>0.139303</td> <td>0        </td>\n",
       "        </tr>\n",
       "        <tr>\n",
       "            <td>ALB </td> <td>2017</td> <td>Albania</td> <td>0.39257 </td> <td>0        </td>\n",
       "        </tr>\n",
       "        <tr>\n",
       "            <td>ALB </td> <td>2018</td> <td>Albania</td> <td>0.048107</td> <td>0        </td>\n",
       "        </tr>\n",
       "    </tbody>\n",
       "</table>\n",
       "<p>... (1775 rows omitted)</p>"
      ],
      "text/plain": [
       "Code | Year | Entity  | Poverty  | Any Union\n",
       "ALB  | 1996 | Albania | 0.534846 | 0\n",
       "ALB  | 2002 | Albania | 1.09265  | 0\n",
       "ALB  | 2005 | Albania | 0.591086 | 0\n",
       "ALB  | 2008 | Albania | 0.199925 | 0\n",
       "ALB  | 2012 | Albania | 0.620691 | 0\n",
       "ALB  | 2014 | Albania | 1.0231   | 0\n",
       "ALB  | 2015 | Albania | 0.120621 | 0\n",
       "ALB  | 2016 | Albania | 0.139303 | 0\n",
       "ALB  | 2017 | Albania | 0.39257  | 0\n",
       "ALB  | 2018 | Albania | 0.048107 | 0\n",
       "... (1775 rows omitted)"
      ]
     },
     "execution_count": 7,
     "metadata": {},
     "output_type": "execute_result"
    }
   ],
   "source": [
    "civpov = Table.read_table(\"data/civpov.csv\")\n",
    "civpov"
   ]
  },
  {
   "cell_type": "markdown",
   "id": "c902eeb0",
   "metadata": {},
   "source": [
    "Suppose a researcher wants to know if there are economic benefits to allowing same-sex civil unions. This isn't a wild idea: lots of research indicates economic benefits to marriage more generally. \n",
    "\n",
    "To check this, they want to know if the poverty rate is higher or lower in places that have same-sex unions.\n",
    "\n",
    "**Question 4.1. Compute the average poverty rate in country-years with civil unions, and the average poverty rate in country-years with no civil unions.**"
   ]
  },
  {
   "cell_type": "code",
   "execution_count": null,
   "id": "7b2cde55",
   "metadata": {},
   "outputs": [],
   "source": [
    "# Code for 4.1"
   ]
  },
  {
   "cell_type": "markdown",
   "id": "3753b2d0",
   "metadata": {},
   "source": [
    "**Question 4.2. You should get an answer which indiates poverty rates are lower in country-years with civil unions. Why might this not indicate that civil unions cause a decrease in poverty? What might be a source of selection bias if we use this difference of means to estimate a causal effect?**"
   ]
  },
  {
   "cell_type": "markdown",
   "id": "c28772e6",
   "metadata": {},
   "source": [
    "*Words for 4.2*"
   ]
  },
  {
   "cell_type": "code",
   "execution_count": null,
   "id": "d5ff5e45",
   "metadata": {},
   "outputs": [],
   "source": []
  }
 ],
 "metadata": {
  "kernelspec": {
   "display_name": "Python 3 (ipykernel)",
   "language": "python",
   "name": "python3"
  },
  "language_info": {
   "codemirror_mode": {
    "name": "ipython",
    "version": 3
   },
   "file_extension": ".py",
   "mimetype": "text/x-python",
   "name": "python",
   "nbconvert_exporter": "python",
   "pygments_lexer": "ipython3",
   "version": "3.9.7"
  }
 },
 "nbformat": 4,
 "nbformat_minor": 5
}
