{
 "cells": [
  {
   "cell_type": "markdown",
   "id": "57beac6f",
   "metadata": {},
   "source": [
    "## Lab 7: Heterogenous treatment effects, Experiments"
   ]
  },
  {
   "cell_type": "code",
   "execution_count": null,
   "id": "a7bd6acf",
   "metadata": {},
   "outputs": [],
   "source": [
    "import numpy as np\n",
    "from datascience import Table\n",
    "%matplotlib inline"
   ]
  },
  {
   "cell_type": "markdown",
   "id": "b46b8e52",
   "metadata": {},
   "source": [
    "## Part 1. Donor Influence/Corruption, Continued\n",
    "\n",
    "Let's continue to explore these idea of how money may influence political decisions in a slightly different way.\n",
    "\n",
    "Imagine a company called InfluenceCo, who needs local governments to make favorable decisions for them to be able to run their business profitably. Perhaps they are a ride-sharing company who needs cities to allow them to operate.\n",
    "\n",
    "We will consider the decisions made by mayors of a large number of cities where InfluenceCo wants to do business. As before, we will assume that mayors vary in their \"pro-business\" ideology, but also may make decisions based on political donations (or outright bribes).\n",
    "\n",
    "InfluenceCo wants mayors to support a policy that would help their business. For example, they may need approval from the mayor to operate within their city.\n",
    "\n",
    "\n",
    "First suppose that the mayors are all dedicated public servants who will only support the policy if they think it is good for their city. Let's given them a pro-business ideology that ranges from 0 to 1, and put it in a table."
   ]
  },
  {
   "cell_type": "code",
   "execution_count": null,
   "id": "f1293735",
   "metadata": {},
   "outputs": [],
   "source": [
    "n_mayors = 2000\n",
    "mayor_ideol = np.random.rand(n_mayors) \n",
    "mayor_dataA = Table().with_column(\"Ideology\", mayor_ideol)"
   ]
  },
  {
   "cell_type": "markdown",
   "id": "edab7080",
   "metadata": {},
   "source": [
    "A natural assumption is that those with a higher ideology are more likely to support it. Here we will capture this by assuming that the utility for supporting the policy is:\n",
    "$$\n",
    "u_{support} = \\text{ideology} - e\n",
    "$$\n",
    "where $e$ is a random number between 0 and 1 (use `np.random.rand` for this). The utility to not supporting is 0, and so the mayor will support the policy if $u_{support} > 0$.\n",
    "\n",
    "**Question 1.1. Write code to create a variables which correspond to the mayor utility for supporting the policy, and a variable equal to 1 if they choose to support it and 0 otherwise. Add the binary support variable to the `mayor_dataA` table with the name \"Support\".**"
   ]
  },
  {
   "cell_type": "code",
   "execution_count": null,
   "id": "5a85cda2",
   "metadata": {},
   "outputs": [],
   "source": [
    "#Code for 1.1"
   ]
  },
  {
   "cell_type": "markdown",
   "id": "531453a2",
   "metadata": {},
   "source": [
    "Last week we considered a causal process where donations and politician behavior were confounded by their ideology. Now let's think of a process of reverse causation, where politician behavior causes donations."
   ]
  },
  {
   "cell_type": "markdown",
   "id": "5a375553",
   "metadata": {},
   "source": [
    "Here is a data generating process which captures the idea that politicians are more likely to receive donations when they support policies that donors like. In particular, suppose the utility to donating is given by:\n",
    "$$\n",
    "u_{donate} = .5*\\text{Support} + e - .8\n",
    "$$\n",
    "where Support$=1$ for mayors who support the policy. The utility to note donating is zero.\n",
    "\n",
    "**Question 1.2. Write code to generate a variable which indicates whether a mayor gets a donation consistent with this assumption, and add it to `mayor_dataA` with the name \"Donate\".**"
   ]
  },
  {
   "cell_type": "code",
   "execution_count": null,
   "id": "a7c801cb",
   "metadata": {},
   "outputs": [],
   "source": [
    "# Code for 1.2"
   ]
  },
  {
   "cell_type": "markdown",
   "id": "c77de723",
   "metadata": {},
   "source": [
    "**Question 1.3. Give a short theoretical explanation for why politican support decisions might cause donations which is consistent with this code.**"
   ]
  },
  {
   "cell_type": "markdown",
   "id": "4fcf6480",
   "metadata": {},
   "source": [
    "*Answer for 1.3*"
   ]
  },
  {
   "cell_type": "markdown",
   "id": "a1c124c0",
   "metadata": {},
   "source": [
    "**Question 1.4. Compute the difference in the proportion of mayors who support the policy who receieved donations vs. not. Given this data generating process, does this difference reflect a causal effect of donations on voting behavior or selection bias (or both)? That is, do mayors who vote differently do so because of the donations, or are they just different for other reasons?**"
   ]
  },
  {
   "cell_type": "code",
   "execution_count": null,
   "id": "b5db85f6",
   "metadata": {},
   "outputs": [],
   "source": [
    "#Code for 1.4"
   ]
  },
  {
   "cell_type": "markdown",
   "id": "3f489df0",
   "metadata": {},
   "source": [
    "*Words for 1.4*"
   ]
  },
  {
   "cell_type": "markdown",
   "id": "c18445d9",
   "metadata": {},
   "source": [
    "Throughout this lab we will be taking many of differences of means, and the table notation for this is a bit repetitive. So let's make a function that computes differences of means more efficiently. This will work for any \"treatment\" variable that takes on values 0 and 1."
   ]
  },
  {
   "cell_type": "code",
   "execution_count": null,
   "id": "99edfb8f",
   "metadata": {},
   "outputs": [],
   "source": [
    "def diffmean(outcome, treatment, data):\n",
    "    mean1 = np.mean(data.where(treatment, 1).column(outcome))\n",
    "    mean0 = np.mean(data.where(treatment, 0).column(outcome))\n",
    "    return(mean1-mean0)"
   ]
  },
  {
   "cell_type": "markdown",
   "id": "00f99093",
   "metadata": {},
   "source": [
    "**Question 1.5. Compute the same difference of means from part 1.4 using the `diffmean` function. (Recall that for a variable that takes on values of 0 or 1, the mean gives us the proportion of 1s. So in this case, the `diffmean` function will return the difference in proportions.)**"
   ]
  },
  {
   "cell_type": "code",
   "execution_count": null,
   "id": "0112c4c8",
   "metadata": {},
   "outputs": [],
   "source": [
    "# Code for 1.5"
   ]
  },
  {
   "cell_type": "markdown",
   "id": "2be665ee",
   "metadata": {},
   "source": [
    "Something missing in this process is the idea that mayors probably want to receive donations, and so if they anticipate receiving donations if they support a policy they could change their behavior. (If your answer to 1.3 assumed the previous data generating process captured that you might want to change it!)\n",
    "\n",
    "If this seems somewhat circular, it is, because we are effectively saying there is both a causal effect of donations on support and of support on donations. Let's use a simulation to make sense of such a situation.\n",
    "\n",
    "First, we create a variable called `b_don=.3` which reflects how much mayors like getting donations. The mayor utility for supporting the policy without a donation is the same as above, but let's now call this `u_support0`. Their utility for supporting the policy if they do get a donation is the utility with no donation plus `b_don`. The utility to not supporting is 0. Here is code for this:"
   ]
  },
  {
   "cell_type": "code",
   "execution_count": null,
   "id": "ad828ccd",
   "metadata": {},
   "outputs": [],
   "source": [
    "b_don = .3\n",
    "u_support0 = mayor_ideol - np.random.rand(n_mayors)\n",
    "u_support1 = u_support0 + b_don\n",
    "u_nosupport = 0"
   ]
  },
  {
   "cell_type": "markdown",
   "id": "77e72dc1",
   "metadata": {},
   "source": [
    "We will store the data from this process in a table called `mayor_dataB`. Let's start by making a copy of the previous mayors table but without the support and donate variables, which will be different in this version."
   ]
  },
  {
   "cell_type": "code",
   "execution_count": null,
   "id": "71a0bdb3",
   "metadata": {},
   "outputs": [],
   "source": [
    "mayor_dataB = mayor_dataA.drop([\"Support\", \"Donate\"])"
   ]
  },
  {
   "cell_type": "markdown",
   "id": "9bb670a8",
   "metadata": {},
   "source": [
    "Now we want to create variables which indicate whether the mayor would support the policy with and without a donation. Recall they will support the policy without a donation if `u_support0` is greater than `u_nosupport`, and will support the policy with a donation if `usupport1` is greater than `u_nosupport`.  We can create a variable that indicates whether the mayor would support the policy without a donation with the following code:"
   ]
  },
  {
   "cell_type": "markdown",
   "id": "c269cf3c",
   "metadata": {},
   "source": [
    "mayor_dataB = mayor_dataB.with_column(\"Support0\", np.where(u_support0 > 0, 1, 0))"
   ]
  },
  {
   "cell_type": "markdown",
   "id": "64b0d998",
   "metadata": {},
   "source": [
    "**Question 1.6. Write code to create a variable indicates if the mayor prefers to support the policy if they do receive a donation, and add it to the mayor_dataB table(call it \"Support1\").** "
   ]
  },
  {
   "cell_type": "code",
   "execution_count": null,
   "id": "2e316694",
   "metadata": {},
   "outputs": [],
   "source": [
    "# Code for 1.6"
   ]
  },
  {
   "cell_type": "markdown",
   "id": "82fa75bc",
   "metadata": {},
   "source": [
    "Now let's suppose the donors can anticipate who will support the policy with a donation, and want to reward politicians who do so (but also consider other factors too). The following code captures this idea (it assumes you named the variable correctly in the previous block!) Again, we are implicitly  assuming the \"cost\" to donating is .8."
   ]
  },
  {
   "cell_type": "code",
   "execution_count": null,
   "id": "2ab5743d",
   "metadata": {},
   "outputs": [],
   "source": [
    "u_donate2 = .5*mayor_dataB.column(\"Support1\") + np.random.rand(n_mayors)\n",
    "mayor_dataB = mayor_dataB.with_column(\"Donate\", 1*(u_donate2 > .8))\n",
    "mayor_dataB"
   ]
  },
  {
   "cell_type": "markdown",
   "id": "bc25bd8b",
   "metadata": {},
   "source": [
    "**Question 1.7. Use the `np.where` function to create a variable which indicates the realized support decision (i.e., \"Support0\" with no donation and \"Support1\" with a donation), and add it to the table with the name \"Support\"**"
   ]
  },
  {
   "cell_type": "code",
   "execution_count": null,
   "id": "e9e76f5b",
   "metadata": {},
   "outputs": [],
   "source": [
    "# Code for 1.7"
   ]
  },
  {
   "cell_type": "markdown",
   "id": "64bd545f",
   "metadata": {},
   "source": [
    " What is the causal effect of the donation here? It is the difference between the support choice with a donation versus not, which will not necessarily be the same for each mayor. \n",
    " \n",
    " **Question 1.8. Write code to create a variable and add it to `mayor_dataB` with the name \"Causal\".**"
   ]
  },
  {
   "cell_type": "code",
   "execution_count": null,
   "id": "5d7d9652",
   "metadata": {},
   "outputs": [],
   "source": [
    "# Code for 1.8"
   ]
  },
  {
   "cell_type": "markdown",
   "id": "5ddc871e",
   "metadata": {},
   "source": [
    "**Question 1.9. What is the Average Treatment Effect of a donation here? It should be a number between 0 and 1. What does the Average Treatment Effect mean in words?**"
   ]
  },
  {
   "cell_type": "code",
   "execution_count": null,
   "id": "305fc495",
   "metadata": {},
   "outputs": [],
   "source": [
    "# Code for 1.9"
   ]
  },
  {
   "cell_type": "markdown",
   "id": "91291095",
   "metadata": {},
   "source": [
    "*Words for 1.9*"
   ]
  },
  {
   "cell_type": "markdown",
   "id": "7fe2840f",
   "metadata": {},
   "source": [
    "**Question 1.10 what is the Average Treatment Effect on the Treated? What does this mean in words? (Hint: it's should be somewhat different than your answer to 1.9)**"
   ]
  },
  {
   "cell_type": "code",
   "execution_count": null,
   "id": "9b3aa36e",
   "metadata": {},
   "outputs": [],
   "source": [
    "# Code for 1.10"
   ]
  },
  {
   "cell_type": "markdown",
   "id": "2076a753",
   "metadata": {},
   "source": [
    "*Words for 1.10*"
   ]
  },
  {
   "cell_type": "markdown",
   "id": "3f1ebe76",
   "metadata": {},
   "source": [
    "**Question 1.11 Write code to confirm that the Difference of Means is equal to the ATET plus selection bias. Remember you can use the `diffmean` function for the difference of means, and for the selection bias you want to compute the difference in the \"Support0\" variable among those who receive a donation versus those who do not.**"
   ]
  },
  {
   "cell_type": "code",
   "execution_count": null,
   "id": "9aec7ba9",
   "metadata": {},
   "outputs": [],
   "source": [
    "#Code for 1.11"
   ]
  },
  {
   "cell_type": "markdown",
   "id": "7ac3aae9",
   "metadata": {},
   "source": [
    "## Part 2. A Fake Experiment"
   ]
  },
  {
   "cell_type": "markdown",
   "id": "6177fe17",
   "metadata": {},
   "source": [
    "While it would probably be infeasible and unethical to run an experiment where we get donors to randomize which politicians they give money to, we can see how this would play out hypothetically with our simulated data. \n",
    "\n",
    "Let's again use the potential outcomes from the previous simulated data, putting it in a table called mayor_dataR (for \"randomized\")"
   ]
  },
  {
   "cell_type": "code",
   "execution_count": null,
   "id": "95838998",
   "metadata": {},
   "outputs": [],
   "source": [
    "mayor_dataR = mayor_dataB.select([\"Ideology\", \"Support0\", \"Support1\", \"Causal\"])\n",
    "mayor_dataR"
   ]
  },
  {
   "cell_type": "markdown",
   "id": "27cea1ad",
   "metadata": {},
   "source": [
    "A simple way to randomly decide who gets a donation is to use the `np.random.rand` function, which again makes random numbers between 0 and 1. If we want to create a 10 random variables that have a 70% chance of being a 1 and a 30% chance of being 0, we can generate 10 random numbers between 0 and 1 and then ask if it they are above 0.3, and then use `np.where` to report either 1 or 0:"
   ]
  },
  {
   "cell_type": "code",
   "execution_count": null,
   "id": "4d9ac1c0",
   "metadata": {},
   "outputs": [],
   "source": [
    "np.where(np.random.rand(20)>.3, 1,0)"
   ]
  },
  {
   "cell_type": "markdown",
   "id": "9d7bc236",
   "metadata": {},
   "source": [
    "If we change the argument in the np.random.rand we can get more or fewer random numbers, and if we change the .3 we can affect the probability of being a 1. "
   ]
  },
  {
   "cell_type": "markdown",
   "id": "126b33ec",
   "metadata": {},
   "source": [
    "**Question 2.1. Write code which randomly says whether each mayor gets a donation or not (think of it as 1 coin flip), where each gets a donation with probability .5. Add this to the `mayor_dataR` table with the name \"DonateR\". (Hint: recall the number of mayors is `n_mayors`).**"
   ]
  },
  {
   "cell_type": "code",
   "execution_count": null,
   "id": "e43567bb",
   "metadata": {},
   "outputs": [],
   "source": [
    "# Code for 2.1"
   ]
  },
  {
   "cell_type": "markdown",
   "id": "d2fa605d",
   "metadata": {},
   "source": [
    "**Question 2.2 Make a variable for the realized support choice with the random donation, and add it to `mayor_dataR` with the name \"Support\". (Hint: look back to problem 1.7)**"
   ]
  },
  {
   "cell_type": "code",
   "execution_count": null,
   "id": "4b795127",
   "metadata": {},
   "outputs": [],
   "source": [
    "# Code for 2.2\n"
   ]
  },
  {
   "cell_type": "markdown",
   "id": "0a283910",
   "metadata": {},
   "source": [
    "**Question 2.3 Compute the difference in mean of \"Support\" among those received a (random) donation versus not, and compare this to the Average Treatment Effect. Does the difference of means do a reasonable job of approximating the real average causal effect?**"
   ]
  },
  {
   "cell_type": "code",
   "execution_count": null,
   "id": "422bab3e",
   "metadata": {},
   "outputs": [],
   "source": [
    "# Code for 2.3"
   ]
  },
  {
   "cell_type": "code",
   "execution_count": null,
   "id": "973f5715",
   "metadata": {},
   "outputs": [],
   "source": []
  },
  {
   "cell_type": "markdown",
   "id": "9339b8e8",
   "metadata": {},
   "source": [
    "*Words for 2.3*"
   ]
  },
  {
   "cell_type": "markdown",
   "id": "9c843485",
   "metadata": {},
   "source": [
    "## Part 3. A real Experiment"
   ]
  },
  {
   "cell_type": "markdown",
   "id": "d597caa4",
   "metadata": {},
   "source": [
    "Now let's see how these ideas play out with some real data. Unlike with the simulations, we can't check whether there isn't any selection bias driven by differences in treatment and control groups, since in \"real world\" mode we don't get to know the potential outcomes. But with the confidence gained by our simulations, if the treatment is randomized, then we can assume that selection bias is likely to be small. We can also check that the treatment and control groups are otherwise similar.\n",
    "\n",
    "The example we will use is from <a href=\"https://www.jstor.org/stable/26379536?seq=1#metadata_info_tab_contents\">this</a> paper, which aimed to see if sending letters to political elites can encourage them to get women more involved in leadership positions.\n",
    "\n",
    "Quoting directly from the article: \"We ran a field experiment with the cooperation of a state Republican Party in a state with low levels of women's representation (Utah). Party leaders were concerned that although women comprised about half of the party activists who attended neighborhood caucus meetings, women typically accounted for only 20-25% of the delegates elected from these meetings to attend the state nominating convention. We randomly assigned over 2,000 precinct chairs to receive one of four letters from the state party chair prior to these neighborhood caucus meetings. The treatments were a neutral placebo control (Control), a request to recruit 2-3 women to run as state delegates (Supply), a request to read a letter at the precinct meeting encouraging attendees to elect more women as delegates (Demand), and a request to both recruit women and read the letter (Supply+Demand).\"\n",
    "\n",
    "Note that in this case, like in many real experiments, there is not just one treatment and one control. Since precinct chairs could get neither, one, or both, there are four \"treatment statuses\". We will see how these groups differ individually, as well as comparing \"supply to no supply\" and \"demand to no demand\".\n",
    "\n",
    "The outcomes we will look at the the proportion of female delegates and whether there are any female delegates. Here are the variables in the data:\n",
    "- unique_id: Precinct ID\n",
    "- \"treat\": treatment variable, with four possibilities:\n",
    "(1) 'control': control group\n",
    "(2) 'supply': supply group; party chair instructed to recruit 2-3 women\n",
    "(3) 'demand': demand group; party chair reads letter at precinct convention\n",
    "(4) 'both': a fourth group getting both the supply and demand treatments; party chair instructed to read letter and to recruit 2-3 women\n",
    "- \"prop_sd_fem2014\": Outcome: Proportion of 2014 elected state delegates from that precinct who were women\n",
    "- \"sd_onefem2014\": 1 if at least one woman was selected; 0 otherwise\n",
    "- \"county\": County name in Utah\n",
    "- \"pc_male\": 1 if precinct chair is male; 0 otherwise (precinct chair is person who runs precinct meeting, would read letter if assigned to do so, etc.)"
   ]
  },
  {
   "cell_type": "code",
   "execution_count": null,
   "id": "6e86dfe6",
   "metadata": {},
   "outputs": [],
   "source": [
    "utah = Table.read_table(\"electing_women.csv\")\n",
    "utah"
   ]
  },
  {
   "cell_type": "markdown",
   "id": "c4133007",
   "metadata": {},
   "source": [
    "Let's see how many observations are in each treatment group."
   ]
  },
  {
   "cell_type": "code",
   "execution_count": null,
   "id": "3ba46099",
   "metadata": {},
   "outputs": [],
   "source": [
    "utah.group(\"treat\")"
   ]
  },
  {
   "cell_type": "markdown",
   "id": "b72cccc0",
   "metadata": {},
   "source": [
    "**Question 3.1. Compute the average proportion of female delegates for the each of the four possible treatments.  Interpret the results**"
   ]
  },
  {
   "cell_type": "code",
   "execution_count": null,
   "id": "6096414a",
   "metadata": {},
   "outputs": [],
   "source": [
    "# Code for 3.1"
   ]
  },
  {
   "cell_type": "code",
   "execution_count": null,
   "id": "fb1774f0",
   "metadata": {},
   "outputs": [],
   "source": []
  },
  {
   "cell_type": "code",
   "execution_count": null,
   "id": "b90e6987",
   "metadata": {},
   "outputs": [],
   "source": []
  },
  {
   "cell_type": "code",
   "execution_count": null,
   "id": "1cbe1b18",
   "metadata": {},
   "outputs": [],
   "source": []
  },
  {
   "cell_type": "markdown",
   "id": "b3af9bfe",
   "metadata": {},
   "source": [
    "*Words for 3.1*"
   ]
  },
  {
   "cell_type": "markdown",
   "id": "642a82f9",
   "metadata": {},
   "source": [
    "If we want to estimate the effect of the supply and demand treatments individually, we can create variables that indicate whether they received the supply treatment (setting aside the demand treatment) and vice versa. Here is one way to do this, which uses the fact that if we add two boolean variables it will return \"True\" if either one of them is True. "
   ]
  },
  {
   "cell_type": "code",
   "execution_count": null,
   "id": "bb32c405",
   "metadata": {},
   "outputs": [],
   "source": [
    "supply = np.where((utah.column(\"treat\")==\"supply\") + (utah.column(\"treat\")==\"both\"), 1, 0)\n",
    "demand = np.where((utah.column(\"treat\")==\"demand\") + (utah.column(\"treat\")==\"both\"), 1, 0)\n",
    "utah = utah.with_columns(\"Supply\", supply, \"Demand\", demand)"
   ]
  },
  {
   "cell_type": "markdown",
   "id": "6b6f1df1",
   "metadata": {},
   "source": [
    "**Question 3.2 Compute the difference in means for the proportion of female delegates for those who did and did not receive the demand treatment, and those who did and did not receive the supply treatment. You can use the `diffmean` function since there is now a binary treatment equal to 0 or 1.**"
   ]
  },
  {
   "cell_type": "code",
   "execution_count": null,
   "id": "313430d4",
   "metadata": {},
   "outputs": [],
   "source": [
    "#Code for 3.2"
   ]
  },
  {
   "cell_type": "code",
   "execution_count": null,
   "id": "0576ff00",
   "metadata": {},
   "outputs": [],
   "source": []
  },
  {
   "cell_type": "markdown",
   "id": "6429b260",
   "metadata": {},
   "source": [
    "**Question 3.3. While we can't learn the potential outcomes of what delegates would have been sent with a different treatment, we can check to see if those who received different treatments did happen to be different on other dimensions. One that might matter is whether the precinct chair was a male or female (recall this is in the \"pc_male\" variable). Use the ``diffmean`` function to check if precincts with a male chair send a higher or lower proportion of female delegates.**"
   ]
  },
  {
   "cell_type": "code",
   "execution_count": null,
   "id": "5ab2c98f",
   "metadata": {},
   "outputs": [],
   "source": [
    "# Code for 3.3"
   ]
  },
  {
   "cell_type": "markdown",
   "id": "1ef10f84",
   "metadata": {},
   "source": [
    "**Question 3.4. Now use the `diffmean` function to check whether precincts who recieved the \"supply\" teatment were more likely to have a male precinct chair, then do the same for the \"demand\" treatment.**"
   ]
  },
  {
   "cell_type": "code",
   "execution_count": null,
   "id": "d1c51961",
   "metadata": {},
   "outputs": [],
   "source": [
    "# Code for 3.4"
   ]
  },
  {
   "cell_type": "code",
   "execution_count": null,
   "id": "e98ea104",
   "metadata": {},
   "outputs": [],
   "source": []
  },
  {
   "cell_type": "markdown",
   "id": "bc303bcf",
   "metadata": {},
   "source": [
    "**Question 3.5. If a reader of  this study said \"It's hard to say whether encouraging women to run is helpful, because male political leaders are more likely to do so and they also do other things which make women less likely to run\", how could the authors respond? (Hint: think about the power of randomization in general, and what you found in the previous questions.)**"
   ]
  },
  {
   "cell_type": "markdown",
   "id": "0a11cc01",
   "metadata": {},
   "source": [
    "*Words for 3.5*"
   ]
  },
  {
   "cell_type": "code",
   "execution_count": null,
   "id": "faca0529",
   "metadata": {},
   "outputs": [],
   "source": []
  }
 ],
 "metadata": {
  "kernelspec": {
   "display_name": "Python 3 (ipykernel)",
   "language": "python",
   "name": "python3"
  },
  "language_info": {
   "codemirror_mode": {
    "name": "ipython",
    "version": 3
   },
   "file_extension": ".py",
   "mimetype": "text/x-python",
   "name": "python",
   "nbconvert_exporter": "python",
   "pygments_lexer": "ipython3",
   "version": "3.9.7"
  }
 },
 "nbformat": 4,
 "nbformat_minor": 5
}
