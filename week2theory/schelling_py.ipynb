{
 "cells": [
  {
   "cell_type": "code",
   "execution_count": 90,
   "id": "f3ac3d02",
   "metadata": {},
   "outputs": [],
   "source": [
    "import numpy as np\n",
    "import pandas as pd"
   ]
  },
  {
   "cell_type": "code",
   "execution_count": 52,
   "id": "71ac02f2",
   "metadata": {},
   "outputs": [],
   "source": [
    "def get_next(init, turn, b_in=1, b_out=-1, b_home=0.01):\n",
    "    # If the household who's turn it is is empty,\n",
    "    # nothing changes and on to the next household\n",
    "    if init[turn] == \"_\":\n",
    "        return [init, init, \"empty house\", turn, turn]\n",
    "\n",
    "    # Figuring out what houses are available to move to\n",
    "    blank_vec = [i for i, char in enumerate(init) if char == \"_\"]\n",
    "    avail = [turn] + blank_vec\n",
    "\n",
    "    # Set the utility to any non-available house to negative infinity\n",
    "    u_avail = [-float('inf')] * len(init)\n",
    "    for i in avail:\n",
    "        u_avail[i] = 0\n",
    "    u_avail[turn] = b_home\n",
    "\n",
    "    # Computing the utility for all available houses\n",
    "    for i in avail:\n",
    "        # test is what the arrangement would be if moving (or staying)\n",
    "        test = list(init)\n",
    "        test[turn] = init[i]\n",
    "        test[i] = init[turn]\n",
    "        test = \"\".join(test)\n",
    "\n",
    "        # Adding b_in if there is an ingroup person to the left...\n",
    "        if i > 0 and init[turn] == test[i - 1]:\n",
    "            u_avail[i] += b_in\n",
    "\n",
    "        # ...or to the right\n",
    "        if i < len(init) - 1 and init[turn] == test[i + 1]:\n",
    "            u_avail[i] += b_in\n",
    "\n",
    "        # Subtracting if there is an outgroup person to the left\n",
    "        if i > 0 and (init[turn] != test[i - 1]) and (test[i - 1] not in [\"_\", \"\"]):\n",
    "            u_avail[i] += b_out\n",
    "\n",
    "        # Same for the right\n",
    "        if i < len(init) - 1 and (init[turn] != test[i + 1]) and (test[i + 1] not in [\"_\", \"\"]):\n",
    "            u_avail[i] += b_out\n",
    "\n",
    "    # Figuring out where to move to.\n",
    "    move = u_avail.index(max(u_avail))\n",
    "\n",
    "    # Creating the new arrangement\n",
    "    out = list(init)\n",
    "    out[turn] = init[move]\n",
    "    out[move] = init[turn]\n",
    "    out = \"\".join(out)\n",
    "\n",
    "    # Creating the output when there is a move\n",
    "    if turn != move:\n",
    "        return [init, out, f\"the {init[turn]} in slot {turn} moves to {move}\", turn, move]\n",
    "    \n",
    "    # Output when there is no move\n",
    "    return [init, out, f\"the {init[turn]} in slot {turn} stays\", turn, move]\n",
    "\n",
    "# Test the function\n",
    "#initial_state = \"AAABBAB___\"\n",
    "#turn = 7\n",
    "#result = get_next(initial_state, turn)\n",
    "#print(result)\n"
   ]
  },
  {
   "cell_type": "code",
   "execution_count": 53,
   "id": "fb04a295",
   "metadata": {},
   "outputs": [
    {
     "data": {
      "text/plain": [
       "0"
      ]
     },
     "execution_count": 53,
     "metadata": {},
     "output_type": "execute_result"
    }
   ],
   "source": [
    "#out_mat_test = [[\"initial\", \"ABABAB\", \"Start\", 0, 1] for _ in range(100)]\n",
    "#out_mat_test[0][3]"
   ]
  },
  {
   "cell_type": "code",
   "execution_count": 54,
   "id": "fb0a9928",
   "metadata": {},
   "outputs": [
    {
     "data": {
      "text/plain": [
       "0"
      ]
     },
     "execution_count": 54,
     "metadata": {},
     "output_type": "execute_result"
    }
   ],
   "source": [
    "#0% 8"
   ]
  },
  {
   "cell_type": "code",
   "execution_count": 55,
   "id": "f250d382",
   "metadata": {
    "scrolled": true
   },
   "outputs": [],
   "source": [
    "def run_schelling(init, b_in=1, b_out=-1, b_home=0.01, max_steps=100):\n",
    "    out_mat = [[\"initial\", init, \"Start\", 0, 1] for _ in range(max_steps)]\n",
    "\n",
    "    for i in range(1, max_steps):\n",
    "        last_turn = int(out_mat[i - 1][4])\n",
    "        next_turn = 0 if out_mat[i - 1][3] != out_mat[i - 1][4] else (last_turn + 1) % len(init)\n",
    "\n",
    "#        if next_turn == 0:\n",
    "#            next_turn = len(init) - 1\n",
    "\n",
    "        result = get_next(out_mat[i - 1][1], next_turn, b_in=b_in, b_out=b_out, b_home=b_home)\n",
    "        out_mat[i] = result\n",
    "\n",
    "        if i >= len(init):\n",
    "            stays = sum(1 for row in out_mat[(i - len(init) + 1):(i + 1)] if row[3] == row[4])\n",
    "            if stays == len(init):\n",
    "                return out_mat[:i + 1]\n",
    "\n",
    "    return out_mat\n"
   ]
  },
  {
   "cell_type": "code",
   "execution_count": 56,
   "id": "4107fcfc",
   "metadata": {},
   "outputs": [],
   "source": [
    " #initial_state = \"ABABABAB_\"\n",
    "# result = run_schelling(initial_state)\n",
    "# for row in result:\n",
    "#   print(row)"
   ]
  },
  {
   "cell_type": "code",
   "execution_count": 73,
   "id": "43c6ece3",
   "metadata": {},
   "outputs": [],
   "source": [
    "def display_schelling(init, b_in=1, b_out=0, b_home=0.01, max_steps=100, shorten=False):\n",
    "    outmat = run_schelling(init=init, b_in=b_in, b_out=b_out, b_home=b_home, max_steps=max_steps)\n",
    "    out_df = []\n",
    "\n",
    "    for row in outmat:\n",
    "        out_df.append([row[3], row[2], row[1]])\n",
    "\n",
    "   # out_df = sorted(out_df, key=lambda x: x[0])\n",
    "\n",
    "    if shorten:\n",
    "        display_rows = []\n",
    "        display_rows.append(out_df[0])\n",
    "        for i in range(0, len(out_df)):\n",
    "            if \"moves to\" in out_df[i][1]:\n",
    "                display_rows.append(out_df[i])\n",
    "\n",
    "        out_df = display_rows\n",
    "\n",
    "    if not out_df:\n",
    "        return pd.DataFrame(columns=[\"Turn\", \"Choice\", \"Outcome\"])\n",
    "\n",
    "    return pd.DataFrame(out_df, columns=[\"Turn\", \"Choice\", \"Outcome\"])"
   ]
  },
  {
   "cell_type": "code",
   "execution_count": 74,
   "id": "927bd38a",
   "metadata": {},
   "outputs": [
    {
     "data": {
      "text/html": [
       "<div>\n",
       "<style scoped>\n",
       "    .dataframe tbody tr th:only-of-type {\n",
       "        vertical-align: middle;\n",
       "    }\n",
       "\n",
       "    .dataframe tbody tr th {\n",
       "        vertical-align: top;\n",
       "    }\n",
       "\n",
       "    .dataframe thead th {\n",
       "        text-align: right;\n",
       "    }\n",
       "</style>\n",
       "<table border=\"1\" class=\"dataframe\">\n",
       "  <thead>\n",
       "    <tr style=\"text-align: right;\">\n",
       "      <th></th>\n",
       "      <th>Turn</th>\n",
       "      <th>Choice</th>\n",
       "      <th>Outcome</th>\n",
       "    </tr>\n",
       "  </thead>\n",
       "  <tbody>\n",
       "    <tr>\n",
       "      <th>0</th>\n",
       "      <td>0</td>\n",
       "      <td>Start</td>\n",
       "      <td>ABABABAB_</td>\n",
       "    </tr>\n",
       "    <tr>\n",
       "      <th>1</th>\n",
       "      <td>1</td>\n",
       "      <td>the B in slot 1 moves to 8</td>\n",
       "      <td>A_ABABABB</td>\n",
       "    </tr>\n",
       "    <tr>\n",
       "      <th>2</th>\n",
       "      <td>0</td>\n",
       "      <td>the A in slot 0 moves to 1</td>\n",
       "      <td>_AABABABB</td>\n",
       "    </tr>\n",
       "    <tr>\n",
       "      <th>3</th>\n",
       "      <td>4</td>\n",
       "      <td>the A in slot 4 moves to 0</td>\n",
       "      <td>AAAB_BABB</td>\n",
       "    </tr>\n",
       "    <tr>\n",
       "      <th>4</th>\n",
       "      <td>3</td>\n",
       "      <td>the B in slot 3 moves to 4</td>\n",
       "      <td>AAA_BBABB</td>\n",
       "    </tr>\n",
       "    <tr>\n",
       "      <th>5</th>\n",
       "      <td>6</td>\n",
       "      <td>the A in slot 6 moves to 3</td>\n",
       "      <td>AAAABB_BB</td>\n",
       "    </tr>\n",
       "    <tr>\n",
       "      <th>6</th>\n",
       "      <td>4</td>\n",
       "      <td>the B in slot 4 moves to 6</td>\n",
       "      <td>AAAA_BBBB</td>\n",
       "    </tr>\n",
       "  </tbody>\n",
       "</table>\n",
       "</div>"
      ],
      "text/plain": [
       "   Turn                      Choice    Outcome\n",
       "0     0                       Start  ABABABAB_\n",
       "1     1  the B in slot 1 moves to 8  A_ABABABB\n",
       "2     0  the A in slot 0 moves to 1  _AABABABB\n",
       "3     4  the A in slot 4 moves to 0  AAAB_BABB\n",
       "4     3  the B in slot 3 moves to 4  AAA_BBABB\n",
       "5     6  the A in slot 6 moves to 3  AAAABB_BB\n",
       "6     4  the B in slot 4 moves to 6  AAAA_BBBB"
      ]
     },
     "execution_count": 74,
     "metadata": {},
     "output_type": "execute_result"
    }
   ],
   "source": [
    "\n",
    " #Test the display_schelling function\n",
    "#initial_state = \"ABABABAB_\"\n",
    "#result = display_schelling(initial_state, shorten=True)\n",
    "\n",
    "#result"
   ]
  },
  {
   "cell_type": "code",
   "execution_count": 67,
   "id": "b6823c27",
   "metadata": {},
   "outputs": [
    {
     "name": "stdout",
     "output_type": "stream",
     "text": [
      "9\n"
     ]
    }
   ],
   "source": [
    "def end_schelling(init, b_in=1, b_out=0, b_home=0.01, max_steps=100):\n",
    "    outmat = run_schelling(init=init, b_in=b_in, b_out=b_out, b_home=b_home, max_steps=max_steps)\n",
    "    return outmat[-1][4]\n",
    "\n",
    "# Test the end_schelling function\n",
    "# initial_state = \"AAABBAB___\"\n",
    "# result = end_schelling(initial_state)\n",
    "# print(result)\n"
   ]
  },
  {
   "cell_type": "code",
   "execution_count": 102,
   "id": "ccf8c078",
   "metadata": {},
   "outputs": [],
   "source": [
    "def seg_meas(map):\n",
    "    indiv_meas = [None] * len(map)\n",
    "    \n",
    "    for i in range(len(map)):\n",
    "        self = map[i]\n",
    "        nabe = []\n",
    "        if i > 0:\n",
    "            nabe.append(map[i - 1])\n",
    "        if i < len(map) - 1:\n",
    "            nabe.append(map[i + 1])\n",
    "        \n",
    "        same = nabe.count(self)\n",
    "        diff = sum(1 for neighbor in nabe if neighbor != self and neighbor != \"_\")\n",
    "        nonempty = sum(1 for neighbor in nabe if neighbor != \"_\")\n",
    "        \n",
    "        if self == \"_\":\n",
    "            indiv_meas[i] = None\n",
    "        else:\n",
    "            indiv_meas[i] = (same - diff) / nonempty if nonempty != 0 else None\n",
    "    \n",
    "    return sum(filter(None, indiv_meas)) / (len(map) - indiv_meas.count(None))\n",
    "\n",
    "# Test the seg_meas function\n",
    "neighborhood_map = \"AABBAABB\"\n",
    "result = seg_meas(neighborhood_map)\n",
    "#print(result)\n"
   ]
  },
  {
   "cell_type": "code",
   "execution_count": null,
   "id": "053d98a3",
   "metadata": {},
   "outputs": [],
   "source": []
  }
 ],
 "metadata": {
  "kernelspec": {
   "display_name": "Python 3 (ipykernel)",
   "language": "python",
   "name": "python3"
  },
  "language_info": {
   "codemirror_mode": {
    "name": "ipython",
    "version": 3
   },
   "file_extension": ".py",
   "mimetype": "text/x-python",
   "name": "python",
   "nbconvert_exporter": "python",
   "pygments_lexer": "ipython3",
   "version": "3.9.7"
  }
 },
 "nbformat": 4,
 "nbformat_minor": 5
}
