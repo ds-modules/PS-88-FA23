{
 "cells": [
  {
   "cell_type": "markdown",
   "id": "cbfc6d4a",
   "metadata": {},
   "source": [
    "# PS 88 - Lab 2 -  Theories of Accountability and Segregation"
   ]
  },
  {
   "cell_type": "markdown",
   "id": "764773ad",
   "metadata": {},
   "source": [
    "## Part 1: What outcomes affect votes?"
   ]
  },
  {
   "cell_type": "markdown",
   "id": "1afa8211",
   "metadata": {},
   "source": [
    "In class I showed a graph that plotted GDP growth during a president's term and how well the incumbent party did in the next election. This is often viewed as important evidence that voters reward or punish politicians based on how the economy performs under their control, which could put more competent leaders in office and give politicians incentive to work hard to give voters good outcomes.\n",
    "\n",
    "Let's first replicate the code to make that graph here."
   ]
  },
  {
   "cell_type": "code",
   "execution_count": null,
   "id": "82c22019",
   "metadata": {},
   "outputs": [],
   "source": [
    "# Importing libraries\n",
    "import pandas as pd\n",
    "import seaborn as sns\n",
    "import matplotlib.pyplot as plt\n",
    "%matplotlib inline"
   ]
  },
  {
   "cell_type": "code",
   "execution_count": null,
   "id": "bc168369",
   "metadata": {},
   "outputs": [],
   "source": [
    "# Loading data\n",
    "pv = pd.read_stata(\"data/presvote.dta\")\n",
    "# Subsetting to years after 1940\n",
    "# There isn't much good GDP data before and the great depression/rebound is a weird time\n",
    "pv = pv[pv['year'] >=1940]\n",
    "# Making the plot and labeling axes\n",
    "sns.scatterplot(x='gdpchange', y='incvote', data=pv)\n",
    "plt.xlabel('GDP Growth')\n",
    "plt.ylabel('Incumbent Vote Share')"
   ]
  },
  {
   "cell_type": "markdown",
   "id": "674f070d",
   "metadata": {},
   "source": [
    "Recall that GDP growth could be a misleading indicator of whether individual financial situations are improving. Some have argued that something called \"real disposable income\" (RDI) is a better measure of this (see <a href=\"https://www.bea.gov/resources/learning-center/what-to-know-income-saving\">here</a> for a comparison of some different related variables).  Fortunately our data table has this information too. In particular, the `RDIg_term` column contains the real disposable income growth over the four years preceding the election.\n",
    "\n",
    "Theoretically, it makes sense to focus on these four years since we'd like to know how things went under the control of the incumbent (or the incumbent party).\n",
    "\n",
    "**Question 1.1: Modify the code below to change the x axis to real disposable income growth over the four years preceding the election.**"
   ]
  },
  {
   "cell_type": "code",
   "execution_count": null,
   "id": "f57523bb",
   "metadata": {},
   "outputs": [],
   "source": [
    "# Code for 1.1: Change someting here to plot real disposable income growth\n",
    "sns.scatterplot(x=..., y='incvote', data=pv)\n",
    "# Change something here to label the axis properly\n",
    "plt.xlabel(\"RDI Growth (4 year)\")\n",
    "plt.ylabel('Incumbent Vote Share')"
   ]
  },
  {
   "cell_type": "markdown",
   "id": "8083a405",
   "metadata": {},
   "source": [
    "Another common argument is that people don't necessarily think carefully about how their economic situation changed over the entire time the incumbent was in office, but only think more about the recent past. One way we can test this is by looking at RDI growth over the year leading up to the election. This is captured by the variable `RDIyrgrowth`. \n",
    "\n",
    "**Question 1.2. Write code to make a scatterplot with RDI growth over the year leading up to the election on the x axis and the incumbent vote share on the y axis (feel free to copy from your answer to 1.1 and then modify it).**"
   ]
  },
  {
   "cell_type": "code",
   "execution_count": null,
   "id": "899ac71a",
   "metadata": {},
   "outputs": [],
   "source": [
    "# Code for 1.2 here"
   ]
  },
  {
   "cell_type": "markdown",
   "id": "ff4d4b61",
   "metadata": {},
   "source": [
    "**Question 1.3 Compare the results of three graphs we have made so far. What might the say about the applicability of our model of political accountability? (Note: there are lots of potential answers here!)**"
   ]
  },
  {
   "cell_type": "markdown",
   "id": "9c75efd3",
   "metadata": {},
   "source": [
    "*Answer for 1.3*"
   ]
  },
  {
   "cell_type": "markdown",
   "id": "559a91a8",
   "metadata": {},
   "source": [
    "To preview something we will learn later in class, we can also produce a similar graph but add a *line of best fit*, which describes the average trend in the data.\n",
    "\n",
    "(We do this with a function called `regplot` in the Seaborn library, which we imported as `sns`)"
   ]
  },
  {
   "cell_type": "code",
   "execution_count": null,
   "id": "a1028f35",
   "metadata": {},
   "outputs": [],
   "source": [
    "# Creating a scatterplot with a line of best fit. \n",
    "# The ci=None option removes confidence intervals\n",
    "sns.regplot(x='RDIyrgrowth', y='incvote', data=pv, ci=None)\n",
    "plt.xlabel('RDI Growth')\n",
    "plt.ylabel('Incumbent Vote Share')"
   ]
  },
  {
   "cell_type": "markdown",
   "id": "fbee8e23",
   "metadata": {},
   "source": [
    "One way to think about this line is saying \"given a level of growth, what is our best prediction about the incumbent vote share?\" \n",
    "\n",
    "There are lots of cool things we can do with this (again, more to come!) but one that is interesting in light of our accountability model is that we can think of elections that are far from this line as ones where the outcome is different than we would predict based on how the economy was doing.\n",
    "\n",
    "To see what years had the incumbent do better or worse than expected, we can add some labels to the points."
   ]
  },
  {
   "cell_type": "code",
   "execution_count": null,
   "id": "19e5bbb8",
   "metadata": {},
   "outputs": [],
   "source": [
    "# removing NA to avoid annoying errors\n",
    "pvtoplot = pv[['RDIyrgrowth', 'incvote', 'year']].dropna()\n",
    "pvtoplot['year'] = pvtoplot['year'].astype(int)\n",
    "\n",
    "# The ci=None option removes confidence intervals\n",
    "sns.regplot(x='RDIyrgrowth', y='incvote', data=pvtoplot, ci=None)\n",
    "plt.xlabel('RDI election year growth')\n",
    "plt.ylabel('Incumbent Vote Share')\n",
    "\n",
    "# Looping through to label points with the year\n",
    "for x, y, z in zip(pvtoplot['RDIyrgrowth'], pvtoplot['incvote'], pvtoplot['year']):\n",
    " # the position of the data label relative to the data point can be adjusted by adding/subtracting a value from the x &/ y coordinates\n",
    " plt.text(x = x+.025, # x-coordinate position of data label\n",
    " y = y-.01, # y-coordinate position of data label, adjusted to be 150 below the data point\n",
    " s = z) # data label, formatted to ignore decimals\n",
    " # set colour of line"
   ]
  },
  {
   "cell_type": "markdown",
   "id": "2321ad12",
   "metadata": {},
   "source": [
    "**Question 1.4. Note that 2020 is a year where the incumbent did much worse than the best fit line predicts. Why might that be (there are multiple good ways to answer this!)**"
   ]
  },
  {
   "cell_type": "markdown",
   "id": "dd7e27bc",
   "metadata": {},
   "source": [
    "*Answer for 1.4*"
   ]
  },
  {
   "cell_type": "markdown",
   "id": "a879dd9e",
   "metadata": {},
   "source": [
    "**Question 1.5. What is a factor outside of economic performance which voters might use to evaluate politicians? Come up with some data one might collect in order to test whether our accountability model works in this domain as well. (Hint: the easiest way to do this is to think of a non-economic variable you might put on the x axis for a graph like the ones we used in the lab.)**"
   ]
  },
  {
   "cell_type": "markdown",
   "id": "88d1c98f",
   "metadata": {},
   "source": [
    "*Answer for 1.5*"
   ]
  },
  {
   "cell_type": "markdown",
   "id": "275f8512",
   "metadata": {},
   "source": [
    "## Part 2: Automated Segregation"
   ]
  },
  {
   "cell_type": "markdown",
   "id": "46678520",
   "metadata": {},
   "source": [
    "In the second part of this lab we will show how to leverage the power of simulation to quickly and easily run algorithms like the Schelling segregation model. \n",
    "\n",
    "The first line of code here runs an script which contains the functions to run and display the segregation algorithm."
   ]
  },
  {
   "cell_type": "code",
   "execution_count": null,
   "id": "a82bd605",
   "metadata": {},
   "outputs": [],
   "source": [
    "%run schelling_py.ipynb"
   ]
  },
  {
   "cell_type": "markdown",
   "id": "1ff705ce",
   "metadata": {},
   "source": [
    "The main function we have written for you is called `display_schelling`. As we will see, this function can run variants of the algorithm from the lecture. This function requires at least one *argument*, which is the initial arrangement of houses. We will call an arrangement of houses a city, and input this with a *string* which is what Python calls variables that are letters. In particular, the string for the class example is \"ABABABAB_\").\n",
    "\n",
    "The following line of code replicates the example from class. "
   ]
  },
  {
   "cell_type": "code",
   "execution_count": null,
   "id": "76b97efb",
   "metadata": {},
   "outputs": [],
   "source": [
    "display_schelling(\"ABABABAB_\")"
   ]
  },
  {
   "cell_type": "markdown",
   "id": "92824cd6",
   "metadata": {},
   "source": [
    "The output here is a \"data frame\" where each line corresponds to a turn. The first column says who's turn it is (set to \"0\" for the initial setup), the second column says what they do, and the third column shows the resulting city arrangement.\n",
    "\n",
    "The `display_schelling` function also has several *optional* arguments, which have a default value that you can override when you call the function. You will learn more about this soon in Data 8.\n",
    "\n",
    "Here is one we will often make use of throughout the lab: if we want to make things a bit more concise, we can add a `shorten=True` argument, which only displays the start and then the turns where someone moves."
   ]
  },
  {
   "cell_type": "code",
   "execution_count": null,
   "id": "2c6d5831",
   "metadata": {},
   "outputs": [],
   "source": [
    "display_schelling(\"ABABABAB_\", shorten=True)"
   ]
  },
  {
   "cell_type": "markdown",
   "id": "db5dbc18",
   "metadata": {},
   "source": [
    "\n",
    "One of the interesting features of this model is that seemingly small changes can have a big impact on the final result. Here is what happens if, in the initial arrangement, there are alternating pairs of As and Bs rather than alternating individuals."
   ]
  },
  {
   "cell_type": "code",
   "execution_count": null,
   "id": "2c7d9751",
   "metadata": {},
   "outputs": [],
   "source": [
    "display_schelling(\"BBAABBAA_\", shorten=True)"
   ]
  },
  {
   "cell_type": "markdown",
   "id": "6c9d24d6",
   "metadata": {},
   "source": [
    "Hmm that looks a bit weird. Let's do the same thing but without the shorten option. One way we could do this is to just delete the `shorten=True` argument, but to see another way we can do this is explicitly setting `shorten=False`. The reason these do the same thing is that `shorten=False` is the default setting (again, you will learn more about this in Data 8 when discussing functions), so if we don't specify whether to shorten the function will not do so."
   ]
  },
  {
   "cell_type": "code",
   "execution_count": null,
   "id": "92a609b8",
   "metadata": {},
   "outputs": [],
   "source": [
    "display_schelling(\"BBAABBAA_\", shorten=False)"
   ]
  },
  {
   "cell_type": "markdown",
   "id": "410d9ce4",
   "metadata": {},
   "source": [
    "Ah, so what happened here is that, given this initial arrangment, no one wanted to move! \n",
    "\n",
    "**Question 2.1. Given the way we defined this algorithm, why does no one want to move?**"
   ]
  },
  {
   "cell_type": "markdown",
   "id": "e97784ad",
   "metadata": {},
   "source": [
    "*Answer for 2.1*"
   ]
  },
  {
   "cell_type": "markdown",
   "id": "483d00ee",
   "metadata": {},
   "source": [
    "There are some additional arguments which we can change in order to capture different moving rules by the households. They are:\n",
    "\n",
    "- `b_in` is how much the households value being close to in-group members.\n",
    "- `b_out` is how much the households value dislike being close to out-group members\n",
    "- `b_home` is how much the households value staying in their current home\n",
    "\n",
    "The way the algorithm works is by computing a \"utility\" to each available house, where higher utility numbers mean liking the spot more (we will discuss the concept of utility more next week.). For every in-group neighbor at this potential house, we add `b_in` to this utility. For every outgroup neighbor we add `b_out` (which will typically be a negative number). If the available home is the current one, we add `b_home`. The household who is taking the current turn then goes to the available house that gives the highest utility (and goes to the leftmost one that gives the highest possible utility in the case of a tie). \n",
    "\n",
    "The defaults for these arguments, which replicate the rules we used in the lecture, set `b_in =1`, `b_out=0`, and `b_home=.01`. The `b_in=1` means we add 1 to the utility for each in-group member that would be a neighbor. Any positive number could do here, since all we want to capture is that more in-group neighbors is better. The `b_out=0` captures the idea that households don't care about having out-group neighbors either way: this does not affect the utility. Another way to think of this is that people are indifferent between having an empty house or an outgroup member as a neighbor (but would rather have an ingroup neighbor!)\n",
    "\n",
    "You can think of the `b_home=.01` as a \"tie-breaking\" rule: household won't move unless they can have more in-group neighbors. (The only important thing to replicate the algorithm from lecture is that `b_home` is smaller than `b_in`; if not then houses would not move even if it led to one more in-group neighbor.)\n",
    "\n",
    "If there are multiple spots that are equally good (give equal utility) the house moves to the left-most one. And after anyone moves, we \"reset\" and let the left-most house see if they want to move first. \n",
    "\n",
    "The wonder of doing using a computer rather than by hand is we can quickly see how things would shake out differently with some minor changes. For example, by setting `b_in=0` and `b_out=-1` we can see what would happen if the households don't intrinsically like being close to ingroup members but want to avoid outgroup members. (Think about why!)\n",
    "\n",
    "Let's do this for the example from class where they start out alternating by house."
   ]
  },
  {
   "cell_type": "code",
   "execution_count": null,
   "id": "5aa7761f",
   "metadata": {},
   "outputs": [],
   "source": [
    "display_schelling(\"ABABABAB_\", b_in=0, b_out=-1, b_home=.01, \n",
    "                  shorten=True)"
   ]
  },
  {
   "cell_type": "markdown",
   "id": "a96ba3d6",
   "metadata": {},
   "source": [
    "**Question 2.2. Compare the final outcome here to the case where `b_in=1` and `b_out=0`. What does this mean in words?**"
   ]
  },
  {
   "cell_type": "markdown",
   "id": "75d601e6",
   "metadata": {},
   "source": [
    "*Answer for 2.2*"
   ]
  },
  {
   "cell_type": "markdown",
   "id": "dd74782a",
   "metadata": {},
   "source": [
    "If we want to capture the notion that households like living near the ingroup **and** dislike living near the outgroup, we can set `b_in=1` and `b_out=-1`. Let's see what happens in the \"alternating pairs\" starting point using this moving rule:"
   ]
  },
  {
   "cell_type": "code",
   "execution_count": null,
   "id": "bbc81eb1",
   "metadata": {},
   "outputs": [],
   "source": [
    "display_schelling(\"BBAABBAA_\", b_in=1, b_out=-1, b_home=.01, shorten=True)"
   ]
  },
  {
   "cell_type": "markdown",
   "id": "2f27b0f3",
   "metadata": {},
   "source": [
    "**Question 2.3. Why does this lead to a move when we didn't see any moves for the default parameters?**"
   ]
  },
  {
   "cell_type": "markdown",
   "id": "23288bc9",
   "metadata": {},
   "source": [
    "*Answer for 2.3*"
   ]
  },
  {
   "cell_type": "markdown",
   "id": "b335c3ff",
   "metadata": {},
   "source": [
    "Next, let's see what happens if we add give the households another empty spot to move to.\n",
    "\n",
    "**Question 2.4. Write code to run the algorithm with the same moving rule as the last example (`b_in=1, b_out=-1, b_home=.01`) but with an additional empty house added to the end of the initial arrangement. Use the `shorten=True` argument to keep things concise.**"
   ]
  },
  {
   "cell_type": "code",
   "execution_count": null,
   "id": "bbcddf02",
   "metadata": {},
   "outputs": [],
   "source": [
    "# Code for question 2.4 here"
   ]
  },
  {
   "cell_type": "markdown",
   "id": "17ab7af4",
   "metadata": {},
   "source": [
    "**Question 2.5. Adding this blank house led to a very different final arrangement. Give an explanation for why this happened. What might this say about the drivers of segregation in real world cities?**"
   ]
  },
  {
   "cell_type": "markdown",
   "id": "05fda497",
   "metadata": {},
   "source": [
    "*Answer for 2.5.*"
   ]
  },
  {
   "cell_type": "markdown",
   "id": "e4a46569",
   "metadata": {},
   "source": [
    "So far we have just been eyeballing the different arrangements, and saying how segregated we think they are. It will also help to have a more systematic definition of this.\n",
    "\n",
    "There are several ways to measure segregation, but here is one that will be good for our purposes. For each household that has neighbors, let $n_s$ be the number of neighbors who are in the same group, and $n_d$ be the number in a different group. (Empty houses do not count.) Let the \"individual segregation\" for a household be $(n_s - n_d)/(n_s + n_d)$. Note this will be equal to $-1$  if all neighbors are outgroup, $1$  if all neighbors are in-group, and $0$ if there are an equal number of in- and and outgroup neighbors (here, the only possibility is 1 of each). \n",
    "\n",
    "Finally, we take the average of the individual segration measures to get a measure for the whole city.\n",
    "\n",
    "We wrote a function to implement this for you, called `seg_meas`, where the input is a city string. Let's see what it looks like for the initial arrangement of our previous example."
   ]
  },
  {
   "cell_type": "code",
   "execution_count": null,
   "id": "67399d28",
   "metadata": {},
   "outputs": [],
   "source": [
    "#  Getting the segregation measure for our initial city\n",
    "seg_meas(\"ABABABAB_\")"
   ]
  },
  {
   "cell_type": "markdown",
   "id": "e3fa29fb",
   "metadata": {},
   "source": [
    "This is the lowest possible measure of segration, because everyone in this city only has outgroup neighbors. When we ran our algorithm on this initial arrangement with either in-group favoratism or out-group animus the final arrangement was \"AAAA_BBBB\".\n",
    "\n",
    "**Question 2.6. Write code to get the segregation measure for this final arrangment, and explain the output in the following markdown cell**"
   ]
  },
  {
   "cell_type": "code",
   "execution_count": null,
   "id": "2964613d",
   "metadata": {},
   "outputs": [],
   "source": [
    "# Code for question 2.6 here"
   ]
  },
  {
   "cell_type": "markdown",
   "id": "39c46909",
   "metadata": {},
   "source": [
    "*Answer for 2.6*"
   ]
  },
  {
   "cell_type": "markdown",
   "id": "d2a84a34",
   "metadata": {},
   "source": [
    "**Question 2.7. Now let's consider the simulation with alternating pairs, where the start was \"BBAABBAA_\" and the end was \"BB_ABBAAA\". How did the segregation level change as we ran the algorithm here? Compare this change to the change you found in 2.6.**"
   ]
  },
  {
   "cell_type": "code",
   "execution_count": null,
   "id": "5a9f7b42",
   "metadata": {},
   "outputs": [],
   "source": [
    "# Code for 2.7"
   ]
  },
  {
   "cell_type": "markdown",
   "id": "9470d58b",
   "metadata": {},
   "source": [
    "*Answer for 2.7.*"
   ]
  },
  {
   "cell_type": "markdown",
   "id": "face6ffd",
   "metadata": {},
   "source": [
    "The last thing we will explore is what happens if there are more than two groups. We can do this my adding some additional letters into the mix. For constency, let's call the new groups C and D. Here is an initial arrangement with four groups:"
   ]
  },
  {
   "cell_type": "code",
   "execution_count": null,
   "id": "49a37979",
   "metadata": {},
   "outputs": [],
   "source": [
    "init_four=\"ABCADBC_CD_ABBD\"\n",
    "init_four"
   ]
  },
  {
   "cell_type": "markdown",
   "id": "ff484151",
   "metadata": {},
   "source": [
    "Here is what happens with our default preferences (liking being close to the in-group, no antipathy towards any out-group). Note that now we have defined `init_four`, we can just use this as our `init=` argument."
   ]
  },
  {
   "cell_type": "code",
   "execution_count": null,
   "id": "7331a730",
   "metadata": {},
   "outputs": [],
   "source": [
    "display_schelling(init=init_four, shorten=True)"
   ]
  },
  {
   "cell_type": "markdown",
   "id": "dfc776f1",
   "metadata": {},
   "source": [
    "**Question 2.8. Try a few variants of the simulation with four groups (e.g., change the intial arrangment, or change the `b_in` or `b_out` parameters). Does this lead to more or less segregation? Remember you can use the `seg_meas` function to measure segration level.**"
   ]
  },
  {
   "cell_type": "code",
   "execution_count": null,
   "id": "6769f3ef",
   "metadata": {},
   "outputs": [],
   "source": [
    "# Code for question 2.8"
   ]
  },
  {
   "cell_type": "markdown",
   "id": "cecc67dd",
   "metadata": {},
   "source": [
    "*Words to Question 2.8*"
   ]
  },
  {
   "cell_type": "markdown",
   "id": "3f3739c3",
   "metadata": {},
   "source": [
    " **Question 2.9. Recall that our key principles for good theory is that we want to simplify the world in a way that allows us to capture key features of the question we are studying. What is a question you might want to ask related to segregation which is NOT well-suited to the algorithm here? How might we modify the model here in order to answer that question?**"
   ]
  },
  {
   "cell_type": "markdown",
   "id": "3748904a",
   "metadata": {},
   "source": [
    "*Answer for 2.9* "
   ]
  },
  {
   "cell_type": "code",
   "execution_count": null,
   "id": "5cccf3c4",
   "metadata": {},
   "outputs": [],
   "source": []
  }
 ],
 "metadata": {
  "kernelspec": {
   "display_name": "Python 3 (ipykernel)",
   "language": "python",
   "name": "python3"
  },
  "language_info": {
   "codemirror_mode": {
    "name": "ipython",
    "version": 3
   },
   "file_extension": ".py",
   "mimetype": "text/x-python",
   "name": "python",
   "nbconvert_exporter": "python",
   "pygments_lexer": "ipython3",
   "version": "3.9.7"
  }
 },
 "nbformat": 4,
 "nbformat_minor": 5
}
