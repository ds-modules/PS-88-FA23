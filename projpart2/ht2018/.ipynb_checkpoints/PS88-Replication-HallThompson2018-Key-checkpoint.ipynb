{
 "cells": [
  {
   "cell_type": "markdown",
   "metadata": {},
   "source": [
    "# PS 88 Project Part 2: Replication (Hall and Thompson)"
   ]
  },
  {
   "cell_type": "markdown",
   "metadata": {},
   "source": [
    "**General instructions:** these replications will be similar to labs, though with a bit less guidance than we would typically give. An advantage you have is that the answer you are supposed to get for most questions is in the paper.\n",
    "\n",
    "When we say to \"replicate\" a table we don't mean you need to reproduce every bit of formatting. Typically for regressions we just want you to verify that the coefficients match those reported in the table. For graphs, the output should look pretty similar, though again you don't need to make the formatting look exactly the same. "
   ]
  },
  {
   "cell_type": "markdown",
   "metadata": {},
   "source": [
    "On to the paper! A large literature in American politics suggests that voters are not informed enough, and are too partisan, to be change which party they support based on factors like candidate ideology. Other work suggests that moderate candidates tend to perform better. \n",
    "\n",
    "To see some evidence related to this debate, we will repoduce results from [this](https://www.cambridge.org/core/journals/american-political-science-review/article/who-punishes-extremist-nominees-candidate-ideology-and-turning-out-the-base-in-us-elections/366A518712BE9BCC1CB035BF53095D65) Hall and Thompson paper from the American Political Science Review. Specifically, we will be replicating Tables 1 and 2 and Figure 2 from the paper.\n",
    "\n",
    "Combining a regression discontinuity design in close primary races with survey and administrative data on individual voter turnout, we will look at how extremist nominees effect their party’s share of turnout in the general election."
   ]
  },
  {
   "cell_type": "markdown",
   "metadata": {},
   "source": [
    "Run the following cell to import the libraries we will explore in this lab assignment."
   ]
  },
  {
   "cell_type": "code",
   "execution_count": 4,
   "metadata": {},
   "outputs": [],
   "source": [
    "import pandas as pd\n",
    "import numpy as np\n",
    "from scipy import stats\n",
    "\n",
    "import statsmodels.formula.api as smf\n",
    "\n",
    "import seaborn as sns\n",
    "import matplotlib.pyplot as plt"
   ]
  },
  {
   "cell_type": "markdown",
   "metadata": {},
   "source": [
    "## Part 1: Data importing and cleaning/subsetting"
   ]
  },
  {
   "cell_type": "markdown",
   "metadata": {},
   "source": [
    "First we read in the Stata dta file `rd_analysis_hs.dta` into a pandas dataframe with the name: `full`. \n",
    "\n",
    "`rd_analysis_hs.dta` is the main analysis dataset. Think of each row as corresponding to a competitive primary election. So, in any give election, there could be an entry corresponding to the Democratic primary, an entry corresponding to the Republican primary, both, or neither. Primaries in the Democratic party have \"dem\"=1, and primaries in the Republican party have \"dem\"=0.\n",
    "\n",
    "The data frame also has information about how the more extreme candidate did in the primary, which will be our key independent variable. Our key dependent variables will be about how the winner of the primary (whether the extremist or not) did in the general election."
   ]
  },
  {
   "cell_type": "code",
   "execution_count": 5,
   "metadata": {},
   "outputs": [
    {
     "data": {
      "text/html": [
       "<div>\n",
       "<style scoped>\n",
       "    .dataframe tbody tr th:only-of-type {\n",
       "        vertical-align: middle;\n",
       "    }\n",
       "\n",
       "    .dataframe tbody tr th {\n",
       "        vertical-align: top;\n",
       "    }\n",
       "\n",
       "    .dataframe thead th {\n",
       "        text-align: right;\n",
       "    }\n",
       "</style>\n",
       "<table border=\"1\" class=\"dataframe\">\n",
       "  <thead>\n",
       "    <tr style=\"text-align: right;\">\n",
       "      <th></th>\n",
       "      <th>state</th>\n",
       "      <th>dist</th>\n",
       "      <th>dem</th>\n",
       "      <th>year</th>\n",
       "      <th>turnout_dem_strong</th>\n",
       "      <th>low_info_votes1</th>\n",
       "      <th>high_info_votes1</th>\n",
       "      <th>low_info_n1</th>\n",
       "      <th>high_info_n1</th>\n",
       "      <th>turnout_dem_nvstrong</th>\n",
       "      <th>...</th>\n",
       "      <th>re</th>\n",
       "      <th>g</th>\n",
       "      <th>pv</th>\n",
       "      <th>two_party_total</th>\n",
       "      <th>lag_pv</th>\n",
       "      <th>catalist_share</th>\n",
       "      <th>no_party_id</th>\n",
       "      <th>gov_elec</th>\n",
       "      <th>senate_elec</th>\n",
       "      <th>mindonors</th>\n",
       "    </tr>\n",
       "  </thead>\n",
       "  <tbody>\n",
       "    <tr>\n",
       "      <th>0</th>\n",
       "      <td>AK</td>\n",
       "      <td>1.0</td>\n",
       "      <td>1.0</td>\n",
       "      <td>2008.0</td>\n",
       "      <td>0.777778</td>\n",
       "      <td>0.0</td>\n",
       "      <td>7.0</td>\n",
       "      <td>1.0</td>\n",
       "      <td>8.0</td>\n",
       "      <td>0.800000</td>\n",
       "      <td>...</td>\n",
       "      <td>0.0</td>\n",
       "      <td>1.0</td>\n",
       "      <td>0.391753</td>\n",
       "      <td>0.97</td>\n",
       "      <td>0.371134</td>\n",
       "      <td>0.161095</td>\n",
       "      <td>0.0</td>\n",
       "      <td>0.0</td>\n",
       "      <td>1.0</td>\n",
       "      <td>41316.0</td>\n",
       "    </tr>\n",
       "    <tr>\n",
       "      <th>1</th>\n",
       "      <td>AL</td>\n",
       "      <td>7.0</td>\n",
       "      <td>1.0</td>\n",
       "      <td>2006.0</td>\n",
       "      <td>0.500000</td>\n",
       "      <td>0.0</td>\n",
       "      <td>0.0</td>\n",
       "      <td>0.0</td>\n",
       "      <td>0.0</td>\n",
       "      <td>0.500000</td>\n",
       "      <td>...</td>\n",
       "      <td>0.0</td>\n",
       "      <td>6.0</td>\n",
       "      <td>0.646465</td>\n",
       "      <td>0.99</td>\n",
       "      <td>0.646465</td>\n",
       "      <td>NaN</td>\n",
       "      <td>1.0</td>\n",
       "      <td>1.0</td>\n",
       "      <td>0.0</td>\n",
       "      <td>500.0</td>\n",
       "    </tr>\n",
       "    <tr>\n",
       "      <th>2</th>\n",
       "      <td>AL</td>\n",
       "      <td>2.0</td>\n",
       "      <td>0.0</td>\n",
       "      <td>2008.0</td>\n",
       "      <td>0.600000</td>\n",
       "      <td>1.0</td>\n",
       "      <td>2.0</td>\n",
       "      <td>3.0</td>\n",
       "      <td>2.0</td>\n",
       "      <td>0.333333</td>\n",
       "      <td>...</td>\n",
       "      <td>0.0</td>\n",
       "      <td>2.0</td>\n",
       "      <td>0.636364</td>\n",
       "      <td>0.99</td>\n",
       "      <td>0.670000</td>\n",
       "      <td>NaN</td>\n",
       "      <td>1.0</td>\n",
       "      <td>0.0</td>\n",
       "      <td>1.0</td>\n",
       "      <td>16592.0</td>\n",
       "    </tr>\n",
       "    <tr>\n",
       "      <th>3</th>\n",
       "      <td>AL</td>\n",
       "      <td>5.0</td>\n",
       "      <td>1.0</td>\n",
       "      <td>2010.0</td>\n",
       "      <td>0.684211</td>\n",
       "      <td>4.0</td>\n",
       "      <td>8.0</td>\n",
       "      <td>8.0</td>\n",
       "      <td>9.0</td>\n",
       "      <td>0.125000</td>\n",
       "      <td>...</td>\n",
       "      <td>0.0</td>\n",
       "      <td>3.0</td>\n",
       "      <td>0.383838</td>\n",
       "      <td>0.99</td>\n",
       "      <td>0.383838</td>\n",
       "      <td>NaN</td>\n",
       "      <td>1.0</td>\n",
       "      <td>1.0</td>\n",
       "      <td>1.0</td>\n",
       "      <td>5000.0</td>\n",
       "    </tr>\n",
       "    <tr>\n",
       "      <th>4</th>\n",
       "      <td>AL</td>\n",
       "      <td>7.0</td>\n",
       "      <td>1.0</td>\n",
       "      <td>2010.0</td>\n",
       "      <td>0.652174</td>\n",
       "      <td>3.0</td>\n",
       "      <td>11.0</td>\n",
       "      <td>7.0</td>\n",
       "      <td>15.0</td>\n",
       "      <td>0.428571</td>\n",
       "      <td>...</td>\n",
       "      <td>0.0</td>\n",
       "      <td>6.0</td>\n",
       "      <td>0.727273</td>\n",
       "      <td>0.99</td>\n",
       "      <td>0.727273</td>\n",
       "      <td>NaN</td>\n",
       "      <td>1.0</td>\n",
       "      <td>1.0</td>\n",
       "      <td>1.0</td>\n",
       "      <td>38000.0</td>\n",
       "    </tr>\n",
       "    <tr>\n",
       "      <th>...</th>\n",
       "      <td>...</td>\n",
       "      <td>...</td>\n",
       "      <td>...</td>\n",
       "      <td>...</td>\n",
       "      <td>...</td>\n",
       "      <td>...</td>\n",
       "      <td>...</td>\n",
       "      <td>...</td>\n",
       "      <td>...</td>\n",
       "      <td>...</td>\n",
       "      <td>...</td>\n",
       "      <td>...</td>\n",
       "      <td>...</td>\n",
       "      <td>...</td>\n",
       "      <td>...</td>\n",
       "      <td>...</td>\n",
       "      <td>...</td>\n",
       "      <td>...</td>\n",
       "      <td>...</td>\n",
       "      <td>...</td>\n",
       "      <td>...</td>\n",
       "    </tr>\n",
       "    <tr>\n",
       "      <th>453</th>\n",
       "      <td>WV</td>\n",
       "      <td>2.0</td>\n",
       "      <td>1.0</td>\n",
       "      <td>2006.0</td>\n",
       "      <td>0.000000</td>\n",
       "      <td>0.0</td>\n",
       "      <td>0.0</td>\n",
       "      <td>0.0</td>\n",
       "      <td>0.0</td>\n",
       "      <td>0.000000</td>\n",
       "      <td>...</td>\n",
       "      <td>0.0</td>\n",
       "      <td>319.0</td>\n",
       "      <td>0.424242</td>\n",
       "      <td>0.99</td>\n",
       "      <td>0.424242</td>\n",
       "      <td>0.513689</td>\n",
       "      <td>0.0</td>\n",
       "      <td>0.0</td>\n",
       "      <td>1.0</td>\n",
       "      <td>1000.0</td>\n",
       "    </tr>\n",
       "    <tr>\n",
       "      <th>454</th>\n",
       "      <td>WV</td>\n",
       "      <td>1.0</td>\n",
       "      <td>1.0</td>\n",
       "      <td>2010.0</td>\n",
       "      <td>0.900000</td>\n",
       "      <td>12.0</td>\n",
       "      <td>6.0</td>\n",
       "      <td>13.0</td>\n",
       "      <td>7.0</td>\n",
       "      <td>0.583333</td>\n",
       "      <td>...</td>\n",
       "      <td>0.0</td>\n",
       "      <td>318.0</td>\n",
       "      <td>0.424242</td>\n",
       "      <td>0.99</td>\n",
       "      <td>0.424242</td>\n",
       "      <td>0.493255</td>\n",
       "      <td>0.0</td>\n",
       "      <td>0.0</td>\n",
       "      <td>1.0</td>\n",
       "      <td>49500.0</td>\n",
       "    </tr>\n",
       "    <tr>\n",
       "      <th>455</th>\n",
       "      <td>WV</td>\n",
       "      <td>1.0</td>\n",
       "      <td>0.0</td>\n",
       "      <td>2010.0</td>\n",
       "      <td>0.900000</td>\n",
       "      <td>12.0</td>\n",
       "      <td>6.0</td>\n",
       "      <td>13.0</td>\n",
       "      <td>7.0</td>\n",
       "      <td>0.583333</td>\n",
       "      <td>...</td>\n",
       "      <td>0.0</td>\n",
       "      <td>318.0</td>\n",
       "      <td>0.575758</td>\n",
       "      <td>0.99</td>\n",
       "      <td>0.575758</td>\n",
       "      <td>0.377217</td>\n",
       "      <td>0.0</td>\n",
       "      <td>0.0</td>\n",
       "      <td>1.0</td>\n",
       "      <td>9250.0</td>\n",
       "    </tr>\n",
       "    <tr>\n",
       "      <th>456</th>\n",
       "      <td>WV</td>\n",
       "      <td>2.0</td>\n",
       "      <td>1.0</td>\n",
       "      <td>2014.0</td>\n",
       "      <td>0.368421</td>\n",
       "      <td>0.0</td>\n",
       "      <td>7.0</td>\n",
       "      <td>4.0</td>\n",
       "      <td>11.0</td>\n",
       "      <td>0.380952</td>\n",
       "      <td>...</td>\n",
       "      <td>0.0</td>\n",
       "      <td>319.0</td>\n",
       "      <td>0.387755</td>\n",
       "      <td>0.98</td>\n",
       "      <td>0.387755</td>\n",
       "      <td>0.441337</td>\n",
       "      <td>0.0</td>\n",
       "      <td>0.0</td>\n",
       "      <td>1.0</td>\n",
       "      <td>1250.0</td>\n",
       "    </tr>\n",
       "    <tr>\n",
       "      <th>457</th>\n",
       "      <td>WY</td>\n",
       "      <td>1.0</td>\n",
       "      <td>0.0</td>\n",
       "      <td>2008.0</td>\n",
       "      <td>1.000000</td>\n",
       "      <td>1.0</td>\n",
       "      <td>3.0</td>\n",
       "      <td>1.0</td>\n",
       "      <td>3.0</td>\n",
       "      <td>1.000000</td>\n",
       "      <td>...</td>\n",
       "      <td>0.0</td>\n",
       "      <td>320.0</td>\n",
       "      <td>0.663265</td>\n",
       "      <td>0.98</td>\n",
       "      <td>0.704082</td>\n",
       "      <td>0.669248</td>\n",
       "      <td>0.0</td>\n",
       "      <td>0.0</td>\n",
       "      <td>1.0</td>\n",
       "      <td>11600.0</td>\n",
       "    </tr>\n",
       "  </tbody>\n",
       "</table>\n",
       "<p>458 rows × 151 columns</p>\n",
       "</div>"
      ],
      "text/plain": [
       "    state dist  dem    year  turnout_dem_strong  low_info_votes1  \\\n",
       "0      AK  1.0  1.0  2008.0            0.777778              0.0   \n",
       "1      AL  7.0  1.0  2006.0            0.500000              0.0   \n",
       "2      AL  2.0  0.0  2008.0            0.600000              1.0   \n",
       "3      AL  5.0  1.0  2010.0            0.684211              4.0   \n",
       "4      AL  7.0  1.0  2010.0            0.652174              3.0   \n",
       "..    ...  ...  ...     ...                 ...              ...   \n",
       "453    WV  2.0  1.0  2006.0            0.000000              0.0   \n",
       "454    WV  1.0  1.0  2010.0            0.900000             12.0   \n",
       "455    WV  1.0  0.0  2010.0            0.900000             12.0   \n",
       "456    WV  2.0  1.0  2014.0            0.368421              0.0   \n",
       "457    WY  1.0  0.0  2008.0            1.000000              1.0   \n",
       "\n",
       "     high_info_votes1  low_info_n1  high_info_n1  turnout_dem_nvstrong  ...  \\\n",
       "0                 7.0          1.0           8.0              0.800000  ...   \n",
       "1                 0.0          0.0           0.0              0.500000  ...   \n",
       "2                 2.0          3.0           2.0              0.333333  ...   \n",
       "3                 8.0          8.0           9.0              0.125000  ...   \n",
       "4                11.0          7.0          15.0              0.428571  ...   \n",
       "..                ...          ...           ...                   ...  ...   \n",
       "453               0.0          0.0           0.0              0.000000  ...   \n",
       "454               6.0         13.0           7.0              0.583333  ...   \n",
       "455               6.0         13.0           7.0              0.583333  ...   \n",
       "456               7.0          4.0          11.0              0.380952  ...   \n",
       "457               3.0          1.0           3.0              1.000000  ...   \n",
       "\n",
       "      re      g        pv  two_party_total    lag_pv  catalist_share  \\\n",
       "0    0.0    1.0  0.391753             0.97  0.371134        0.161095   \n",
       "1    0.0    6.0  0.646465             0.99  0.646465             NaN   \n",
       "2    0.0    2.0  0.636364             0.99  0.670000             NaN   \n",
       "3    0.0    3.0  0.383838             0.99  0.383838             NaN   \n",
       "4    0.0    6.0  0.727273             0.99  0.727273             NaN   \n",
       "..   ...    ...       ...              ...       ...             ...   \n",
       "453  0.0  319.0  0.424242             0.99  0.424242        0.513689   \n",
       "454  0.0  318.0  0.424242             0.99  0.424242        0.493255   \n",
       "455  0.0  318.0  0.575758             0.99  0.575758        0.377217   \n",
       "456  0.0  319.0  0.387755             0.98  0.387755        0.441337   \n",
       "457  0.0  320.0  0.663265             0.98  0.704082        0.669248   \n",
       "\n",
       "     no_party_id  gov_elec  senate_elec  mindonors  \n",
       "0            0.0       0.0          1.0    41316.0  \n",
       "1            1.0       1.0          0.0      500.0  \n",
       "2            1.0       0.0          1.0    16592.0  \n",
       "3            1.0       1.0          1.0     5000.0  \n",
       "4            1.0       1.0          1.0    38000.0  \n",
       "..           ...       ...          ...        ...  \n",
       "453          0.0       0.0          1.0     1000.0  \n",
       "454          0.0       0.0          1.0    49500.0  \n",
       "455          0.0       0.0          1.0     9250.0  \n",
       "456          0.0       0.0          1.0     1250.0  \n",
       "457          0.0       0.0          1.0    11600.0  \n",
       "\n",
       "[458 rows x 151 columns]"
      ]
     },
     "execution_count": 5,
     "metadata": {},
     "output_type": "execute_result"
    }
   ],
   "source": [
    "#Bring in the main analysis dataset\n",
    "full = pd.read_stata(\"data/rd_analysis_hs.dta\")\n",
    "full"
   ]
  },
  {
   "cell_type": "markdown",
   "metadata": {},
   "source": [
    "To print out a list of all the column names and some other useful summary information, we can use the `.info()` function. (The `verbose=True` ensures that it prints all column names)"
   ]
  },
  {
   "cell_type": "code",
   "execution_count": 6,
   "metadata": {},
   "outputs": [
    {
     "name": "stdout",
     "output_type": "stream",
     "text": [
      "<class 'pandas.core.frame.DataFrame'>\n",
      "Int64Index: 458 entries, 0 to 457\n",
      "Data columns (total 151 columns):\n",
      " #    Column                          Dtype   \n",
      "---   ------                          -----   \n",
      " 0    state                           object  \n",
      " 1    dist                            category\n",
      " 2    dem                             float32 \n",
      " 3    year                            float32 \n",
      " 4    turnout_dem_strong              float32 \n",
      " 5    low_info_votes1                 float64 \n",
      " 6    high_info_votes1                float64 \n",
      " 7    low_info_n1                     float64 \n",
      " 8    high_info_n1                    float64 \n",
      " 9    turnout_dem_nvstrong            float32 \n",
      " 10   low_info_votes2                 float64 \n",
      " 11   high_info_votes2                float64 \n",
      " 12   low_info_n2                     float64 \n",
      " 13   high_info_n2                    float64 \n",
      " 14   turnout_dem_lean                float32 \n",
      " 15   low_info_votes3                 float64 \n",
      " 16   high_info_votes3                float64 \n",
      " 17   low_info_n3                     float64 \n",
      " 18   high_info_n3                    float64 \n",
      " 19   turnout_indep                   float32 \n",
      " 20   low_info_votes4                 float64 \n",
      " 21   high_info_votes4                float64 \n",
      " 22   low_info_n4                     float64 \n",
      " 23   high_info_n4                    float64 \n",
      " 24   turnout_rep_lean                float32 \n",
      " 25   low_info_votes5                 float64 \n",
      " 26   high_info_votes5                float64 \n",
      " 27   low_info_n5                     float64 \n",
      " 28   high_info_n5                    float64 \n",
      " 29   turnout_rep_rep_nvstrong        float32 \n",
      " 30   low_info_votes6                 float64 \n",
      " 31   high_info_votes6                float64 \n",
      " 32   low_info_n6                     float64 \n",
      " 33   high_info_n6                    float64 \n",
      " 34   turnout_rep_strong              float32 \n",
      " 35   low_info_votes7                 float64 \n",
      " 36   high_info_votes7                float64 \n",
      " 37   low_info_n7                     float64 \n",
      " 38   high_info_n7                    float64 \n",
      " 39   total_responses                 float32 \n",
      " 40   total_turnout                   float32 \n",
      " 41   turnout_dem                     float32 \n",
      " 42   turnout_rep                     float32 \n",
      " 43   dem_turnout_share               float32 \n",
      " 44   rep_turnout_share               float32 \n",
      " 45   low_info_turnout                float32 \n",
      " 46   high_info_turnout               float32 \n",
      " 47   dem_low_info_turnout_share      float32 \n",
      " 48   rep_low_info_turnout_share      float32 \n",
      " 49   dem_high_info_turnout_share     float32 \n",
      " 50   rep_high_info_turnout_share     float32 \n",
      " 51   total_low_info_dem              float32 \n",
      " 52   turnout_low_info_dem            float32 \n",
      " 53   total_low_info_rep              float32 \n",
      " 54   turnout_low_info_rep            float32 \n",
      " 55   total_high_info_dem             float32 \n",
      " 56   turnout_high_info_dem           float32 \n",
      " 57   total_high_info_rep             float32 \n",
      " 58   turnout_high_info_rep           float32 \n",
      " 59   dem_count                       float32 \n",
      " 60   rep_count                       float32 \n",
      " 61   ind_count                       float32 \n",
      " 62   dem_voters                      float32 \n",
      " 63   rep_voters                      float32 \n",
      " 64   ind_voters                      float32 \n",
      " 65   turnout_ext_lib                 float32 \n",
      " 66   ext_lib_voters                  float64 \n",
      " 67   turnout_mod_lib                 float32 \n",
      " 68   turnout_mod                     float32 \n",
      " 69   turnout_mod_cons                float32 \n",
      " 70   turnout_ext_cons                float32 \n",
      " 71   ext_cons_voters                 float64 \n",
      " 72   turnout_dknow                   float32 \n",
      " 73   ext_lib_count                   float32 \n",
      " 74   ext_cons_count                  float32 \n",
      " 75   lag_dem_share                   float32 \n",
      " 76   lag_rep_share                   float32 \n",
      " 77   lag_responses                   float32 \n",
      " 78   lag_dem_count                   float32 \n",
      " 79   lag_rep_count                   float32 \n",
      " 80   lag_ext_lib_count               float32 \n",
      " 81   lag_ext_cons_count              float32 \n",
      " 82   catalist_share_dem              float32 \n",
      " 83   catalist_share_rep              float32 \n",
      " 84   catop_total_dem                 float64 \n",
      " 85   catop_total_rep                 float64 \n",
      " 86   catop_share_dem                 float32 \n",
      " 87   catop_share_rep                 float32 \n",
      " 88   catop_lag_total_dem             float32 \n",
      " 89   catop_lag_total_rep             float32 \n",
      " 90   p                               float32 \n",
      " 91   vote_g0                         float32 \n",
      " 92   vote_top20                      float32 \n",
      " 93   cand_dwnom_amount_prim0         float64 \n",
      " 94   cand_dwnom_amount_prim_noninc0  float64 \n",
      " 95   cand_dwnom_number_prim0         float64 \n",
      " 96   cand_dwnom_score_i_prim0        float32 \n",
      " 97   vote_g1                         float32 \n",
      " 98   vote_top21                      float32 \n",
      " 99   cand_dwnom_amount_prim1         float64 \n",
      " 100  cand_dwnom_amount_prim_noninc1  float64 \n",
      " 101  cand_dwnom_number_prim1         float64 \n",
      " 102  cand_dwnom_score_i_prim1        float32 \n",
      " 103  type                            object  \n",
      " 104  D_SW_PCT_SHARE                  float32 \n",
      " 105  vote_g_total                    float32 \n",
      " 106  inc_p                           float64 \n",
      " 107  open                            float32 \n",
      " 108  open_all                        float32 \n",
      " 109  r                               float32 \n",
      " 110  r_opp                           float32 \n",
      " 111  rv                              float32 \n",
      " 112  rv2                             float32 \n",
      " 113  rv3                             float32 \n",
      " 114  rv4                             float32 \n",
      " 115  rv5                             float32 \n",
      " 116  treat                           float32 \n",
      " 117  treat_rv                        float32 \n",
      " 118  vote_general                    float32 \n",
      " 119  victory_general                 float32 \n",
      " 120  absdist                         float32 \n",
      " 121  log_total_turnout               float32 \n",
      " 122  midterm                         float32 \n",
      " 123  ext_number_share                float32 \n",
      " 124  ext_amount_share                float32 \n",
      " 125  turnout_party                   float32 \n",
      " 126  turnout_opp_party               float32 \n",
      " 127  turnout_party_share             float32 \n",
      " 128  lag_share                       float32 \n",
      " 129  turnout_extreme                 float32 \n",
      " 130  turnout_opp_extreme             float32 \n",
      " 131  low_info_turnout_party_share    float32 \n",
      " 132  high_info_turnout_party_share   float32 \n",
      " 133  low_info_turnout_party          float32 \n",
      " 134  high_info_turnout_party         float32 \n",
      " 135  low_info_turnout_opp_party      float32 \n",
      " 136  high_info_turnout_opp_party     float32 \n",
      " 137  turnout_party_diff              float32 \n",
      " 138  pid                             float32 \n",
      " 139  treat_abs                       float32 \n",
      " 140  pres                            float32 \n",
      " 141  re                              float32 \n",
      " 142  g                               float32 \n",
      " 143  pv                              float32 \n",
      " 144  two_party_total                 float32 \n",
      " 145  lag_pv                          float32 \n",
      " 146  catalist_share                  float32 \n",
      " 147  no_party_id                     float32 \n",
      " 148  gov_elec                        float32 \n",
      " 149  senate_elec                     float32 \n",
      " 150  mindonors                       float32 \n",
      "dtypes: category(1), float32(109), float64(39), object(2)\n",
      "memory usage: 347.1+ KB\n"
     ]
    }
   ],
   "source": [
    "full.info(verbose=True)"
   ]
  },
  {
   "cell_type": "markdown",
   "metadata": {},
   "source": [
    "As you can see the `full` dataframe has quite a few columns. The relevant columns for the analysis are `vote_general`, `victory_general`, `turnout_party_share`, `treat`, `rv`, `rv2`, `rv3`, `rv4`, and  `rv5`.\n",
    "\n",
    "The `rv` (\"running variable\") is the vote share of the more extreme of the top two candidates minus the less extreme one. `treat` is equal to 1 if the more extreme candidate wins. The column `rv2` is the column `rv` squared. `rv3` is `rv` cubed and so on."
   ]
  },
  {
   "cell_type": "markdown",
   "metadata": {},
   "source": [
    "**Question 1.1. Create a scatterplot with `rv` on the x axis and `treat` on the y axis. Explain why the graph makes sense in light of the description above.**"
   ]
  },
  {
   "cell_type": "code",
   "execution_count": 7,
   "metadata": {},
   "outputs": [
    {
     "data": {
      "text/plain": [
       "<AxesSubplot:xlabel='rv', ylabel='treat'>"
      ]
     },
     "execution_count": 7,
     "metadata": {},
     "output_type": "execute_result"
    },
    {
     "data": {
      "image/png": "[encoded data removed]",
      "text/plain": [
       "<Figure size 432x288 with 1 Axes>"
      ]
     },
     "metadata": {
      "needs_background": "light"
     },
     "output_type": "display_data"
    }
   ],
   "source": [
    "sns.scatterplot(x=\"rv\", y='treat', data=full)"
   ]
  },
  {
   "cell_type": "markdown",
   "metadata": {},
   "source": [
    "Since rv is the difference in vote share of the extremist vs the less extreme candidate, the treatment of the extremist being nominated goes from 0 to 1 when rv goes from negative (extremist loses) to positive (extremist wins)."
   ]
  },
  {
   "cell_type": "markdown",
   "metadata": {},
   "source": [
    "Eventually we will move on to more sophisticated methods, but we might want to first just look at the raw difference of means of various outcomes when the extremist wins vs loses the primary. The two key outcomes we will study are:\n",
    "- \"vote_general\" is the vote share of the candidate who won the primary in question in the general election.\n",
    "- \"turnout_party_share\" is the relative rate of turnout of the party in question in the general election. E.g., for rows corresponding to Democratic primaries, this captures the share of those who voted who are registered Democrats. \n",
    "\n",
    "**Question 1.2. Use `smf.ols` to fit and summarize regression a regression with \"vote_general\" as the dependent variable and \"treat\" as the independent variable. Then do the same with \"turnout_party_share\" as the dependent variable. Interpret the results (Hint: both dependent variables range from 0 to 1). Why might these not reflect a causal effect of nominating an extreme candidate?**"
   ]
  },
  {
   "cell_type": "code",
   "execution_count": 28,
   "metadata": {},
   "outputs": [
    {
     "data": {
      "text/html": [
       "<table class=\"simpletable\">\n",
       "<caption>OLS Regression Results</caption>\n",
       "<tr>\n",
       "  <th>Dep. Variable:</th>      <td>vote_general</td>   <th>  R-squared:         </th> <td>   0.005</td>\n",
       "</tr>\n",
       "<tr>\n",
       "  <th>Model:</th>                   <td>OLS</td>       <th>  Adj. R-squared:    </th> <td>   0.003</td>\n",
       "</tr>\n",
       "<tr>\n",
       "  <th>Method:</th>             <td>Least Squares</td>  <th>  F-statistic:       </th> <td>   2.414</td>\n",
       "</tr>\n",
       "<tr>\n",
       "  <th>Date:</th>             <td>Tue, 07 Nov 2023</td> <th>  Prob (F-statistic):</th>  <td> 0.121</td> \n",
       "</tr>\n",
       "<tr>\n",
       "  <th>Time:</th>                 <td>10:38:33</td>     <th>  Log-Likelihood:    </th> <td>  197.11</td>\n",
       "</tr>\n",
       "<tr>\n",
       "  <th>No. Observations:</th>      <td>   458</td>      <th>  AIC:               </th> <td>  -390.2</td>\n",
       "</tr>\n",
       "<tr>\n",
       "  <th>Df Residuals:</th>          <td>   456</td>      <th>  BIC:               </th> <td>  -382.0</td>\n",
       "</tr>\n",
       "<tr>\n",
       "  <th>Df Model:</th>              <td>     1</td>      <th>                     </th>     <td> </td>   \n",
       "</tr>\n",
       "<tr>\n",
       "  <th>Covariance Type:</th>      <td>nonrobust</td>    <th>                     </th>     <td> </td>   \n",
       "</tr>\n",
       "</table>\n",
       "<table class=\"simpletable\">\n",
       "<tr>\n",
       "      <td></td>         <th>coef</th>     <th>std err</th>      <th>t</th>      <th>P>|t|</th>  <th>[0.025</th>    <th>0.975]</th>  \n",
       "</tr>\n",
       "<tr>\n",
       "  <th>Intercept</th> <td>    0.5631</td> <td>    0.010</td> <td>   54.855</td> <td> 0.000</td> <td>    0.543</td> <td>    0.583</td>\n",
       "</tr>\n",
       "<tr>\n",
       "  <th>treat</th>     <td>   -0.0229</td> <td>    0.015</td> <td>   -1.554</td> <td> 0.121</td> <td>   -0.052</td> <td>    0.006</td>\n",
       "</tr>\n",
       "</table>\n",
       "<table class=\"simpletable\">\n",
       "<tr>\n",
       "  <th>Omnibus:</th>       <td>48.790</td> <th>  Durbin-Watson:     </th> <td>   2.024</td>\n",
       "</tr>\n",
       "<tr>\n",
       "  <th>Prob(Omnibus):</th> <td> 0.000</td> <th>  Jarque-Bera (JB):  </th> <td>  76.344</td>\n",
       "</tr>\n",
       "<tr>\n",
       "  <th>Skew:</th>          <td> 0.704</td> <th>  Prob(JB):          </th> <td>2.64e-17</td>\n",
       "</tr>\n",
       "<tr>\n",
       "  <th>Kurtosis:</th>      <td> 4.421</td> <th>  Cond. No.          </th> <td>    2.58</td>\n",
       "</tr>\n",
       "</table><br/><br/>Notes:<br/>[1] Standard Errors assume that the covariance matrix of the errors is correctly specified."
      ],
      "text/plain": [
       "<class 'statsmodels.iolib.summary.Summary'>\n",
       "\"\"\"\n",
       "                            OLS Regression Results                            \n",
       "==============================================================================\n",
       "Dep. Variable:           vote_general   R-squared:                       0.005\n",
       "Model:                            OLS   Adj. R-squared:                  0.003\n",
       "Method:                 Least Squares   F-statistic:                     2.414\n",
       "Date:                Tue, 07 Nov 2023   Prob (F-statistic):              0.121\n",
       "Time:                        10:38:33   Log-Likelihood:                 197.11\n",
       "No. Observations:                 458   AIC:                            -390.2\n",
       "Df Residuals:                     456   BIC:                            -382.0\n",
       "Df Model:                           1                                         \n",
       "Covariance Type:            nonrobust                                         \n",
       "==============================================================================\n",
       "                 coef    std err          t      P>|t|      [0.025      0.975]\n",
       "------------------------------------------------------------------------------\n",
       "Intercept      0.5631      0.010     54.855      0.000       0.543       0.583\n",
       "treat         -0.0229      0.015     -1.554      0.121      -0.052       0.006\n",
       "==============================================================================\n",
       "Omnibus:                       48.790   Durbin-Watson:                   2.024\n",
       "Prob(Omnibus):                  0.000   Jarque-Bera (JB):               76.344\n",
       "Skew:                           0.704   Prob(JB):                     2.64e-17\n",
       "Kurtosis:                       4.421   Cond. No.                         2.58\n",
       "==============================================================================\n",
       "\n",
       "Notes:\n",
       "[1] Standard Errors assume that the covariance matrix of the errors is correctly specified.\n",
       "\"\"\""
      ]
     },
     "execution_count": 28,
     "metadata": {},
     "output_type": "execute_result"
    }
   ],
   "source": [
    "smf.ols('vote_general ~ treat', data=full).fit().summary()"
   ]
  },
  {
   "cell_type": "code",
   "execution_count": 29,
   "metadata": {},
   "outputs": [
    {
     "data": {
      "text/html": [
       "<table class=\"simpletable\">\n",
       "<caption>OLS Regression Results</caption>\n",
       "<tr>\n",
       "  <th>Dep. Variable:</th>    <td>turnout_party_share</td> <th>  R-squared:         </th> <td>   0.000</td>\n",
       "</tr>\n",
       "<tr>\n",
       "  <th>Model:</th>                    <td>OLS</td>         <th>  Adj. R-squared:    </th> <td>  -0.002</td>\n",
       "</tr>\n",
       "<tr>\n",
       "  <th>Method:</th>              <td>Least Squares</td>    <th>  F-statistic:       </th> <td> 0.07061</td>\n",
       "</tr>\n",
       "<tr>\n",
       "  <th>Date:</th>              <td>Tue, 07 Nov 2023</td>   <th>  Prob (F-statistic):</th>  <td> 0.791</td> \n",
       "</tr>\n",
       "<tr>\n",
       "  <th>Time:</th>                  <td>10:39:11</td>       <th>  Log-Likelihood:    </th> <td>  277.63</td>\n",
       "</tr>\n",
       "<tr>\n",
       "  <th>No. Observations:</th>       <td>   444</td>        <th>  AIC:               </th> <td>  -551.3</td>\n",
       "</tr>\n",
       "<tr>\n",
       "  <th>Df Residuals:</th>           <td>   442</td>        <th>  BIC:               </th> <td>  -543.1</td>\n",
       "</tr>\n",
       "<tr>\n",
       "  <th>Df Model:</th>               <td>     1</td>        <th>                     </th>     <td> </td>   \n",
       "</tr>\n",
       "<tr>\n",
       "  <th>Covariance Type:</th>       <td>nonrobust</td>      <th>                     </th>     <td> </td>   \n",
       "</tr>\n",
       "</table>\n",
       "<table class=\"simpletable\">\n",
       "<tr>\n",
       "      <td></td>         <th>coef</th>     <th>std err</th>      <th>t</th>      <th>P>|t|</th>  <th>[0.025</th>    <th>0.975]</th>  \n",
       "</tr>\n",
       "<tr>\n",
       "  <th>Intercept</th> <td>    0.4929</td> <td>    0.009</td> <td>   56.971</td> <td> 0.000</td> <td>    0.476</td> <td>    0.510</td>\n",
       "</tr>\n",
       "<tr>\n",
       "  <th>treat</th>     <td>   -0.0033</td> <td>    0.012</td> <td>   -0.266</td> <td> 0.791</td> <td>   -0.027</td> <td>    0.021</td>\n",
       "</tr>\n",
       "</table>\n",
       "<table class=\"simpletable\">\n",
       "<tr>\n",
       "  <th>Omnibus:</th>       <td>21.233</td> <th>  Durbin-Watson:     </th> <td>   2.126</td>\n",
       "</tr>\n",
       "<tr>\n",
       "  <th>Prob(Omnibus):</th> <td> 0.000</td> <th>  Jarque-Bera (JB):  </th> <td>  44.748</td>\n",
       "</tr>\n",
       "<tr>\n",
       "  <th>Skew:</th>          <td> 0.240</td> <th>  Prob(JB):          </th> <td>1.92e-10</td>\n",
       "</tr>\n",
       "<tr>\n",
       "  <th>Kurtosis:</th>      <td> 4.479</td> <th>  Cond. No.          </th> <td>    2.60</td>\n",
       "</tr>\n",
       "</table><br/><br/>Notes:<br/>[1] Standard Errors assume that the covariance matrix of the errors is correctly specified."
      ],
      "text/plain": [
       "<class 'statsmodels.iolib.summary.Summary'>\n",
       "\"\"\"\n",
       "                             OLS Regression Results                            \n",
       "===============================================================================\n",
       "Dep. Variable:     turnout_party_share   R-squared:                       0.000\n",
       "Model:                             OLS   Adj. R-squared:                 -0.002\n",
       "Method:                  Least Squares   F-statistic:                   0.07061\n",
       "Date:                 Tue, 07 Nov 2023   Prob (F-statistic):              0.791\n",
       "Time:                         10:39:11   Log-Likelihood:                 277.63\n",
       "No. Observations:                  444   AIC:                            -551.3\n",
       "Df Residuals:                      442   BIC:                            -543.1\n",
       "Df Model:                            1                                         \n",
       "Covariance Type:             nonrobust                                         \n",
       "==============================================================================\n",
       "                 coef    std err          t      P>|t|      [0.025      0.975]\n",
       "------------------------------------------------------------------------------\n",
       "Intercept      0.4929      0.009     56.971      0.000       0.476       0.510\n",
       "treat         -0.0033      0.012     -0.266      0.791      -0.027       0.021\n",
       "==============================================================================\n",
       "Omnibus:                       21.233   Durbin-Watson:                   2.126\n",
       "Prob(Omnibus):                  0.000   Jarque-Bera (JB):               44.748\n",
       "Skew:                           0.240   Prob(JB):                     1.92e-10\n",
       "Kurtosis:                       4.479   Cond. No.                         2.60\n",
       "==============================================================================\n",
       "\n",
       "Notes:\n",
       "[1] Standard Errors assume that the covariance matrix of the errors is correctly specified.\n",
       "\"\"\""
      ]
     },
     "execution_count": 29,
     "metadata": {},
     "output_type": "execute_result"
    }
   ],
   "source": [
    "smf.ols('turnout_party_share ~ treat', data=full).fit().summary()"
   ]
  },
  {
   "cell_type": "markdown",
   "metadata": {},
   "source": [
    "When the extreme candidate wins the primary, the vote share in the general election and the party share of turnout both decline, though the differences are small (about 2% for the vote share and only 0.3% for relative turnout). If we could interpret these as causal, there is evidence of a small penalty for nominating an extremist. However, this may be driven by selection bias. For example, it may be the case that extremists tend to get nominated in safer districts where the party would win anyways."
   ]
  },
  {
   "cell_type": "markdown",
   "metadata": {},
   "source": [
    "The paper only considers cases where we can be reasonably confident which candidate in the primary was more extreme. This is done by defining a \"cutoff\" equal to the median distance in estimated ideology of the top two candidates in the primary (stored as `absdist` in the data frame.)\n",
    "\n",
    "**Question 1.3. Create a variable called `cutoff` equal to the median of  `absdist`.**\n"
   ]
  },
  {
   "cell_type": "code",
   "execution_count": 9,
   "metadata": {},
   "outputs": [
    {
     "data": {
      "text/plain": [
       "0.12193753"
      ]
     },
     "execution_count": 9,
     "metadata": {},
     "output_type": "execute_result"
    }
   ],
   "source": [
    "cutoff = np.median(full['absdist'])\n",
    "cutoff"
   ]
  },
  {
   "cell_type": "markdown",
   "metadata": {},
   "source": [
    "For some analyses, we will want to filter the dataframe to only contain values that are relevant for our regressions. We will always restrict attention to cases where `absdist` is greater than cutoff. Let's store those rows in a dataframe called `greater_than_cutoff` \n"
   ]
  },
  {
   "cell_type": "code",
   "execution_count": 18,
   "metadata": {},
   "outputs": [
    {
     "data": {
      "text/html": [
       "<div>\n",
       "<style scoped>\n",
       "    .dataframe tbody tr th:only-of-type {\n",
       "        vertical-align: middle;\n",
       "    }\n",
       "\n",
       "    .dataframe tbody tr th {\n",
       "        vertical-align: top;\n",
       "    }\n",
       "\n",
       "    .dataframe thead th {\n",
       "        text-align: right;\n",
       "    }\n",
       "</style>\n",
       "<table border=\"1\" class=\"dataframe\">\n",
       "  <thead>\n",
       "    <tr style=\"text-align: right;\">\n",
       "      <th></th>\n",
       "      <th>state</th>\n",
       "      <th>dist</th>\n",
       "      <th>dem</th>\n",
       "      <th>year</th>\n",
       "      <th>turnout_dem_strong</th>\n",
       "      <th>low_info_votes1</th>\n",
       "      <th>high_info_votes1</th>\n",
       "      <th>low_info_n1</th>\n",
       "      <th>high_info_n1</th>\n",
       "      <th>turnout_dem_nvstrong</th>\n",
       "      <th>...</th>\n",
       "      <th>re</th>\n",
       "      <th>g</th>\n",
       "      <th>pv</th>\n",
       "      <th>two_party_total</th>\n",
       "      <th>lag_pv</th>\n",
       "      <th>catalist_share</th>\n",
       "      <th>no_party_id</th>\n",
       "      <th>gov_elec</th>\n",
       "      <th>senate_elec</th>\n",
       "      <th>mindonors</th>\n",
       "    </tr>\n",
       "  </thead>\n",
       "  <tbody>\n",
       "    <tr>\n",
       "      <th>1</th>\n",
       "      <td>AL</td>\n",
       "      <td>7.0</td>\n",
       "      <td>1.0</td>\n",
       "      <td>2006.0</td>\n",
       "      <td>0.500000</td>\n",
       "      <td>0.0</td>\n",
       "      <td>0.0</td>\n",
       "      <td>0.0</td>\n",
       "      <td>0.0</td>\n",
       "      <td>0.500000</td>\n",
       "      <td>...</td>\n",
       "      <td>0.0</td>\n",
       "      <td>6.0</td>\n",
       "      <td>0.646465</td>\n",
       "      <td>0.990</td>\n",
       "      <td>0.646465</td>\n",
       "      <td>NaN</td>\n",
       "      <td>1.0</td>\n",
       "      <td>1.0</td>\n",
       "      <td>0.0</td>\n",
       "      <td>500.0</td>\n",
       "    </tr>\n",
       "    <tr>\n",
       "      <th>3</th>\n",
       "      <td>AL</td>\n",
       "      <td>5.0</td>\n",
       "      <td>1.0</td>\n",
       "      <td>2010.0</td>\n",
       "      <td>0.684211</td>\n",
       "      <td>4.0</td>\n",
       "      <td>8.0</td>\n",
       "      <td>8.0</td>\n",
       "      <td>9.0</td>\n",
       "      <td>0.125000</td>\n",
       "      <td>...</td>\n",
       "      <td>0.0</td>\n",
       "      <td>3.0</td>\n",
       "      <td>0.383838</td>\n",
       "      <td>0.990</td>\n",
       "      <td>0.383838</td>\n",
       "      <td>NaN</td>\n",
       "      <td>1.0</td>\n",
       "      <td>1.0</td>\n",
       "      <td>1.0</td>\n",
       "      <td>5000.0</td>\n",
       "    </tr>\n",
       "    <tr>\n",
       "      <th>5</th>\n",
       "      <td>AL</td>\n",
       "      <td>2.0</td>\n",
       "      <td>0.0</td>\n",
       "      <td>2010.0</td>\n",
       "      <td>0.600000</td>\n",
       "      <td>0.0</td>\n",
       "      <td>6.0</td>\n",
       "      <td>4.0</td>\n",
       "      <td>6.0</td>\n",
       "      <td>1.000000</td>\n",
       "      <td>...</td>\n",
       "      <td>0.0</td>\n",
       "      <td>2.0</td>\n",
       "      <td>0.636364</td>\n",
       "      <td>0.990</td>\n",
       "      <td>0.636364</td>\n",
       "      <td>NaN</td>\n",
       "      <td>1.0</td>\n",
       "      <td>1.0</td>\n",
       "      <td>1.0</td>\n",
       "      <td>250.0</td>\n",
       "    </tr>\n",
       "    <tr>\n",
       "      <th>9</th>\n",
       "      <td>AR</td>\n",
       "      <td>1.0</td>\n",
       "      <td>1.0</td>\n",
       "      <td>2010.0</td>\n",
       "      <td>0.777778</td>\n",
       "      <td>4.0</td>\n",
       "      <td>10.0</td>\n",
       "      <td>7.0</td>\n",
       "      <td>11.0</td>\n",
       "      <td>0.700000</td>\n",
       "      <td>...</td>\n",
       "      <td>0.0</td>\n",
       "      <td>7.0</td>\n",
       "      <td>0.391753</td>\n",
       "      <td>0.970</td>\n",
       "      <td>0.391753</td>\n",
       "      <td>0.053922</td>\n",
       "      <td>1.0</td>\n",
       "      <td>1.0</td>\n",
       "      <td>1.0</td>\n",
       "      <td>6000.0</td>\n",
       "    </tr>\n",
       "    <tr>\n",
       "      <th>10</th>\n",
       "      <td>AR</td>\n",
       "      <td>2.0</td>\n",
       "      <td>1.0</td>\n",
       "      <td>2010.0</td>\n",
       "      <td>0.730769</td>\n",
       "      <td>4.0</td>\n",
       "      <td>15.0</td>\n",
       "      <td>9.0</td>\n",
       "      <td>17.0</td>\n",
       "      <td>0.266667</td>\n",
       "      <td>...</td>\n",
       "      <td>0.0</td>\n",
       "      <td>9.0</td>\n",
       "      <td>0.448980</td>\n",
       "      <td>0.980</td>\n",
       "      <td>0.448980</td>\n",
       "      <td>0.056127</td>\n",
       "      <td>1.0</td>\n",
       "      <td>1.0</td>\n",
       "      <td>1.0</td>\n",
       "      <td>39400.0</td>\n",
       "    </tr>\n",
       "    <tr>\n",
       "      <th>...</th>\n",
       "      <td>...</td>\n",
       "      <td>...</td>\n",
       "      <td>...</td>\n",
       "      <td>...</td>\n",
       "      <td>...</td>\n",
       "      <td>...</td>\n",
       "      <td>...</td>\n",
       "      <td>...</td>\n",
       "      <td>...</td>\n",
       "      <td>...</td>\n",
       "      <td>...</td>\n",
       "      <td>...</td>\n",
       "      <td>...</td>\n",
       "      <td>...</td>\n",
       "      <td>...</td>\n",
       "      <td>...</td>\n",
       "      <td>...</td>\n",
       "      <td>...</td>\n",
       "      <td>...</td>\n",
       "      <td>...</td>\n",
       "      <td>...</td>\n",
       "    </tr>\n",
       "    <tr>\n",
       "      <th>449</th>\n",
       "      <td>WI</td>\n",
       "      <td>8.0</td>\n",
       "      <td>0.0</td>\n",
       "      <td>2006.0</td>\n",
       "      <td>0.000000</td>\n",
       "      <td>0.0</td>\n",
       "      <td>0.0</td>\n",
       "      <td>0.0</td>\n",
       "      <td>0.0</td>\n",
       "      <td>0.000000</td>\n",
       "      <td>...</td>\n",
       "      <td>0.0</td>\n",
       "      <td>317.0</td>\n",
       "      <td>0.555556</td>\n",
       "      <td>0.990</td>\n",
       "      <td>0.555556</td>\n",
       "      <td>NaN</td>\n",
       "      <td>1.0</td>\n",
       "      <td>1.0</td>\n",
       "      <td>1.0</td>\n",
       "      <td>26100.0</td>\n",
       "    </tr>\n",
       "    <tr>\n",
       "      <th>450</th>\n",
       "      <td>WI</td>\n",
       "      <td>8.0</td>\n",
       "      <td>0.0</td>\n",
       "      <td>2010.0</td>\n",
       "      <td>0.866667</td>\n",
       "      <td>2.0</td>\n",
       "      <td>10.0</td>\n",
       "      <td>3.0</td>\n",
       "      <td>11.0</td>\n",
       "      <td>0.461538</td>\n",
       "      <td>...</td>\n",
       "      <td>0.0</td>\n",
       "      <td>317.0</td>\n",
       "      <td>0.454545</td>\n",
       "      <td>0.990</td>\n",
       "      <td>0.454545</td>\n",
       "      <td>NaN</td>\n",
       "      <td>1.0</td>\n",
       "      <td>1.0</td>\n",
       "      <td>1.0</td>\n",
       "      <td>9750.0</td>\n",
       "    </tr>\n",
       "    <tr>\n",
       "      <th>452</th>\n",
       "      <td>WI</td>\n",
       "      <td>6.0</td>\n",
       "      <td>0.0</td>\n",
       "      <td>2014.0</td>\n",
       "      <td>0.640000</td>\n",
       "      <td>5.0</td>\n",
       "      <td>10.0</td>\n",
       "      <td>10.0</td>\n",
       "      <td>12.0</td>\n",
       "      <td>0.333333</td>\n",
       "      <td>...</td>\n",
       "      <td>0.0</td>\n",
       "      <td>316.0</td>\n",
       "      <td>0.536906</td>\n",
       "      <td>0.989</td>\n",
       "      <td>0.536906</td>\n",
       "      <td>NaN</td>\n",
       "      <td>1.0</td>\n",
       "      <td>1.0</td>\n",
       "      <td>0.0</td>\n",
       "      <td>50850.0</td>\n",
       "    </tr>\n",
       "    <tr>\n",
       "      <th>454</th>\n",
       "      <td>WV</td>\n",
       "      <td>1.0</td>\n",
       "      <td>1.0</td>\n",
       "      <td>2010.0</td>\n",
       "      <td>0.900000</td>\n",
       "      <td>12.0</td>\n",
       "      <td>6.0</td>\n",
       "      <td>13.0</td>\n",
       "      <td>7.0</td>\n",
       "      <td>0.583333</td>\n",
       "      <td>...</td>\n",
       "      <td>0.0</td>\n",
       "      <td>318.0</td>\n",
       "      <td>0.424242</td>\n",
       "      <td>0.990</td>\n",
       "      <td>0.424242</td>\n",
       "      <td>0.493255</td>\n",
       "      <td>0.0</td>\n",
       "      <td>0.0</td>\n",
       "      <td>1.0</td>\n",
       "      <td>49500.0</td>\n",
       "    </tr>\n",
       "    <tr>\n",
       "      <th>456</th>\n",
       "      <td>WV</td>\n",
       "      <td>2.0</td>\n",
       "      <td>1.0</td>\n",
       "      <td>2014.0</td>\n",
       "      <td>0.368421</td>\n",
       "      <td>0.0</td>\n",
       "      <td>7.0</td>\n",
       "      <td>4.0</td>\n",
       "      <td>11.0</td>\n",
       "      <td>0.380952</td>\n",
       "      <td>...</td>\n",
       "      <td>0.0</td>\n",
       "      <td>319.0</td>\n",
       "      <td>0.387755</td>\n",
       "      <td>0.980</td>\n",
       "      <td>0.387755</td>\n",
       "      <td>0.441337</td>\n",
       "      <td>0.0</td>\n",
       "      <td>0.0</td>\n",
       "      <td>1.0</td>\n",
       "      <td>1250.0</td>\n",
       "    </tr>\n",
       "  </tbody>\n",
       "</table>\n",
       "<p>230 rows × 151 columns</p>\n",
       "</div>"
      ],
      "text/plain": [
       "    state dist  dem    year  turnout_dem_strong  low_info_votes1  \\\n",
       "1      AL  7.0  1.0  2006.0            0.500000              0.0   \n",
       "3      AL  5.0  1.0  2010.0            0.684211              4.0   \n",
       "5      AL  2.0  0.0  2010.0            0.600000              0.0   \n",
       "9      AR  1.0  1.0  2010.0            0.777778              4.0   \n",
       "10     AR  2.0  1.0  2010.0            0.730769              4.0   \n",
       "..    ...  ...  ...     ...                 ...              ...   \n",
       "449    WI  8.0  0.0  2006.0            0.000000              0.0   \n",
       "450    WI  8.0  0.0  2010.0            0.866667              2.0   \n",
       "452    WI  6.0  0.0  2014.0            0.640000              5.0   \n",
       "454    WV  1.0  1.0  2010.0            0.900000             12.0   \n",
       "456    WV  2.0  1.0  2014.0            0.368421              0.0   \n",
       "\n",
       "     high_info_votes1  low_info_n1  high_info_n1  turnout_dem_nvstrong  ...  \\\n",
       "1                 0.0          0.0           0.0              0.500000  ...   \n",
       "3                 8.0          8.0           9.0              0.125000  ...   \n",
       "5                 6.0          4.0           6.0              1.000000  ...   \n",
       "9                10.0          7.0          11.0              0.700000  ...   \n",
       "10               15.0          9.0          17.0              0.266667  ...   \n",
       "..                ...          ...           ...                   ...  ...   \n",
       "449               0.0          0.0           0.0              0.000000  ...   \n",
       "450              10.0          3.0          11.0              0.461538  ...   \n",
       "452              10.0         10.0          12.0              0.333333  ...   \n",
       "454               6.0         13.0           7.0              0.583333  ...   \n",
       "456               7.0          4.0          11.0              0.380952  ...   \n",
       "\n",
       "      re      g        pv  two_party_total    lag_pv  catalist_share  \\\n",
       "1    0.0    6.0  0.646465            0.990  0.646465             NaN   \n",
       "3    0.0    3.0  0.383838            0.990  0.383838             NaN   \n",
       "5    0.0    2.0  0.636364            0.990  0.636364             NaN   \n",
       "9    0.0    7.0  0.391753            0.970  0.391753        0.053922   \n",
       "10   0.0    9.0  0.448980            0.980  0.448980        0.056127   \n",
       "..   ...    ...       ...              ...       ...             ...   \n",
       "449  0.0  317.0  0.555556            0.990  0.555556             NaN   \n",
       "450  0.0  317.0  0.454545            0.990  0.454545             NaN   \n",
       "452  0.0  316.0  0.536906            0.989  0.536906             NaN   \n",
       "454  0.0  318.0  0.424242            0.990  0.424242        0.493255   \n",
       "456  0.0  319.0  0.387755            0.980  0.387755        0.441337   \n",
       "\n",
       "     no_party_id  gov_elec  senate_elec  mindonors  \n",
       "1            1.0       1.0          0.0      500.0  \n",
       "3            1.0       1.0          1.0     5000.0  \n",
       "5            1.0       1.0          1.0      250.0  \n",
       "9            1.0       1.0          1.0     6000.0  \n",
       "10           1.0       1.0          1.0    39400.0  \n",
       "..           ...       ...          ...        ...  \n",
       "449          1.0       1.0          1.0    26100.0  \n",
       "450          1.0       1.0          1.0     9750.0  \n",
       "452          1.0       1.0          0.0    50850.0  \n",
       "454          0.0       0.0          1.0    49500.0  \n",
       "456          0.0       0.0          1.0     1250.0  \n",
       "\n",
       "[230 rows x 151 columns]"
      ]
     },
     "execution_count": 18,
     "metadata": {},
     "output_type": "execute_result"
    }
   ],
   "source": [
    "greater_than_cutoff = full[full['absdist']>=cutoff]\n",
    "greater_than_cutoff"
   ]
  },
  {
   "cell_type": "markdown",
   "metadata": {},
   "source": [
    "**Question 1.4 Create a dataframe `less_than_ten` containing only values for which the absolute value of the `rv` column is less than or equal to ten percentage points.**"
   ]
  },
  {
   "cell_type": "code",
   "execution_count": 19,
   "metadata": {},
   "outputs": [
    {
     "data": {
      "text/html": [
       "<div>\n",
       "<style scoped>\n",
       "    .dataframe tbody tr th:only-of-type {\n",
       "        vertical-align: middle;\n",
       "    }\n",
       "\n",
       "    .dataframe tbody tr th {\n",
       "        vertical-align: top;\n",
       "    }\n",
       "\n",
       "    .dataframe thead th {\n",
       "        text-align: right;\n",
       "    }\n",
       "</style>\n",
       "<table border=\"1\" class=\"dataframe\">\n",
       "  <thead>\n",
       "    <tr style=\"text-align: right;\">\n",
       "      <th></th>\n",
       "      <th>state</th>\n",
       "      <th>dist</th>\n",
       "      <th>dem</th>\n",
       "      <th>year</th>\n",
       "      <th>turnout_dem_strong</th>\n",
       "      <th>low_info_votes1</th>\n",
       "      <th>high_info_votes1</th>\n",
       "      <th>low_info_n1</th>\n",
       "      <th>high_info_n1</th>\n",
       "      <th>turnout_dem_nvstrong</th>\n",
       "      <th>...</th>\n",
       "      <th>re</th>\n",
       "      <th>g</th>\n",
       "      <th>pv</th>\n",
       "      <th>two_party_total</th>\n",
       "      <th>lag_pv</th>\n",
       "      <th>catalist_share</th>\n",
       "      <th>no_party_id</th>\n",
       "      <th>gov_elec</th>\n",
       "      <th>senate_elec</th>\n",
       "      <th>mindonors</th>\n",
       "    </tr>\n",
       "  </thead>\n",
       "  <tbody>\n",
       "    <tr>\n",
       "      <th>0</th>\n",
       "      <td>AK</td>\n",
       "      <td>1.0</td>\n",
       "      <td>1.0</td>\n",
       "      <td>2008.0</td>\n",
       "      <td>0.777778</td>\n",
       "      <td>0.0</td>\n",
       "      <td>7.0</td>\n",
       "      <td>1.0</td>\n",
       "      <td>8.0</td>\n",
       "      <td>0.800000</td>\n",
       "      <td>...</td>\n",
       "      <td>0.0</td>\n",
       "      <td>1.0</td>\n",
       "      <td>0.391753</td>\n",
       "      <td>0.970</td>\n",
       "      <td>0.371134</td>\n",
       "      <td>0.161095</td>\n",
       "      <td>0.0</td>\n",
       "      <td>0.0</td>\n",
       "      <td>1.0</td>\n",
       "      <td>41316.0</td>\n",
       "    </tr>\n",
       "    <tr>\n",
       "      <th>2</th>\n",
       "      <td>AL</td>\n",
       "      <td>2.0</td>\n",
       "      <td>0.0</td>\n",
       "      <td>2008.0</td>\n",
       "      <td>0.600000</td>\n",
       "      <td>1.0</td>\n",
       "      <td>2.0</td>\n",
       "      <td>3.0</td>\n",
       "      <td>2.0</td>\n",
       "      <td>0.333333</td>\n",
       "      <td>...</td>\n",
       "      <td>0.0</td>\n",
       "      <td>2.0</td>\n",
       "      <td>0.636364</td>\n",
       "      <td>0.990</td>\n",
       "      <td>0.670000</td>\n",
       "      <td>NaN</td>\n",
       "      <td>1.0</td>\n",
       "      <td>0.0</td>\n",
       "      <td>1.0</td>\n",
       "      <td>16592.0</td>\n",
       "    </tr>\n",
       "    <tr>\n",
       "      <th>4</th>\n",
       "      <td>AL</td>\n",
       "      <td>7.0</td>\n",
       "      <td>1.0</td>\n",
       "      <td>2010.0</td>\n",
       "      <td>0.652174</td>\n",
       "      <td>3.0</td>\n",
       "      <td>11.0</td>\n",
       "      <td>7.0</td>\n",
       "      <td>15.0</td>\n",
       "      <td>0.428571</td>\n",
       "      <td>...</td>\n",
       "      <td>0.0</td>\n",
       "      <td>6.0</td>\n",
       "      <td>0.727273</td>\n",
       "      <td>0.990</td>\n",
       "      <td>0.727273</td>\n",
       "      <td>NaN</td>\n",
       "      <td>1.0</td>\n",
       "      <td>1.0</td>\n",
       "      <td>1.0</td>\n",
       "      <td>38000.0</td>\n",
       "    </tr>\n",
       "    <tr>\n",
       "      <th>9</th>\n",
       "      <td>AR</td>\n",
       "      <td>1.0</td>\n",
       "      <td>1.0</td>\n",
       "      <td>2010.0</td>\n",
       "      <td>0.777778</td>\n",
       "      <td>4.0</td>\n",
       "      <td>10.0</td>\n",
       "      <td>7.0</td>\n",
       "      <td>11.0</td>\n",
       "      <td>0.700000</td>\n",
       "      <td>...</td>\n",
       "      <td>0.0</td>\n",
       "      <td>7.0</td>\n",
       "      <td>0.391753</td>\n",
       "      <td>0.970</td>\n",
       "      <td>0.391753</td>\n",
       "      <td>0.053922</td>\n",
       "      <td>1.0</td>\n",
       "      <td>1.0</td>\n",
       "      <td>1.0</td>\n",
       "      <td>6000.0</td>\n",
       "    </tr>\n",
       "    <tr>\n",
       "      <th>10</th>\n",
       "      <td>AR</td>\n",
       "      <td>2.0</td>\n",
       "      <td>1.0</td>\n",
       "      <td>2010.0</td>\n",
       "      <td>0.730769</td>\n",
       "      <td>4.0</td>\n",
       "      <td>15.0</td>\n",
       "      <td>9.0</td>\n",
       "      <td>17.0</td>\n",
       "      <td>0.266667</td>\n",
       "      <td>...</td>\n",
       "      <td>0.0</td>\n",
       "      <td>9.0</td>\n",
       "      <td>0.448980</td>\n",
       "      <td>0.980</td>\n",
       "      <td>0.448980</td>\n",
       "      <td>0.056127</td>\n",
       "      <td>1.0</td>\n",
       "      <td>1.0</td>\n",
       "      <td>1.0</td>\n",
       "      <td>39400.0</td>\n",
       "    </tr>\n",
       "    <tr>\n",
       "      <th>...</th>\n",
       "      <td>...</td>\n",
       "      <td>...</td>\n",
       "      <td>...</td>\n",
       "      <td>...</td>\n",
       "      <td>...</td>\n",
       "      <td>...</td>\n",
       "      <td>...</td>\n",
       "      <td>...</td>\n",
       "      <td>...</td>\n",
       "      <td>...</td>\n",
       "      <td>...</td>\n",
       "      <td>...</td>\n",
       "      <td>...</td>\n",
       "      <td>...</td>\n",
       "      <td>...</td>\n",
       "      <td>...</td>\n",
       "      <td>...</td>\n",
       "      <td>...</td>\n",
       "      <td>...</td>\n",
       "      <td>...</td>\n",
       "      <td>...</td>\n",
       "    </tr>\n",
       "    <tr>\n",
       "      <th>452</th>\n",
       "      <td>WI</td>\n",
       "      <td>6.0</td>\n",
       "      <td>0.0</td>\n",
       "      <td>2014.0</td>\n",
       "      <td>0.640000</td>\n",
       "      <td>5.0</td>\n",
       "      <td>10.0</td>\n",
       "      <td>10.0</td>\n",
       "      <td>12.0</td>\n",
       "      <td>0.333333</td>\n",
       "      <td>...</td>\n",
       "      <td>0.0</td>\n",
       "      <td>316.0</td>\n",
       "      <td>0.536906</td>\n",
       "      <td>0.989</td>\n",
       "      <td>0.536906</td>\n",
       "      <td>NaN</td>\n",
       "      <td>1.0</td>\n",
       "      <td>1.0</td>\n",
       "      <td>0.0</td>\n",
       "      <td>50850.0</td>\n",
       "    </tr>\n",
       "    <tr>\n",
       "      <th>453</th>\n",
       "      <td>WV</td>\n",
       "      <td>2.0</td>\n",
       "      <td>1.0</td>\n",
       "      <td>2006.0</td>\n",
       "      <td>0.000000</td>\n",
       "      <td>0.0</td>\n",
       "      <td>0.0</td>\n",
       "      <td>0.0</td>\n",
       "      <td>0.0</td>\n",
       "      <td>0.000000</td>\n",
       "      <td>...</td>\n",
       "      <td>0.0</td>\n",
       "      <td>319.0</td>\n",
       "      <td>0.424242</td>\n",
       "      <td>0.990</td>\n",
       "      <td>0.424242</td>\n",
       "      <td>0.513689</td>\n",
       "      <td>0.0</td>\n",
       "      <td>0.0</td>\n",
       "      <td>1.0</td>\n",
       "      <td>1000.0</td>\n",
       "    </tr>\n",
       "    <tr>\n",
       "      <th>454</th>\n",
       "      <td>WV</td>\n",
       "      <td>1.0</td>\n",
       "      <td>1.0</td>\n",
       "      <td>2010.0</td>\n",
       "      <td>0.900000</td>\n",
       "      <td>12.0</td>\n",
       "      <td>6.0</td>\n",
       "      <td>13.0</td>\n",
       "      <td>7.0</td>\n",
       "      <td>0.583333</td>\n",
       "      <td>...</td>\n",
       "      <td>0.0</td>\n",
       "      <td>318.0</td>\n",
       "      <td>0.424242</td>\n",
       "      <td>0.990</td>\n",
       "      <td>0.424242</td>\n",
       "      <td>0.493255</td>\n",
       "      <td>0.0</td>\n",
       "      <td>0.0</td>\n",
       "      <td>1.0</td>\n",
       "      <td>49500.0</td>\n",
       "    </tr>\n",
       "    <tr>\n",
       "      <th>455</th>\n",
       "      <td>WV</td>\n",
       "      <td>1.0</td>\n",
       "      <td>0.0</td>\n",
       "      <td>2010.0</td>\n",
       "      <td>0.900000</td>\n",
       "      <td>12.0</td>\n",
       "      <td>6.0</td>\n",
       "      <td>13.0</td>\n",
       "      <td>7.0</td>\n",
       "      <td>0.583333</td>\n",
       "      <td>...</td>\n",
       "      <td>0.0</td>\n",
       "      <td>318.0</td>\n",
       "      <td>0.575758</td>\n",
       "      <td>0.990</td>\n",
       "      <td>0.575758</td>\n",
       "      <td>0.377217</td>\n",
       "      <td>0.0</td>\n",
       "      <td>0.0</td>\n",
       "      <td>1.0</td>\n",
       "      <td>9250.0</td>\n",
       "    </tr>\n",
       "    <tr>\n",
       "      <th>457</th>\n",
       "      <td>WY</td>\n",
       "      <td>1.0</td>\n",
       "      <td>0.0</td>\n",
       "      <td>2008.0</td>\n",
       "      <td>1.000000</td>\n",
       "      <td>1.0</td>\n",
       "      <td>3.0</td>\n",
       "      <td>1.0</td>\n",
       "      <td>3.0</td>\n",
       "      <td>1.000000</td>\n",
       "      <td>...</td>\n",
       "      <td>0.0</td>\n",
       "      <td>320.0</td>\n",
       "      <td>0.663265</td>\n",
       "      <td>0.980</td>\n",
       "      <td>0.704082</td>\n",
       "      <td>0.669248</td>\n",
       "      <td>0.0</td>\n",
       "      <td>0.0</td>\n",
       "      <td>1.0</td>\n",
       "      <td>11600.0</td>\n",
       "    </tr>\n",
       "  </tbody>\n",
       "</table>\n",
       "<p>213 rows × 151 columns</p>\n",
       "</div>"
      ],
      "text/plain": [
       "    state dist  dem    year  turnout_dem_strong  low_info_votes1  \\\n",
       "0      AK  1.0  1.0  2008.0            0.777778              0.0   \n",
       "2      AL  2.0  0.0  2008.0            0.600000              1.0   \n",
       "4      AL  7.0  1.0  2010.0            0.652174              3.0   \n",
       "9      AR  1.0  1.0  2010.0            0.777778              4.0   \n",
       "10     AR  2.0  1.0  2010.0            0.730769              4.0   \n",
       "..    ...  ...  ...     ...                 ...              ...   \n",
       "452    WI  6.0  0.0  2014.0            0.640000              5.0   \n",
       "453    WV  2.0  1.0  2006.0            0.000000              0.0   \n",
       "454    WV  1.0  1.0  2010.0            0.900000             12.0   \n",
       "455    WV  1.0  0.0  2010.0            0.900000             12.0   \n",
       "457    WY  1.0  0.0  2008.0            1.000000              1.0   \n",
       "\n",
       "     high_info_votes1  low_info_n1  high_info_n1  turnout_dem_nvstrong  ...  \\\n",
       "0                 7.0          1.0           8.0              0.800000  ...   \n",
       "2                 2.0          3.0           2.0              0.333333  ...   \n",
       "4                11.0          7.0          15.0              0.428571  ...   \n",
       "9                10.0          7.0          11.0              0.700000  ...   \n",
       "10               15.0          9.0          17.0              0.266667  ...   \n",
       "..                ...          ...           ...                   ...  ...   \n",
       "452              10.0         10.0          12.0              0.333333  ...   \n",
       "453               0.0          0.0           0.0              0.000000  ...   \n",
       "454               6.0         13.0           7.0              0.583333  ...   \n",
       "455               6.0         13.0           7.0              0.583333  ...   \n",
       "457               3.0          1.0           3.0              1.000000  ...   \n",
       "\n",
       "      re      g        pv  two_party_total    lag_pv  catalist_share  \\\n",
       "0    0.0    1.0  0.391753            0.970  0.371134        0.161095   \n",
       "2    0.0    2.0  0.636364            0.990  0.670000             NaN   \n",
       "4    0.0    6.0  0.727273            0.990  0.727273             NaN   \n",
       "9    0.0    7.0  0.391753            0.970  0.391753        0.053922   \n",
       "10   0.0    9.0  0.448980            0.980  0.448980        0.056127   \n",
       "..   ...    ...       ...              ...       ...             ...   \n",
       "452  0.0  316.0  0.536906            0.989  0.536906             NaN   \n",
       "453  0.0  319.0  0.424242            0.990  0.424242        0.513689   \n",
       "454  0.0  318.0  0.424242            0.990  0.424242        0.493255   \n",
       "455  0.0  318.0  0.575758            0.990  0.575758        0.377217   \n",
       "457  0.0  320.0  0.663265            0.980  0.704082        0.669248   \n",
       "\n",
       "     no_party_id  gov_elec  senate_elec  mindonors  \n",
       "0            0.0       0.0          1.0    41316.0  \n",
       "2            1.0       0.0          1.0    16592.0  \n",
       "4            1.0       1.0          1.0    38000.0  \n",
       "9            1.0       1.0          1.0     6000.0  \n",
       "10           1.0       1.0          1.0    39400.0  \n",
       "..           ...       ...          ...        ...  \n",
       "452          1.0       1.0          0.0    50850.0  \n",
       "453          0.0       0.0          1.0     1000.0  \n",
       "454          0.0       0.0          1.0    49500.0  \n",
       "455          0.0       0.0          1.0     9250.0  \n",
       "457          0.0       0.0          1.0    11600.0  \n",
       "\n",
       "[213 rows x 151 columns]"
      ]
     },
     "execution_count": 19,
     "metadata": {},
     "output_type": "execute_result"
    }
   ],
   "source": [
    "less_than_ten = full[abs(full['rv'])<=.1]\n",
    "less_than_ten"
   ]
  },
  {
   "cell_type": "markdown",
   "metadata": {},
   "source": [
    "**Question 1.5. Create a dataframe `ten_and_cutoff` with both conditions from Questions 1.3 and 1.4.**"
   ]
  },
  {
   "cell_type": "code",
   "execution_count": 20,
   "metadata": {},
   "outputs": [
    {
     "data": {
      "text/html": [
       "<div>\n",
       "<style scoped>\n",
       "    .dataframe tbody tr th:only-of-type {\n",
       "        vertical-align: middle;\n",
       "    }\n",
       "\n",
       "    .dataframe tbody tr th {\n",
       "        vertical-align: top;\n",
       "    }\n",
       "\n",
       "    .dataframe thead th {\n",
       "        text-align: right;\n",
       "    }\n",
       "</style>\n",
       "<table border=\"1\" class=\"dataframe\">\n",
       "  <thead>\n",
       "    <tr style=\"text-align: right;\">\n",
       "      <th></th>\n",
       "      <th>state</th>\n",
       "      <th>dist</th>\n",
       "      <th>dem</th>\n",
       "      <th>year</th>\n",
       "      <th>turnout_dem_strong</th>\n",
       "      <th>low_info_votes1</th>\n",
       "      <th>high_info_votes1</th>\n",
       "      <th>low_info_n1</th>\n",
       "      <th>high_info_n1</th>\n",
       "      <th>turnout_dem_nvstrong</th>\n",
       "      <th>...</th>\n",
       "      <th>re</th>\n",
       "      <th>g</th>\n",
       "      <th>pv</th>\n",
       "      <th>two_party_total</th>\n",
       "      <th>lag_pv</th>\n",
       "      <th>catalist_share</th>\n",
       "      <th>no_party_id</th>\n",
       "      <th>gov_elec</th>\n",
       "      <th>senate_elec</th>\n",
       "      <th>mindonors</th>\n",
       "    </tr>\n",
       "  </thead>\n",
       "  <tbody>\n",
       "    <tr>\n",
       "      <th>9</th>\n",
       "      <td>AR</td>\n",
       "      <td>1.0</td>\n",
       "      <td>1.0</td>\n",
       "      <td>2010.0</td>\n",
       "      <td>0.777778</td>\n",
       "      <td>4.0</td>\n",
       "      <td>10.0</td>\n",
       "      <td>7.0</td>\n",
       "      <td>11.0</td>\n",
       "      <td>0.700000</td>\n",
       "      <td>...</td>\n",
       "      <td>0.0</td>\n",
       "      <td>7.0</td>\n",
       "      <td>0.391753</td>\n",
       "      <td>0.970</td>\n",
       "      <td>0.391753</td>\n",
       "      <td>0.053922</td>\n",
       "      <td>1.0</td>\n",
       "      <td>1.0</td>\n",
       "      <td>1.0</td>\n",
       "      <td>6000.0</td>\n",
       "    </tr>\n",
       "    <tr>\n",
       "      <th>10</th>\n",
       "      <td>AR</td>\n",
       "      <td>2.0</td>\n",
       "      <td>1.0</td>\n",
       "      <td>2010.0</td>\n",
       "      <td>0.730769</td>\n",
       "      <td>4.0</td>\n",
       "      <td>15.0</td>\n",
       "      <td>9.0</td>\n",
       "      <td>17.0</td>\n",
       "      <td>0.266667</td>\n",
       "      <td>...</td>\n",
       "      <td>0.0</td>\n",
       "      <td>9.0</td>\n",
       "      <td>0.448980</td>\n",
       "      <td>0.980</td>\n",
       "      <td>0.448980</td>\n",
       "      <td>0.056127</td>\n",
       "      <td>1.0</td>\n",
       "      <td>1.0</td>\n",
       "      <td>1.0</td>\n",
       "      <td>39400.0</td>\n",
       "    </tr>\n",
       "    <tr>\n",
       "      <th>14</th>\n",
       "      <td>AR</td>\n",
       "      <td>1.0</td>\n",
       "      <td>1.0</td>\n",
       "      <td>2012.0</td>\n",
       "      <td>0.500000</td>\n",
       "      <td>6.0</td>\n",
       "      <td>3.0</td>\n",
       "      <td>11.0</td>\n",
       "      <td>3.0</td>\n",
       "      <td>0.500000</td>\n",
       "      <td>...</td>\n",
       "      <td>1.0</td>\n",
       "      <td>8.0</td>\n",
       "      <td>0.373073</td>\n",
       "      <td>0.973</td>\n",
       "      <td>0.391753</td>\n",
       "      <td>0.047688</td>\n",
       "      <td>1.0</td>\n",
       "      <td>0.0</td>\n",
       "      <td>0.0</td>\n",
       "      <td>13000.0</td>\n",
       "    </tr>\n",
       "    <tr>\n",
       "      <th>17</th>\n",
       "      <td>AZ</td>\n",
       "      <td>2.0</td>\n",
       "      <td>1.0</td>\n",
       "      <td>2006.0</td>\n",
       "      <td>0.000000</td>\n",
       "      <td>0.0</td>\n",
       "      <td>0.0</td>\n",
       "      <td>0.0</td>\n",
       "      <td>0.0</td>\n",
       "      <td>0.000000</td>\n",
       "      <td>...</td>\n",
       "      <td>0.0</td>\n",
       "      <td>14.0</td>\n",
       "      <td>0.383838</td>\n",
       "      <td>0.990</td>\n",
       "      <td>0.383838</td>\n",
       "      <td>0.387636</td>\n",
       "      <td>0.0</td>\n",
       "      <td>1.0</td>\n",
       "      <td>1.0</td>\n",
       "      <td>960.0</td>\n",
       "    </tr>\n",
       "    <tr>\n",
       "      <th>19</th>\n",
       "      <td>AZ</td>\n",
       "      <td>8.0</td>\n",
       "      <td>0.0</td>\n",
       "      <td>2006.0</td>\n",
       "      <td>0.000000</td>\n",
       "      <td>0.0</td>\n",
       "      <td>0.0</td>\n",
       "      <td>0.0</td>\n",
       "      <td>0.0</td>\n",
       "      <td>0.100000</td>\n",
       "      <td>...</td>\n",
       "      <td>0.0</td>\n",
       "      <td>22.0</td>\n",
       "      <td>0.535353</td>\n",
       "      <td>0.990</td>\n",
       "      <td>0.535353</td>\n",
       "      <td>0.518953</td>\n",
       "      <td>0.0</td>\n",
       "      <td>1.0</td>\n",
       "      <td>1.0</td>\n",
       "      <td>84437.0</td>\n",
       "    </tr>\n",
       "    <tr>\n",
       "      <th>...</th>\n",
       "      <td>...</td>\n",
       "      <td>...</td>\n",
       "      <td>...</td>\n",
       "      <td>...</td>\n",
       "      <td>...</td>\n",
       "      <td>...</td>\n",
       "      <td>...</td>\n",
       "      <td>...</td>\n",
       "      <td>...</td>\n",
       "      <td>...</td>\n",
       "      <td>...</td>\n",
       "      <td>...</td>\n",
       "      <td>...</td>\n",
       "      <td>...</td>\n",
       "      <td>...</td>\n",
       "      <td>...</td>\n",
       "      <td>...</td>\n",
       "      <td>...</td>\n",
       "      <td>...</td>\n",
       "      <td>...</td>\n",
       "      <td>...</td>\n",
       "    </tr>\n",
       "    <tr>\n",
       "      <th>436</th>\n",
       "      <td>TX</td>\n",
       "      <td>16.0</td>\n",
       "      <td>1.0</td>\n",
       "      <td>2012.0</td>\n",
       "      <td>0.785714</td>\n",
       "      <td>3.0</td>\n",
       "      <td>2.0</td>\n",
       "      <td>3.0</td>\n",
       "      <td>3.0</td>\n",
       "      <td>0.500000</td>\n",
       "      <td>...</td>\n",
       "      <td>1.0</td>\n",
       "      <td>292.0</td>\n",
       "      <td>0.650456</td>\n",
       "      <td>0.987</td>\n",
       "      <td>0.660000</td>\n",
       "      <td>NaN</td>\n",
       "      <td>1.0</td>\n",
       "      <td>0.0</td>\n",
       "      <td>1.0</td>\n",
       "      <td>127200.0</td>\n",
       "    </tr>\n",
       "    <tr>\n",
       "      <th>439</th>\n",
       "      <td>UT</td>\n",
       "      <td>3.0</td>\n",
       "      <td>0.0</td>\n",
       "      <td>2008.0</td>\n",
       "      <td>0.833333</td>\n",
       "      <td>4.0</td>\n",
       "      <td>6.0</td>\n",
       "      <td>5.0</td>\n",
       "      <td>7.0</td>\n",
       "      <td>0.875000</td>\n",
       "      <td>...</td>\n",
       "      <td>0.0</td>\n",
       "      <td>308.0</td>\n",
       "      <td>0.697917</td>\n",
       "      <td>0.960</td>\n",
       "      <td>0.793814</td>\n",
       "      <td>0.563572</td>\n",
       "      <td>0.0</td>\n",
       "      <td>1.0</td>\n",
       "      <td>0.0</td>\n",
       "      <td>800422.0</td>\n",
       "    </tr>\n",
       "    <tr>\n",
       "      <th>450</th>\n",
       "      <td>WI</td>\n",
       "      <td>8.0</td>\n",
       "      <td>0.0</td>\n",
       "      <td>2010.0</td>\n",
       "      <td>0.866667</td>\n",
       "      <td>2.0</td>\n",
       "      <td>10.0</td>\n",
       "      <td>3.0</td>\n",
       "      <td>11.0</td>\n",
       "      <td>0.461538</td>\n",
       "      <td>...</td>\n",
       "      <td>0.0</td>\n",
       "      <td>317.0</td>\n",
       "      <td>0.454545</td>\n",
       "      <td>0.990</td>\n",
       "      <td>0.454545</td>\n",
       "      <td>NaN</td>\n",
       "      <td>1.0</td>\n",
       "      <td>1.0</td>\n",
       "      <td>1.0</td>\n",
       "      <td>9750.0</td>\n",
       "    </tr>\n",
       "    <tr>\n",
       "      <th>452</th>\n",
       "      <td>WI</td>\n",
       "      <td>6.0</td>\n",
       "      <td>0.0</td>\n",
       "      <td>2014.0</td>\n",
       "      <td>0.640000</td>\n",
       "      <td>5.0</td>\n",
       "      <td>10.0</td>\n",
       "      <td>10.0</td>\n",
       "      <td>12.0</td>\n",
       "      <td>0.333333</td>\n",
       "      <td>...</td>\n",
       "      <td>0.0</td>\n",
       "      <td>316.0</td>\n",
       "      <td>0.536906</td>\n",
       "      <td>0.989</td>\n",
       "      <td>0.536906</td>\n",
       "      <td>NaN</td>\n",
       "      <td>1.0</td>\n",
       "      <td>1.0</td>\n",
       "      <td>0.0</td>\n",
       "      <td>50850.0</td>\n",
       "    </tr>\n",
       "    <tr>\n",
       "      <th>454</th>\n",
       "      <td>WV</td>\n",
       "      <td>1.0</td>\n",
       "      <td>1.0</td>\n",
       "      <td>2010.0</td>\n",
       "      <td>0.900000</td>\n",
       "      <td>12.0</td>\n",
       "      <td>6.0</td>\n",
       "      <td>13.0</td>\n",
       "      <td>7.0</td>\n",
       "      <td>0.583333</td>\n",
       "      <td>...</td>\n",
       "      <td>0.0</td>\n",
       "      <td>318.0</td>\n",
       "      <td>0.424242</td>\n",
       "      <td>0.990</td>\n",
       "      <td>0.424242</td>\n",
       "      <td>0.493255</td>\n",
       "      <td>0.0</td>\n",
       "      <td>0.0</td>\n",
       "      <td>1.0</td>\n",
       "      <td>49500.0</td>\n",
       "    </tr>\n",
       "  </tbody>\n",
       "</table>\n",
       "<p>111 rows × 151 columns</p>\n",
       "</div>"
      ],
      "text/plain": [
       "    state  dist  dem    year  turnout_dem_strong  low_info_votes1  \\\n",
       "9      AR   1.0  1.0  2010.0            0.777778              4.0   \n",
       "10     AR   2.0  1.0  2010.0            0.730769              4.0   \n",
       "14     AR   1.0  1.0  2012.0            0.500000              6.0   \n",
       "17     AZ   2.0  1.0  2006.0            0.000000              0.0   \n",
       "19     AZ   8.0  0.0  2006.0            0.000000              0.0   \n",
       "..    ...   ...  ...     ...                 ...              ...   \n",
       "436    TX  16.0  1.0  2012.0            0.785714              3.0   \n",
       "439    UT   3.0  0.0  2008.0            0.833333              4.0   \n",
       "450    WI   8.0  0.0  2010.0            0.866667              2.0   \n",
       "452    WI   6.0  0.0  2014.0            0.640000              5.0   \n",
       "454    WV   1.0  1.0  2010.0            0.900000             12.0   \n",
       "\n",
       "     high_info_votes1  low_info_n1  high_info_n1  turnout_dem_nvstrong  ...  \\\n",
       "9                10.0          7.0          11.0              0.700000  ...   \n",
       "10               15.0          9.0          17.0              0.266667  ...   \n",
       "14                3.0         11.0           3.0              0.500000  ...   \n",
       "17                0.0          0.0           0.0              0.000000  ...   \n",
       "19                0.0          0.0           0.0              0.100000  ...   \n",
       "..                ...          ...           ...                   ...  ...   \n",
       "436               2.0          3.0           3.0              0.500000  ...   \n",
       "439               6.0          5.0           7.0              0.875000  ...   \n",
       "450              10.0          3.0          11.0              0.461538  ...   \n",
       "452              10.0         10.0          12.0              0.333333  ...   \n",
       "454               6.0         13.0           7.0              0.583333  ...   \n",
       "\n",
       "      re      g        pv  two_party_total    lag_pv  catalist_share  \\\n",
       "9    0.0    7.0  0.391753            0.970  0.391753        0.053922   \n",
       "10   0.0    9.0  0.448980            0.980  0.448980        0.056127   \n",
       "14   1.0    8.0  0.373073            0.973  0.391753        0.047688   \n",
       "17   0.0   14.0  0.383838            0.990  0.383838        0.387636   \n",
       "19   0.0   22.0  0.535353            0.990  0.535353        0.518953   \n",
       "..   ...    ...       ...              ...       ...             ...   \n",
       "436  1.0  292.0  0.650456            0.987  0.660000             NaN   \n",
       "439  0.0  308.0  0.697917            0.960  0.793814        0.563572   \n",
       "450  0.0  317.0  0.454545            0.990  0.454545             NaN   \n",
       "452  0.0  316.0  0.536906            0.989  0.536906             NaN   \n",
       "454  0.0  318.0  0.424242            0.990  0.424242        0.493255   \n",
       "\n",
       "     no_party_id  gov_elec  senate_elec  mindonors  \n",
       "9            1.0       1.0          1.0     6000.0  \n",
       "10           1.0       1.0          1.0    39400.0  \n",
       "14           1.0       0.0          0.0    13000.0  \n",
       "17           0.0       1.0          1.0      960.0  \n",
       "19           0.0       1.0          1.0    84437.0  \n",
       "..           ...       ...          ...        ...  \n",
       "436          1.0       0.0          1.0   127200.0  \n",
       "439          0.0       1.0          0.0   800422.0  \n",
       "450          1.0       1.0          1.0     9750.0  \n",
       "452          1.0       1.0          0.0    50850.0  \n",
       "454          0.0       0.0          1.0    49500.0  \n",
       "\n",
       "[111 rows x 151 columns]"
      ]
     },
     "execution_count": 20,
     "metadata": {},
     "output_type": "execute_result"
    }
   ],
   "source": [
    "ten_and_cutoff = greater_than_cutoff[abs(greater_than_cutoff['rv'])<=.1]\n",
    "ten_and_cutoff"
   ]
  },
  {
   "cell_type": "markdown",
   "metadata": {},
   "source": [
    "## Part 2. Replicating Table 1.\n",
    "\n",
    "We will first replicate the Hall and Thompson estimates on vote share. We do this replication because our subsequent analyses will be using a smaller dataset that only includes election years since the beginning of the Cooperative Congressional Election Study (CCES) in 2006.\n",
    "\n",
    "We will also refer back to these vote-share estimates later in interpreting the turnout estimates. Table 1 in the paper these estimates. Note we will not replicate columns 4 and 8, which use a more complicated procedure."
   ]
  },
  {
   "cell_type": "markdown",
   "metadata": {},
   "source": [
    "In the Hall and Thompson paper, TABLE 1 shows the effect of extremist mominee on party’s general-election vote share and victory for the US House from 2006–2014.\n",
    "\n",
    "For this problem you will be creating the estimates of the effect of electing an extremist on vote share. \n",
    "\n",
    "In order to perform a local linear ordinary least squares (OLS) we will use the `smf.ols` function we have been working with in labs. (Revisit lab 10 if you need a refresher for the questions in this part)"
   ]
  },
  {
   "cell_type": "markdown",
   "metadata": {},
   "source": [
    "**Question 2.1. To replicate the first column of table 1, run a regression with `vote_general` as the dependent variable, and `treat`, `rv`, and an interaction term between `treat` and `rv` as the independent variables, with `ten_and_cutoff` as the data frame. (note: the standard errors will not match for reasons we haven't covered, but the coefficient should match.)**"
   ]
  },
  {
   "cell_type": "code",
   "execution_count": 21,
   "metadata": {},
   "outputs": [
    {
     "data": {
      "text/html": [
       "<table class=\"simpletable\">\n",
       "<caption>OLS Regression Results</caption>\n",
       "<tr>\n",
       "  <th>Dep. Variable:</th>      <td>vote_general</td>   <th>  R-squared:         </th> <td>   0.094</td>\n",
       "</tr>\n",
       "<tr>\n",
       "  <th>Model:</th>                   <td>OLS</td>       <th>  Adj. R-squared:    </th> <td>   0.069</td>\n",
       "</tr>\n",
       "<tr>\n",
       "  <th>Method:</th>             <td>Least Squares</td>  <th>  F-statistic:       </th> <td>   3.721</td>\n",
       "</tr>\n",
       "<tr>\n",
       "  <th>Date:</th>             <td>Tue, 07 Nov 2023</td> <th>  Prob (F-statistic):</th>  <td>0.0137</td> \n",
       "</tr>\n",
       "<tr>\n",
       "  <th>Time:</th>                 <td>10:28:37</td>     <th>  Log-Likelihood:    </th> <td>  73.950</td>\n",
       "</tr>\n",
       "<tr>\n",
       "  <th>No. Observations:</th>      <td>   111</td>      <th>  AIC:               </th> <td>  -139.9</td>\n",
       "</tr>\n",
       "<tr>\n",
       "  <th>Df Residuals:</th>          <td>   107</td>      <th>  BIC:               </th> <td>  -129.1</td>\n",
       "</tr>\n",
       "<tr>\n",
       "  <th>Df Model:</th>              <td>     3</td>      <th>                     </th>     <td> </td>   \n",
       "</tr>\n",
       "<tr>\n",
       "  <th>Covariance Type:</th>      <td>nonrobust</td>    <th>                     </th>     <td> </td>   \n",
       "</tr>\n",
       "</table>\n",
       "<table class=\"simpletable\">\n",
       "<tr>\n",
       "      <td></td>         <th>coef</th>     <th>std err</th>      <th>t</th>      <th>P>|t|</th>  <th>[0.025</th>    <th>0.975]</th>  \n",
       "</tr>\n",
       "<tr>\n",
       "  <th>Intercept</th> <td>    0.5678</td> <td>    0.034</td> <td>   16.781</td> <td> 0.000</td> <td>    0.501</td> <td>    0.635</td>\n",
       "</tr>\n",
       "<tr>\n",
       "  <th>treat</th>     <td>   -0.1223</td> <td>    0.046</td> <td>   -2.640</td> <td> 0.010</td> <td>   -0.214</td> <td>   -0.030</td>\n",
       "</tr>\n",
       "<tr>\n",
       "  <th>rv</th>        <td>    0.0622</td> <td>    0.575</td> <td>    0.108</td> <td> 0.914</td> <td>   -1.079</td> <td>    1.203</td>\n",
       "</tr>\n",
       "<tr>\n",
       "  <th>treat:rv</th>  <td>    1.3916</td> <td>    0.836</td> <td>    1.665</td> <td> 0.099</td> <td>   -0.266</td> <td>    3.049</td>\n",
       "</tr>\n",
       "</table>\n",
       "<table class=\"simpletable\">\n",
       "<tr>\n",
       "  <th>Omnibus:</th>       <td>12.193</td> <th>  Durbin-Watson:     </th> <td>   1.728</td>\n",
       "</tr>\n",
       "<tr>\n",
       "  <th>Prob(Omnibus):</th> <td> 0.002</td> <th>  Jarque-Bera (JB):  </th> <td>  13.768</td>\n",
       "</tr>\n",
       "<tr>\n",
       "  <th>Skew:</th>          <td> 0.666</td> <th>  Prob(JB):          </th> <td> 0.00102</td>\n",
       "</tr>\n",
       "<tr>\n",
       "  <th>Kurtosis:</th>      <td> 4.096</td> <th>  Cond. No.          </th> <td>    88.8</td>\n",
       "</tr>\n",
       "</table><br/><br/>Notes:<br/>[1] Standard Errors assume that the covariance matrix of the errors is correctly specified."
      ],
      "text/plain": [
       "<class 'statsmodels.iolib.summary.Summary'>\n",
       "\"\"\"\n",
       "                            OLS Regression Results                            \n",
       "==============================================================================\n",
       "Dep. Variable:           vote_general   R-squared:                       0.094\n",
       "Model:                            OLS   Adj. R-squared:                  0.069\n",
       "Method:                 Least Squares   F-statistic:                     3.721\n",
       "Date:                Tue, 07 Nov 2023   Prob (F-statistic):             0.0137\n",
       "Time:                        10:28:37   Log-Likelihood:                 73.950\n",
       "No. Observations:                 111   AIC:                            -139.9\n",
       "Df Residuals:                     107   BIC:                            -129.1\n",
       "Df Model:                           3                                         \n",
       "Covariance Type:            nonrobust                                         \n",
       "==============================================================================\n",
       "                 coef    std err          t      P>|t|      [0.025      0.975]\n",
       "------------------------------------------------------------------------------\n",
       "Intercept      0.5678      0.034     16.781      0.000       0.501       0.635\n",
       "treat         -0.1223      0.046     -2.640      0.010      -0.214      -0.030\n",
       "rv             0.0622      0.575      0.108      0.914      -1.079       1.203\n",
       "treat:rv       1.3916      0.836      1.665      0.099      -0.266       3.049\n",
       "==============================================================================\n",
       "Omnibus:                       12.193   Durbin-Watson:                   1.728\n",
       "Prob(Omnibus):                  0.002   Jarque-Bera (JB):               13.768\n",
       "Skew:                           0.666   Prob(JB):                      0.00102\n",
       "Kurtosis:                       4.096   Cond. No.                         88.8\n",
       "==============================================================================\n",
       "\n",
       "Notes:\n",
       "[1] Standard Errors assume that the covariance matrix of the errors is correctly specified.\n",
       "\"\"\""
      ]
     },
     "execution_count": 21,
     "metadata": {},
     "output_type": "execute_result"
    }
   ],
   "source": [
    "smf.ols('vote_general ~ treat + rv + treat:rv', data=ten_and_cutoff).fit().summary()"
   ]
  },
  {
   "cell_type": "markdown",
   "metadata": {},
   "source": [
    "**Question 2.2. Create a graphical version of this regression, by (1) creating subsets of `ten_and_cutoff` for `rv < 0` and `rv > 0`, and then use `sns.regplot` to plot the best fit line on both sides of 0.**"
   ]
  },
  {
   "cell_type": "code",
   "execution_count": 23,
   "metadata": {},
   "outputs": [
    {
     "data": {
      "text/plain": [
       "<AxesSubplot:xlabel='rv', ylabel='vote_general'>"
      ]
     },
     "execution_count": 23,
     "metadata": {},
     "output_type": "execute_result"
    },
    {
     "data": {
      "image/png": "[encoded data removed]",
      "text/plain": [
       "<Figure size 432x288 with 1 Axes>"
      ]
     },
     "metadata": {
      "needs_background": "light"
     },
     "output_type": "display_data"
    }
   ],
   "source": [
    "ten_and_cutoff0 = ten_and_cutoff[ten_and_cutoff['rv']<0]\n",
    "ten_and_cutoff1 = ten_and_cutoff[ten_and_cutoff['rv']>0]\n",
    "sns.regplot(x='rv', y='vote_general', data=ten_and_cutoff0)\n",
    "sns.regplot(x='rv', y='vote_general', data=ten_and_cutoff1)"
   ]
  },
  {
   "cell_type": "markdown",
   "metadata": {},
   "source": [
    "**Question 2.3 Now replicate the second and third columns by (1) adding the polynomial terms, and (2) using the `greater_than_cutoff` data (there is no \"bandwith\" here, so the authors are not restricting to cases within 10%). Note: unlike cases in class where we used interaction terms between `treat` and the running variable, there are no interaction terms in this specification.**"
   ]
  },
  {
   "cell_type": "code",
   "execution_count": 24,
   "metadata": {},
   "outputs": [
    {
     "data": {
      "text/html": [
       "<table class=\"simpletable\">\n",
       "<caption>OLS Regression Results</caption>\n",
       "<tr>\n",
       "  <th>Dep. Variable:</th>      <td>vote_general</td>   <th>  R-squared:         </th> <td>   0.136</td>\n",
       "</tr>\n",
       "<tr>\n",
       "  <th>Model:</th>                   <td>OLS</td>       <th>  Adj. R-squared:    </th> <td>   0.121</td>\n",
       "</tr>\n",
       "<tr>\n",
       "  <th>Method:</th>             <td>Least Squares</td>  <th>  F-statistic:       </th> <td>   8.854</td>\n",
       "</tr>\n",
       "<tr>\n",
       "  <th>Date:</th>             <td>Tue, 07 Nov 2023</td> <th>  Prob (F-statistic):</th> <td>1.18e-06</td>\n",
       "</tr>\n",
       "<tr>\n",
       "  <th>Time:</th>                 <td>10:33:20</td>     <th>  Log-Likelihood:    </th> <td>  105.64</td>\n",
       "</tr>\n",
       "<tr>\n",
       "  <th>No. Observations:</th>      <td>   230</td>      <th>  AIC:               </th> <td>  -201.3</td>\n",
       "</tr>\n",
       "<tr>\n",
       "  <th>Df Residuals:</th>          <td>   225</td>      <th>  BIC:               </th> <td>  -184.1</td>\n",
       "</tr>\n",
       "<tr>\n",
       "  <th>Df Model:</th>              <td>     4</td>      <th>                     </th>     <td> </td>   \n",
       "</tr>\n",
       "<tr>\n",
       "  <th>Covariance Type:</th>      <td>nonrobust</td>    <th>                     </th>     <td> </td>   \n",
       "</tr>\n",
       "</table>\n",
       "<table class=\"simpletable\">\n",
       "<tr>\n",
       "      <td></td>         <th>coef</th>     <th>std err</th>      <th>t</th>      <th>P>|t|</th>  <th>[0.025</th>    <th>0.975]</th>  \n",
       "</tr>\n",
       "<tr>\n",
       "  <th>Intercept</th> <td>    0.5714</td> <td>    0.024</td> <td>   24.293</td> <td> 0.000</td> <td>    0.525</td> <td>    0.618</td>\n",
       "</tr>\n",
       "<tr>\n",
       "  <th>treat</th>     <td>   -0.0669</td> <td>    0.041</td> <td>   -1.648</td> <td> 0.101</td> <td>   -0.147</td> <td>    0.013</td>\n",
       "</tr>\n",
       "<tr>\n",
       "  <th>rv</th>        <td>    0.0671</td> <td>    0.196</td> <td>    0.343</td> <td> 0.732</td> <td>   -0.319</td> <td>    0.453</td>\n",
       "</tr>\n",
       "<tr>\n",
       "  <th>rv2</th>       <td>    1.3859</td> <td>    0.261</td> <td>    5.301</td> <td> 0.000</td> <td>    0.871</td> <td>    1.901</td>\n",
       "</tr>\n",
       "<tr>\n",
       "  <th>rv3</th>       <td>   -1.2585</td> <td>    1.346</td> <td>   -0.935</td> <td> 0.351</td> <td>   -3.911</td> <td>    1.394</td>\n",
       "</tr>\n",
       "</table>\n",
       "<table class=\"simpletable\">\n",
       "<tr>\n",
       "  <th>Omnibus:</th>       <td>20.185</td> <th>  Durbin-Watson:     </th> <td>   2.001</td>\n",
       "</tr>\n",
       "<tr>\n",
       "  <th>Prob(Omnibus):</th> <td> 0.000</td> <th>  Jarque-Bera (JB):  </th> <td>  23.345</td>\n",
       "</tr>\n",
       "<tr>\n",
       "  <th>Skew:</th>          <td> 0.685</td> <th>  Prob(JB):          </th> <td>8.52e-06</td>\n",
       "</tr>\n",
       "<tr>\n",
       "  <th>Kurtosis:</th>      <td> 3.749</td> <th>  Cond. No.          </th> <td>    153.</td>\n",
       "</tr>\n",
       "</table><br/><br/>Notes:<br/>[1] Standard Errors assume that the covariance matrix of the errors is correctly specified."
      ],
      "text/plain": [
       "<class 'statsmodels.iolib.summary.Summary'>\n",
       "\"\"\"\n",
       "                            OLS Regression Results                            \n",
       "==============================================================================\n",
       "Dep. Variable:           vote_general   R-squared:                       0.136\n",
       "Model:                            OLS   Adj. R-squared:                  0.121\n",
       "Method:                 Least Squares   F-statistic:                     8.854\n",
       "Date:                Tue, 07 Nov 2023   Prob (F-statistic):           1.18e-06\n",
       "Time:                        10:33:20   Log-Likelihood:                 105.64\n",
       "No. Observations:                 230   AIC:                            -201.3\n",
       "Df Residuals:                     225   BIC:                            -184.1\n",
       "Df Model:                           4                                         \n",
       "Covariance Type:            nonrobust                                         \n",
       "==============================================================================\n",
       "                 coef    std err          t      P>|t|      [0.025      0.975]\n",
       "------------------------------------------------------------------------------\n",
       "Intercept      0.5714      0.024     24.293      0.000       0.525       0.618\n",
       "treat         -0.0669      0.041     -1.648      0.101      -0.147       0.013\n",
       "rv             0.0671      0.196      0.343      0.732      -0.319       0.453\n",
       "rv2            1.3859      0.261      5.301      0.000       0.871       1.901\n",
       "rv3           -1.2585      1.346     -0.935      0.351      -3.911       1.394\n",
       "==============================================================================\n",
       "Omnibus:                       20.185   Durbin-Watson:                   2.001\n",
       "Prob(Omnibus):                  0.000   Jarque-Bera (JB):               23.345\n",
       "Skew:                           0.685   Prob(JB):                     8.52e-06\n",
       "Kurtosis:                       3.749   Cond. No.                         153.\n",
       "==============================================================================\n",
       "\n",
       "Notes:\n",
       "[1] Standard Errors assume that the covariance matrix of the errors is correctly specified.\n",
       "\"\"\""
      ]
     },
     "execution_count": 24,
     "metadata": {},
     "output_type": "execute_result"
    }
   ],
   "source": [
    "smf.ols('vote_general ~ treat + rv + rv2 + rv3', data=greater_than_cutoff).fit().summary()"
   ]
  },
  {
   "cell_type": "code",
   "execution_count": 25,
   "metadata": {},
   "outputs": [
    {
     "data": {
      "text/html": [
       "<table class=\"simpletable\">\n",
       "<caption>OLS Regression Results</caption>\n",
       "<tr>\n",
       "  <th>Dep. Variable:</th>      <td>vote_general</td>   <th>  R-squared:         </th> <td>   0.143</td>\n",
       "</tr>\n",
       "<tr>\n",
       "  <th>Model:</th>                   <td>OLS</td>       <th>  Adj. R-squared:    </th> <td>   0.120</td>\n",
       "</tr>\n",
       "<tr>\n",
       "  <th>Method:</th>             <td>Least Squares</td>  <th>  F-statistic:       </th> <td>   6.204</td>\n",
       "</tr>\n",
       "<tr>\n",
       "  <th>Date:</th>             <td>Tue, 07 Nov 2023</td> <th>  Prob (F-statistic):</th> <td>4.86e-06</td>\n",
       "</tr>\n",
       "<tr>\n",
       "  <th>Time:</th>                 <td>10:34:23</td>     <th>  Log-Likelihood:    </th> <td>  106.58</td>\n",
       "</tr>\n",
       "<tr>\n",
       "  <th>No. Observations:</th>      <td>   230</td>      <th>  AIC:               </th> <td>  -199.2</td>\n",
       "</tr>\n",
       "<tr>\n",
       "  <th>Df Residuals:</th>          <td>   223</td>      <th>  BIC:               </th> <td>  -175.1</td>\n",
       "</tr>\n",
       "<tr>\n",
       "  <th>Df Model:</th>              <td>     6</td>      <th>                     </th>     <td> </td>   \n",
       "</tr>\n",
       "<tr>\n",
       "  <th>Covariance Type:</th>      <td>nonrobust</td>    <th>                     </th>     <td> </td>   \n",
       "</tr>\n",
       "</table>\n",
       "<table class=\"simpletable\">\n",
       "<tr>\n",
       "      <td></td>         <th>coef</th>     <th>std err</th>      <th>t</th>      <th>P>|t|</th>  <th>[0.025</th>    <th>0.975]</th>  \n",
       "</tr>\n",
       "<tr>\n",
       "  <th>Intercept</th> <td>    0.5859</td> <td>    0.028</td> <td>   21.088</td> <td> 0.000</td> <td>    0.531</td> <td>    0.641</td>\n",
       "</tr>\n",
       "<tr>\n",
       "  <th>treat</th>     <td>   -0.0976</td> <td>    0.047</td> <td>   -2.083</td> <td> 0.038</td> <td>   -0.190</td> <td>   -0.005</td>\n",
       "</tr>\n",
       "<tr>\n",
       "  <th>rv</th>        <td>    0.3767</td> <td>    0.307</td> <td>    1.228</td> <td> 0.221</td> <td>   -0.228</td> <td>    0.981</td>\n",
       "</tr>\n",
       "<tr>\n",
       "  <th>rv2</th>       <td>    1.5128</td> <td>    0.708</td> <td>    2.135</td> <td> 0.034</td> <td>    0.117</td> <td>    2.909</td>\n",
       "</tr>\n",
       "<tr>\n",
       "  <th>rv3</th>       <td>   -7.8378</td> <td>    5.158</td> <td>   -1.519</td> <td> 0.130</td> <td>  -18.003</td> <td>    2.328</td>\n",
       "</tr>\n",
       "<tr>\n",
       "  <th>rv4</th>       <td>   -0.6613</td> <td>    4.706</td> <td>   -0.141</td> <td> 0.888</td> <td>   -9.936</td> <td>    8.613</td>\n",
       "</tr>\n",
       "<tr>\n",
       "  <th>rv5</th>       <td>   30.7657</td> <td>   23.162</td> <td>    1.328</td> <td> 0.185</td> <td>  -14.879</td> <td>   76.410</td>\n",
       "</tr>\n",
       "</table>\n",
       "<table class=\"simpletable\">\n",
       "<tr>\n",
       "  <th>Omnibus:</th>       <td>19.495</td> <th>  Durbin-Watson:     </th> <td>   1.997</td>\n",
       "</tr>\n",
       "<tr>\n",
       "  <th>Prob(Omnibus):</th> <td> 0.000</td> <th>  Jarque-Bera (JB):  </th> <td>  22.679</td>\n",
       "</tr>\n",
       "<tr>\n",
       "  <th>Skew:</th>          <td> 0.658</td> <th>  Prob(JB):          </th> <td>1.19e-05</td>\n",
       "</tr>\n",
       "<tr>\n",
       "  <th>Kurtosis:</th>      <td> 3.797</td> <th>  Cond. No.          </th> <td>2.67e+03</td>\n",
       "</tr>\n",
       "</table><br/><br/>Notes:<br/>[1] Standard Errors assume that the covariance matrix of the errors is correctly specified.<br/>[2] The condition number is large, 2.67e+03. This might indicate that there are<br/>strong multicollinearity or other numerical problems."
      ],
      "text/plain": [
       "<class 'statsmodels.iolib.summary.Summary'>\n",
       "\"\"\"\n",
       "                            OLS Regression Results                            \n",
       "==============================================================================\n",
       "Dep. Variable:           vote_general   R-squared:                       0.143\n",
       "Model:                            OLS   Adj. R-squared:                  0.120\n",
       "Method:                 Least Squares   F-statistic:                     6.204\n",
       "Date:                Tue, 07 Nov 2023   Prob (F-statistic):           4.86e-06\n",
       "Time:                        10:34:23   Log-Likelihood:                 106.58\n",
       "No. Observations:                 230   AIC:                            -199.2\n",
       "Df Residuals:                     223   BIC:                            -175.1\n",
       "Df Model:                           6                                         \n",
       "Covariance Type:            nonrobust                                         \n",
       "==============================================================================\n",
       "                 coef    std err          t      P>|t|      [0.025      0.975]\n",
       "------------------------------------------------------------------------------\n",
       "Intercept      0.5859      0.028     21.088      0.000       0.531       0.641\n",
       "treat         -0.0976      0.047     -2.083      0.038      -0.190      -0.005\n",
       "rv             0.3767      0.307      1.228      0.221      -0.228       0.981\n",
       "rv2            1.5128      0.708      2.135      0.034       0.117       2.909\n",
       "rv3           -7.8378      5.158     -1.519      0.130     -18.003       2.328\n",
       "rv4           -0.6613      4.706     -0.141      0.888      -9.936       8.613\n",
       "rv5           30.7657     23.162      1.328      0.185     -14.879      76.410\n",
       "==============================================================================\n",
       "Omnibus:                       19.495   Durbin-Watson:                   1.997\n",
       "Prob(Omnibus):                  0.000   Jarque-Bera (JB):               22.679\n",
       "Skew:                           0.658   Prob(JB):                     1.19e-05\n",
       "Kurtosis:                       3.797   Cond. No.                     2.67e+03\n",
       "==============================================================================\n",
       "\n",
       "Notes:\n",
       "[1] Standard Errors assume that the covariance matrix of the errors is correctly specified.\n",
       "[2] The condition number is large, 2.67e+03. This might indicate that there are\n",
       "strong multicollinearity or other numerical problems.\n",
       "\"\"\""
      ]
     },
     "execution_count": 25,
     "metadata": {},
     "output_type": "execute_result"
    }
   ],
   "source": [
    "smf.ols('vote_general ~ treat + rv + rv2 + rv3 + rv4 + rv5', data=greater_than_cutoff).fit().summary()"
   ]
  },
  {
   "cell_type": "markdown",
   "metadata": {},
   "source": [
    "Note that there are a lot of \"modeling choices\" here: how many polynomial terms to include, whether to restrict the \"bandwith\" to relatively close elections, and whether to include interaction terms between the running variable (/polynomial temrs) and the treatment. \n",
    "\n",
    "**Question 2.4. Come up with an alternative specification of a model that varies one or more of these decisions (though keep `vote_general` as the dependent variable and `treat` as one of the independent variables). How does this affect the coefficent you get on `treat`?**"
   ]
  },
  {
   "cell_type": "code",
   "execution_count": 27,
   "metadata": {},
   "outputs": [
    {
     "data": {
      "text/html": [
       "<table class=\"simpletable\">\n",
       "<caption>OLS Regression Results</caption>\n",
       "<tr>\n",
       "  <th>Dep. Variable:</th>      <td>vote_general</td>   <th>  R-squared:         </th> <td>   0.115</td>\n",
       "</tr>\n",
       "<tr>\n",
       "  <th>Model:</th>                   <td>OLS</td>       <th>  Adj. R-squared:    </th> <td>   0.073</td>\n",
       "</tr>\n",
       "<tr>\n",
       "  <th>Method:</th>             <td>Least Squares</td>  <th>  F-statistic:       </th> <td>   2.730</td>\n",
       "</tr>\n",
       "<tr>\n",
       "  <th>Date:</th>             <td>Tue, 07 Nov 2023</td> <th>  Prob (F-statistic):</th>  <td>0.0232</td> \n",
       "</tr>\n",
       "<tr>\n",
       "  <th>Time:</th>                 <td>10:35:43</td>     <th>  Log-Likelihood:    </th> <td>  75.225</td>\n",
       "</tr>\n",
       "<tr>\n",
       "  <th>No. Observations:</th>      <td>   111</td>      <th>  AIC:               </th> <td>  -138.5</td>\n",
       "</tr>\n",
       "<tr>\n",
       "  <th>Df Residuals:</th>          <td>   105</td>      <th>  BIC:               </th> <td>  -122.2</td>\n",
       "</tr>\n",
       "<tr>\n",
       "  <th>Df Model:</th>              <td>     5</td>      <th>                     </th>     <td> </td>   \n",
       "</tr>\n",
       "<tr>\n",
       "  <th>Covariance Type:</th>      <td>nonrobust</td>    <th>                     </th>     <td> </td>   \n",
       "</tr>\n",
       "</table>\n",
       "<table class=\"simpletable\">\n",
       "<tr>\n",
       "      <td></td>         <th>coef</th>     <th>std err</th>      <th>t</th>      <th>P>|t|</th>  <th>[0.025</th>    <th>0.975]</th>  \n",
       "</tr>\n",
       "<tr>\n",
       "  <th>Intercept</th> <td>    0.5999</td> <td>    0.051</td> <td>   11.783</td> <td> 0.000</td> <td>    0.499</td> <td>    0.701</td>\n",
       "</tr>\n",
       "<tr>\n",
       "  <th>treat</th>     <td>   -0.1946</td> <td>    0.067</td> <td>   -2.893</td> <td> 0.005</td> <td>   -0.328</td> <td>   -0.061</td>\n",
       "</tr>\n",
       "<tr>\n",
       "  <th>rv</th>        <td>    1.9096</td> <td>    2.272</td> <td>    0.841</td> <td> 0.403</td> <td>   -2.595</td> <td>    6.414</td>\n",
       "</tr>\n",
       "<tr>\n",
       "  <th>rv2</th>       <td>   18.1775</td> <td>   21.628</td> <td>    0.840</td> <td> 0.403</td> <td>  -24.706</td> <td>   61.061</td>\n",
       "</tr>\n",
       "<tr>\n",
       "  <th>treat:rv</th>  <td>    2.2852</td> <td>    3.140</td> <td>    0.728</td> <td> 0.468</td> <td>   -3.940</td> <td>    8.511</td>\n",
       "</tr>\n",
       "<tr>\n",
       "  <th>treat:rv2</th> <td>  -47.1086</td> <td>   30.825</td> <td>   -1.528</td> <td> 0.129</td> <td> -108.229</td> <td>   14.011</td>\n",
       "</tr>\n",
       "</table>\n",
       "<table class=\"simpletable\">\n",
       "<tr>\n",
       "  <th>Omnibus:</th>       <td>12.812</td> <th>  Durbin-Watson:     </th> <td>   1.720</td>\n",
       "</tr>\n",
       "<tr>\n",
       "  <th>Prob(Omnibus):</th> <td> 0.002</td> <th>  Jarque-Bera (JB):  </th> <td>  14.872</td>\n",
       "</tr>\n",
       "<tr>\n",
       "  <th>Skew:</th>          <td> 0.678</td> <th>  Prob(JB):          </th> <td>0.000590</td>\n",
       "</tr>\n",
       "<tr>\n",
       "  <th>Kurtosis:</th>      <td> 4.172</td> <th>  Cond. No.          </th> <td>3.31e+03</td>\n",
       "</tr>\n",
       "</table><br/><br/>Notes:<br/>[1] Standard Errors assume that the covariance matrix of the errors is correctly specified.<br/>[2] The condition number is large, 3.31e+03. This might indicate that there are<br/>strong multicollinearity or other numerical problems."
      ],
      "text/plain": [
       "<class 'statsmodels.iolib.summary.Summary'>\n",
       "\"\"\"\n",
       "                            OLS Regression Results                            \n",
       "==============================================================================\n",
       "Dep. Variable:           vote_general   R-squared:                       0.115\n",
       "Model:                            OLS   Adj. R-squared:                  0.073\n",
       "Method:                 Least Squares   F-statistic:                     2.730\n",
       "Date:                Tue, 07 Nov 2023   Prob (F-statistic):             0.0232\n",
       "Time:                        10:35:43   Log-Likelihood:                 75.225\n",
       "No. Observations:                 111   AIC:                            -138.5\n",
       "Df Residuals:                     105   BIC:                            -122.2\n",
       "Df Model:                           5                                         \n",
       "Covariance Type:            nonrobust                                         \n",
       "==============================================================================\n",
       "                 coef    std err          t      P>|t|      [0.025      0.975]\n",
       "------------------------------------------------------------------------------\n",
       "Intercept      0.5999      0.051     11.783      0.000       0.499       0.701\n",
       "treat         -0.1946      0.067     -2.893      0.005      -0.328      -0.061\n",
       "rv             1.9096      2.272      0.841      0.403      -2.595       6.414\n",
       "rv2           18.1775     21.628      0.840      0.403     -24.706      61.061\n",
       "treat:rv       2.2852      3.140      0.728      0.468      -3.940       8.511\n",
       "treat:rv2    -47.1086     30.825     -1.528      0.129    -108.229      14.011\n",
       "==============================================================================\n",
       "Omnibus:                       12.812   Durbin-Watson:                   1.720\n",
       "Prob(Omnibus):                  0.002   Jarque-Bera (JB):               14.872\n",
       "Skew:                           0.678   Prob(JB):                     0.000590\n",
       "Kurtosis:                       4.172   Cond. No.                     3.31e+03\n",
       "==============================================================================\n",
       "\n",
       "Notes:\n",
       "[1] Standard Errors assume that the covariance matrix of the errors is correctly specified.\n",
       "[2] The condition number is large, 3.31e+03. This might indicate that there are\n",
       "strong multicollinearity or other numerical problems.\n",
       "\"\"\""
      ]
     },
     "execution_count": 27,
     "metadata": {},
     "output_type": "execute_result"
    }
   ],
   "source": [
    "smf.ols('vote_general ~ treat + rv + rv2 + treat:rv + treat:rv2', data=ten_and_cutoff).fit().summary()"
   ]
  },
  {
   "cell_type": "code",
   "execution_count": 26,
   "metadata": {},
   "outputs": [
    {
     "data": {
      "text/plain": [
       "<AxesSubplot:xlabel='rv', ylabel='vote_general'>"
      ]
     },
     "execution_count": 26,
     "metadata": {},
     "output_type": "execute_result"
    },
    {
     "data": {
      "image/png": "[encoded data removed]",
      "text/plain": [
       "<Figure size 432x288 with 1 Axes>"
      ]
     },
     "metadata": {
      "needs_background": "light"
     },
     "output_type": "display_data"
    }
   ],
   "source": [
    "sns.regplot(x='rv', y='vote_general', data=ten_and_cutoff0, order=2)\n",
    "sns.regplot(x='rv', y='vote_general', data=ten_and_cutoff1, order=2)"
   ]
  },
  {
   "cell_type": "markdown",
   "metadata": {},
   "source": [
    "Adding a squared term and also fitting seperate curves leads to an even bigger jump down as the extremist goes from barely winning to barely losing."
   ]
  },
  {
   "cell_type": "markdown",
   "metadata": {},
   "source": [
    "**Question 2.5 [Optional]. Replicate columns 5-7 of the table, which are the same as 1-3 but with `victory_general` as the independent varibale.**"
   ]
  },
  {
   "cell_type": "code",
   "execution_count": null,
   "metadata": {},
   "outputs": [],
   "source": []
  },
  {
   "cell_type": "markdown",
   "metadata": {},
   "source": [
    "What do we learn from these values and why are they important?"
   ]
  },
  {
   "cell_type": "markdown",
   "metadata": {},
   "source": [
    "## Part 3: Effects on Partisian Turnout\n",
    "\n",
    "Having documented the effect of extremist nominees on vote share, we now examine their effect on partisan turnout.\n",
    "\n",
    "**Question 3.1 Repllicate the coefficients on `Extremist Nominee` in columns 1 of Table 2 by running similar regression as in 2.1 but with `turnout_party_share` as the dependent variable.**"
   ]
  },
  {
   "cell_type": "code",
   "execution_count": 34,
   "metadata": {},
   "outputs": [
    {
     "data": {
      "text/html": [
       "<table class=\"simpletable\">\n",
       "<caption>OLS Regression Results</caption>\n",
       "<tr>\n",
       "  <th>Dep. Variable:</th>    <td>turnout_party_share</td> <th>  R-squared:         </th> <td>   0.066</td>\n",
       "</tr>\n",
       "<tr>\n",
       "  <th>Model:</th>                    <td>OLS</td>         <th>  Adj. R-squared:    </th> <td>   0.039</td>\n",
       "</tr>\n",
       "<tr>\n",
       "  <th>Method:</th>              <td>Least Squares</td>    <th>  F-statistic:       </th> <td>   2.424</td>\n",
       "</tr>\n",
       "<tr>\n",
       "  <th>Date:</th>              <td>Tue, 07 Nov 2023</td>   <th>  Prob (F-statistic):</th>  <td>0.0700</td> \n",
       "</tr>\n",
       "<tr>\n",
       "  <th>Time:</th>                  <td>13:52:14</td>       <th>  Log-Likelihood:    </th> <td>  74.976</td>\n",
       "</tr>\n",
       "<tr>\n",
       "  <th>No. Observations:</th>       <td>   107</td>        <th>  AIC:               </th> <td>  -142.0</td>\n",
       "</tr>\n",
       "<tr>\n",
       "  <th>Df Residuals:</th>           <td>   103</td>        <th>  BIC:               </th> <td>  -131.3</td>\n",
       "</tr>\n",
       "<tr>\n",
       "  <th>Df Model:</th>               <td>     3</td>        <th>                     </th>     <td> </td>   \n",
       "</tr>\n",
       "<tr>\n",
       "  <th>Covariance Type:</th>       <td>nonrobust</td>      <th>                     </th>     <td> </td>   \n",
       "</tr>\n",
       "</table>\n",
       "<table class=\"simpletable\">\n",
       "<tr>\n",
       "      <td></td>         <th>coef</th>     <th>std err</th>      <th>t</th>      <th>P>|t|</th>  <th>[0.025</th>    <th>0.975]</th>  \n",
       "</tr>\n",
       "<tr>\n",
       "  <th>Intercept</th> <td>    0.5178</td> <td>    0.034</td> <td>   15.391</td> <td> 0.000</td> <td>    0.451</td> <td>    0.585</td>\n",
       "</tr>\n",
       "<tr>\n",
       "  <th>treat</th>     <td>   -0.0955</td> <td>    0.045</td> <td>   -2.100</td> <td> 0.038</td> <td>   -0.186</td> <td>   -0.005</td>\n",
       "</tr>\n",
       "<tr>\n",
       "  <th>rv</th>        <td>    0.0391</td> <td>    0.569</td> <td>    0.069</td> <td> 0.945</td> <td>   -1.089</td> <td>    1.167</td>\n",
       "</tr>\n",
       "<tr>\n",
       "  <th>treat:rv</th>  <td>    1.0410</td> <td>    0.817</td> <td>    1.274</td> <td> 0.205</td> <td>   -0.579</td> <td>    2.661</td>\n",
       "</tr>\n",
       "</table>\n",
       "<table class=\"simpletable\">\n",
       "<tr>\n",
       "  <th>Omnibus:</th>       <td>12.179</td> <th>  Durbin-Watson:     </th> <td>   1.819</td>\n",
       "</tr>\n",
       "<tr>\n",
       "  <th>Prob(Omnibus):</th> <td> 0.002</td> <th>  Jarque-Bera (JB):  </th> <td>  36.992</td>\n",
       "</tr>\n",
       "<tr>\n",
       "  <th>Skew:</th>          <td> 0.051</td> <th>  Prob(JB):          </th> <td>9.28e-09</td>\n",
       "</tr>\n",
       "<tr>\n",
       "  <th>Kurtosis:</th>      <td> 5.879</td> <th>  Cond. No.          </th> <td>    89.3</td>\n",
       "</tr>\n",
       "</table><br/><br/>Notes:<br/>[1] Standard Errors assume that the covariance matrix of the errors is correctly specified."
      ],
      "text/plain": [
       "<class 'statsmodels.iolib.summary.Summary'>\n",
       "\"\"\"\n",
       "                             OLS Regression Results                            \n",
       "===============================================================================\n",
       "Dep. Variable:     turnout_party_share   R-squared:                       0.066\n",
       "Model:                             OLS   Adj. R-squared:                  0.039\n",
       "Method:                  Least Squares   F-statistic:                     2.424\n",
       "Date:                 Tue, 07 Nov 2023   Prob (F-statistic):             0.0700\n",
       "Time:                         13:52:14   Log-Likelihood:                 74.976\n",
       "No. Observations:                  107   AIC:                            -142.0\n",
       "Df Residuals:                      103   BIC:                            -131.3\n",
       "Df Model:                            3                                         \n",
       "Covariance Type:             nonrobust                                         \n",
       "==============================================================================\n",
       "                 coef    std err          t      P>|t|      [0.025      0.975]\n",
       "------------------------------------------------------------------------------\n",
       "Intercept      0.5178      0.034     15.391      0.000       0.451       0.585\n",
       "treat         -0.0955      0.045     -2.100      0.038      -0.186      -0.005\n",
       "rv             0.0391      0.569      0.069      0.945      -1.089       1.167\n",
       "treat:rv       1.0410      0.817      1.274      0.205      -0.579       2.661\n",
       "==============================================================================\n",
       "Omnibus:                       12.179   Durbin-Watson:                   1.819\n",
       "Prob(Omnibus):                  0.002   Jarque-Bera (JB):               36.992\n",
       "Skew:                           0.051   Prob(JB):                     9.28e-09\n",
       "Kurtosis:                       5.879   Cond. No.                         89.3\n",
       "==============================================================================\n",
       "\n",
       "Notes:\n",
       "[1] Standard Errors assume that the covariance matrix of the errors is correctly specified.\n",
       "\"\"\""
      ]
     },
     "execution_count": 34,
     "metadata": {},
     "output_type": "execute_result"
    }
   ],
   "source": [
    "smf.ols('turnout_party_share ~ treat + rv + treat:rv', data=ten_and_cutoff).fit().summary()"
   ]
  },
  {
   "cell_type": "markdown",
   "metadata": {},
   "source": [
    "**Question 3.2 [Optional] Replicate columns 2-3 of table 2.**"
   ]
  },
  {
   "cell_type": "code",
   "execution_count": null,
   "metadata": {},
   "outputs": [],
   "source": []
  },
  {
   "cell_type": "code",
   "execution_count": null,
   "metadata": {},
   "outputs": [],
   "source": []
  },
  {
   "cell_type": "code",
   "execution_count": null,
   "metadata": {},
   "outputs": [],
   "source": []
  },
  {
   "cell_type": "markdown",
   "metadata": {},
   "source": [
    "In the Hall and Thompson paper, FIGURE 2 shows the effect of extremist mominees on validated partisan turnout in the general election for the US House from 2006–2014. \n",
    "\n",
    "**Question 3.3. Replicate this figure by using two calls of `sns.regplot`, on for `rv < 0` and one for `rv > 0`. To do the binning, add an `x_bins = 5` argument. (The bins won't look exactly the same, but it should be broadly similar.**"
   ]
  },
  {
   "cell_type": "code",
   "execution_count": 38,
   "metadata": {},
   "outputs": [
    {
     "data": {
      "text/plain": [
       "<AxesSubplot:xlabel='rv', ylabel='turnout_party_share'>"
      ]
     },
     "execution_count": 38,
     "metadata": {},
     "output_type": "execute_result"
    },
    {
     "data": {
      "image/png": "[encoded data removed]",
      "text/plain": [
       "<Figure size 432x288 with 1 Axes>"
      ]
     },
     "metadata": {
      "needs_background": "light"
     },
     "output_type": "display_data"
    }
   ],
   "source": [
    "sns.regplot(x='rv', y='turnout_party_share', data=ten_and_cutoff[ten_and_cutoff['rv']<0], x_bins=5)\n",
    "sns.regplot(x='rv', y='turnout_party_share', data=ten_and_cutoff[ten_and_cutoff['rv']>0], x_bins=5)"
   ]
  },
  {
   "cell_type": "markdown",
   "metadata": {},
   "source": [
    "## Part 4. Wrapping up"
   ]
  },
  {
   "cell_type": "markdown",
   "metadata": {},
   "source": [
    "**Question 4.1. What did you learn from this replication exercise? (3-4 sentences)**"
   ]
  },
  {
   "cell_type": "markdown",
   "metadata": {},
   "source": [
    "Words for 4.1"
   ]
  },
  {
   "cell_type": "markdown",
   "metadata": {},
   "source": [
    "**Question 4.2.  What additional data might you want to collect to build on the findings here? What would you expect to find? (4-5 sentences)**"
   ]
  },
  {
   "cell_type": "markdown",
   "metadata": {},
   "source": [
    "Words for 4.2"
   ]
  }
 ],
 "metadata": {
  "history": [
   {
    "code": "use rd_analysis_hs, clear",
    "id": "1bb8dd0f1cb04a479ffe8427ff149f5e",
    "idx": 0,
    "time": "2021-02-03T19:12:52.012Z",
    "type": "execution"
   },
   {
    "id": "1bb8dd0f1cb04a479ffe8427ff149f5e",
    "time": "2021-02-03T19:12:52.137Z",
    "type": "completion"
   },
   {
    "code": "import pandas as pd",
    "id": "1bb8dd0f1cb04a479ffe8427ff149f5e",
    "idx": 0,
    "time": "2021-02-03T19:13:07.580Z",
    "type": "execution"
   },
   {
    "id": "1bb8dd0f1cb04a479ffe8427ff149f5e",
    "time": "2021-02-03T19:13:08.438Z",
    "type": "completion"
   },
   {
    "code": "base_df = pd.read_stata('hall_thompson_replication_files/rd_analysis_hs.dta')\nbase_df.head()",
    "id": "bacbfb0afe76455e82ddb7c595e07312",
    "idx": 1,
    "time": "2021-02-03T19:14:26.432Z",
    "type": "execution"
   },
   {
    "id": "bacbfb0afe76455e82ddb7c595e07312",
    "time": "2021-02-03T19:14:26.801Z",
    "type": "completion"
   },
   {
    "code": "sum absdist, d\ngl cutoff = r(p50)",
    "id": "524a698bfd594356942908bd59f1db70",
    "idx": 2,
    "time": "2021-02-03T19:15:50.786Z",
    "type": "execution"
   },
   {
    "id": "524a698bfd594356942908bd59f1db70",
    "time": "2021-02-03T19:15:50.882Z",
    "type": "completion"
   },
   {
    "code": "sum absdist, d\ngl cutoff = r(p50)",
    "id": "524a698bfd594356942908bd59f1db70",
    "idx": 2,
    "time": "2021-02-03T19:16:29.722Z",
    "type": "execution"
   },
   {
    "id": "524a698bfd594356942908bd59f1db70",
    "time": "2021-02-03T19:16:29.792Z",
    "type": "completion"
   },
   {
    "code": "reg vote_general treat rv treat_rv  if abs(rv)<0.1 & absdist>$cutoff, cluster(g)",
    "id": "1287916bc69b457e985777c09a654301",
    "idx": 3,
    "time": "2021-02-03T19:16:41.853Z",
    "type": "execution"
   },
   {
    "id": "1287916bc69b457e985777c09a654301",
    "time": "2021-02-03T19:16:41.950Z",
    "type": "completion"
   },
   {
    "code": "base_df['vote_general']",
    "id": "b3ebb195abe741b6bc7d156a5ed4b270",
    "idx": 2,
    "time": "2021-02-03T19:27:16.031Z",
    "type": "execution"
   },
   {
    "id": "b3ebb195abe741b6bc7d156a5ed4b270",
    "time": "2021-02-03T19:27:16.155Z",
    "type": "completion"
   },
   {
    "code": "base_df['treat']",
    "id": "b3ebb195abe741b6bc7d156a5ed4b270",
    "idx": 2,
    "time": "2021-02-03T19:29:29.418Z",
    "type": "execution"
   },
   {
    "id": "b3ebb195abe741b6bc7d156a5ed4b270",
    "time": "2021-02-03T19:29:29.530Z",
    "type": "completion"
   },
   {
    "code": "df['r']",
    "id": "cfa5fcd1e84c4b708de5bb15e5b60ad8",
    "idx": 2,
    "time": "2021-02-03T19:34:23.550Z",
    "type": "execution"
   },
   {
    "id": "cfa5fcd1e84c4b708de5bb15e5b60ad8",
    "time": "2021-02-03T19:34:23.799Z",
    "type": "completion"
   },
   {
    "code": "import pandas as pd",
    "id": "1bb8dd0f1cb04a479ffe8427ff149f5e",
    "idx": 0,
    "time": "2021-02-03T19:34:27.876Z",
    "type": "execution"
   },
   {
    "id": "1bb8dd0f1cb04a479ffe8427ff149f5e",
    "time": "2021-02-03T19:34:28.231Z",
    "type": "completion"
   },
   {
    "code": "df = pd.read_stata('hall_thompson_replication_files/rd_analysis_hs.dta')\ndf.head()",
    "id": "bacbfb0afe76455e82ddb7c595e07312",
    "idx": 1,
    "time": "2021-02-03T19:34:28.310Z",
    "type": "execution"
   },
   {
    "id": "bacbfb0afe76455e82ddb7c595e07312",
    "time": "2021-02-03T19:34:28.716Z",
    "type": "completion"
   },
   {
    "code": "df['r']",
    "id": "cfa5fcd1e84c4b708de5bb15e5b60ad8",
    "idx": 2,
    "time": "2021-02-03T19:34:28.815Z",
    "type": "execution"
   },
   {
    "id": "cfa5fcd1e84c4b708de5bb15e5b60ad8",
    "time": "2021-02-03T19:34:28.883Z",
    "type": "completion"
   },
   {
    "code": "df['rv']",
    "id": "cfa5fcd1e84c4b708de5bb15e5b60ad8",
    "idx": 2,
    "time": "2021-02-03T19:34:50.732Z",
    "type": "execution"
   },
   {
    "id": "cfa5fcd1e84c4b708de5bb15e5b60ad8",
    "time": "2021-02-03T19:34:50.857Z",
    "type": "completion"
   },
   {
    "code": "df['treat_rv']",
    "id": "cfa5fcd1e84c4b708de5bb15e5b60ad8",
    "idx": 2,
    "time": "2021-02-03T19:34:57.575Z",
    "type": "execution"
   },
   {
    "id": "cfa5fcd1e84c4b708de5bb15e5b60ad8",
    "time": "2021-02-03T19:34:57.659Z",
    "type": "completion"
   },
   {
    "code": "sum absdist, d\ngl cutoff = r(p50)",
    "id": "9399da4443c247d98ecc6e7ed9bc88a1",
    "idx": 3,
    "time": "2021-02-03T19:36:02.656Z",
    "type": "execution"
   },
   {
    "id": "9399da4443c247d98ecc6e7ed9bc88a1",
    "time": "2021-02-03T19:36:02.745Z",
    "type": "completion"
   },
   {
    "code": "df['absdist']",
    "id": "cfa5fcd1e84c4b708de5bb15e5b60ad8",
    "idx": 2,
    "time": "2021-02-03T19:36:17.591Z",
    "type": "execution"
   },
   {
    "id": "cfa5fcd1e84c4b708de5bb15e5b60ad8",
    "time": "2021-02-03T19:36:17.792Z",
    "type": "completion"
   },
   {
    "code": "sum 'absdist', d\ngl cutoff = r(p50)",
    "id": "9399da4443c247d98ecc6e7ed9bc88a1",
    "idx": 3,
    "time": "2021-02-03T19:36:27.383Z",
    "type": "execution"
   },
   {
    "id": "9399da4443c247d98ecc6e7ed9bc88a1",
    "time": "2021-02-03T19:36:27.488Z",
    "type": "completion"
   },
   {
    "code": "sum('absdist'), d\ngl cutoff = r(p50)",
    "id": "9399da4443c247d98ecc6e7ed9bc88a1",
    "idx": 3,
    "time": "2021-02-03T19:36:41.512Z",
    "type": "execution"
   },
   {
    "id": "9399da4443c247d98ecc6e7ed9bc88a1",
    "time": "2021-02-03T19:36:41.629Z",
    "type": "completion"
   },
   {
    "code": "sum('absdist'), d\ncutoff = r(p50)",
    "id": "9399da4443c247d98ecc6e7ed9bc88a1",
    "idx": 3,
    "time": "2021-02-03T19:39:44.973Z",
    "type": "execution"
   },
   {
    "id": "9399da4443c247d98ecc6e7ed9bc88a1",
    "time": "2021-02-03T19:39:45.099Z",
    "type": "completion"
   },
   {
    "code": "df['vote_general']",
    "id": "cfa5fcd1e84c4b708de5bb15e5b60ad8",
    "idx": 2,
    "time": "2021-02-03T19:40:12.762Z",
    "type": "execution"
   },
   {
    "id": "cfa5fcd1e84c4b708de5bb15e5b60ad8",
    "time": "2021-02-03T19:40:12.829Z",
    "type": "completion"
   },
   {
    "code": "import econtools.metrics as mt\nmt.reg(df[abs('rv'<0.1)], 'vote_general', 'treat', 'rv', 'treat_rv' cluster='g')",
    "id": "24bbfaab3ace49a589bf126e2c4febba",
    "idx": 3,
    "time": "2021-02-03T19:43:28.674Z",
    "type": "execution"
   },
   {
    "id": "24bbfaab3ace49a589bf126e2c4febba",
    "time": "2021-02-03T19:43:28.812Z",
    "type": "completion"
   },
   {
    "code": "import econtools.metrics as mt\nmt.reg(df[abs('rv'<0.1)], 'vote_general', 'treat', 'rv', 'treat_rv', cluster='g')",
    "id": "24bbfaab3ace49a589bf126e2c4febba",
    "idx": 3,
    "time": "2021-02-03T19:43:34.449Z",
    "type": "execution"
   },
   {
    "id": "24bbfaab3ace49a589bf126e2c4febba",
    "time": "2021-02-03T19:43:34.526Z",
    "type": "completion"
   },
   {
    "code": "import econtools.metrics as mt\nreg(df[abs('rv'<0.1)], 'vote_general', 'treat', 'rv', 'treat_rv', cluster='g')",
    "id": "24bbfaab3ace49a589bf126e2c4febba",
    "idx": 3,
    "time": "2021-02-03T19:43:48.914Z",
    "type": "execution"
   },
   {
    "id": "24bbfaab3ace49a589bf126e2c4febba",
    "time": "2021-02-03T19:43:49.074Z",
    "type": "completion"
   },
   {
    "code": "#import econtools.metrics as mt\n\nreg(df[abs('rv'<0.1)], 'vote_general', 'treat', 'rv', 'treat_rv', cluster='g')",
    "id": "24bbfaab3ace49a589bf126e2c4febba",
    "idx": 3,
    "time": "2021-02-03T19:43:56.585Z",
    "type": "execution"
   },
   {
    "id": "24bbfaab3ace49a589bf126e2c4febba",
    "time": "2021-02-03T19:43:56.709Z",
    "type": "completion"
   },
   {
    "code": "import pandas as pd",
    "id": "774edaf4eee341a6bd09dcfdfecad883",
    "idx": 0,
    "time": "2021-02-03T21:55:15.634Z",
    "type": "execution"
   },
   {
    "code": "base_df = pd.read_stata('hall_thompson_replication_files/rd_analysis_hs.dta')\nbase_df.head()",
    "id": "d28280ad944a45c7ab5851d2a1c7cd28",
    "idx": 1,
    "time": "2021-02-03T21:55:16.042Z",
    "type": "execution"
   },
   {
    "id": "774edaf4eee341a6bd09dcfdfecad883",
    "time": "2021-02-03T21:55:16.089Z",
    "type": "completion"
   },
   {
    "id": "d28280ad944a45c7ab5851d2a1c7cd28",
    "time": "2021-02-03T21:55:16.430Z",
    "type": "completion"
   },
   {
    "code": "base_df['vote_general']",
    "id": "a40ee1692d2f487bb8e8442e3d38c017",
    "idx": 2,
    "time": "2021-02-03T21:55:16.512Z",
    "type": "execution"
   },
   {
    "id": "a40ee1692d2f487bb8e8442e3d38c017",
    "time": "2021-02-03T21:55:16.592Z",
    "type": "completion"
   },
   {
    "code": "base_df['vote_general']",
    "id": "a40ee1692d2f487bb8e8442e3d38c017",
    "idx": 2,
    "time": "2021-02-03T22:02:34.175Z",
    "type": "execution"
   },
   {
    "id": "a40ee1692d2f487bb8e8442e3d38c017",
    "time": "2021-02-03T22:02:34.285Z",
    "type": "completion"
   },
   {
    "code": "df=(base_df[base_df['vote_general']==1] #filter\n    .groupby(['N', 'Polynomial']).sum()\n    .reset_index())\ndf",
    "id": "a40ee1692d2f487bb8e8442e3d38c017",
    "idx": 2,
    "time": "2021-02-03T22:15:09.967Z",
    "type": "execution"
   },
   {
    "id": "a40ee1692d2f487bb8e8442e3d38c017",
    "time": "2021-02-03T22:15:10.162Z",
    "type": "completion"
   },
   {
    "code": "df = base_df['vote_general']\ndf",
    "id": "a40ee1692d2f487bb8e8442e3d38c017",
    "idx": 2,
    "time": "2021-02-03T22:15:30.367Z",
    "type": "execution"
   },
   {
    "id": "a40ee1692d2f487bb8e8442e3d38c017",
    "time": "2021-02-03T22:15:30.542Z",
    "type": "completion"
   },
   {
    "code": "import pandas as pd",
    "id": "774edaf4eee341a6bd09dcfdfecad883",
    "idx": 0,
    "time": "2021-02-03T22:21:29.103Z",
    "type": "execution"
   },
   {
    "id": "774edaf4eee341a6bd09dcfdfecad883",
    "time": "2021-02-03T22:21:29.213Z",
    "type": "completion"
   },
   {
    "code": "base_df = pd.read_stata('hall_thompson_replication_files/rd_analysis_hs.dta')\nbase_df.head()",
    "id": "d28280ad944a45c7ab5851d2a1c7cd28",
    "idx": 1,
    "time": "2021-02-03T22:21:32.766Z",
    "type": "execution"
   },
   {
    "id": "d28280ad944a45c7ab5851d2a1c7cd28",
    "time": "2021-02-03T22:21:33.142Z",
    "type": "completion"
   },
   {
    "code": "import econtools.metrics as mt\n#df = mt.reg(base_df[<condition>], <yvar>, <xvar>, cluster=<clustervar>)",
    "id": "a40ee1692d2f487bb8e8442e3d38c017",
    "idx": 2,
    "time": "2021-02-03T22:21:35.013Z",
    "type": "execution"
   },
   {
    "id": "a40ee1692d2f487bb8e8442e3d38c017",
    "time": "2021-02-03T22:21:35.085Z",
    "type": "completion"
   },
   {
    "code": "import metrics as mt\n#df = mt.reg(base_df[<condition>], <yvar>, <xvar>, cluster=<clustervar>)",
    "id": "a40ee1692d2f487bb8e8442e3d38c017",
    "idx": 2,
    "time": "2021-02-03T22:21:40.655Z",
    "type": "execution"
   },
   {
    "id": "a40ee1692d2f487bb8e8442e3d38c017",
    "time": "2021-02-03T22:21:40.741Z",
    "type": "completion"
   },
   {
    "code": "base_df['vote_general']",
    "id": "58da342a8aa4414099f1bc3bea0da25e",
    "idx": 2,
    "time": "2021-02-03T22:28:47.372Z",
    "type": "execution"
   },
   {
    "id": "58da342a8aa4414099f1bc3bea0da25e",
    "time": "2021-02-03T22:28:47.488Z",
    "type": "completion"
   },
   {
    "code": "results = sm.ols(formula=\"v3~v2\", data=base_df).fit()\nresults",
    "id": "a2fb7b8ef77f46d399b88fd505868222",
    "idx": 3,
    "time": "2021-02-04T18:27:14.792Z",
    "type": "execution"
   },
   {
    "id": "a2fb7b8ef77f46d399b88fd505868222",
    "time": "2021-02-04T18:27:14.920Z",
    "type": "completion"
   },
   {
    "code": "import pandas as pd\nimport statsmodels.formula.api as sm",
    "id": "b41ed4e9ac774ee085510773d5144773",
    "idx": 0,
    "time": "2021-02-04T18:27:17.501Z",
    "type": "execution"
   },
   {
    "code": "base_df = pd.read_stata('hall_thompson_replication_files/rd_analysis_hs.dta')\nbase_df.head()",
    "id": "d38a1687a94746158550ec9c08b98f3f",
    "idx": 1,
    "time": "2021-02-04T18:27:17.800Z",
    "type": "execution"
   },
   {
    "code": "base_df['vote_general']",
    "id": "9ccac3a8d98b478d98df3927ee7bfd30",
    "idx": 2,
    "time": "2021-02-04T18:27:18.208Z",
    "type": "execution"
   },
   {
    "id": "b41ed4e9ac774ee085510773d5144773",
    "time": "2021-02-04T18:27:18.373Z",
    "type": "completion"
   },
   {
    "code": "results = sm.ols(formula=\"v3~v2\", data=base_df).fit()\nresults",
    "id": "a2fb7b8ef77f46d399b88fd505868222",
    "idx": 3,
    "time": "2021-02-04T18:27:18.681Z",
    "type": "execution"
   },
   {
    "id": "d38a1687a94746158550ec9c08b98f3f",
    "time": "2021-02-04T18:27:18.732Z",
    "type": "completion"
   },
   {
    "id": "9ccac3a8d98b478d98df3927ee7bfd30",
    "time": "2021-02-04T18:27:18.766Z",
    "type": "completion"
   },
   {
    "id": "a2fb7b8ef77f46d399b88fd505868222",
    "time": "2021-02-04T18:27:18.976Z",
    "type": "completion"
   },
   {
    "code": "import pandas as pd\nimport statsmodels.formula.api as sm",
    "id": "b41ed4e9ac774ee085510773d5144773",
    "idx": 0,
    "time": "2021-02-04T18:33:25.970Z",
    "type": "execution"
   },
   {
    "id": "b41ed4e9ac774ee085510773d5144773",
    "time": "2021-02-04T18:33:26.154Z",
    "type": "completion"
   },
   {
    "code": "base_df = pd.read_stata('hall_thompson_replication_files/rd_analysis_hs.dta')\nbase_df.head()",
    "id": "d38a1687a94746158550ec9c08b98f3f",
    "idx": 1,
    "time": "2021-02-04T18:33:26.340Z",
    "type": "execution"
   },
   {
    "code": "base_df['vote_general']",
    "id": "9ccac3a8d98b478d98df3927ee7bfd30",
    "idx": 2,
    "time": "2021-02-04T18:33:26.729Z",
    "type": "execution"
   },
   {
    "id": "d38a1687a94746158550ec9c08b98f3f",
    "time": "2021-02-04T18:33:26.793Z",
    "type": "completion"
   },
   {
    "id": "9ccac3a8d98b478d98df3927ee7bfd30",
    "time": "2021-02-04T18:33:26.837Z",
    "type": "completion"
   },
   {
    "code": "x = base_df['vote_general']\ny = base_df['treat']\nx = sm.add_constant(x)\nmodel = sm.OLS(exog=x, endog=y)\nresults = model.fit()\nprint(results.summary())",
    "id": "a2fb7b8ef77f46d399b88fd505868222",
    "idx": 3,
    "time": "2021-02-04T18:33:28.226Z",
    "type": "execution"
   },
   {
    "id": "a2fb7b8ef77f46d399b88fd505868222",
    "time": "2021-02-04T18:33:28.325Z",
    "type": "completion"
   },
   {
    "code": "x = base_df['vote_general']\ny = base_df['treat']\n#x = sm.add_constant(x)\nmodel = sm.OLS(exog=x, endog=y)\nresults = model.fit()\nprint(results.summary())",
    "id": "a2fb7b8ef77f46d399b88fd505868222",
    "idx": 3,
    "time": "2021-02-04T18:34:05.027Z",
    "type": "execution"
   },
   {
    "id": "a2fb7b8ef77f46d399b88fd505868222",
    "time": "2021-02-04T18:34:05.121Z",
    "type": "completion"
   },
   {
    "code": "x = base_df['vote_general']\ny = base_df['treat']\nx = sm.add_constant(x)\nmodel = sm.ols(exog=x, endog=y)\nresults = model.fit()\nprint(results.summary())",
    "id": "a2fb7b8ef77f46d399b88fd505868222",
    "idx": 3,
    "time": "2021-02-04T18:34:18.892Z",
    "type": "execution"
   },
   {
    "id": "a2fb7b8ef77f46d399b88fd505868222",
    "time": "2021-02-04T18:34:18.985Z",
    "type": "completion"
   },
   {
    "code": "x = base_df['vote_general']\ny = base_df['treat']\n#x = sm.add_constant(x)\nmodel = sm.ols(exog=x, endog=y)\nresults = model.fit()\nprint(results.summary())",
    "id": "a2fb7b8ef77f46d399b88fd505868222",
    "idx": 3,
    "time": "2021-02-04T18:34:24.923Z",
    "type": "execution"
   },
   {
    "id": "a2fb7b8ef77f46d399b88fd505868222",
    "time": "2021-02-04T18:34:25.000Z",
    "type": "completion"
   },
   {
    "code": "x = base_df['vote_general']\ny = base_df['treat']\n#x = sm.add_constant(x)\nmodel = sm.ols(formula=\"v2~v\", data=base_df)\nresults = model.fit()\nprint(results.summary())",
    "id": "a2fb7b8ef77f46d399b88fd505868222",
    "idx": 3,
    "time": "2021-02-04T18:35:38.643Z",
    "type": "execution"
   },
   {
    "id": "a2fb7b8ef77f46d399b88fd505868222",
    "time": "2021-02-04T18:35:38.991Z",
    "type": "completion"
   },
   {
    "code": "x = base_df['vote_general']\ny = base_df['treat']\n#x = sm.add_constant(x)\nmodel = sm.ols(formula=\"v2~v1\", data=base_df)\nresults = model.fit()\nprint(results.summary())",
    "id": "a2fb7b8ef77f46d399b88fd505868222",
    "idx": 3,
    "time": "2021-02-04T18:35:47.341Z",
    "type": "execution"
   },
   {
    "id": "a2fb7b8ef77f46d399b88fd505868222",
    "time": "2021-02-04T18:35:47.693Z",
    "type": "completion"
   },
   {
    "code": "x = base_df['vote_general']\ny = base_df['treat']\n#x = sm.add_constant(x)\nmodel = sm.ols(formula=\"v2~v3\", data=base_df)\nresults = model.fit()\nprint(results.summary())",
    "id": "a2fb7b8ef77f46d399b88fd505868222",
    "idx": 3,
    "time": "2021-02-04T18:35:53.257Z",
    "type": "execution"
   },
   {
    "id": "a2fb7b8ef77f46d399b88fd505868222",
    "time": "2021-02-04T18:35:53.515Z",
    "type": "completion"
   },
   {
    "code": "x = base_df['vote_general']\ny = base_df['treat']\n#x = sm.add_constant(x)\nmodel = sm.ols(formula=\"v2\", data=base_df)\nresults = model.fit()\nprint(results.summary())",
    "id": "a2fb7b8ef77f46d399b88fd505868222",
    "idx": 3,
    "time": "2021-02-04T18:35:58.979Z",
    "type": "execution"
   },
   {
    "id": "a2fb7b8ef77f46d399b88fd505868222",
    "time": "2021-02-04T18:35:59.262Z",
    "type": "completion"
   },
   {
    "code": "import pandas as pd\nimport statsmodels.formula.api as sm",
    "id": "b41ed4e9ac774ee085510773d5144773",
    "idx": 0,
    "time": "2021-02-04T18:48:37.990Z",
    "type": "execution"
   },
   {
    "id": "b41ed4e9ac774ee085510773d5144773",
    "time": "2021-02-04T18:48:38.054Z",
    "type": "completion"
   },
   {
    "code": "import pandas as pd\nimport statsmodels.formula.api as sm",
    "id": "b41ed4e9ac774ee085510773d5144773",
    "idx": 0,
    "time": "2021-02-04T18:48:45.793Z",
    "type": "execution"
   },
   {
    "id": "b41ed4e9ac774ee085510773d5144773",
    "time": "2021-02-04T18:48:45.912Z",
    "type": "completion"
   },
   {
    "code": "df = pd.read_stata('hall_thompson_replication_files/rd_analysis_hs.dta')\ndf.head()",
    "id": "d38a1687a94746158550ec9c08b98f3f",
    "idx": 1,
    "time": "2021-02-04T18:48:46.191Z",
    "type": "execution"
   },
   {
    "code": "df['vote_general']",
    "id": "9ccac3a8d98b478d98df3927ee7bfd30",
    "idx": 2,
    "time": "2021-02-04T18:48:47.242Z",
    "type": "execution"
   },
   {
    "id": "d38a1687a94746158550ec9c08b98f3f",
    "time": "2021-02-04T18:48:47.338Z",
    "type": "completion"
   },
   {
    "id": "9ccac3a8d98b478d98df3927ee7bfd30",
    "time": "2021-02-04T18:48:47.361Z",
    "type": "completion"
   },
   {
    "code": "model = sm.ols(formula=\"\", data=df)\nresults = model.fit()\nprint(results.summary())",
    "id": "a2fb7b8ef77f46d399b88fd505868222",
    "idx": 3,
    "time": "2021-02-04T18:48:48.831Z",
    "type": "execution"
   },
   {
    "id": "a2fb7b8ef77f46d399b88fd505868222",
    "time": "2021-02-04T18:48:48.994Z",
    "type": "completion"
   },
   {
    "code": "model = sm.ols(formula='Vote Share ~ Extremist Nominee + N + Polynomial + Bandwidth', data=df)\nresults = model.fit()\nprint(results.summary())",
    "id": "a2fb7b8ef77f46d399b88fd505868222",
    "idx": 3,
    "time": "2021-02-04T18:56:16.328Z",
    "type": "execution"
   },
   {
    "id": "a2fb7b8ef77f46d399b88fd505868222",
    "time": "2021-02-04T18:56:16.471Z",
    "type": "completion"
   },
   {
    "code": "model = sm.ols(formula='Vote ~ Extremist Nominee + N + Polynomial + Bandwidth', data=df)\nresults = model.fit()\nprint(results.summary())",
    "id": "a2fb7b8ef77f46d399b88fd505868222",
    "idx": 3,
    "time": "2021-02-04T18:56:45.196Z",
    "type": "execution"
   },
   {
    "id": "a2fb7b8ef77f46d399b88fd505868222",
    "time": "2021-02-04T18:56:45.325Z",
    "type": "completion"
   },
   {
    "code": "model = sm.ols(formula='g ~ Extremist Nominee + N + Polynomial + Bandwidth', data=df)\nresults = model.fit()\nprint(results.summary())",
    "id": "a2fb7b8ef77f46d399b88fd505868222",
    "idx": 3,
    "time": "2021-02-04T18:56:48.442Z",
    "type": "execution"
   },
   {
    "id": "a2fb7b8ef77f46d399b88fd505868222",
    "time": "2021-02-04T18:56:48.624Z",
    "type": "completion"
   },
   {
    "code": "model = sm.ols(formula='District ~ Extremist Nominee + N + Polynomial + Bandwidth', data=df)\nresults = model.fit()\nprint(results.summary())",
    "id": "a2fb7b8ef77f46d399b88fd505868222",
    "idx": 3,
    "time": "2021-02-04T18:56:52.507Z",
    "type": "execution"
   },
   {
    "id": "a2fb7b8ef77f46d399b88fd505868222",
    "time": "2021-02-04T18:56:52.579Z",
    "type": "completion"
   },
   {
    "code": "model = sm.ols(formula='dist ~ Extremist Nominee + N + Polynomial + Bandwidth', data=df)\nresults = model.fit()\nprint(results.summary())",
    "id": "a2fb7b8ef77f46d399b88fd505868222",
    "idx": 3,
    "time": "2021-02-04T18:56:57.087Z",
    "type": "execution"
   },
   {
    "id": "a2fb7b8ef77f46d399b88fd505868222",
    "time": "2021-02-04T18:56:57.168Z",
    "type": "completion"
   },
   {
    "code": "model = sm.ols(formula='vs ~ Extremist Nominee + N + Polynomial + Bandwidth', data=df)\nresults = model.fit()\nprint(results.summary())",
    "id": "a2fb7b8ef77f46d399b88fd505868222",
    "idx": 3,
    "time": "2021-02-04T18:57:11.474Z",
    "type": "execution"
   },
   {
    "id": "a2fb7b8ef77f46d399b88fd505868222",
    "time": "2021-02-04T18:57:11.560Z",
    "type": "completion"
   },
   {
    "code": "model = sm.ols(formula='Vote Share ~ vote_general + treat + rv + treat_rv', data=df)\nresults = model.fit()\nprint(results.summary())",
    "id": "a2fb7b8ef77f46d399b88fd505868222",
    "idx": 3,
    "time": "2021-02-04T18:57:51.635Z",
    "type": "execution"
   },
   {
    "id": "a2fb7b8ef77f46d399b88fd505868222",
    "time": "2021-02-04T18:57:51.742Z",
    "type": "completion"
   },
   {
    "code": "model = sm.ols(formula='vote_general ~ victory_general', data=df)\nresults = model.fit()\nprint(results.summary())",
    "id": "a2fb7b8ef77f46d399b88fd505868222",
    "idx": 3,
    "time": "2021-02-04T19:09:34.602Z",
    "type": "execution"
   },
   {
    "id": "a2fb7b8ef77f46d399b88fd505868222",
    "time": "2021-02-04T19:09:34.891Z",
    "type": "completion"
   },
   {
    "code": "model = sm.ols(formula='vote_general ~ victory_general', data=df)\nresults = model.fit(cov_type='cluster', cov_kwds={'groups': df['dist']})\nprint(results.summary())",
    "id": "a2fb7b8ef77f46d399b88fd505868222",
    "idx": 3,
    "time": "2021-02-04T19:11:56.816Z",
    "type": "execution"
   },
   {
    "id": "a2fb7b8ef77f46d399b88fd505868222",
    "time": "2021-02-04T19:11:56.945Z",
    "type": "completion"
   },
   {
    "code": "model = sm.ols(formula='vote_general ~ victory_general', data=df)\nresults = model.fit(cov_type='cluster', cov_kwds={'groups': df['dist']})\nprint(results)",
    "id": "a2fb7b8ef77f46d399b88fd505868222",
    "idx": 3,
    "time": "2021-02-04T19:13:26.166Z",
    "type": "execution"
   },
   {
    "id": "a2fb7b8ef77f46d399b88fd505868222",
    "time": "2021-02-04T19:13:26.344Z",
    "type": "completion"
   },
   {
    "code": "model = sm.ols(formula='vote_general ~ victory_general', data=df)\nresults = model.fit(cov_type='cluster', cov_kwds={'groups': df['dist']})\nprint(results.summary())",
    "id": "a2fb7b8ef77f46d399b88fd505868222",
    "idx": 3,
    "time": "2021-02-04T19:13:38.358Z",
    "type": "execution"
   },
   {
    "id": "a2fb7b8ef77f46d399b88fd505868222",
    "time": "2021-02-04T19:13:38.485Z",
    "type": "completion"
   },
   {
    "code": "model = sm.ols(formula='vote_general ~ victory_general', data=df)\nresults = model.fit(cov_type='cluster', cov_kwds={'groups': df['dist']})\nprint(results.summary().tables[1])",
    "id": "a2fb7b8ef77f46d399b88fd505868222",
    "idx": 3,
    "time": "2021-02-04T19:14:14.680Z",
    "type": "execution"
   },
   {
    "id": "a2fb7b8ef77f46d399b88fd505868222",
    "time": "2021-02-04T19:14:14.831Z",
    "type": "completion"
   },
   {
    "code": "model = sm.ols(formula='vote_general ~ victory_general', data=df)\nresults = model.fit(cov_type='cluster', cov_kwds={'groups': df['dist']})\nprint(results.summary().tables[0])",
    "id": "a2fb7b8ef77f46d399b88fd505868222",
    "idx": 3,
    "time": "2021-02-04T19:14:23.419Z",
    "type": "execution"
   },
   {
    "id": "a2fb7b8ef77f46d399b88fd505868222",
    "time": "2021-02-04T19:14:23.555Z",
    "type": "completion"
   },
   {
    "code": "model = sm.ols(formula='vote_general ~ victory_general', data=df)\nresults = model.fit(cov_type='cluster', cov_kwds={'groups': df['dist']})\nprint(results.summary().tables[2])",
    "id": "a2fb7b8ef77f46d399b88fd505868222",
    "idx": 3,
    "time": "2021-02-04T19:14:28.100Z",
    "type": "execution"
   },
   {
    "id": "a2fb7b8ef77f46d399b88fd505868222",
    "time": "2021-02-04T19:14:28.345Z",
    "type": "completion"
   },
   {
    "code": "model = sm.ols(formula='vote_general ~ victory_general', data=df)\nresults = model.fit(cov_type='cluster', cov_kwds={'groups': df['dist']})\nprint(results.summary().tables[3])",
    "id": "a2fb7b8ef77f46d399b88fd505868222",
    "idx": 3,
    "time": "2021-02-04T19:14:32.957Z",
    "type": "execution"
   },
   {
    "id": "a2fb7b8ef77f46d399b88fd505868222",
    "time": "2021-02-04T19:14:33.085Z",
    "type": "completion"
   },
   {
    "code": "model = sm.ols(formula='vote_general ~ victory_general', data=df)\nresults = model.fit(cov_type='cluster', cov_kwds={'groups': df['dist']})\nprint(results.summary())",
    "id": "a2fb7b8ef77f46d399b88fd505868222",
    "idx": 3,
    "time": "2021-02-04T19:14:38.704Z",
    "type": "execution"
   },
   {
    "id": "a2fb7b8ef77f46d399b88fd505868222",
    "time": "2021-02-04T19:14:38.800Z",
    "type": "completion"
   },
   {
    "code": "model = sm.ols(formula='vote_general + treat ~ victory_general + treat', data=df)\nresults = model.fit(cov_type='cluster', cov_kwds={'groups': df['dist']})\nprint(results.summary())",
    "id": "a2fb7b8ef77f46d399b88fd505868222",
    "idx": 3,
    "time": "2021-02-04T19:15:14.748Z",
    "type": "execution"
   },
   {
    "id": "a2fb7b8ef77f46d399b88fd505868222",
    "time": "2021-02-04T19:15:14.981Z",
    "type": "completion"
   },
   {
    "code": "model = sm.ols(formula='vote_general ~ victory_general', data=df)\nresults = model.fit(cov_type='cluster', cov_kwds={'groups': df['dist']})\nprint(results.summary())",
    "id": "a2fb7b8ef77f46d399b88fd505868222",
    "idx": 3,
    "time": "2021-02-04T19:15:39.267Z",
    "type": "execution"
   },
   {
    "id": "a2fb7b8ef77f46d399b88fd505868222",
    "time": "2021-02-04T19:15:39.385Z",
    "type": "completion"
   },
   {
    "code": "model = sm.ols(formula='vote_general ~ victory_general', data=df)\nresults = model.fit(cov_type='cluster', cov_kwds={'groups': df['dist']})\nprint(results.summary())",
    "id": "a2fb7b8ef77f46d399b88fd505868222",
    "idx": 3,
    "time": "2021-02-04T19:20:38.447Z",
    "type": "execution"
   },
   {
    "id": "a2fb7b8ef77f46d399b88fd505868222",
    "time": "2021-02-04T19:20:38.539Z",
    "type": "completion"
   },
   {
    "code": "model = sm.ols(formula='vote_general ~ victory_general', data=df)\nresults = model.fit(cov_type='cluster')\nprint(results.summary())",
    "id": "a2fb7b8ef77f46d399b88fd505868222",
    "idx": 3,
    "time": "2021-02-04T19:20:46.385Z",
    "type": "execution"
   },
   {
    "id": "a2fb7b8ef77f46d399b88fd505868222",
    "time": "2021-02-04T19:20:46.542Z",
    "type": "completion"
   },
   {
    "code": "model = sm.ols(formula='vote_general ~ victory_general', data=df)\nresults = model.fit(cov_type='cluster', cov_kwds={df['dist']})\nprint(results.summary())",
    "id": "a2fb7b8ef77f46d399b88fd505868222",
    "idx": 3,
    "time": "2021-02-04T19:20:54.693Z",
    "type": "execution"
   },
   {
    "id": "a2fb7b8ef77f46d399b88fd505868222",
    "time": "2021-02-04T19:20:54.856Z",
    "type": "completion"
   },
   {
    "code": "model = sm.ols(formula='vote_general ~ victory_general', data=df)\nresults = model.fit(cov_type='cluster', cov_kwds={'groups': df['dist']})\nprint(results.summary())",
    "id": "a2fb7b8ef77f46d399b88fd505868222",
    "idx": 3,
    "time": "2021-02-04T19:20:59.777Z",
    "type": "execution"
   },
   {
    "id": "a2fb7b8ef77f46d399b88fd505868222",
    "time": "2021-02-04T19:20:59.910Z",
    "type": "completion"
   },
   {
    "code": "model = sm.ols(formula='vote_general ~ victory_general + treat', data=df)\nresults = model.fit(cov_type='cluster', cov_kwds={'groups': df['dist']})\nprint(results.summary())",
    "id": "a2fb7b8ef77f46d399b88fd505868222",
    "idx": 3,
    "time": "2021-02-04T19:21:15.084Z",
    "type": "execution"
   },
   {
    "id": "a2fb7b8ef77f46d399b88fd505868222",
    "time": "2021-02-04T19:21:15.174Z",
    "type": "completion"
   },
   {
    "code": "model = sm.ols(formula='vote_general ~ Extremist Nominee + treat', data=df)\nresults = model.fit(cov_type='cluster', cov_kwds={'groups': df['dist']})\nprint(results.summary())",
    "id": "a2fb7b8ef77f46d399b88fd505868222",
    "idx": 3,
    "time": "2021-02-04T19:21:42.770Z",
    "type": "execution"
   },
   {
    "id": "a2fb7b8ef77f46d399b88fd505868222",
    "time": "2021-02-04T19:21:42.903Z",
    "type": "completion"
   },
   {
    "code": "model = sm.ols(formula='vote_general ~ victory_general + treat', data=df)\nresults = model.fit(cov_type='cluster', cov_kwds={'groups': df['dist']})\nprint(results.summary())",
    "id": "a2fb7b8ef77f46d399b88fd505868222",
    "idx": 3,
    "time": "2021-02-04T19:21:47.623Z",
    "type": "execution"
   },
   {
    "id": "a2fb7b8ef77f46d399b88fd505868222",
    "time": "2021-02-04T19:21:47.761Z",
    "type": "completion"
   },
   {
    "code": "df['extremist']",
    "id": "9ccac3a8d98b478d98df3927ee7bfd30",
    "idx": 2,
    "time": "2021-02-04T19:22:07.649Z",
    "type": "execution"
   },
   {
    "id": "9ccac3a8d98b478d98df3927ee7bfd30",
    "time": "2021-02-04T19:22:07.832Z",
    "type": "completion"
   },
   {
    "code": "df[]",
    "id": "9ccac3a8d98b478d98df3927ee7bfd30",
    "idx": 2,
    "time": "2021-02-04T19:22:16.171Z",
    "type": "execution"
   },
   {
    "id": "9ccac3a8d98b478d98df3927ee7bfd30",
    "time": "2021-02-04T19:22:16.240Z",
    "type": "completion"
   },
   {
    "code": "df[0]",
    "id": "9ccac3a8d98b478d98df3927ee7bfd30",
    "idx": 2,
    "time": "2021-02-04T19:22:25.826Z",
    "type": "execution"
   },
   {
    "id": "9ccac3a8d98b478d98df3927ee7bfd30",
    "time": "2021-02-04T19:22:26.014Z",
    "type": "completion"
   },
   {
    "code": "df[1]",
    "id": "9ccac3a8d98b478d98df3927ee7bfd30",
    "idx": 2,
    "time": "2021-02-04T19:22:31.053Z",
    "type": "execution"
   },
   {
    "id": "9ccac3a8d98b478d98df3927ee7bfd30",
    "time": "2021-02-04T19:22:31.193Z",
    "type": "completion"
   },
   {
    "code": "df['treat']",
    "id": "9ccac3a8d98b478d98df3927ee7bfd30",
    "idx": 2,
    "time": "2021-02-04T19:22:54.912Z",
    "type": "execution"
   },
   {
    "id": "9ccac3a8d98b478d98df3927ee7bfd30",
    "time": "2021-02-04T19:22:55.047Z",
    "type": "completion"
   },
   {
    "code": "model = sm.ols(formula='dist ~ victory_general + treat', data=df)\nresults = model.fit(cov_type='cluster', cov_kwds={'groups': df['dist']})\nprint(results.summary())",
    "id": "a2fb7b8ef77f46d399b88fd505868222",
    "idx": 3,
    "time": "2021-02-04T19:23:22.040Z",
    "type": "execution"
   },
   {
    "id": "a2fb7b8ef77f46d399b88fd505868222",
    "time": "2021-02-04T19:23:22.127Z",
    "type": "completion"
   },
   {
    "code": "model = sm.ols(formula='vote-general ~ victory_general + treat', data=df)\nresults = model.fit(cov_type='cluster', cov_kwds={'groups': df['dist']})\nprint(results.summary())",
    "id": "a2fb7b8ef77f46d399b88fd505868222",
    "idx": 3,
    "time": "2021-02-04T19:23:38.350Z",
    "type": "execution"
   },
   {
    "id": "a2fb7b8ef77f46d399b88fd505868222",
    "time": "2021-02-04T19:23:38.677Z",
    "type": "completion"
   },
   {
    "code": "model = sm.ols(formula='vote_general ~ victory_general + treat', data=df)\nresults = model.fit(cov_type='cluster', cov_kwds={'groups': df['dist']})\nprint(results.summary())",
    "id": "a2fb7b8ef77f46d399b88fd505868222",
    "idx": 3,
    "time": "2021-02-04T19:23:42.577Z",
    "type": "execution"
   },
   {
    "id": "a2fb7b8ef77f46d399b88fd505868222",
    "time": "2021-02-04T19:23:42.663Z",
    "type": "completion"
   },
   {
    "code": "df['polynomial']",
    "id": "9ccac3a8d98b478d98df3927ee7bfd30",
    "idx": 2,
    "time": "2021-02-04T19:26:43.356Z",
    "type": "execution"
   },
   {
    "id": "9ccac3a8d98b478d98df3927ee7bfd30",
    "time": "2021-02-04T19:26:43.525Z",
    "type": "completion"
   },
   {
    "code": "df['Polynomial']",
    "id": "9ccac3a8d98b478d98df3927ee7bfd30",
    "idx": 2,
    "time": "2021-02-04T19:26:50.745Z",
    "type": "execution"
   },
   {
    "id": "9ccac3a8d98b478d98df3927ee7bfd30",
    "time": "2021-02-04T19:26:50.880Z",
    "type": "completion"
   },
   {
    "code": "df['vote_general']",
    "id": "9ccac3a8d98b478d98df3927ee7bfd30",
    "idx": 2,
    "time": "2021-02-04T19:26:58.891Z",
    "type": "execution"
   },
   {
    "id": "9ccac3a8d98b478d98df3927ee7bfd30",
    "time": "2021-02-04T19:26:59.001Z",
    "type": "completion"
   },
   {
    "code": "model = sm.ols(formula='vote_general ~ victory_general + treat', data=df)\nresults = model.fit(cov_type='cluster', cov_kwds={'groups': df['dist']})\nprint(results.summary())",
    "id": "a2fb7b8ef77f46d399b88fd505868222",
    "idx": 3,
    "time": "2021-02-04T19:27:02.017Z",
    "type": "execution"
   },
   {
    "id": "a2fb7b8ef77f46d399b88fd505868222",
    "time": "2021-02-04T19:27:02.117Z",
    "type": "completion"
   },
   {
    "code": "bin_size_rd = 10\n\nrd_main = read_dta(\"rd_master_hs.dta\")\nselect(treat, turnout_party_share, rv)\nfilter(!is.na(turnout_party_share))",
    "id": "b880219b397d4a8c9beae1ab510c1a11",
    "idx": 4,
    "time": "2021-02-04T19:30:45.854Z",
    "type": "execution"
   },
   {
    "id": "b880219b397d4a8c9beae1ab510c1a11",
    "time": "2021-02-04T19:30:45.976Z",
    "type": "completion"
   },
   {
    "code": "bin_size_rd = 10\n\nrd_main = read_dta(\"rd_master_hs.dta\")\nselect(treat, turnout_party_share, rv)\nfilter(!(is.na(turnout_party_share))",
    "id": "b880219b397d4a8c9beae1ab510c1a11",
    "idx": 4,
    "time": "2021-02-04T19:31:03.650Z",
    "type": "execution"
   },
   {
    "id": "b880219b397d4a8c9beae1ab510c1a11",
    "time": "2021-02-04T19:31:03.727Z",
    "type": "completion"
   },
   {
    "code": "bin_size_rd = 10\n\nrd_main = read_dta(\"rd_master_hs.dta\")\nselect(treat, turnout_party_share, rv)\nfilter(turnout_party_share.notna)",
    "id": "b880219b397d4a8c9beae1ab510c1a11",
    "idx": 4,
    "time": "2021-02-04T19:32:01.120Z",
    "type": "execution"
   },
   {
    "id": "b880219b397d4a8c9beae1ab510c1a11",
    "time": "2021-02-04T19:32:01.212Z",
    "type": "completion"
   },
   {
    "code": "bin_size_rd = 10\n\nrd_main = pd.read_stata('hall_thompson_replication_files/rd_analysis_hs.dta')\nselect(treat, turnout_party_share, rv)\nfilter(turnout_party_share.notna)",
    "id": "b880219b397d4a8c9beae1ab510c1a11",
    "idx": 4,
    "time": "2021-02-04T19:34:15.942Z",
    "type": "execution"
   },
   {
    "id": "b880219b397d4a8c9beae1ab510c1a11",
    "time": "2021-02-04T19:34:16.302Z",
    "type": "completion"
   },
   {
    "code": "bin_size_rd = 10\n\nrd_main = pd.read_stata('hall_thompson_replication_files/rd_analysis_hs.dta')\nrd_main['treat', 'turnout_party_share', 'rv'].filter(turnout_party_share.notna)",
    "id": "b880219b397d4a8c9beae1ab510c1a11",
    "idx": 4,
    "time": "2021-02-04T19:35:00.513Z",
    "type": "execution"
   },
   {
    "id": "b880219b397d4a8c9beae1ab510c1a11",
    "time": "2021-02-04T19:35:00.891Z",
    "type": "completion"
   },
   {
    "code": "bin_size_rd = 10\n\nrd_main = pd.read_stata('hall_thompson_replication_files/rd_analysis_hs.dta')\nrd_main['treat', 'turnout_party_share', 'rv'].filter(turnout_party_share.dropna())",
    "id": "b880219b397d4a8c9beae1ab510c1a11",
    "idx": 4,
    "time": "2021-02-04T19:37:30.272Z",
    "type": "execution"
   },
   {
    "id": "b880219b397d4a8c9beae1ab510c1a11",
    "time": "2021-02-04T19:37:30.682Z",
    "type": "completion"
   },
   {
    "code": "df['treat']",
    "id": "9ccac3a8d98b478d98df3927ee7bfd30",
    "idx": 2,
    "time": "2021-02-04T19:37:50.642Z",
    "type": "execution"
   },
   {
    "id": "9ccac3a8d98b478d98df3927ee7bfd30",
    "time": "2021-02-04T19:37:50.779Z",
    "type": "completion"
   },
   {
    "code": "df['rv']",
    "id": "9ccac3a8d98b478d98df3927ee7bfd30",
    "idx": 2,
    "time": "2021-02-04T19:37:54.588Z",
    "type": "execution"
   },
   {
    "id": "9ccac3a8d98b478d98df3927ee7bfd30",
    "time": "2021-02-04T19:37:54.659Z",
    "type": "completion"
   },
   {
    "code": "df['turnout_party_share']",
    "id": "9ccac3a8d98b478d98df3927ee7bfd30",
    "idx": 2,
    "time": "2021-02-04T19:38:05.777Z",
    "type": "execution"
   },
   {
    "id": "9ccac3a8d98b478d98df3927ee7bfd30",
    "time": "2021-02-04T19:38:05.901Z",
    "type": "completion"
   },
   {
    "code": "bin_size_rd = 10\n\ndf['vote_general']",
    "id": "b880219b397d4a8c9beae1ab510c1a11",
    "idx": 4,
    "time": "2021-02-04T19:38:23.456Z",
    "type": "execution"
   },
   {
    "id": "b880219b397d4a8c9beae1ab510c1a11",
    "time": "2021-02-04T19:38:23.536Z",
    "type": "completion"
   },
   {
    "code": "bin_size_rd = 10\n\ndf['vote_general', 'rv']",
    "id": "b880219b397d4a8c9beae1ab510c1a11",
    "idx": 4,
    "time": "2021-02-04T19:38:29.527Z",
    "type": "execution"
   },
   {
    "id": "b880219b397d4a8c9beae1ab510c1a11",
    "time": "2021-02-04T19:38:29.705Z",
    "type": "completion"
   },
   {
    "code": "bin_size_rd = 10\n\ndf[columns={'vote_general', 'rv'}]",
    "id": "b880219b397d4a8c9beae1ab510c1a11",
    "idx": 4,
    "time": "2021-02-04T19:38:49.225Z",
    "type": "execution"
   },
   {
    "id": "b880219b397d4a8c9beae1ab510c1a11",
    "time": "2021-02-04T19:38:49.308Z",
    "type": "completion"
   },
   {
    "code": "bin_size_rd = 10\n\ndf['vote_general']",
    "id": "b880219b397d4a8c9beae1ab510c1a11",
    "idx": 4,
    "time": "2021-02-04T19:39:03.948Z",
    "type": "execution"
   },
   {
    "id": "b880219b397d4a8c9beae1ab510c1a11",
    "time": "2021-02-04T19:39:04.019Z",
    "type": "completion"
   },
   {
    "code": "bin_size_rd = 10\n\ndf[['treat', 'turnout_party_share', 'rv']]",
    "id": "b880219b397d4a8c9beae1ab510c1a11",
    "idx": 4,
    "time": "2021-02-04T19:40:30.713Z",
    "type": "execution"
   },
   {
    "id": "b880219b397d4a8c9beae1ab510c1a11",
    "time": "2021-02-04T19:40:30.884Z",
    "type": "completion"
   },
   {
    "code": "bin_size_rd = 10\n\nrd_main = df[['treat', 'turnout_party_share', 'rv']]\nrd_main = rd_main.dropna(how='any',axis=0)",
    "id": "b880219b397d4a8c9beae1ab510c1a11",
    "idx": 4,
    "time": "2021-02-04T19:42:36.135Z",
    "type": "execution"
   },
   {
    "id": "b880219b397d4a8c9beae1ab510c1a11",
    "time": "2021-02-04T19:42:36.209Z",
    "type": "completion"
   },
   {
    "code": "bin_size_rd = 10\n\nrd_main = df[['treat', 'turnout_party_share', 'rv']]\nrd_main = rd_main.dropna(how='any',axis=0)\nrd_main",
    "id": "b880219b397d4a8c9beae1ab510c1a11",
    "idx": 4,
    "time": "2021-02-04T19:42:40.687Z",
    "type": "execution"
   },
   {
    "id": "b880219b397d4a8c9beae1ab510c1a11",
    "time": "2021-02-04T19:42:40.823Z",
    "type": "completion"
   },
   {
    "code": "bin_size_rd = 10\n\nrd_main = df[['treat', 'turnout_party_share', 'rv']]\nrd_main = rd_main.dropna(how='any',axis=0).grouby('treat')\nrd_main",
    "id": "b880219b397d4a8c9beae1ab510c1a11",
    "idx": 4,
    "time": "2021-02-04T19:42:58.850Z",
    "type": "execution"
   },
   {
    "id": "b880219b397d4a8c9beae1ab510c1a11",
    "time": "2021-02-04T19:42:58.994Z",
    "type": "completion"
   },
   {
    "code": "bin_size_rd = 10\n\nrd_main = df[['treat', 'turnout_party_share', 'rv']]\nrd_main = rd_main.dropna(how='any',axis=0)\nrd_main",
    "id": "b880219b397d4a8c9beae1ab510c1a11",
    "idx": 4,
    "time": "2021-02-04T19:43:04.275Z",
    "type": "execution"
   },
   {
    "id": "b880219b397d4a8c9beae1ab510c1a11",
    "time": "2021-02-04T19:43:04.466Z",
    "type": "completion"
   },
   {
    "code": "bin_size_rd = 10\n\nrd_main = df[['treat', 'turnout_party_share', 'rv']]\nrd_main = rd_main.dropna(how='any',axis=0).sort_values(by='rv')\nrd_main",
    "id": "b880219b397d4a8c9beae1ab510c1a11",
    "idx": 4,
    "time": "2021-02-04T19:44:55.980Z",
    "type": "execution"
   },
   {
    "id": "b880219b397d4a8c9beae1ab510c1a11",
    "time": "2021-02-04T19:44:56.063Z",
    "type": "completion"
   },
   {
    "code": "bin_size_rd = 10\n\nrd_main = df[['treat', 'turnout_party_share', 'rv']]\nrd_main = rd_main.dropna(how='any',axis=0).sort_values(by=abs('rv'))\nrd_main",
    "id": "b880219b397d4a8c9beae1ab510c1a11",
    "idx": 4,
    "time": "2021-02-04T19:45:07.260Z",
    "type": "execution"
   },
   {
    "id": "b880219b397d4a8c9beae1ab510c1a11",
    "time": "2021-02-04T19:45:07.389Z",
    "type": "completion"
   },
   {
    "code": "bin_size_rd = 10\n\nrd_main = df[['treat', 'turnout_party_share', 'rv']]\nrd_main = rd_main.dropna(how='any',axis=0).sort_values(by=abs(('rv').int())\nrd_main",
    "id": "b880219b397d4a8c9beae1ab510c1a11",
    "idx": 4,
    "time": "2021-02-04T19:45:28.445Z",
    "type": "execution"
   },
   {
    "id": "b880219b397d4a8c9beae1ab510c1a11",
    "time": "2021-02-04T19:45:28.518Z",
    "type": "completion"
   },
   {
    "code": "bin_size_rd = 10\n\nrd_main = df[['treat', 'turnout_party_share', 'rv']]\nrd_main = rd_main.dropna(how='any',axis=0).sort_values(by=abs(('rv').int()))\nrd_main",
    "id": "b880219b397d4a8c9beae1ab510c1a11",
    "idx": 4,
    "time": "2021-02-04T19:45:36.896Z",
    "type": "execution"
   },
   {
    "id": "b880219b397d4a8c9beae1ab510c1a11",
    "time": "2021-02-04T19:45:37.008Z",
    "type": "completion"
   },
   {
    "code": "bin_size_rd = 10\n\nrd_main = df[['treat', 'turnout_party_share', 'rv']]\nrd_main = rd_main.dropna(how='any',axis=0).sort_values(by='rv')\nrd_main",
    "id": "b880219b397d4a8c9beae1ab510c1a11",
    "idx": 4,
    "time": "2021-02-04T19:45:54.019Z",
    "type": "execution"
   },
   {
    "id": "b880219b397d4a8c9beae1ab510c1a11",
    "time": "2021-02-04T19:45:54.125Z",
    "type": "completion"
   },
   {
    "code": "bin_size_rd = 10\n\nrd_main = df[['treat', 'turnout_party_share', 'rv']]\nrd_main = rd_main.dropna(how='any',axis=0).sort_values(by='rv'*1)\nrd_main",
    "id": "b880219b397d4a8c9beae1ab510c1a11",
    "idx": 4,
    "time": "2021-02-04T19:46:03.609Z",
    "type": "execution"
   },
   {
    "id": "b880219b397d4a8c9beae1ab510c1a11",
    "time": "2021-02-04T19:46:03.696Z",
    "type": "completion"
   },
   {
    "code": "bin_size_rd = 10\n\nrd_main = df[['treat', 'turnout_party_share', 'rv']]\nrd_main = rd_main.dropna(how='any',axis=0).sort_values(by=('rv'*1))\nrd_main",
    "id": "b880219b397d4a8c9beae1ab510c1a11",
    "idx": 4,
    "time": "2021-02-04T19:46:57.141Z",
    "type": "execution"
   },
   {
    "id": "b880219b397d4a8c9beae1ab510c1a11",
    "time": "2021-02-04T19:46:57.263Z",
    "type": "completion"
   },
   {
    "code": "bin_size_rd = 10\n\nrd_main = df[['treat', 'turnout_party_share', 'rv']]\nrd_main = rd_main.dropna(how='any',axis=0).sort_values(by=abs('rv'*1))\nrd_main",
    "id": "b880219b397d4a8c9beae1ab510c1a11",
    "idx": 4,
    "time": "2021-02-04T19:47:00.286Z",
    "type": "execution"
   },
   {
    "id": "b880219b397d4a8c9beae1ab510c1a11",
    "time": "2021-02-04T19:47:00.396Z",
    "type": "completion"
   },
   {
    "code": "bin_size_rd = 10\n\nrd_main = df[['treat', 'turnout_party_share', 'rv']]\nrd_main = rd_main.dropna(how='any',axis=0).sort_values(by=('rv'*1))\nrd_main",
    "id": "b880219b397d4a8c9beae1ab510c1a11",
    "idx": 4,
    "time": "2021-02-04T19:47:06.066Z",
    "type": "execution"
   },
   {
    "id": "b880219b397d4a8c9beae1ab510c1a11",
    "time": "2021-02-04T19:47:06.185Z",
    "type": "completion"
   },
   {
    "code": "bin_size_rd = 10\n\nrd_main = df[['treat', 'turnout_party_share', 'rv']]\nrd_main = rd_main.dropna(how='any',axis=0).sort_values(by=('rv'*-1))\nrd_main",
    "id": "b880219b397d4a8c9beae1ab510c1a11",
    "idx": 4,
    "time": "2021-02-04T19:47:10.312Z",
    "type": "execution"
   },
   {
    "id": "b880219b397d4a8c9beae1ab510c1a11",
    "time": "2021-02-04T19:47:10.437Z",
    "type": "completion"
   },
   {
    "code": "bin_size_rd = 10\n\nrd_main = df[['treat', 'turnout_party_share', 'rv']]\nrd_main = rd_main.dropna(how='any',axis=0).sort_values(by=('rv'*1))\nrd_main",
    "id": "b880219b397d4a8c9beae1ab510c1a11",
    "idx": 4,
    "time": "2021-02-04T19:47:19.093Z",
    "type": "execution"
   },
   {
    "id": "b880219b397d4a8c9beae1ab510c1a11",
    "time": "2021-02-04T19:47:19.196Z",
    "type": "completion"
   },
   {
    "code": "bin_size_rd = 10\n\nrd_main = df[['treat', 'turnout_party_share', 'rv']]\nrd_main = rd_main.dropna(how='any',axis=0).sort_values(by=abs(df[['rv']])\nrd_main",
    "id": "b880219b397d4a8c9beae1ab510c1a11",
    "idx": 4,
    "time": "2021-02-04T19:49:03.740Z",
    "type": "execution"
   },
   {
    "id": "b880219b397d4a8c9beae1ab510c1a11",
    "time": "2021-02-04T19:49:04.305Z",
    "type": "completion"
   },
   {
    "code": "bin_size_rd = 10\n\nrd_main = df[['treat', 'turnout_party_share', 'rv']]\nrd_main = rd_main.dropna(how='any',axis=0).sort_values(by=abs(df[['rv']]))\nrd_main",
    "id": "b880219b397d4a8c9beae1ab510c1a11",
    "idx": 4,
    "time": "2021-02-04T19:49:08.938Z",
    "type": "execution"
   },
   {
    "id": "b880219b397d4a8c9beae1ab510c1a11",
    "time": "2021-02-04T19:49:09.282Z",
    "type": "completion"
   },
   {
    "code": "bin_size_rd = 10\n\nrd_main = df[['treat', 'turnout_party_share', 'rv']]\nrd_main = rd_main.dropna(how='any',axis=0).sort_values(by=abs(df['rv']))\nrd_main",
    "id": "b880219b397d4a8c9beae1ab510c1a11",
    "idx": 4,
    "time": "2021-02-04T19:49:15.768Z",
    "type": "execution"
   },
   {
    "id": "b880219b397d4a8c9beae1ab510c1a11",
    "time": "2021-02-04T19:49:17.837Z",
    "type": "completion"
   },
   {
    "code": "rd_main['rv']",
    "id": "f5ecbc86fea549e98c1a8cf89542f280",
    "idx": 5,
    "time": "2021-02-04T19:49:31.436Z",
    "type": "execution"
   },
   {
    "id": "f5ecbc86fea549e98c1a8cf89542f280",
    "time": "2021-02-04T19:49:31.722Z",
    "type": "completion"
   },
   {
    "code": "abs(rd_main['rv'])",
    "id": "f5ecbc86fea549e98c1a8cf89542f280",
    "idx": 5,
    "time": "2021-02-04T19:49:45.122Z",
    "type": "execution"
   },
   {
    "id": "f5ecbc86fea549e98c1a8cf89542f280",
    "time": "2021-02-04T19:49:45.309Z",
    "type": "completion"
   },
   {
    "code": "bin_size_rd = 10\n\nrd_main = df[['treat', 'turnout_party_share', 'rv']]\nrd_main = rd_main.dropna(how='any',axis=0).sort_values(by=abs(rd_main['rv']))\nrd_main",
    "id": "b880219b397d4a8c9beae1ab510c1a11",
    "idx": 4,
    "time": "2021-02-04T19:49:54.888Z",
    "type": "execution"
   },
   {
    "id": "b880219b397d4a8c9beae1ab510c1a11",
    "time": "2021-02-04T19:49:55.072Z",
    "type": "completion"
   },
   {
    "code": "abs(rd_main[['rv']])",
    "id": "f5ecbc86fea549e98c1a8cf89542f280",
    "idx": 5,
    "time": "2021-02-04T19:50:07.429Z",
    "type": "execution"
   },
   {
    "id": "f5ecbc86fea549e98c1a8cf89542f280",
    "time": "2021-02-04T19:50:07.589Z",
    "type": "completion"
   },
   {
    "code": "bin_size_rd = 10\n\nrd_main = df[['treat', 'turnout_party_share', 'rv']]\nrd_main = rd_main.dropna(how='any',axis=0).sort_values(by=abs(rd_main[['rv']]))\nrd_main",
    "id": "b880219b397d4a8c9beae1ab510c1a11",
    "idx": 4,
    "time": "2021-02-04T19:50:18.497Z",
    "type": "execution"
   },
   {
    "id": "b880219b397d4a8c9beae1ab510c1a11",
    "time": "2021-02-04T19:50:18.700Z",
    "type": "completion"
   },
   {
    "code": "bin_size_rd = 10\n\nrd_main = df[['treat', 'turnout_party_share', 'rv']]\nrd_main = rd_main.dropna(how='any',axis=0)\nrd_main[['rv']]=abs(rd_main[['rv']])\nrd_main",
    "id": "b880219b397d4a8c9beae1ab510c1a11",
    "idx": 4,
    "time": "2021-02-04T19:50:50.787Z",
    "type": "execution"
   },
   {
    "id": "b880219b397d4a8c9beae1ab510c1a11",
    "time": "2021-02-04T19:50:50.950Z",
    "type": "completion"
   },
   {
    "code": "model = sm.ols(formula='vote_general ~ victory_general + treat', data=df)\nresults = model.fit()\nprint(results.summary())",
    "id": "a2fb7b8ef77f46d399b88fd505868222",
    "idx": 3,
    "time": "2021-02-04T20:13:26.934Z",
    "type": "execution"
   },
   {
    "id": "a2fb7b8ef77f46d399b88fd505868222",
    "time": "2021-02-04T20:13:27.083Z",
    "type": "completion"
   },
   {
    "code": "model = sm.ols(formula='vote_general ~ victory_general + treat', data=df)\nresults = model.fit()\nprint(results.summary())",
    "id": "a2fb7b8ef77f46d399b88fd505868222",
    "idx": 3,
    "time": "2021-02-04T20:19:44.892Z",
    "type": "execution"
   },
   {
    "id": "a2fb7b8ef77f46d399b88fd505868222",
    "time": "2021-02-04T20:19:45.008Z",
    "type": "completion"
   },
   {
    "code": "model = sm.ols(formula='vote_general ~ victory_general + treat + rv', data=df)\nresults = model.fit()\nprint(results.summary())",
    "id": "a2fb7b8ef77f46d399b88fd505868222",
    "idx": 3,
    "time": "2021-02-04T20:19:51.732Z",
    "type": "execution"
   },
   {
    "id": "a2fb7b8ef77f46d399b88fd505868222",
    "time": "2021-02-04T20:19:51.837Z",
    "type": "completion"
   },
   {
    "code": "model = sm.ols(formula='vote_general ~ victory_general + treat + rv + treat_rv', data=df)\nresults = model.fit()\nprint(results.summary())",
    "id": "a2fb7b8ef77f46d399b88fd505868222",
    "idx": 3,
    "time": "2021-02-04T20:20:00.778Z",
    "type": "execution"
   },
   {
    "id": "a2fb7b8ef77f46d399b88fd505868222",
    "time": "2021-02-04T20:20:00.900Z",
    "type": "completion"
   },
   {
    "code": "model = sm.ols(formula='vote_general ~ victory_general + treat + rv + treat_rv if abs(rv)<0.1', data=df)\nresults = model.fit()\nprint(results.summary())",
    "id": "a2fb7b8ef77f46d399b88fd505868222",
    "idx": 3,
    "time": "2021-02-04T20:20:33.524Z",
    "type": "execution"
   },
   {
    "id": "a2fb7b8ef77f46d399b88fd505868222",
    "time": "2021-02-04T20:20:34.158Z",
    "type": "completion"
   },
   {
    "code": "model = sm.ols(formula='vote_general ~ victory_general + treat + rv + treat_rv', data=df)\nresults = model.fit()\nprint(results.summary())",
    "id": "a2fb7b8ef77f46d399b88fd505868222",
    "idx": 3,
    "time": "2021-02-04T20:20:41.122Z",
    "type": "execution"
   },
   {
    "id": "a2fb7b8ef77f46d399b88fd505868222",
    "time": "2021-02-04T20:20:41.232Z",
    "type": "completion"
   },
   {
    "code": "model = sm.ols(formula='dist ~ victory_general + treat + rv + treat_rv', data=df)\nresults = model.fit()\nprint(results.summary())",
    "id": "a2fb7b8ef77f46d399b88fd505868222",
    "idx": 3,
    "time": "2021-02-04T20:21:03.950Z",
    "type": "execution"
   },
   {
    "id": "a2fb7b8ef77f46d399b88fd505868222",
    "time": "2021-02-04T20:21:04.083Z",
    "type": "completion"
   },
   {
    "code": "model = sm.ols(formula='victory_general ~ vote_general + treat + rv + treat_rv', data=df)\nresults = model.fit()\nprint(results.summary())",
    "id": "a2fb7b8ef77f46d399b88fd505868222",
    "idx": 3,
    "time": "2021-02-04T20:21:20.022Z",
    "type": "execution"
   },
   {
    "id": "a2fb7b8ef77f46d399b88fd505868222",
    "time": "2021-02-04T20:21:20.168Z",
    "type": "completion"
   },
   {
    "code": "model = sm.ols(formula='dist ~ vote_general + treat + rv + treat_rv', data=df)\nresults = model.fit()\nprint(results.summary())",
    "id": "a2fb7b8ef77f46d399b88fd505868222",
    "idx": 3,
    "time": "2021-02-04T20:22:23.727Z",
    "type": "execution"
   },
   {
    "id": "a2fb7b8ef77f46d399b88fd505868222",
    "time": "2021-02-04T20:22:23.871Z",
    "type": "completion"
   },
   {
    "code": "model = sm.ols(formula='victory_general ~ vote_general + treat + rv + treat_rv', data=df)\nresults = model.fit()\nprint(results.summary())",
    "id": "a2fb7b8ef77f46d399b88fd505868222",
    "idx": 3,
    "time": "2021-02-04T20:22:27.060Z",
    "type": "execution"
   },
   {
    "id": "a2fb7b8ef77f46d399b88fd505868222",
    "time": "2021-02-04T20:22:27.158Z",
    "type": "completion"
   },
   {
    "code": "model = sm.ols(formula='vote_general ~ vote_general + treat + rv + treat_rv', data=df)\nresults = model.fit()\nprint(results.summary())",
    "id": "a2fb7b8ef77f46d399b88fd505868222",
    "idx": 3,
    "time": "2021-02-04T20:22:34.180Z",
    "type": "execution"
   },
   {
    "id": "a2fb7b8ef77f46d399b88fd505868222",
    "time": "2021-02-04T20:22:34.292Z",
    "type": "completion"
   },
   {
    "code": "model = sm.ols(formula='vote_general ~ vote_general + treat + rv + treat_rv', data=df[abs(df['rv']<0.1)]\nresults = model.fit()\nprint(results.summary())",
    "id": "a2fb7b8ef77f46d399b88fd505868222",
    "idx": 3,
    "time": "2021-02-04T20:41:11.423Z",
    "type": "execution"
   },
   {
    "id": "a2fb7b8ef77f46d399b88fd505868222",
    "time": "2021-02-04T20:41:11.534Z",
    "type": "completion"
   },
   {
    "code": "model = sm.ols(formula='vote_general ~ vote_general + treat + rv + treat_rv', data=df[abs(df['rv']<0.1)])\nresults = model.fit()\nprint(results.summary())",
    "id": "a2fb7b8ef77f46d399b88fd505868222",
    "idx": 3,
    "time": "2021-02-04T20:41:17.933Z",
    "type": "execution"
   },
   {
    "id": "a2fb7b8ef77f46d399b88fd505868222",
    "time": "2021-02-04T20:41:18.029Z",
    "type": "completion"
   },
   {
    "code": "model = sm.ols(formula='vote_general ~ vote_general + treat + rv + treat_rv', data=df[abs(df['rv']<0.1)]).fit().summary()",
    "id": "a2fb7b8ef77f46d399b88fd505868222",
    "idx": 3,
    "time": "2021-02-04T20:43:29.254Z",
    "type": "execution"
   },
   {
    "id": "a2fb7b8ef77f46d399b88fd505868222",
    "time": "2021-02-04T20:43:29.338Z",
    "type": "completion"
   },
   {
    "code": "model = sm.ols(formula='vote_general ~ vote_general + treat + rv + treat_rv', data=df[abs(df['rv']<0.1)]).fit().summary()\ndisplay(model)",
    "id": "a2fb7b8ef77f46d399b88fd505868222",
    "idx": 3,
    "time": "2021-02-04T20:44:12.662Z",
    "type": "execution"
   },
   {
    "id": "a2fb7b8ef77f46d399b88fd505868222",
    "time": "2021-02-04T20:44:12.812Z",
    "type": "completion"
   },
   {
    "code": "model = sm.ols(formula='vote_general ~ vote_general + treat + rv + treat_rv', data=df[abs(df['rv'])<0.1]).fit().summary()\ndisplay(model)",
    "id": "a2fb7b8ef77f46d399b88fd505868222",
    "idx": 3,
    "time": "2021-02-04T20:45:07.764Z",
    "type": "execution"
   },
   {
    "id": "a2fb7b8ef77f46d399b88fd505868222",
    "time": "2021-02-04T20:45:07.915Z",
    "type": "completion"
   },
   {
    "code": "sum absdist, d\ngl cutoff = r(p50)",
    "id": "9ccac3a8d98b478d98df3927ee7bfd30",
    "idx": 2,
    "time": "2021-02-04T20:46:21.273Z",
    "type": "execution"
   },
   {
    "id": "9ccac3a8d98b478d98df3927ee7bfd30",
    "time": "2021-02-04T20:46:21.351Z",
    "type": "completion"
   },
   {
    "code": "#sum absdist, d\ngl cutoff = r(p50)",
    "id": "9ccac3a8d98b478d98df3927ee7bfd30",
    "idx": 2,
    "time": "2021-02-04T20:48:05.946Z",
    "type": "execution"
   },
   {
    "id": "9ccac3a8d98b478d98df3927ee7bfd30",
    "time": "2021-02-04T20:48:06.048Z",
    "type": "completion"
   },
   {
    "code": "df.groupby('dist')['vote_general']",
    "id": "3d28b05898aa4ebf8f0bcddcec6306e0",
    "idx": 2,
    "time": "2021-02-04T21:19:24.515Z",
    "type": "execution"
   },
   {
    "id": "3d28b05898aa4ebf8f0bcddcec6306e0",
    "time": "2021-02-04T21:19:24.614Z",
    "type": "completion"
   },
   {
    "code": "df.groupby('dist')['vote_general'].mean()",
    "id": "3d28b05898aa4ebf8f0bcddcec6306e0",
    "idx": 2,
    "time": "2021-02-04T21:19:45.040Z",
    "type": "execution"
   },
   {
    "id": "3d28b05898aa4ebf8f0bcddcec6306e0",
    "time": "2021-02-04T21:19:45.128Z",
    "type": "completion"
   },
   {
    "code": "max('year')",
    "id": "6b44737f099d42b197cc02c1268175ca",
    "idx": 2,
    "time": "2021-02-04T21:26:53.961Z",
    "type": "execution"
   },
   {
    "id": "6b44737f099d42b197cc02c1268175ca",
    "time": "2021-02-04T21:26:54.058Z",
    "type": "completion"
   },
   {
    "code": "max(df['year'])",
    "id": "6b44737f099d42b197cc02c1268175ca",
    "idx": 2,
    "time": "2021-02-04T21:27:17.120Z",
    "type": "execution"
   },
   {
    "id": "6b44737f099d42b197cc02c1268175ca",
    "time": "2021-02-04T21:27:17.214Z",
    "type": "completion"
   },
   {
    "code": "min(df['year'])",
    "id": "6b44737f099d42b197cc02c1268175ca",
    "idx": 2,
    "time": "2021-02-04T21:27:23.242Z",
    "type": "execution"
   },
   {
    "id": "6b44737f099d42b197cc02c1268175ca",
    "time": "2021-02-04T21:27:23.305Z",
    "type": "completion"
   },
   {
    "code": "df.columns.tolist()",
    "id": "9faae4e76f08497a8631462bcd39770f",
    "idx": 2,
    "time": "2021-02-04T21:28:04.712Z",
    "type": "execution"
   },
   {
    "id": "9faae4e76f08497a8631462bcd39770f",
    "time": "2021-02-04T21:28:04.808Z",
    "type": "completion"
   },
   {
    "code": "import pandas as pd\nfrom pandas.stats.api import ols\n#from scipy import stats\n#import statsmodels.formula.api as sm",
    "id": "b41ed4e9ac774ee085510773d5144773",
    "idx": 0,
    "time": "2021-02-04T21:51:31.443Z",
    "type": "execution"
   },
   {
    "id": "b41ed4e9ac774ee085510773d5144773",
    "time": "2021-02-04T21:51:31.583Z",
    "type": "completion"
   },
   {
    "code": "import pandas as pd\n#from scipy import stats\n\nimport statsmodels.formula.api as sm",
    "id": "b41ed4e9ac774ee085510773d5144773",
    "idx": 0,
    "time": "2021-02-04T21:51:41.372Z",
    "type": "execution"
   },
   {
    "id": "b41ed4e9ac774ee085510773d5144773",
    "time": "2021-02-04T21:51:41.471Z",
    "type": "completion"
   },
   {
    "code": "df = pd.read_stata('hall_thompson_replication_files/rd_analysis_hs.dta')\ndf.head()",
    "id": "d38a1687a94746158550ec9c08b98f3f",
    "idx": 1,
    "time": "2021-02-04T21:51:42.233Z",
    "type": "execution"
   },
   {
    "code": "df.columns.tolist()",
    "id": "9faae4e76f08497a8631462bcd39770f",
    "idx": 2,
    "time": "2021-02-04T21:51:42.644Z",
    "type": "execution"
   },
   {
    "id": "d38a1687a94746158550ec9c08b98f3f",
    "time": "2021-02-04T21:51:42.756Z",
    "type": "completion"
   },
   {
    "id": "9faae4e76f08497a8631462bcd39770f",
    "time": "2021-02-04T21:51:42.787Z",
    "type": "completion"
   },
   {
    "code": "df.groupby('dist')['vote_general'].mean()",
    "id": "3d28b05898aa4ebf8f0bcddcec6306e0",
    "idx": 3,
    "time": "2021-02-04T21:51:42.992Z",
    "type": "execution"
   },
   {
    "id": "3d28b05898aa4ebf8f0bcddcec6306e0",
    "time": "2021-02-04T21:51:43.065Z",
    "type": "completion"
   },
   {
    "code": "#cutoff = stats.scoreatpercentile(a, 50)\n\nmodel = sm.ols(formula='vote_general ~ vote_general + treat + rv + treat_rv', data=df[abs(df['rv'])<0.1]).fit().summary()\ndisplay(model)",
    "id": "a2fb7b8ef77f46d399b88fd505868222",
    "idx": 4,
    "time": "2021-02-04T21:51:43.337Z",
    "type": "execution"
   },
   {
    "id": "a2fb7b8ef77f46d399b88fd505868222",
    "time": "2021-02-04T21:51:43.565Z",
    "type": "completion"
   },
   {
    "code": "import pandas as pd\nimport statsmodels.formula.api as sm",
    "id": "b41ed4e9ac774ee085510773d5144773",
    "idx": 0,
    "time": "2021-02-04T22:08:32.616Z",
    "type": "execution"
   },
   {
    "id": "b41ed4e9ac774ee085510773d5144773",
    "time": "2021-02-04T22:08:32.700Z",
    "type": "completion"
   },
   {
    "code": "df = pd.read_stata('hall_thompson_replication_files/rd_analysis_hs.dta')\ndf.head()",
    "id": "d38a1687a94746158550ec9c08b98f3f",
    "idx": 1,
    "time": "2021-02-04T22:08:32.822Z",
    "type": "execution"
   },
   {
    "code": "model = sm.ols(formula='vote_general ~ vote_general + treat + rv + treat_rv', data=df[abs(df['rv'])<0.1]).fit().summary()\ndisplay(model)",
    "id": "a2fb7b8ef77f46d399b88fd505868222",
    "idx": 2,
    "time": "2021-02-04T22:08:33.065Z",
    "type": "execution"
   },
   {
    "id": "d38a1687a94746158550ec9c08b98f3f",
    "time": "2021-02-04T22:08:33.154Z",
    "type": "completion"
   },
   {
    "id": "a2fb7b8ef77f46d399b88fd505868222",
    "time": "2021-02-04T22:08:33.176Z",
    "type": "completion"
   },
   {
    "code": "df.columns()",
    "id": "9b7a3d44fad54ca1895d75279ac895b3",
    "idx": 3,
    "time": "2021-02-05T06:31:45.038Z",
    "type": "execution"
   },
   {
    "id": "9b7a3d44fad54ca1895d75279ac895b3",
    "time": "2021-02-05T06:31:45.857Z",
    "type": "completion"
   },
   {
    "code": "import pandas as pd\nimport statsmodels.formula.api as sm",
    "id": "a6c935213e1348b8b09324dbb77a44f4",
    "idx": 0,
    "time": "2021-02-05T06:31:49.152Z",
    "type": "execution"
   },
   {
    "code": "df = pd.read_stata('hall_thompson_replication_files/rd_analysis_hs.dta')\ndf.head()",
    "id": "80b91cb3bcf5468381812395ce64dab3",
    "idx": 1,
    "time": "2021-02-05T06:31:49.457Z",
    "type": "execution"
   },
   {
    "code": "model = sm.ols(formula='vote_general ~ vote_general + treat + rv + treat_rv', data=df[abs(df['rv'])<0.1]).fit().summary()\ndisplay(model)",
    "id": "e82a2709bcdb4e3c9b292592a387d702",
    "idx": 2,
    "time": "2021-02-05T06:31:49.701Z",
    "type": "execution"
   },
   {
    "code": "df.columns()",
    "id": "9b7a3d44fad54ca1895d75279ac895b3",
    "idx": 3,
    "time": "2021-02-05T06:31:50.256Z",
    "type": "execution"
   },
   {
    "id": "a6c935213e1348b8b09324dbb77a44f4",
    "time": "2021-02-05T06:31:50.307Z",
    "type": "completion"
   },
   {
    "id": "80b91cb3bcf5468381812395ce64dab3",
    "time": "2021-02-05T06:31:50.727Z",
    "type": "completion"
   },
   {
    "id": "e82a2709bcdb4e3c9b292592a387d702",
    "time": "2021-02-05T06:31:50.760Z",
    "type": "completion"
   },
   {
    "id": "9b7a3d44fad54ca1895d75279ac895b3",
    "time": "2021-02-05T06:31:50.820Z",
    "type": "completion"
   },
   {
    "code": "df.columns().tolist()",
    "id": "9b7a3d44fad54ca1895d75279ac895b3",
    "idx": 3,
    "time": "2021-02-05T06:32:53.699Z",
    "type": "execution"
   },
   {
    "id": "9b7a3d44fad54ca1895d75279ac895b3",
    "time": "2021-02-05T06:32:54.011Z",
    "type": "completion"
   },
   {
    "code": "list(df.columns())",
    "id": "9b7a3d44fad54ca1895d75279ac895b3",
    "idx": 3,
    "time": "2021-02-05T06:33:02.187Z",
    "type": "execution"
   },
   {
    "id": "9b7a3d44fad54ca1895d75279ac895b3",
    "time": "2021-02-05T06:33:02.268Z",
    "type": "completion"
   },
   {
    "code": "list(df.columns",
    "id": "9b7a3d44fad54ca1895d75279ac895b3",
    "idx": 3,
    "time": "2021-02-05T06:33:10.488Z",
    "type": "execution"
   },
   {
    "id": "9b7a3d44fad54ca1895d75279ac895b3",
    "time": "2021-02-05T06:33:10.753Z",
    "type": "completion"
   },
   {
    "code": "df.columns",
    "id": "9b7a3d44fad54ca1895d75279ac895b3",
    "idx": 3,
    "time": "2021-02-05T06:33:14.592Z",
    "type": "execution"
   },
   {
    "id": "9b7a3d44fad54ca1895d75279ac895b3",
    "time": "2021-02-05T06:33:14.754Z",
    "type": "completion"
   },
   {
    "code": "list(df.columns)",
    "id": "9b7a3d44fad54ca1895d75279ac895b3",
    "idx": 3,
    "time": "2021-02-05T06:33:21.435Z",
    "type": "execution"
   },
   {
    "id": "9b7a3d44fad54ca1895d75279ac895b3",
    "time": "2021-02-05T06:33:21.582Z",
    "type": "completion"
   },
   {
    "code": "model2 = sm.ols(formula='turnout_party_share ~ turnout_party_share + treat + rv + treat_rv', data=df[abs(df['rv'])<0.1]).fit().summary()\ndisplay(model2)",
    "id": "e6cac7d338554eedac05428ad472f123",
    "idx": 3,
    "time": "2021-02-05T06:36:21.057Z",
    "type": "execution"
   },
   {
    "id": "e6cac7d338554eedac05428ad472f123",
    "time": "2021-02-05T06:36:21.230Z",
    "type": "completion"
   },
   {
    "code": "rd_main = df[['treat', 'turnout_party_share', 'rv']]\nfilter(!is.na(turnout_party_share))\nrd_main",
    "id": "95dd5439fbfc4527853047bd35dc01c5",
    "idx": 4,
    "time": "2021-02-05T06:46:03.309Z",
    "type": "execution"
   },
   {
    "id": "95dd5439fbfc4527853047bd35dc01c5",
    "time": "2021-02-05T06:46:03.428Z",
    "type": "completion"
   },
   {
    "code": "rd_main = df[['treat', 'turnout_party_share', 'rv']]\n#filter(!is.na(turnout_party_share))\nrd_main",
    "id": "95dd5439fbfc4527853047bd35dc01c5",
    "idx": 4,
    "time": "2021-02-05T06:46:07.646Z",
    "type": "execution"
   },
   {
    "id": "95dd5439fbfc4527853047bd35dc01c5",
    "time": "2021-02-05T06:46:07.798Z",
    "type": "completion"
   },
   {
    "code": "rd_main = df[['treat', 'turnout_party_share', 'rv']]\nfiltered_df = df[df['turnout_party_share'].notnull()]\n#filter(!is.na(turnout_party_share))\nfiltered_df",
    "id": "95dd5439fbfc4527853047bd35dc01c5",
    "idx": 4,
    "time": "2021-02-05T06:51:15.571Z",
    "type": "execution"
   },
   {
    "id": "95dd5439fbfc4527853047bd35dc01c5",
    "time": "2021-02-05T06:51:15.830Z",
    "type": "completion"
   },
   {
    "code": "import pandas as pd\nimport statsmodels.formula.api as sm",
    "id": "a6c935213e1348b8b09324dbb77a44f4",
    "idx": 0,
    "time": "2021-02-05T06:51:36.206Z",
    "type": "execution"
   },
   {
    "id": "a6c935213e1348b8b09324dbb77a44f4",
    "time": "2021-02-05T06:51:36.270Z",
    "type": "completion"
   },
   {
    "code": "df = pd.read_stata('hall_thompson_replication_files/rd_analysis_hs.dta')\ndf.head()",
    "id": "80b91cb3bcf5468381812395ce64dab3",
    "idx": 1,
    "time": "2021-02-05T06:51:36.591Z",
    "type": "execution"
   },
   {
    "id": "80b91cb3bcf5468381812395ce64dab3",
    "time": "2021-02-05T06:51:37.311Z",
    "type": "completion"
   },
   {
    "code": "import pandas as pd\nimport statsmodels.formula.api as sm",
    "id": "a6c935213e1348b8b09324dbb77a44f4",
    "idx": 0,
    "time": "2021-02-05T06:51:43.665Z",
    "type": "execution"
   },
   {
    "id": "a6c935213e1348b8b09324dbb77a44f4",
    "time": "2021-02-05T06:51:44.761Z",
    "type": "completion"
   },
   {
    "code": "df = pd.read_stata('hall_thompson_replication_files/rd_analysis_hs.dta')\ndf.head()",
    "id": "80b91cb3bcf5468381812395ce64dab3",
    "idx": 1,
    "time": "2021-02-05T06:51:48.756Z",
    "type": "execution"
   },
   {
    "id": "80b91cb3bcf5468381812395ce64dab3",
    "time": "2021-02-05T06:51:49.267Z",
    "type": "completion"
   },
   {
    "code": "model = sm.ols(formula='vote_general ~ vote_general + treat + rv + treat_rv', data=df[abs(df['rv'])<0.1]).fit().summary()\ndisplay(model)",
    "id": "e82a2709bcdb4e3c9b292592a387d702",
    "idx": 2,
    "time": "2021-02-05T06:51:54.530Z",
    "type": "execution"
   },
   {
    "id": "e82a2709bcdb4e3c9b292592a387d702",
    "time": "2021-02-05T06:51:54.684Z",
    "type": "completion"
   },
   {
    "code": "model2 = sm.ols(formula='turnout_party_share ~ turnout_party_share + treat + rv + treat_rv', data=df[abs(df['rv'])<0.1]).fit().summary()\ndisplay(model2)",
    "id": "e6cac7d338554eedac05428ad472f123",
    "idx": 3,
    "time": "2021-02-05T06:51:55.616Z",
    "type": "execution"
   },
   {
    "id": "e6cac7d338554eedac05428ad472f123",
    "time": "2021-02-05T06:51:55.750Z",
    "type": "completion"
   },
   {
    "code": "rd_main = df[['treat', 'turnout_party_share', 'rv']]\nfiltered_df = rd_main[rd_main['turnout_party_share'].notnull()]\n#filter(!is.na(turnout_party_share))\nfiltered_df",
    "id": "95dd5439fbfc4527853047bd35dc01c5",
    "idx": 4,
    "time": "2021-02-05T06:51:56.572Z",
    "type": "execution"
   },
   {
    "id": "95dd5439fbfc4527853047bd35dc01c5",
    "time": "2021-02-05T06:51:56.683Z",
    "type": "completion"
   },
   {
    "code": "rd_main = df[['treat', 'turnout_party_share', 'rv']]\nfiltered_df = rd_main[rd_main['turnout_party_share'].notnull()]\n#filter(!is.na(turnout_party_share))\nfiltered_df",
    "id": "95dd5439fbfc4527853047bd35dc01c5",
    "idx": 4,
    "time": "2021-02-05T06:52:01.312Z",
    "type": "execution"
   },
   {
    "id": "95dd5439fbfc4527853047bd35dc01c5",
    "time": "2021-02-05T06:52:01.416Z",
    "type": "completion"
   },
   {
    "code": "bin_size_rd = 10\nrd_main = df[['treat', 'turnout_party_share', 'rv']]\nfiltered_df = rd_main[rd_main['turnout_party_share'].notnull()]\nfiltered_df.groupby('treat')\n\n",
    "id": "95dd5439fbfc4527853047bd35dc01c5",
    "idx": 4,
    "time": "2021-02-05T06:52:43.478Z",
    "type": "execution"
   },
   {
    "id": "95dd5439fbfc4527853047bd35dc01c5",
    "time": "2021-02-05T06:52:43.555Z",
    "type": "completion"
   },
   {
    "code": "bin_size_rd = 10\nrd_main = df[['treat', 'turnout_party_share', 'rv']]\nfiltered_df = rd_main[rd_main['turnout_party_share'].notnull()]\nfiltered_df.groupby(by='treat')\n\n",
    "id": "95dd5439fbfc4527853047bd35dc01c5",
    "idx": 4,
    "time": "2021-02-05T06:53:18.199Z",
    "type": "execution"
   },
   {
    "id": "95dd5439fbfc4527853047bd35dc01c5",
    "time": "2021-02-05T06:53:18.274Z",
    "type": "completion"
   },
   {
    "code": "bin_size_rd = 10\nrd_main = df[['treat', 'turnout_party_share', 'rv']]\nrd_filtered = rd_main[rd_main['turnout_party_share'].notnull()]\nred_filtered.groupby(by='treat')\n\n",
    "id": "95dd5439fbfc4527853047bd35dc01c5",
    "idx": 4,
    "time": "2021-02-05T06:53:55.661Z",
    "type": "execution"
   },
   {
    "id": "95dd5439fbfc4527853047bd35dc01c5",
    "time": "2021-02-05T06:53:55.985Z",
    "type": "completion"
   },
   {
    "code": "bin_size_rd = 10\nrd_main = df[['treat', 'turnout_party_share', 'rv']]\nrd_filtered = rd_main[rd_main['turnout_party_share'].notnull()]\nrd_filtered.groupby(by='treat')\n\n",
    "id": "95dd5439fbfc4527853047bd35dc01c5",
    "idx": 4,
    "time": "2021-02-05T06:53:59.718Z",
    "type": "execution"
   },
   {
    "id": "95dd5439fbfc4527853047bd35dc01c5",
    "time": "2021-02-05T06:53:59.809Z",
    "type": "completion"
   },
   {
    "code": "model = sm.ols(formula='vote_general ~ vote_general + treat + rv + treat_rv', data=df[abs(df['rv'])<0.1]).fit().summary()\ndisplay(model)\ndf.assign(\n    column1 = lambda dataframe: dataframe['1'].map(lambda one: 'vote_general ~ vote_general + treat + rv + treat_rv' if abs(df['rv'])<0.1) \n)\ndf",
    "id": "e82a2709bcdb4e3c9b292592a387d702",
    "idx": 2,
    "time": "2021-02-05T06:59:15.431Z",
    "type": "execution"
   },
   {
    "id": "e82a2709bcdb4e3c9b292592a387d702",
    "time": "2021-02-05T06:59:15.531Z",
    "type": "completion"
   },
   {
    "code": "model = sm.ols(formula='vote_general ~ vote_general + treat + rv + treat_rv', data=df[abs(df['rv'])<0.1]).fit().summary()\ndisplay(model)\ndf.assign(\n    column1 = lambda dataframe: dataframe['1'].map(lambda one: 'vote_general ~ vote_general + treat + rv + treat_rv' if abs(df['rv'])<0.1)) \n)\ndf",
    "id": "e82a2709bcdb4e3c9b292592a387d702",
    "idx": 2,
    "time": "2021-02-05T06:59:25.175Z",
    "type": "execution"
   },
   {
    "id": "e82a2709bcdb4e3c9b292592a387d702",
    "time": "2021-02-05T06:59:25.253Z",
    "type": "completion"
   },
   {
    "code": "model = sm.ols(formula='vote_general ~ vote_general + treat + rv + treat_rv', data=df[abs(df['rv'])<0.1]).fit().summary()\ndisplay(model)\ndf.assign(\n    column1 = lambda dataframe: dataframe['1'].map(lambda vote_general: vote_general + treat + rv + treat_rv if abs(df['rv'])<0.1) \n)\ndf",
    "id": "e82a2709bcdb4e3c9b292592a387d702",
    "idx": 2,
    "time": "2021-02-05T06:59:51.735Z",
    "type": "execution"
   },
   {
    "id": "e82a2709bcdb4e3c9b292592a387d702",
    "time": "2021-02-05T06:59:51.883Z",
    "type": "completion"
   },
   {
    "code": "model = sm.ols(formula='vote_general ~ vote_general + treat + rv + treat_rv', data=df[abs(df['rv'])<0.1]).fit().summary()\ndisplay(model)\ndf.assign(\n    column1 = lambda dataframe: dataframe['1'].map(lambda vote_general: vote_general + treat + rv + treat_rv if df[abs(df['rv'])<0.1]) \n)\ndf",
    "id": "e82a2709bcdb4e3c9b292592a387d702",
    "idx": 2,
    "time": "2021-02-05T07:00:11.415Z",
    "type": "execution"
   },
   {
    "id": "e82a2709bcdb4e3c9b292592a387d702",
    "time": "2021-02-05T07:00:11.523Z",
    "type": "completion"
   },
   {
    "code": "model = sm.ols(formula='vote_general ~ vote_general + treat + rv + treat_rv', data=df[abs(df['rv'])<0.1]).fit().summary()\ndisplay(model)\ndf.assign(\n    column1 = lambda dataframe: dataframe['1'].map(lambda vote_general: vote_general + treat + rv + treat_rv if abs(df['rv'])<0.1) \n)\ndf",
    "id": "e82a2709bcdb4e3c9b292592a387d702",
    "idx": 2,
    "time": "2021-02-05T07:00:16.926Z",
    "type": "execution"
   },
   {
    "id": "e82a2709bcdb4e3c9b292592a387d702",
    "time": "2021-02-05T07:00:17.011Z",
    "type": "completion"
   },
   {
    "code": "model = sm.ols(formula='vote_general ~ vote_general + treat + rv + treat_rv', data=df[abs(df['rv'])<0.1]).fit().summary()\ndisplay(model)\ndf.assign(\n    column1 = lambda dataframe: dataframe['1'].map(lambda vote_general: vote_general + treat + rv + treat_rv if (abs(df['rv'])<0.1)) \n)\ndf",
    "id": "e82a2709bcdb4e3c9b292592a387d702",
    "idx": 2,
    "time": "2021-02-05T07:00:41.082Z",
    "type": "execution"
   },
   {
    "id": "e82a2709bcdb4e3c9b292592a387d702",
    "time": "2021-02-05T07:00:41.161Z",
    "type": "completion"
   },
   {
    "code": "model = sm.ols(formula='vote_general ~ vote_general + treat + rv + treat_rv', data=df[abs(df['rv'])<0.1]).fit().summary()\ndisplay(model)\ndf.assign(\n    column1 = lambda dataframe: dataframe['1'].map(lambda vote_general: vote_general + treat + rv + treat_rv if abs(rv)<0.1) \n)\ndf",
    "id": "e82a2709bcdb4e3c9b292592a387d702",
    "idx": 2,
    "time": "2021-02-05T07:01:12.367Z",
    "type": "execution"
   },
   {
    "id": "e82a2709bcdb4e3c9b292592a387d702",
    "time": "2021-02-05T07:01:12.476Z",
    "type": "completion"
   },
   {
    "code": "model = sm.ols(formula='vote_general ~ vote_general + treat + rv + treat_rv', data=df[abs(df['rv'])<0.1]).fit().summary()\ndisplay(model)",
    "id": "e82a2709bcdb4e3c9b292592a387d702",
    "idx": 2,
    "time": "2021-02-05T07:01:55.649Z",
    "type": "execution"
   },
   {
    "id": "e82a2709bcdb4e3c9b292592a387d702",
    "time": "2021-02-05T07:01:55.794Z",
    "type": "completion"
   },
   {
    "code": "model2 = sm.ols(formula='turnout_party_share ~ turnout_party_share + treat + rv + treat_rv', data=df[abs(df['rv'])<0.1]).fit().summary()\ndisplay(model2)",
    "id": "e6cac7d338554eedac05428ad472f123",
    "idx": 4,
    "time": "2021-02-05T07:01:56.968Z",
    "type": "execution"
   },
   {
    "id": "e6cac7d338554eedac05428ad472f123",
    "time": "2021-02-05T07:01:57.103Z",
    "type": "completion"
   },
   {
    "code": "bin_size_rd = 10\nrd_main = df[['treat', 'turnout_party_share', 'rv']]\nrd_filtered = rd_main[rd_main['turnout_party_share'].notnull()]\nrd_filtered.groupby(by='treat')\n\n",
    "id": "95dd5439fbfc4527853047bd35dc01c5",
    "idx": 5,
    "time": "2021-02-05T07:01:59.896Z",
    "type": "execution"
   },
   {
    "id": "95dd5439fbfc4527853047bd35dc01c5",
    "time": "2021-02-05T07:02:00.028Z",
    "type": "completion"
   },
   {
    "code": "bin_size_rd = 10\nrd_main = df[['treat', 'turnout_party_share', 'rv']]\nrd_filtered = rd_main[rd_main['turnout_party_share'].notnull()]\nrd_filtered\n",
    "id": "95dd5439fbfc4527853047bd35dc01c5",
    "idx": 5,
    "time": "2021-02-05T07:04:46.469Z",
    "type": "execution"
   },
   {
    "id": "95dd5439fbfc4527853047bd35dc01c5",
    "time": "2021-02-05T07:04:46.569Z",
    "type": "completion"
   },
   {
    "code": "bin_size_rd = 10\nrd_main = df[['treat', 'turnout_party_share', 'rv']]\nrd_filtered = rd_main[rd_main['turnout_party_share'].notnull()]\nrd_filtered",
    "id": "95dd5439fbfc4527853047bd35dc01c5",
    "idx": 5,
    "time": "2021-02-05T07:04:48.604Z",
    "type": "execution"
   },
   {
    "id": "95dd5439fbfc4527853047bd35dc01c5",
    "time": "2021-02-05T07:04:48.747Z",
    "type": "completion"
   },
   {
    "code": "bin_size_rd = 10\nrd_main = df[['treat', 'turnout_party_share', 'rv']]\nrd_filtered = rd_main[rd_main['turnout_party_share'].notnull()]\nrd_filtered",
    "id": "95dd5439fbfc4527853047bd35dc01c5",
    "idx": 5,
    "time": "2021-02-05T07:04:55.144Z",
    "type": "execution"
   },
   {
    "id": "95dd5439fbfc4527853047bd35dc01c5",
    "time": "2021-02-05T07:04:55.276Z",
    "type": "completion"
   },
   {
    "code": "df.head()",
    "id": "7a80e5cb67b04f698ec85c8ee34b01d3",
    "idx": 3,
    "time": "2021-02-05T07:05:11.024Z",
    "type": "execution"
   },
   {
    "id": "7a80e5cb67b04f698ec85c8ee34b01d3",
    "time": "2021-02-05T07:05:11.130Z",
    "type": "completion"
   },
   {
    "code": "df.assign(\n    column1 = lambda dataframe: dataframe['column1'].map(lambda one: sm.ols(formula='vote_general ~ vote_general + treat + rv + treat_rv', data=df if [abs(df['rv'])<0.1]))\n)",
    "id": "7a80e5cb67b04f698ec85c8ee34b01d3",
    "idx": 3,
    "time": "2021-02-05T07:10:37.930Z",
    "type": "execution"
   },
   {
    "id": "7a80e5cb67b04f698ec85c8ee34b01d3",
    "time": "2021-02-05T07:10:38.064Z",
    "type": "completion"
   },
   {
    "code": "df.assign(\n    column1 = lambda dataframe: dataframe['column1'].map(lambda one: sm.ols(formula='vote_general ~ vote_general + treat + rv + treat_rv', data=df[abs(df['rv'])<0.1]))\n)\n",
    "id": "7a80e5cb67b04f698ec85c8ee34b01d3",
    "idx": 3,
    "time": "2021-02-05T07:11:23.811Z",
    "type": "execution"
   },
   {
    "id": "7a80e5cb67b04f698ec85c8ee34b01d3",
    "time": "2021-02-05T07:11:24.090Z",
    "type": "completion"
   },
   {
    "code": "df2 = pd.DataFrame({\n    'name': ['alice','bob','charlie','daniel'],\n    'age': [25,66,56,78]\n})\ndf2.assign(\n    column1 = lambda dataframe: dataframe['column1'].map(lambda one: sm.ols(formula='vote_general ~ vote_general + treat + rv + treat_rv', data=df[abs(df['rv'])<0.1]))\n)\n",
    "id": "7a80e5cb67b04f698ec85c8ee34b01d3",
    "idx": 3,
    "time": "2021-02-05T07:12:26.158Z",
    "type": "execution"
   },
   {
    "id": "7a80e5cb67b04f698ec85c8ee34b01d3",
    "time": "2021-02-05T07:12:26.335Z",
    "type": "completion"
   },
   {
    "code": "df.assign(\n    column1 = lambda dataframe: dataframe['column1'].map(lambda one: sm.ols(formula='vote_general ~ vote_general + treat + rv + treat_rv', data=df[abs(df['rv'])<0.1]))\n)\n",
    "id": "7a80e5cb67b04f698ec85c8ee34b01d3",
    "idx": 3,
    "time": "2021-02-05T07:12:47.397Z",
    "type": "execution"
   },
   {
    "id": "7a80e5cb67b04f698ec85c8ee34b01d3",
    "time": "2021-02-05T07:12:47.565Z",
    "type": "completion"
   },
   {
    "code": "df.assign(\n    'column1' = lambda dataframe: dataframe['column1'].map(lambda one: sm.ols(formula='vote_general ~ vote_general + treat + rv + treat_rv', data=df[abs(df['rv'])<0.1]))\n)\n",
    "id": "7a80e5cb67b04f698ec85c8ee34b01d3",
    "idx": 3,
    "time": "2021-02-05T07:13:07.352Z",
    "type": "execution"
   },
   {
    "id": "7a80e5cb67b04f698ec85c8ee34b01d3",
    "time": "2021-02-05T07:13:07.449Z",
    "type": "completion"
   },
   {
    "code": "df.assign(\n    column1 = lambda dataframe: dataframe['column1'].map(lambda one: sm.ols(formula='vote_general ~ vote_general + treat + rv + treat_rv', data=df[abs(df['rv'])<0.1]))\n)\n",
    "id": "7a80e5cb67b04f698ec85c8ee34b01d3",
    "idx": 3,
    "time": "2021-02-05T07:13:34.170Z",
    "type": "execution"
   },
   {
    "id": "7a80e5cb67b04f698ec85c8ee34b01d3",
    "time": "2021-02-05T07:13:34.364Z",
    "type": "completion"
   },
   {
    "code": "df.assign(\n    column1 = lambda dataframe: dataframe['column1'].map(lambda : )\n)",
    "id": "7a80e5cb67b04f698ec85c8ee34b01d3",
    "idx": 3,
    "time": "2021-02-05T07:13:57.697Z",
    "type": "execution"
   },
   {
    "id": "7a80e5cb67b04f698ec85c8ee34b01d3",
    "time": "2021-02-05T07:13:57.770Z",
    "type": "completion"
   },
   {
    "code": "model = sm.ols(formula='vote_general ~ vote_general + treat + rv + treat_rv', data=df[abs(df['rv'])<0.1]).fit().summary()\ndisplay(model)\n\nbeginningtex = \"\"\"\\\\documentclass{report}\n\\\\usepackage{booktabs}\n\\\\begin{document}\"\"\"\nendtex = \"\\end{document}\"\n\nf = open('myreg.tex', 'w')\nf.write(beginningtex)\nf.write(res.summary().as_latex())\nf.write(endtex)\nf.close()",
    "id": "e82a2709bcdb4e3c9b292592a387d702",
    "idx": 2,
    "time": "2021-02-05T07:22:03.654Z",
    "type": "execution"
   },
   {
    "id": "e82a2709bcdb4e3c9b292592a387d702",
    "time": "2021-02-05T07:22:03.841Z",
    "type": "completion"
   },
   {
    "code": "model = sm.ols(formula='vote_general ~ vote_general + treat + rv + treat_rv', data=df[abs(df['rv'])<0.1]).fit()\ndisplay(model.summary())\n\nbeginningtex = \"\"\"\\\\documentclass{report}\n\\\\usepackage{booktabs}\n\\\\begin{document}\"\"\"\nendtex = \"\\end{document}\"\n\nf = open('myreg.tex', 'w')\nf.write(beginningtex)\nf.write(model.summary().as_latex())\nf.write(endtex)\nf.close()",
    "id": "e82a2709bcdb4e3c9b292592a387d702",
    "idx": 2,
    "time": "2021-02-05T07:22:58.556Z",
    "type": "execution"
   },
   {
    "id": "e82a2709bcdb4e3c9b292592a387d702",
    "time": "2021-02-05T07:22:58.780Z",
    "type": "completion"
   },
   {
    "code": "import pandas as pd\nimport statsmodels.formula.api as sm",
    "id": "a6c935213e1348b8b09324dbb77a44f4",
    "idx": 0,
    "time": "2021-02-05T07:23:11.443Z",
    "type": "execution"
   },
   {
    "id": "a6c935213e1348b8b09324dbb77a44f4",
    "time": "2021-02-05T07:23:11.531Z",
    "type": "completion"
   },
   {
    "code": "df = pd.read_stata('hall_thompson_replication_files/rd_analysis_hs.dta')\ndf.head()",
    "id": "80b91cb3bcf5468381812395ce64dab3",
    "idx": 1,
    "time": "2021-02-05T07:23:12.072Z",
    "type": "execution"
   },
   {
    "id": "80b91cb3bcf5468381812395ce64dab3",
    "time": "2021-02-05T07:23:12.509Z",
    "type": "completion"
   },
   {
    "code": "model = sm.ols(formula='vote_general ~ vote_general + treat + rv + treat_rv', data=df[abs(df['rv'])<0.1]).fit()\n#display(model.summary())\n\nbeginningtex = \"\"\"\\\\documentclass{report}\n\\\\usepackage{booktabs}\n\\\\begin{document}\"\"\"\nendtex = \"\\end{document}\"\n\nf = open('myreg.tex', 'w')\nf.write(beginningtex)\nf.write(model.summary().as_latex())\nf.write(endtex)\nf.close()",
    "id": "e82a2709bcdb4e3c9b292592a387d702",
    "idx": 2,
    "time": "2021-02-05T07:23:15.973Z",
    "type": "execution"
   },
   {
    "id": "e82a2709bcdb4e3c9b292592a387d702",
    "time": "2021-02-05T07:23:16.092Z",
    "type": "completion"
   },
   {
    "code": "model = sm.ols(formula='vote_general ~ vote_general + treat + rv + treat_rv', data=df[abs(df['rv'])<0.1]).fit()\n#display(model.summary())\n\nbeginningtex = \"\"\"\\\\documentclass{report}\n\\\\usepackage{booktabs}\n\\\\begin{document}\"\"\"\nendtex = \"\\end{document}\"\n\nf = open('myreg.tex', 'w')\nf.write(beginningtex)\nf.write(model.summary().as_latex())\nf.write(endtex)\nf.close()\n\nf.display()",
    "id": "e82a2709bcdb4e3c9b292592a387d702",
    "idx": 2,
    "time": "2021-02-05T07:23:24.494Z",
    "type": "execution"
   },
   {
    "id": "e82a2709bcdb4e3c9b292592a387d702",
    "time": "2021-02-05T07:23:24.615Z",
    "type": "completion"
   },
   {
    "code": "model = sm.ols(formula='vote_general ~ vote_general + treat + rv + treat_rv', data=df[abs(df['rv'])<0.1]).fit()\n#display(model.summary())\n\nbeginningtex = \"\"\"\\\\documentclass{report}\n\\\\usepackage{booktabs}\n\\\\begin{document}\"\"\"\nendtex = \"\\end{document}\"\n\nf = open('myreg.tex', 'w')\nf.write(beginningtex)\nf.write(model.summary().as_latex())\nf.write(endtex)\nf.close()\n\nf",
    "id": "e82a2709bcdb4e3c9b292592a387d702",
    "idx": 2,
    "time": "2021-02-05T07:23:30.322Z",
    "type": "execution"
   },
   {
    "id": "e82a2709bcdb4e3c9b292592a387d702",
    "time": "2021-02-05T07:23:30.504Z",
    "type": "completion"
   },
   {
    "code": "model = sm.ols(formula='vote_general ~ vote_general + treat + rv + treat_rv', data=df[abs(df['rv'])<0.1]).fit()\n#display(model.summary())\n\nbeginningtex = \"\"\"\\\\documentclass{report}\n\\\\usepackage{booktabs}\n\\\\begin{document}\"\"\"\nendtex = \"\\end{document}\"\n\nf = open('myreg.tex', 'w')\nf.write(beginningtex)\nf.write(model.summary().as_latex())\nf.write(endtex)\nf.close()\n\nprint(f)",
    "id": "e82a2709bcdb4e3c9b292592a387d702",
    "idx": 2,
    "time": "2021-02-05T07:24:27.514Z",
    "type": "execution"
   },
   {
    "id": "e82a2709bcdb4e3c9b292592a387d702",
    "time": "2021-02-05T07:24:27.660Z",
    "type": "completion"
   },
   {
    "code": "model = sm.ols(formula='vote_general ~ vote_general + treat + rv + treat_rv', data=df[abs(df['rv'])<0.1]).fit()\n#display(model.summary())\n\nbeginningtex = \"\"\"\\\\documentclass{report}\n\\\\usepackage{booktabs}\n\\\\begin{document}\"\"\"\nendtex = \"\\end{document}\"\n\nf = open('myreg.tex', 'w')\nf.write(beginningtex)\nf.write(model.summary().as_latex())\nf.write(endtex)\nf.close()\n\ndisplay(f)",
    "id": "e82a2709bcdb4e3c9b292592a387d702",
    "idx": 2,
    "time": "2021-02-05T07:24:32.188Z",
    "type": "execution"
   },
   {
    "id": "e82a2709bcdb4e3c9b292592a387d702",
    "time": "2021-02-05T07:24:32.360Z",
    "type": "completion"
   },
   {
    "code": "model = sm.ols(formula='vote_general ~ vote_general + treat + rv + treat_rv', data=df[abs(df['rv'])<0.1]).fit()\ndisplay(model.summary())",
    "id": "e82a2709bcdb4e3c9b292592a387d702",
    "idx": 2,
    "time": "2021-02-05T07:24:43.446Z",
    "type": "execution"
   },
   {
    "id": "e82a2709bcdb4e3c9b292592a387d702",
    "time": "2021-02-05T07:24:43.630Z",
    "type": "completion"
   },
   {
    "code": "model2 = sm.ols(formula='turnout_party_share ~ turnout_party_share + treat + rv + treat_rv', data=df[abs(df['rv'])<0.1]).fit()\ndisplay(model2.summary())",
    "id": "e6cac7d338554eedac05428ad472f123",
    "idx": 4,
    "time": "2021-02-05T07:25:05.409Z",
    "type": "execution"
   },
   {
    "id": "e6cac7d338554eedac05428ad472f123",
    "time": "2021-02-05T07:25:05.570Z",
    "type": "completion"
   },
   {
    "code": "import pandas as pd\nimport statsmodels.formula.api as sm",
    "id": "58b6d0658e274ddda3b99d6458884dbe",
    "idx": 0,
    "time": "2021-02-16T02:06:28.358Z",
    "type": "execution"
   },
   {
    "code": "df = pd.read_stata('hall_thompson_replication_files/rd_analysis_hs.dta')\ndf.head()",
    "id": "c2181b991b4f4ed48954fef9232c9273",
    "idx": 1,
    "time": "2021-02-16T02:06:29.225Z",
    "type": "execution"
   },
   {
    "id": "58b6d0658e274ddda3b99d6458884dbe",
    "time": "2021-02-16T02:06:29.564Z",
    "type": "completion"
   },
   {
    "id": "c2181b991b4f4ed48954fef9232c9273",
    "time": "2021-02-16T02:06:30.037Z",
    "type": "completion"
   },
   {
    "code": "model = sm.ols(formula='vote_general ~ vote_general + treat + rv + treat_rv', data=df[abs(df['rv'])<0.1]).fit()\ndisplay(model.summary())",
    "id": "a6c8e7ba59a347ea9ed392b87360515b",
    "idx": 2,
    "time": "2021-02-16T02:06:31.911Z",
    "type": "execution"
   },
   {
    "id": "a6c8e7ba59a347ea9ed392b87360515b",
    "time": "2021-02-16T02:06:32.203Z",
    "type": "completion"
   },
   {
    "code": "#df.assign(\n    #column1 = lambda dataframe: dataframe['column1'].map(lambda : )\n#)",
    "id": "09b1328243e84eb8b6c9a3c186987012",
    "idx": 3,
    "time": "2021-02-16T02:06:47.468Z",
    "type": "execution"
   },
   {
    "id": "09b1328243e84eb8b6c9a3c186987012",
    "time": "2021-02-16T02:06:47.571Z",
    "type": "completion"
   },
   {
    "code": "model2 = sm.ols(formula='turnout_party_share ~ turnout_party_share + treat + rv + treat_rv', data=df[abs(df['rv'])<0.1]).fit()\ndisplay(model2.summary())",
    "id": "8ff60e411a5145b5a120746043fa2120",
    "idx": 4,
    "time": "2021-02-16T02:06:48.829Z",
    "type": "execution"
   },
   {
    "id": "8ff60e411a5145b5a120746043fa2120",
    "time": "2021-02-16T02:06:48.950Z",
    "type": "completion"
   },
   {
    "code": "bin_size_rd = 10\nrd_main = df[['treat', 'turnout_party_share', 'rv']]\nrd_filtered = rd_main[rd_main['turnout_party_share'].notnull()]\nrd_filtered",
    "id": "7eac2ea8f2694c8789f78dd75de3e869",
    "idx": 5,
    "time": "2021-02-16T02:06:49.581Z",
    "type": "execution"
   },
   {
    "id": "7eac2ea8f2694c8789f78dd75de3e869",
    "time": "2021-02-16T02:06:50.007Z",
    "type": "completion"
   },
   {
    "code": "model = sm.ols(formula='vote_general ~ vote_general + treat + rv + treat_rv', data=df[abs(df['rv'])<0.1]).fit(cov_type='cluster')\ndisplay(model.summary())",
    "id": "a6c8e7ba59a347ea9ed392b87360515b",
    "idx": 2,
    "time": "2021-02-16T02:10:58.949Z",
    "type": "execution"
   },
   {
    "id": "a6c8e7ba59a347ea9ed392b87360515b",
    "time": "2021-02-16T02:10:59.315Z",
    "type": "completion"
   },
   {
    "code": "model = sm.ols(formula='vote_general ~ vote_general + treat + rv + treat_rv', data=df[abs(df['rv'])<0.1])\nresult = model.fit(cov_type = 'cluster', cov_kwds={'groups': df['g']})\ndisplay(result.summary())",
    "id": "a6c8e7ba59a347ea9ed392b87360515b",
    "idx": 2,
    "time": "2021-02-16T02:14:10.039Z",
    "type": "execution"
   },
   {
    "id": "a6c8e7ba59a347ea9ed392b87360515b",
    "time": "2021-02-16T02:14:10.306Z",
    "type": "completion"
   },
   {
    "code": "model = sm.ols(formula='vote_general ~ vote_general + treat + rv + treat_rv', data=df)\nresult = model.fit(cov_type = 'cluster', cov_kwds={'groups': df['g']})\ndisplay(result.summary())",
    "id": "a6c8e7ba59a347ea9ed392b87360515b",
    "idx": 2,
    "time": "2021-02-16T02:16:55.124Z",
    "type": "execution"
   },
   {
    "id": "a6c8e7ba59a347ea9ed392b87360515b",
    "time": "2021-02-16T02:16:55.384Z",
    "type": "completion"
   },
   {
    "code": "OLSresult = (result.summary().tables[1])",
    "id": "4662f53eed0444b8a8b9c2f2c8ad848a",
    "idx": 3,
    "time": "2021-02-16T02:19:16.897Z",
    "type": "execution"
   },
   {
    "id": "4662f53eed0444b8a8b9c2f2c8ad848a",
    "time": "2021-02-16T02:19:16.986Z",
    "type": "completion"
   },
   {
    "code": "type(LRresult)",
    "id": "2197137831c144eebd86a99fbb232313",
    "idx": 4,
    "time": "2021-02-16T02:19:17.508Z",
    "type": "execution"
   },
   {
    "id": "2197137831c144eebd86a99fbb232313",
    "time": "2021-02-16T02:19:17.590Z",
    "type": "completion"
   },
   {
    "code": "LRresult = (result.summary().tables[1])",
    "id": "4662f53eed0444b8a8b9c2f2c8ad848a",
    "idx": 3,
    "time": "2021-02-16T02:19:25.154Z",
    "type": "execution"
   },
   {
    "id": "4662f53eed0444b8a8b9c2f2c8ad848a",
    "time": "2021-02-16T02:19:25.234Z",
    "type": "completion"
   },
   {
    "code": "type(LRresult)",
    "id": "2197137831c144eebd86a99fbb232313",
    "idx": 4,
    "time": "2021-02-16T02:19:25.463Z",
    "type": "execution"
   },
   {
    "id": "2197137831c144eebd86a99fbb232313",
    "time": "2021-02-16T02:19:25.543Z",
    "type": "completion"
   },
   {
    "code": "LRresult = (result.summary().tables[1]).head",
    "id": "4662f53eed0444b8a8b9c2f2c8ad848a",
    "idx": 3,
    "time": "2021-02-16T02:19:36.955Z",
    "type": "execution"
   },
   {
    "id": "4662f53eed0444b8a8b9c2f2c8ad848a",
    "time": "2021-02-16T02:19:37.056Z",
    "type": "completion"
   },
   {
    "code": "LRresult = (result.summary().tables[1]).head()",
    "id": "4662f53eed0444b8a8b9c2f2c8ad848a",
    "idx": 3,
    "time": "2021-02-16T02:19:39.733Z",
    "type": "execution"
   },
   {
    "id": "4662f53eed0444b8a8b9c2f2c8ad848a",
    "time": "2021-02-16T02:19:39.868Z",
    "type": "completion"
   },
   {
    "code": "LRresult = (result.summary().tables[1])\n",
    "id": "4662f53eed0444b8a8b9c2f2c8ad848a",
    "idx": 3,
    "time": "2021-02-16T02:19:43.029Z",
    "type": "execution"
   },
   {
    "id": "4662f53eed0444b8a8b9c2f2c8ad848a",
    "time": "2021-02-16T02:19:43.139Z",
    "type": "completion"
   },
   {
    "code": "LRresult = (result.summary().tables[1])",
    "id": "4662f53eed0444b8a8b9c2f2c8ad848a",
    "idx": 3,
    "time": "2021-02-16T02:19:45.733Z",
    "type": "execution"
   },
   {
    "id": "4662f53eed0444b8a8b9c2f2c8ad848a",
    "time": "2021-02-16T02:19:45.862Z",
    "type": "completion"
   },
   {
    "code": "type(LRresult)",
    "id": "2197137831c144eebd86a99fbb232313",
    "idx": 4,
    "time": "2021-02-16T02:19:46.011Z",
    "type": "execution"
   },
   {
    "id": "2197137831c144eebd86a99fbb232313",
    "time": "2021-02-16T02:19:46.100Z",
    "type": "completion"
   },
   {
    "code": "newlist = list(LRresult[LRresult['P>|z|']<=0.05].index)[1:]\nmyform1 = 'binary_Target' + ' ~ ' + ' + '.join(newlist)\n\nM1_test2 = smf.logit(formula=myform1,data=myM1_1)\n\nresult2 = M1_test2.fit(maxiter=200)\nLRresult2 = (result2.summary2().tables[1])\nLRresult2",
    "id": "78fbc36af8774cb888713af61670c38e",
    "idx": 5,
    "time": "2021-02-16T02:20:40.069Z",
    "type": "execution"
   },
   {
    "id": "78fbc36af8774cb888713af61670c38e",
    "time": "2021-02-16T02:20:40.165Z",
    "type": "completion"
   },
   {
    "code": "df",
    "id": "aa90f0f86cf44d4e9de6a761f70de89e",
    "idx": 3,
    "time": "2021-02-16T02:32:13.602Z",
    "type": "execution"
   },
   {
    "id": "aa90f0f86cf44d4e9de6a761f70de89e",
    "time": "2021-02-16T02:32:13.793Z",
    "type": "completion"
   },
   {
    "code": "df[abs(df['rv'])<0.1]",
    "id": "aa90f0f86cf44d4e9de6a761f70de89e",
    "idx": 3,
    "time": "2021-02-16T02:32:23.584Z",
    "type": "execution"
   },
   {
    "id": "aa90f0f86cf44d4e9de6a761f70de89e",
    "time": "2021-02-16T02:32:23.814Z",
    "type": "completion"
   },
   {
    "code": "df[abs(df['rv'])<0.5]",
    "id": "aa90f0f86cf44d4e9de6a761f70de89e",
    "idx": 3,
    "time": "2021-02-16T02:32:28.039Z",
    "type": "execution"
   },
   {
    "id": "aa90f0f86cf44d4e9de6a761f70de89e",
    "time": "2021-02-16T02:32:28.260Z",
    "type": "completion"
   },
   {
    "code": "df[abs(df['rv'])<0.99]",
    "id": "aa90f0f86cf44d4e9de6a761f70de89e",
    "idx": 3,
    "time": "2021-02-16T02:32:38.123Z",
    "type": "execution"
   },
   {
    "id": "aa90f0f86cf44d4e9de6a761f70de89e",
    "time": "2021-02-16T02:32:38.281Z",
    "type": "completion"
   },
   {
    "code": "df[abs(df['rv'])<0.01]",
    "id": "aa90f0f86cf44d4e9de6a761f70de89e",
    "idx": 3,
    "time": "2021-02-16T02:33:25.113Z",
    "type": "execution"
   },
   {
    "id": "aa90f0f86cf44d4e9de6a761f70de89e",
    "time": "2021-02-16T02:33:25.588Z",
    "type": "completion"
   },
   {
    "code": "df[abs(df['rv'])<0.1]",
    "id": "aa90f0f86cf44d4e9de6a761f70de89e",
    "idx": 3,
    "time": "2021-02-16T02:33:31.949Z",
    "type": "execution"
   },
   {
    "id": "aa90f0f86cf44d4e9de6a761f70de89e",
    "time": "2021-02-16T02:33:32.148Z",
    "type": "completion"
   },
   {
    "code": "df[abs(df['rv'])<=0.1]",
    "id": "aa90f0f86cf44d4e9de6a761f70de89e",
    "idx": 3,
    "time": "2021-02-16T02:33:56.603Z",
    "type": "execution"
   },
   {
    "id": "aa90f0f86cf44d4e9de6a761f70de89e",
    "time": "2021-02-16T02:33:56.819Z",
    "type": "completion"
   },
   {
    "code": "model = sm.ols(formula='vote_general ~ vote_general + treat + rv + treat_rv', data=df[abs(df['rv'])<=0.1])\nresult = model.fit(cov_type = 'cluster', cov_kwds={'groups': df['g']})\ndisplay(result.summary())",
    "id": "a6c8e7ba59a347ea9ed392b87360515b",
    "idx": 2,
    "time": "2021-02-16T02:34:20.923Z",
    "type": "execution"
   },
   {
    "id": "a6c8e7ba59a347ea9ed392b87360515b",
    "time": "2021-02-16T02:34:21.119Z",
    "type": "completion"
   },
   {
    "code": "model = sm.ols(formula='vote_general ~ vote_general + treat + rv + treat_rv', data=df)\nresult = model.fit(cov_type = 'cluster', cov_kwds={'groups': df['g']})\ndisplay(result.summary())",
    "id": "a6c8e7ba59a347ea9ed392b87360515b",
    "idx": 2,
    "time": "2021-02-16T02:34:29.682Z",
    "type": "execution"
   },
   {
    "id": "a6c8e7ba59a347ea9ed392b87360515b",
    "time": "2021-02-16T02:34:29.841Z",
    "type": "completion"
   },
   {
    "code": "import pandas as pd\nimport statsmodels.api as sm",
    "id": "58b6d0658e274ddda3b99d6458884dbe",
    "idx": 0,
    "time": "2021-02-16T02:38:31.209Z",
    "type": "execution"
   },
   {
    "id": "58b6d0658e274ddda3b99d6458884dbe",
    "time": "2021-02-16T02:38:31.708Z",
    "type": "completion"
   },
   {
    "code": "df = pd.read_stata('hall_thompson_replication_files/rd_analysis_hs.dta')\ndf.head()",
    "id": "c2181b991b4f4ed48954fef9232c9273",
    "idx": 1,
    "time": "2021-02-16T02:38:32.539Z",
    "type": "execution"
   },
   {
    "id": "c2181b991b4f4ed48954fef9232c9273",
    "time": "2021-02-16T02:38:33.157Z",
    "type": "completion"
   },
   {
    "code": "df['treat', 'rv', 'treat_rv']",
    "id": "4811a4d6427045ba8b319cdcd84299fc",
    "idx": 2,
    "time": "2021-02-16T02:39:46.457Z",
    "type": "execution"
   },
   {
    "id": "4811a4d6427045ba8b319cdcd84299fc",
    "time": "2021-02-16T02:39:46.824Z",
    "type": "completion"
   },
   {
    "code": "df = pd.read_stata('hall_thompson_replication_files/rd_analysis_hs.dta')\ndf.head()",
    "id": "c2181b991b4f4ed48954fef9232c9273",
    "idx": 1,
    "time": "2021-02-16T02:39:51.647Z",
    "type": "execution"
   },
   {
    "id": "c2181b991b4f4ed48954fef9232c9273",
    "time": "2021-02-16T02:39:52.454Z",
    "type": "completion"
   },
   {
    "code": "df['treat']",
    "id": "4811a4d6427045ba8b319cdcd84299fc",
    "idx": 2,
    "time": "2021-02-16T02:39:58.210Z",
    "type": "execution"
   },
   {
    "id": "4811a4d6427045ba8b319cdcd84299fc",
    "time": "2021-02-16T02:39:58.341Z",
    "type": "completion"
   },
   {
    "code": "df['treat']['rv']",
    "id": "4811a4d6427045ba8b319cdcd84299fc",
    "idx": 2,
    "time": "2021-02-16T02:40:07.065Z",
    "type": "execution"
   },
   {
    "id": "4811a4d6427045ba8b319cdcd84299fc",
    "time": "2021-02-16T02:40:07.232Z",
    "type": "completion"
   },
   {
    "code": "df['vote_general']",
    "id": "4811a4d6427045ba8b319cdcd84299fc",
    "idx": 2,
    "time": "2021-02-16T02:40:19.537Z",
    "type": "execution"
   },
   {
    "id": "4811a4d6427045ba8b319cdcd84299fc",
    "time": "2021-02-16T02:40:19.618Z",
    "type": "completion"
   },
   {
    "code": "df.column('vote_general')",
    "id": "4811a4d6427045ba8b319cdcd84299fc",
    "idx": 2,
    "time": "2021-02-16T02:40:30.851Z",
    "type": "execution"
   },
   {
    "id": "4811a4d6427045ba8b319cdcd84299fc",
    "time": "2021-02-16T02:40:30.955Z",
    "type": "completion"
   },
   {
    "code": "df.columns('vote_general')",
    "id": "4811a4d6427045ba8b319cdcd84299fc",
    "idx": 2,
    "time": "2021-02-16T02:40:39.318Z",
    "type": "execution"
   },
   {
    "id": "4811a4d6427045ba8b319cdcd84299fc",
    "time": "2021-02-16T02:40:39.467Z",
    "type": "completion"
   },
   {
    "code": "df",
    "id": "4811a4d6427045ba8b319cdcd84299fc",
    "idx": 2,
    "time": "2021-02-16T02:41:13.636Z",
    "type": "execution"
   },
   {
    "id": "4811a4d6427045ba8b319cdcd84299fc",
    "time": "2021-02-16T02:41:13.859Z",
    "type": "completion"
   },
   {
    "code": "df[['vote_general']]",
    "id": "4811a4d6427045ba8b319cdcd84299fc",
    "idx": 2,
    "time": "2021-02-16T02:41:56.836Z",
    "type": "execution"
   },
   {
    "id": "4811a4d6427045ba8b319cdcd84299fc",
    "time": "2021-02-16T02:41:56.949Z",
    "type": "completion"
   },
   {
    "code": "df[['treat']]",
    "id": "42229b4abdf249fb8561372a3474bd8d",
    "idx": 3,
    "time": "2021-02-16T02:42:08.634Z",
    "type": "execution"
   },
   {
    "id": "42229b4abdf249fb8561372a3474bd8d",
    "time": "2021-02-16T02:42:08.789Z",
    "type": "completion"
   },
   {
    "code": "df[['treat', 'rv']]",
    "id": "42229b4abdf249fb8561372a3474bd8d",
    "idx": 3,
    "time": "2021-02-16T02:42:12.285Z",
    "type": "execution"
   },
   {
    "id": "42229b4abdf249fb8561372a3474bd8d",
    "time": "2021-02-16T02:42:12.365Z",
    "type": "completion"
   },
   {
    "code": "df[['treat', 'rv', 'treat_rv']]",
    "id": "42229b4abdf249fb8561372a3474bd8d",
    "idx": 3,
    "time": "2021-02-16T02:42:17.587Z",
    "type": "execution"
   },
   {
    "id": "42229b4abdf249fb8561372a3474bd8d",
    "time": "2021-02-16T02:42:17.762Z",
    "type": "completion"
   },
   {
    "code": "df[['vote_general']].type()",
    "id": "4811a4d6427045ba8b319cdcd84299fc",
    "idx": 2,
    "time": "2021-02-16T02:42:46.834Z",
    "type": "execution"
   },
   {
    "id": "4811a4d6427045ba8b319cdcd84299fc",
    "time": "2021-02-16T02:42:46.935Z",
    "type": "completion"
   },
   {
    "code": "df[['vote_general']].type",
    "id": "4811a4d6427045ba8b319cdcd84299fc",
    "idx": 2,
    "time": "2021-02-16T02:42:49.867Z",
    "type": "execution"
   },
   {
    "id": "4811a4d6427045ba8b319cdcd84299fc",
    "time": "2021-02-16T02:42:49.986Z",
    "type": "completion"
   },
   {
    "code": "df[['vote_general']]",
    "id": "4811a4d6427045ba8b319cdcd84299fc",
    "idx": 2,
    "time": "2021-02-16T02:42:53.789Z",
    "type": "execution"
   },
   {
    "id": "4811a4d6427045ba8b319cdcd84299fc",
    "time": "2021-02-16T02:42:53.881Z",
    "type": "completion"
   },
   {
    "code": "df[['treat', 'rv', 'treat_rv']]",
    "id": "42229b4abdf249fb8561372a3474bd8d",
    "idx": 3,
    "time": "2021-02-16T02:42:54.320Z",
    "type": "execution"
   },
   {
    "id": "42229b4abdf249fb8561372a3474bd8d",
    "time": "2021-02-16T02:42:54.494Z",
    "type": "completion"
   },
   {
    "code": "np.array(df[['vote_general']])",
    "id": "4811a4d6427045ba8b319cdcd84299fc",
    "idx": 2,
    "time": "2021-02-16T02:43:06.145Z",
    "type": "execution"
   },
   {
    "id": "4811a4d6427045ba8b319cdcd84299fc",
    "time": "2021-02-16T02:43:06.564Z",
    "type": "completion"
   },
   {
    "code": "import pandas as pd\nimport statsmodels.api as sm",
    "id": "58b6d0658e274ddda3b99d6458884dbe",
    "idx": 0,
    "time": "2021-02-16T02:43:13.932Z",
    "type": "execution"
   },
   {
    "id": "58b6d0658e274ddda3b99d6458884dbe",
    "time": "2021-02-16T02:43:14.021Z",
    "type": "completion"
   },
   {
    "code": "df = pd.read_stata('hall_thompson_replication_files/rd_analysis_hs.dta')\ndf.head()",
    "id": "c2181b991b4f4ed48954fef9232c9273",
    "idx": 1,
    "time": "2021-02-16T02:43:14.579Z",
    "type": "execution"
   },
   {
    "id": "c2181b991b4f4ed48954fef9232c9273",
    "time": "2021-02-16T02:43:15.339Z",
    "type": "completion"
   },
   {
    "code": "np.array(df[['vote_general']])",
    "id": "4811a4d6427045ba8b319cdcd84299fc",
    "idx": 2,
    "time": "2021-02-16T02:43:15.362Z",
    "type": "execution"
   },
   {
    "id": "4811a4d6427045ba8b319cdcd84299fc",
    "time": "2021-02-16T02:43:15.442Z",
    "type": "completion"
   },
   {
    "code": "import pandas as pd\nimport numpy as np\nimport statsmodels.api as sm",
    "id": "58b6d0658e274ddda3b99d6458884dbe",
    "idx": 0,
    "time": "2021-02-16T02:43:27.322Z",
    "type": "execution"
   },
   {
    "id": "58b6d0658e274ddda3b99d6458884dbe",
    "time": "2021-02-16T02:43:27.389Z",
    "type": "completion"
   },
   {
    "code": "df = pd.read_stata('hall_thompson_replication_files/rd_analysis_hs.dta')\ndf.head()",
    "id": "c2181b991b4f4ed48954fef9232c9273",
    "idx": 1,
    "time": "2021-02-16T02:43:27.735Z",
    "type": "execution"
   },
   {
    "id": "c2181b991b4f4ed48954fef9232c9273",
    "time": "2021-02-16T02:43:28.240Z",
    "type": "completion"
   },
   {
    "code": "np.array(df[['vote_general']])",
    "id": "4811a4d6427045ba8b319cdcd84299fc",
    "idx": 2,
    "time": "2021-02-16T02:43:29.010Z",
    "type": "execution"
   },
   {
    "id": "4811a4d6427045ba8b319cdcd84299fc",
    "time": "2021-02-16T02:43:29.396Z",
    "type": "completion"
   },
   {
    "code": "np.array(df['vote_general'])",
    "id": "4811a4d6427045ba8b319cdcd84299fc",
    "idx": 2,
    "time": "2021-02-16T02:43:37.551Z",
    "type": "execution"
   },
   {
    "id": "4811a4d6427045ba8b319cdcd84299fc",
    "time": "2021-02-16T02:43:37.697Z",
    "type": "completion"
   },
   {
    "code": "np.array(df[['treat', 'rv', 'treat_rv']])",
    "id": "42229b4abdf249fb8561372a3474bd8d",
    "idx": 3,
    "time": "2021-02-16T02:44:01.947Z",
    "type": "execution"
   },
   {
    "id": "42229b4abdf249fb8561372a3474bd8d",
    "time": "2021-02-16T02:44:02.085Z",
    "type": "completion"
   },
   {
    "code": "model = sm.ols(formula='vote_general ~ vote_general + treat + rv + treat_rv', data=df)\nresult = model.fit(cov_type = 'cluster', cov_kwds={'groups': df['g']})\ndisplay(result.summary())",
    "id": "a6c8e7ba59a347ea9ed392b87360515b",
    "idx": 2,
    "time": "2021-02-16T02:45:34.443Z",
    "type": "execution"
   },
   {
    "id": "a6c8e7ba59a347ea9ed392b87360515b",
    "time": "2021-02-16T02:45:34.580Z",
    "type": "completion"
   },
   {
    "code": "import pandas as pd\nimport numpy as np\nimport statsmodels.api as sm",
    "id": "58b6d0658e274ddda3b99d6458884dbe",
    "idx": 0,
    "time": "2021-02-16T02:45:36.855Z",
    "type": "execution"
   },
   {
    "id": "58b6d0658e274ddda3b99d6458884dbe",
    "time": "2021-02-16T02:45:36.922Z",
    "type": "completion"
   },
   {
    "code": "df = pd.read_stata('hall_thompson_replication_files/rd_analysis_hs.dta')\ndf.head()",
    "id": "c2181b991b4f4ed48954fef9232c9273",
    "idx": 1,
    "time": "2021-02-16T02:45:37.289Z",
    "type": "execution"
   },
   {
    "code": "model = sm.ols(formula='vote_general ~ vote_general + treat + rv + treat_rv', data=df)\nresult = model.fit(cov_type = 'cluster', cov_kwds={'groups': df['g']})\ndisplay(result.summary())",
    "id": "a6c8e7ba59a347ea9ed392b87360515b",
    "idx": 2,
    "time": "2021-02-16T02:45:37.852Z",
    "type": "execution"
   },
   {
    "id": "c2181b991b4f4ed48954fef9232c9273",
    "time": "2021-02-16T02:45:37.906Z",
    "type": "completion"
   },
   {
    "id": "a6c8e7ba59a347ea9ed392b87360515b",
    "time": "2021-02-16T02:45:37.952Z",
    "type": "completion"
   },
   {
    "code": "df[abs(df['rv'])<=0.1]",
    "id": "aa90f0f86cf44d4e9de6a761f70de89e",
    "idx": 3,
    "time": "2021-02-16T02:45:38.441Z",
    "type": "execution"
   },
   {
    "id": "aa90f0f86cf44d4e9de6a761f70de89e",
    "time": "2021-02-16T02:45:38.642Z",
    "type": "completion"
   },
   {
    "code": "import pandas as pd\nimport numpy as np\nimport statsmodels.formula.api as sm",
    "id": "58b6d0658e274ddda3b99d6458884dbe",
    "idx": 0,
    "time": "2021-02-16T02:45:51.821Z",
    "type": "execution"
   },
   {
    "id": "58b6d0658e274ddda3b99d6458884dbe",
    "time": "2021-02-16T02:45:51.895Z",
    "type": "completion"
   },
   {
    "code": "df = pd.read_stata('hall_thompson_replication_files/rd_analysis_hs.dta')\ndf.head()",
    "id": "c2181b991b4f4ed48954fef9232c9273",
    "idx": 1,
    "time": "2021-02-16T02:45:52.094Z",
    "type": "execution"
   },
   {
    "code": "model = sm.ols(formula='vote_general ~ vote_general + treat + rv + treat_rv', data=df)\nresult = model.fit(cov_type = 'cluster', cov_kwds={'groups': df['g']})\ndisplay(result.summary())",
    "id": "a6c8e7ba59a347ea9ed392b87360515b",
    "idx": 2,
    "time": "2021-02-16T02:45:52.417Z",
    "type": "execution"
   },
   {
    "id": "c2181b991b4f4ed48954fef9232c9273",
    "time": "2021-02-16T02:45:52.601Z",
    "type": "completion"
   },
   {
    "id": "a6c8e7ba59a347ea9ed392b87360515b",
    "time": "2021-02-16T02:45:52.702Z",
    "type": "completion"
   },
   {
    "code": "df[abs(df['rv'])<=0.1]",
    "id": "aa90f0f86cf44d4e9de6a761f70de89e",
    "idx": 3,
    "time": "2021-02-16T02:45:53.051Z",
    "type": "execution"
   },
   {
    "id": "aa90f0f86cf44d4e9de6a761f70de89e",
    "time": "2021-02-16T02:45:53.465Z",
    "type": "completion"
   },
   {
    "code": "import pandas as pd\nimport numpy as np\nimport statsmodels.formula.api as sm",
    "id": "58b6d0658e274ddda3b99d6458884dbe",
    "idx": 0,
    "time": "2021-02-16T02:46:04.069Z",
    "type": "execution"
   },
   {
    "id": "58b6d0658e274ddda3b99d6458884dbe",
    "time": "2021-02-16T02:46:04.215Z",
    "type": "completion"
   },
   {
    "code": "df = pd.read_stata('hall_thompson_replication_files/rd_analysis_hs.dta')\ndf.head()",
    "id": "c2181b991b4f4ed48954fef9232c9273",
    "idx": 1,
    "time": "2021-02-16T02:46:04.281Z",
    "type": "execution"
   },
   {
    "code": "model = sm.ols(formula='vote_general ~ vote_general + treat + rv + treat_rv', data=df)\nresult = model.fit(cov_type = 'cluster', cov_kwds={'groups': df['g']})\ndisplay(result.summary())",
    "id": "a6c8e7ba59a347ea9ed392b87360515b",
    "idx": 2,
    "time": "2021-02-16T02:46:04.513Z",
    "type": "execution"
   },
   {
    "id": "c2181b991b4f4ed48954fef9232c9273",
    "time": "2021-02-16T02:46:04.767Z",
    "type": "completion"
   },
   {
    "id": "a6c8e7ba59a347ea9ed392b87360515b",
    "time": "2021-02-16T02:46:04.797Z",
    "type": "completion"
   },
   {
    "code": "import pandas as pd\nimport statsmodels.formula.api as sm",
    "id": "58b6d0658e274ddda3b99d6458884dbe",
    "idx": 0,
    "time": "2021-02-16T02:51:25.760Z",
    "type": "execution"
   },
   {
    "id": "58b6d0658e274ddda3b99d6458884dbe",
    "time": "2021-02-16T02:51:25.920Z",
    "type": "completion"
   },
   {
    "code": "df = pd.read_stata('hall_thompson_replication_files/rd_analysis_hs.dta')\ndf.head()",
    "id": "c2181b991b4f4ed48954fef9232c9273",
    "idx": 1,
    "time": "2021-02-16T02:51:26.214Z",
    "type": "execution"
   },
   {
    "id": "c2181b991b4f4ed48954fef9232c9273",
    "time": "2021-02-16T02:51:26.691Z",
    "type": "completion"
   },
   {
    "code": "model = sm.ols(formula='vote_general ~ vote_general + treat + rv + treat_rv', data=df)\nresult = model.fit(cov_type = 'cluster', cov_kwds={'groups': df['g']})\ndisplay(result.summary())",
    "id": "a6c8e7ba59a347ea9ed392b87360515b",
    "idx": 2,
    "time": "2021-02-16T02:51:26.791Z",
    "type": "execution"
   },
   {
    "id": "a6c8e7ba59a347ea9ed392b87360515b",
    "time": "2021-02-16T02:51:26.926Z",
    "type": "completion"
   },
   {
    "code": "t1_df = ",
    "id": "47d189eaf8ee4c6c831906d5a86bb91d",
    "idx": 3,
    "time": "2021-02-16T02:51:28.249Z",
    "type": "execution"
   },
   {
    "id": "47d189eaf8ee4c6c831906d5a86bb91d",
    "time": "2021-02-16T02:51:28.323Z",
    "type": "completion"
   },
   {
    "code": "t1_df = pd.Dataframe()",
    "id": "47d189eaf8ee4c6c831906d5a86bb91d",
    "idx": 3,
    "time": "2021-02-16T02:51:35.052Z",
    "type": "execution"
   },
   {
    "id": "47d189eaf8ee4c6c831906d5a86bb91d",
    "time": "2021-02-16T02:51:35.184Z",
    "type": "completion"
   },
   {
    "code": "t1_df = pd.DataFrame()",
    "id": "47d189eaf8ee4c6c831906d5a86bb91d",
    "idx": 3,
    "time": "2021-02-16T02:51:46.650Z",
    "type": "execution"
   },
   {
    "id": "47d189eaf8ee4c6c831906d5a86bb91d",
    "time": "2021-02-16T02:51:53.557Z",
    "type": "completion"
   },
   {
    "code": "t1_df = pd.DataFrame()\n\nt1_df.head()",
    "id": "47d189eaf8ee4c6c831906d5a86bb91d",
    "idx": 3,
    "time": "2021-02-16T02:54:43.080Z",
    "type": "execution"
   },
   {
    "id": "47d189eaf8ee4c6c831906d5a86bb91d",
    "time": "2021-02-16T02:54:43.370Z",
    "type": "completion"
   },
   {
    "code": "model = sm.ols(formula='vote_general ~ vote_general, treat, rv, treat_rv', data=df)\nresult = model.fit(cov_type = 'cluster', cov_kwds={'groups': df['g']})\ndisplay(result.summary())",
    "id": "a6c8e7ba59a347ea9ed392b87360515b",
    "idx": 2,
    "time": "2021-02-16T02:58:38.661Z",
    "type": "execution"
   },
   {
    "id": "a6c8e7ba59a347ea9ed392b87360515b",
    "time": "2021-02-16T02:58:39.355Z",
    "type": "completion"
   },
   {
    "code": "model = sm.ols(formula='vote_general ~ vote_general + treat + rv + treat_rv', data=df)\nresult = model.fit(cov_type = 'cluster', cov_kwds={'groups': df['g']})\ndisplay(result.summary())",
    "id": "a6c8e7ba59a347ea9ed392b87360515b",
    "idx": 2,
    "time": "2021-02-16T02:58:45.955Z",
    "type": "execution"
   },
   {
    "id": "a6c8e7ba59a347ea9ed392b87360515b",
    "time": "2021-02-16T02:58:46.122Z",
    "type": "completion"
   },
   {
    "code": "t1_df = pd.DataFrame()\n\nt1_df.head()",
    "id": "47d189eaf8ee4c6c831906d5a86bb91d",
    "idx": 3,
    "time": "2021-02-16T02:58:46.773Z",
    "type": "execution"
   },
   {
    "id": "47d189eaf8ee4c6c831906d5a86bb91d",
    "time": "2021-02-16T02:58:46.858Z",
    "type": "completion"
   },
   {
    "code": "t1_df = pd.concat([t1_df, pd.DataFrame(columns=list('f'))])\nt1_df.head()",
    "id": "47d189eaf8ee4c6c831906d5a86bb91d",
    "idx": 4,
    "time": "2021-02-16T03:16:04.910Z",
    "type": "execution"
   },
   {
    "id": "47d189eaf8ee4c6c831906d5a86bb91d",
    "time": "2021-02-16T03:16:05.068Z",
    "type": "completion"
   },
   {
    "code": "t1_df = pd.concat([t1_df, pd.DataFrame(columns=list('c1'))])\nt1_df.head()",
    "id": "47d189eaf8ee4c6c831906d5a86bb91d",
    "idx": 4,
    "time": "2021-02-16T03:16:10.451Z",
    "type": "execution"
   },
   {
    "id": "47d189eaf8ee4c6c831906d5a86bb91d",
    "time": "2021-02-16T03:16:10.567Z",
    "type": "completion"
   },
   {
    "code": "t1_df = pd.concat([t1_df, pd.DataFrame(columns=list('c1'))])\nt1_df.head()",
    "id": "47d189eaf8ee4c6c831906d5a86bb91d",
    "idx": 4,
    "time": "2021-02-16T03:16:14.718Z",
    "type": "execution"
   },
   {
    "id": "47d189eaf8ee4c6c831906d5a86bb91d",
    "time": "2021-02-16T03:16:14.832Z",
    "type": "completion"
   },
   {
    "code": "t1_df = pd.DataFrame()\nt1_df.head()",
    "id": "47d189eaf8ee4c6c831906d5a86bb91d",
    "idx": 4,
    "time": "2021-02-16T03:18:54.512Z",
    "type": "execution"
   },
   {
    "id": "47d189eaf8ee4c6c831906d5a86bb91d",
    "time": "2021-02-16T03:18:54.706Z",
    "type": "completion"
   },
   {
    "code": "t1_df = pd.DataFrame().assign({'c1': df.apply(lambda vote_general: vote_general ** 2)})\n\nt1_df.head()",
    "id": "47d189eaf8ee4c6c831906d5a86bb91d",
    "idx": 4,
    "time": "2021-02-16T03:20:56.182Z",
    "type": "execution"
   },
   {
    "id": "47d189eaf8ee4c6c831906d5a86bb91d",
    "time": "2021-02-16T03:20:56.871Z",
    "type": "completion"
   },
   {
    "code": "t1_df = pd.DataFrame().assign({'c1': df.apply(lambda vote_general: vote_general)})\n\nt1_df.head()",
    "id": "47d189eaf8ee4c6c831906d5a86bb91d",
    "idx": 4,
    "time": "2021-02-16T03:21:06.486Z",
    "type": "execution"
   },
   {
    "id": "47d189eaf8ee4c6c831906d5a86bb91d",
    "time": "2021-02-16T03:21:06.658Z",
    "type": "completion"
   },
   {
    "code": "t1_df = pd.DataFrame()\nt1_df.head()",
    "id": "47d189eaf8ee4c6c831906d5a86bb91d",
    "idx": 4,
    "time": "2021-02-16T03:21:57.675Z",
    "type": "execution"
   },
   {
    "id": "47d189eaf8ee4c6c831906d5a86bb91d",
    "time": "2021-02-16T03:21:57.792Z",
    "type": "completion"
   },
   {
    "code": "result.summary()",
    "id": "220aec0ba9174ab59a8e72c5641f23cf",
    "idx": 4,
    "time": "2021-02-16T03:31:26.683Z",
    "type": "execution"
   },
   {
    "id": "220aec0ba9174ab59a8e72c5641f23cf",
    "time": "2021-02-16T03:31:26.859Z",
    "type": "completion"
   },
   {
    "code": "model = sm.ols(formula='vote_general ~ vote_general + treat + rv + treat_rv', data=df)\nresult = model.fit(cov_type = 'cluster', cov_kwds={'groups': df['g']})\nresult.summary()",
    "id": "a6c8e7ba59a347ea9ed392b87360515b",
    "idx": 2,
    "time": "2021-02-16T03:31:54.539Z",
    "type": "execution"
   },
   {
    "id": "a6c8e7ba59a347ea9ed392b87360515b",
    "time": "2021-02-16T03:31:54.756Z",
    "type": "completion"
   },
   {
    "code": "result.summary()['coef']",
    "id": "77d88ed51b774a55884c4f7e5c23f1a4",
    "idx": 4,
    "time": "2021-02-16T03:32:12.695Z",
    "type": "execution"
   },
   {
    "id": "77d88ed51b774a55884c4f7e5c23f1a4",
    "time": "2021-02-16T03:32:12.866Z",
    "type": "completion"
   },
   {
    "code": "result.summary['coef']",
    "id": "77d88ed51b774a55884c4f7e5c23f1a4",
    "idx": 4,
    "time": "2021-02-16T03:32:17.092Z",
    "type": "execution"
   },
   {
    "id": "77d88ed51b774a55884c4f7e5c23f1a4",
    "time": "2021-02-16T03:32:17.219Z",
    "type": "completion"
   },
   {
    "code": "result['coef']",
    "id": "77d88ed51b774a55884c4f7e5c23f1a4",
    "idx": 4,
    "time": "2021-02-16T03:32:19.971Z",
    "type": "execution"
   },
   {
    "id": "77d88ed51b774a55884c4f7e5c23f1a4",
    "time": "2021-02-16T03:32:21.373Z",
    "type": "completion"
   },
   {
    "code": "model = sm.ols(formula='vote_general ~ vote_general + treat + rv + treat_rv', data=df)\nresult = model.fit(cov_type = 'cluster', cov_kwds={'groups': df['g']})\nresult.summary()\nresult.params",
    "id": "a6c8e7ba59a347ea9ed392b87360515b",
    "idx": 2,
    "time": "2021-02-16T03:45:47.509Z",
    "type": "execution"
   },
   {
    "id": "a6c8e7ba59a347ea9ed392b87360515b",
    "time": "2021-02-16T03:45:47.675Z",
    "type": "completion"
   },
   {
    "code": "model = sm.ols(formula='vote_general ~ vote_general + treat + rv + treat_rv', data=df)\nresult = model.fit(cov_type = 'cluster', cov_kwds={'groups': df['g']})\nresult.summary()",
    "id": "a6c8e7ba59a347ea9ed392b87360515b",
    "idx": 2,
    "time": "2021-02-16T03:45:57.669Z",
    "type": "execution"
   },
   {
    "id": "a6c8e7ba59a347ea9ed392b87360515b",
    "time": "2021-02-16T03:45:57.825Z",
    "type": "completion"
   },
   {
    "code": "result.params",
    "id": "9b866b1de63245f7855991774c8f2024",
    "idx": 3,
    "time": "2021-02-16T03:46:12.507Z",
    "type": "execution"
   },
   {
    "id": "9b866b1de63245f7855991774c8f2024",
    "time": "2021-02-16T03:46:12.596Z",
    "type": "completion"
   },
   {
    "code": "fig = plt.figure()\n",
    "id": "47d189eaf8ee4c6c831906d5a86bb91d",
    "idx": 4,
    "time": "2021-02-16T04:01:28.923Z",
    "type": "execution"
   },
   {
    "id": "47d189eaf8ee4c6c831906d5a86bb91d",
    "time": "2021-02-16T04:01:29.077Z",
    "type": "completion"
   },
   {
    "code": "import pandas as pd\nimport statsmodels.formula.api as sm\nimport matplotlib.pyplot as plt ",
    "id": "58b6d0658e274ddda3b99d6458884dbe",
    "idx": 0,
    "time": "2021-02-16T04:01:32.835Z",
    "type": "execution"
   },
   {
    "code": "df = pd.read_stata('hall_thompson_replication_files/rd_analysis_hs.dta')\ndf.head()",
    "id": "c2181b991b4f4ed48954fef9232c9273",
    "idx": 1,
    "time": "2021-02-16T04:01:33.148Z",
    "type": "execution"
   },
   {
    "id": "58b6d0658e274ddda3b99d6458884dbe",
    "time": "2021-02-16T04:01:33.307Z",
    "type": "completion"
   },
   {
    "code": "model = sm.ols(formula='vote_general ~ vote_general + treat + rv + treat_rv', data=df)\nresult = model.fit(cov_type = 'cluster', cov_kwds={'groups': df['g']})\nresult.summary()",
    "id": "a6c8e7ba59a347ea9ed392b87360515b",
    "idx": 2,
    "time": "2021-02-16T04:01:33.456Z",
    "type": "execution"
   },
   {
    "code": "result.params",
    "id": "9b866b1de63245f7855991774c8f2024",
    "idx": 3,
    "time": "2021-02-16T04:01:33.804Z",
    "type": "execution"
   },
   {
    "id": "c2181b991b4f4ed48954fef9232c9273",
    "time": "2021-02-16T04:01:33.950Z",
    "type": "completion"
   },
   {
    "id": "a6c8e7ba59a347ea9ed392b87360515b",
    "time": "2021-02-16T04:01:33.970Z",
    "type": "completion"
   },
   {
    "id": "9b866b1de63245f7855991774c8f2024",
    "time": "2021-02-16T04:01:34.025Z",
    "type": "completion"
   },
   {
    "code": "fig = plt.figure()\n",
    "id": "47d189eaf8ee4c6c831906d5a86bb91d",
    "idx": 4,
    "time": "2021-02-16T04:01:34.856Z",
    "type": "execution"
   },
   {
    "id": "47d189eaf8ee4c6c831906d5a86bb91d",
    "time": "2021-02-16T04:01:34.938Z",
    "type": "completion"
   },
   {
    "code": "fig = plt.figure()\nax = fig.add_subplot(111, projection='3d')\n",
    "id": "47d189eaf8ee4c6c831906d5a86bb91d",
    "idx": 4,
    "time": "2021-02-16T04:01:42.324Z",
    "type": "execution"
   },
   {
    "id": "47d189eaf8ee4c6c831906d5a86bb91d",
    "time": "2021-02-16T04:01:42.870Z",
    "type": "completion"
   },
   {
    "code": "fig = plt.figure()\nax = fig.add_subplot(111, projection='2d')\n",
    "id": "47d189eaf8ee4c6c831906d5a86bb91d",
    "idx": 4,
    "time": "2021-02-16T04:01:58.334Z",
    "type": "execution"
   },
   {
    "id": "47d189eaf8ee4c6c831906d5a86bb91d",
    "time": "2021-02-16T04:01:58.574Z",
    "type": "completion"
   },
   {
    "code": "fig = plt.figure()\nax = fig.add_subplot(111, projection='3d')\n",
    "id": "47d189eaf8ee4c6c831906d5a86bb91d",
    "idx": 4,
    "time": "2021-02-16T04:02:01.299Z",
    "type": "execution"
   },
   {
    "id": "47d189eaf8ee4c6c831906d5a86bb91d",
    "time": "2021-02-16T04:02:01.819Z",
    "type": "completion"
   },
   {
    "code": "fig = plt.figure()\nax = fig.add_subplot(111, projection='3d')\nax.scatter(df['vote_general'], df ['treat'], df['rv'], c='red', marker='o', alpha=0.5)\n",
    "id": "47d189eaf8ee4c6c831906d5a86bb91d",
    "idx": 4,
    "time": "2021-02-16T04:02:45.998Z",
    "type": "execution"
   },
   {
    "id": "47d189eaf8ee4c6c831906d5a86bb91d",
    "time": "2021-02-16T04:02:46.592Z",
    "type": "completion"
   }
  ],
  "kernelspec": {
   "display_name": "Python 3 (ipykernel)",
   "language": "python",
   "name": "python3"
  },
  "language_info": {
   "codemirror_mode": {
    "name": "ipython",
    "version": 3
   },
   "file_extension": ".py",
   "mimetype": "text/x-python",
   "name": "python",
   "nbconvert_exporter": "python",
   "pygments_lexer": "ipython3",
   "version": "3.9.7"
  }
 },
 "nbformat": 4,
 "nbformat_minor": 4
}
