{
 "cells": [
  {
   "cell_type": "markdown",
   "id": "a57ec8b0",
   "metadata": {},
   "source": [
    "# Laboratories of Democratic Backsliding - Jacob M. Grumbach (2022) - Replication"
   ]
  },
  {
   "cell_type": "markdown",
   "id": "010edc2d",
   "metadata": {},
   "source": [
    "**General instructions:** these replications will be similar to labs, though with less guidance than we would typically give. An advantage you have is that the answer you are supposed to get for most questions is in the paper.\n",
    "\n",
    "When we say to \"replicate\" a table we don't mean you need to reproduce every bit of formatting. Typically for regressions we just want you to verify that the coefficients match those reported in the table. For graphs, the output should look pretty similar, though again you don't need to make the formatting look exactly the same. "
   ]
  },
  {
   "cell_type": "markdown",
   "id": "b7c1eec2",
   "metadata": {},
   "source": [
    "A linguistic note: a tricky thing about this paper is that one of the names of the major parties in the US (\"Democratic party\") also corresponds to the key outcome variable (level of state democracy). One way we distinguish between these is that when we write Democratic with a capital D we are referring to the party and when we write democratic with a lower-case d we are referring to the kind of government (or the \"regime type\" to use standard comparative politics terminology). Be sure to be careful about this distinction, and always be clear whether you are referring to the party or the outcome."
   ]
  },
  {
   "cell_type": "code",
   "execution_count": null,
   "id": "007502b9",
   "metadata": {},
   "outputs": [],
   "source": [
    "## Import Libraries\n",
    "import pandas as pd\n",
    "import numpy as np\n",
    "import seaborn as sns\n",
    "import statsmodels.formula.api as smf\n",
    "import matplotlib.pyplot as plt \n",
    "%matplotlib inline"
   ]
  },
  {
   "cell_type": "markdown",
   "id": "f7b21647",
   "metadata": {},
   "source": [
    "## Part 1: Loading and exploring the data"
   ]
  },
  {
   "cell_type": "code",
   "execution_count": null,
   "id": "5accec28",
   "metadata": {
    "scrolled": true
   },
   "outputs": [],
   "source": [
    "## Open Data\n",
    "df = pd.read_csv(\"data_grumbach.csv\") "
   ]
  },
  {
   "cell_type": "markdown",
   "id": "0a14f0e8",
   "metadata": {},
   "source": [
    "A nice thing to do after loading up any data frame is to use the `.info` function to see what variables are inside. Adding a `verbose=True` argument forces it to display all variables."
   ]
  },
  {
   "cell_type": "code",
   "execution_count": null,
   "id": "5a309693",
   "metadata": {},
   "outputs": [],
   "source": [
    "df.info(verbose=True)"
   ]
  },
  {
   "cell_type": "markdown",
   "id": "67fc2b41",
   "metadata": {},
   "source": [
    "One of the key variables we will study is \"party control\", which is equal to 0 when Republicans have unified control of the state government, 2 when Democrats have unified control of state government, and 1 when there is divided government (e.g., a governer from one party while another party has a majority in the legislature).\n",
    "\n",
    "We can explore patterns in this variable across states using the `pd.crosstab` function, which creates a table that counts how many observations for each combination of the two variables."
   ]
  },
  {
   "cell_type": "code",
   "execution_count": null,
   "id": "e56ac6fb",
   "metadata": {},
   "outputs": [],
   "source": [
    "pd.crosstab(df['state'], df['partycontrol'])"
   ]
  },
  {
   "cell_type": "markdown",
   "id": "3143a544",
   "metadata": {},
   "source": [
    "For example, we can learn from this that over the time period in this data frame, Wyoming had 11 years of unified Republican control, and 8 years of divided government. \n",
    "\n",
    "**Question 1.1. Make a crosstab of the \"year\" variable and party control. What is something we can learn from the table?**"
   ]
  },
  {
   "cell_type": "code",
   "execution_count": null,
   "id": "f8df48c0",
   "metadata": {},
   "outputs": [],
   "source": [
    "# Code for 1.1"
   ]
  },
  {
   "cell_type": "markdown",
   "id": "7646d243",
   "metadata": {},
   "source": [
    "*Words for 1.1*"
   ]
  },
  {
   "cell_type": "markdown",
   "id": "10d53eca",
   "metadata": {},
   "source": [
    "The key outcome we will study is the state-level democracy index, which is in the \"democracy_mcmc\" variable. Here is a histogram of that variable:"
   ]
  },
  {
   "cell_type": "code",
   "execution_count": null,
   "id": "e7fbe5dd",
   "metadata": {},
   "outputs": [],
   "source": [
    "df.hist(\"democracy_mcmc\")"
   ]
  },
  {
   "cell_type": "markdown",
   "id": "119ed31c",
   "metadata": {},
   "source": [
    "We can also take the mean and standard deviation:"
   ]
  },
  {
   "cell_type": "code",
   "execution_count": null,
   "id": "e78997ca",
   "metadata": {},
   "outputs": [],
   "source": [
    "np.mean(df[\"democracy_mcmc\"]), (np.var(df[\"democracy_mcmc\"]))**(1/2)"
   ]
  },
  {
   "cell_type": "markdown",
   "id": "0b95fe28",
   "metadata": {},
   "source": [
    "This variable is loosely normally distributed with mean 0 and standard deviation 1 (this is by construction, see the paper for more details), so we can interpret a one unit increase in the state level democracy score as about a one standard deviation increase in how democratic a state is. "
   ]
  },
  {
   "cell_type": "markdown",
   "id": "de95c78e",
   "metadata": {},
   "source": [
    "**Question 1.2. Make seperate histograms of the distribution of \"democracy_mcmc\" for state-years under unified Republican control and unified Democratic control. Interpret any differences you see (hint: note the x axis may be different).**"
   ]
  },
  {
   "cell_type": "code",
   "execution_count": null,
   "id": "75152d6b",
   "metadata": {},
   "outputs": [],
   "source": [
    "# Code for 1.2"
   ]
  },
  {
   "cell_type": "markdown",
   "id": "cc167ea6",
   "metadata": {},
   "source": [
    "*Words for 1.2*"
   ]
  },
  {
   "cell_type": "markdown",
   "id": "9bc063c4",
   "metadata": {},
   "source": [
    "**Question 1.3. Use `smf.ols` to fit and summarize a regression with \"democracy_mcmc\" as the dependent variable and \"partycontrol\" as in independent variable. Interpret the coefficient on \"partycontrol\". (Hint: think carefully about one a one unit change in each variable means!)**"
   ]
  },
  {
   "cell_type": "code",
   "execution_count": null,
   "id": "975c7c94",
   "metadata": {},
   "outputs": [],
   "source": [
    "# Code for 1.3"
   ]
  },
  {
   "cell_type": "markdown",
   "id": "f86d026b",
   "metadata": {},
   "source": [
    "*Words for 1.3*"
   ]
  },
  {
   "cell_type": "markdown",
   "id": "b39a20d7",
   "metadata": {},
   "source": [
    "**Question 1.4 Why might this coefficient not correspond to a causal effect of party control on the level of democracy?**"
   ]
  },
  {
   "cell_type": "markdown",
   "id": "8a38cb76",
   "metadata": {},
   "source": [
    "*Words for 1.4*"
   ]
  },
  {
   "cell_type": "markdown",
   "id": "0864d5c1",
   "metadata": {},
   "source": [
    "## Part 2: Replicating Graphs"
   ]
  },
  {
   "cell_type": "markdown",
   "id": "a79e9a7a",
   "metadata": {},
   "source": [
    "Now let's do our first replication of an analysis in the paper, by creating versions of figures 3 and 4. We can do this with the `sns.lineplot` function. If we run this function with year on the x axis and \"democray_mcmc\" on the y axis it will plot the average of this variable by year. (Set the `ci=0` since the confidence intervals in the paper are doing something different than what the function does)."
   ]
  },
  {
   "cell_type": "code",
   "execution_count": null,
   "id": "a3bfc0f8",
   "metadata": {},
   "outputs": [],
   "source": [
    "sns.lineplot(data=df, x='year', y='democracy_mcmc', ci=0)"
   ]
  },
  {
   "cell_type": "markdown",
   "id": "515a91b8",
   "metadata": {},
   "source": [
    "We can also use a `hue='state'` argument to separate out the trend for each state. Though this is kind of messy!"
   ]
  },
  {
   "cell_type": "code",
   "execution_count": null,
   "id": "d9da5c17",
   "metadata": {},
   "outputs": [],
   "source": [
    "sns.lineplot(data=df, x='year', y='democracy_mcmc', ci=0, hue='state')"
   ]
  },
  {
   "cell_type": "markdown",
   "id": "189788af",
   "metadata": {},
   "source": [
    "To make a version of figure 3, let's do something similar to the previous graph but combine all of the states other than NC, TX, and WA in to an \"other\" category. First we'll create a variable called \"Stlab\" which is just \"other\" for all observations. Then we can overwrite it for North Carolina to be \"NC\""
   ]
  },
  {
   "cell_type": "code",
   "execution_count": null,
   "id": "f1db0ada",
   "metadata": {},
   "outputs": [],
   "source": [
    "df['Stlab'] = 'Other'\n",
    "df.loc[df['state'] == \"North Carolina\", \"Stlab\"] = \"NC\"\n",
    "df.value_counts('Stlab')"
   ]
  },
  {
   "cell_type": "markdown",
   "id": "26ab52db",
   "metadata": {},
   "source": [
    "**Question 2.1. Use `sns.lineplot` to compare the trend of \"democracy_mcmc\" in North Carolina to all other states.**"
   ]
  },
  {
   "cell_type": "code",
   "execution_count": null,
   "id": "97b7f9cb",
   "metadata": {},
   "outputs": [],
   "source": [
    "# Code for 2.1"
   ]
  },
  {
   "cell_type": "markdown",
   "id": "9bbfc28c",
   "metadata": {},
   "source": [
    "**Question 2.2 Change the \"Stlab\" variable to \"TX\" for observations corresponding to Texas and \"WA\" for observations corresponding to Washington. Then use `sns.lineplot` to compare the trends in \"democracy_mcmc\" of these three states to the average of all other states. Interpret this graph. (Hint: to see how party control changed for these states over the time window, you can make a seperate lineplot with \"partycontrol\" as the y-axis variable.)**"
   ]
  },
  {
   "cell_type": "code",
   "execution_count": null,
   "id": "841cf379",
   "metadata": {},
   "outputs": [],
   "source": [
    "# Code for 2.2"
   ]
  },
  {
   "cell_type": "markdown",
   "id": "ded9efd1",
   "metadata": {},
   "source": [
    "*Words for 2.2*"
   ]
  },
  {
   "cell_type": "markdown",
   "id": "41229165",
   "metadata": {},
   "source": [
    "**Question 2.3. To make something like Figure 4, plot the trend in \"democracy_mcmc\", seperated out by the \"partycontrol\" variable using a `hue=` argument. (Note this will look somewhat different because the paper uses a method to smooth out the trends. The general idea should be about the same though). Interpret this graph**"
   ]
  },
  {
   "cell_type": "code",
   "execution_count": null,
   "id": "f0831da3",
   "metadata": {},
   "outputs": [],
   "source": [
    "# Code for 2.3"
   ]
  },
  {
   "cell_type": "markdown",
   "id": "3ee7edeb",
   "metadata": {},
   "source": [
    "*Words for 2.3*"
   ]
  },
  {
   "cell_type": "markdown",
   "id": "df9d9fa4",
   "metadata": {},
   "source": [
    "## Part 3: Regressions"
   ]
  },
  {
   "cell_type": "markdown",
   "id": "7138d930",
   "metadata": {},
   "source": [
    "Finally let's replicate some of the regressions in tables 1 and 2. \n",
    "\n",
    "The regressions in the paper only include observations that have data for all of the key variables. For some state-years there is no data for the \"competition\" variable, so we drop these values."
   ]
  },
  {
   "cell_type": "code",
   "execution_count": null,
   "id": "2f6e377d",
   "metadata": {},
   "outputs": [],
   "source": [
    "# Drop NaN values to keep 833 observations like the paper\n",
    "df = df.dropna(subset=['competition_allleg_lag']) "
   ]
  },
  {
   "cell_type": "markdown",
   "id": "18f968b4",
   "metadata": {},
   "source": [
    "The models in table 1 all have \"democracy_mcmc\" as the dependent variable, and also include state and year fixed effects. Recall if we want to make sure a variable is treated as categorical we can include it in the `smf.ols` formula as `...+C(varname)+...`. The other variables used in these regressions are:\n",
    "- Competition is in the 'competition_allleg_lag' column\n",
    "- Polarization is the 'polarization_avg' column\n",
    "- Republican is in the 'republican' column"
   ]
  },
  {
   "cell_type": "markdown",
   "id": "93916491",
   "metadata": {},
   "source": [
    "*DUE TO HOW THE KEY OUTCOME VARIABLE IS GENERATED, THE COEFFICIENTS IN THE NOTEBOOK WILL BE SLIGHTLY DIFFERENT THAN THE PAPER. SEE <a href=\"https://anthlittle.github.io/files/Grumbach_Tables.pdf\">HERE</a> FOR VERSION OF TABLES 1 AND 2 WITH COEFFICIENTS THAT YOU SHOULD GET*"
   ]
  },
  {
   "cell_type": "markdown",
   "id": "2ee88e45",
   "metadata": {},
   "source": [
    "**Question 3.1. Use `smf.ols` to fit and summarize a regression which replicates model 1 in table 1. Note this should include state fixed effects and year fixed effects.**"
   ]
  },
  {
   "cell_type": "code",
   "execution_count": null,
   "id": "d887a87a",
   "metadata": {},
   "outputs": [],
   "source": [
    "# Code for 3.1"
   ]
  },
  {
   "cell_type": "markdown",
   "id": "486a312c",
   "metadata": {},
   "source": [
    "**Question 3.2. Now do the same for models 2 and 3 in table 1. Interpret the results of these three models.**"
   ]
  },
  {
   "cell_type": "code",
   "execution_count": null,
   "id": "316e669e",
   "metadata": {},
   "outputs": [],
   "source": [
    "# Code for 3.2"
   ]
  },
  {
   "cell_type": "code",
   "execution_count": null,
   "id": "3fe6902b",
   "metadata": {},
   "outputs": [],
   "source": []
  },
  {
   "cell_type": "markdown",
   "id": "0d1a5381",
   "metadata": {},
   "source": [
    "*Words for 3.2*"
   ]
  },
  {
   "cell_type": "markdown",
   "id": "bc70f7e0",
   "metadata": {},
   "source": [
    "**Question 3.3. Now replicate the model in column 7, where \"Competition x Republican\" is an interaction term between these two variables. Suppose that hypothetically the Coefficient on Competition X Republican was around .475 (i.e., the same as the Competition coefficient but positive): what would this mean how the relationship between close elections, party control, and levels of democracy?**"
   ]
  },
  {
   "cell_type": "code",
   "execution_count": null,
   "id": "d05c8af3",
   "metadata": {
    "scrolled": false
   },
   "outputs": [],
   "source": [
    "# Code for 3.3"
   ]
  },
  {
   "cell_type": "markdown",
   "id": "5c8398ef",
   "metadata": {},
   "source": [
    "*Words for 3.3*"
   ]
  },
  {
   "cell_type": "markdown",
   "id": "32fb6327",
   "metadata": {},
   "source": [
    "**Question 3.4. Finally, replicate model 4 in table 2. Note the relevant variables to add are pct_black_change and pct_latino_change. Interpret the coefficients on these variables.**"
   ]
  },
  {
   "cell_type": "code",
   "execution_count": null,
   "id": "aa0e2e13",
   "metadata": {},
   "outputs": [],
   "source": [
    "# Code for 3.4"
   ]
  },
  {
   "cell_type": "markdown",
   "id": "4b776f05",
   "metadata": {},
   "source": [
    "*Words for 3.4*"
   ]
  },
  {
   "cell_type": "markdown",
   "id": "7c1a8f4d",
   "metadata": {},
   "source": [
    "**Question 3.5. All of the analysis here compares Republican control to divided or Democratic control. Run a regression similar to those above but which also can answer the question of whether there is a meaningful difference between divided government and unified Democratic state government.**"
   ]
  },
  {
   "cell_type": "code",
   "execution_count": null,
   "id": "5029e1dd",
   "metadata": {},
   "outputs": [],
   "source": [
    "# Code for 3.5"
   ]
  },
  {
   "cell_type": "markdown",
   "id": "441c5cb7",
   "metadata": {},
   "source": [
    "*Words for 3.5*"
   ]
  },
  {
   "cell_type": "markdown",
   "id": "9612c915",
   "metadata": {},
   "source": [
    "## Part 4. Wrapping up\n",
    "\n",
    "**Question 4.1. What did you learn from this replication exercise? (3-4 sentences)**"
   ]
  },
  {
   "cell_type": "markdown",
   "id": "f2f4168c",
   "metadata": {},
   "source": [
    "*Words for 4.1*"
   ]
  },
  {
   "cell_type": "markdown",
   "id": "3e3091a1",
   "metadata": {},
   "source": [
    "**Question 4.2.  What additional data might you want to collect to build on the findings here? What would you expect to find? (4-5 sentences)**"
   ]
  },
  {
   "cell_type": "markdown",
   "id": "8d58bd42",
   "metadata": {},
   "source": [
    "*Words for 4.2*"
   ]
  },
  {
   "cell_type": "code",
   "execution_count": null,
   "id": "e658aa22",
   "metadata": {},
   "outputs": [],
   "source": []
  }
 ],
 "metadata": {
  "kernelspec": {
   "display_name": "Python 3 (ipykernel)",
   "language": "python",
   "name": "python3"
  },
  "language_info": {
   "codemirror_mode": {
    "name": "ipython",
    "version": 3
   },
   "file_extension": ".py",
   "mimetype": "text/x-python",
   "name": "python",
   "nbconvert_exporter": "python",
   "pygments_lexer": "ipython3",
   "version": "3.9.7"
  }
 },
 "nbformat": 4,
 "nbformat_minor": 5
}
