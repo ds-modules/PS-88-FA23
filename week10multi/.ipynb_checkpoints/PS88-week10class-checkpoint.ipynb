{
 "cells": [
  {
   "cell_type": "markdown",
   "id": "91f1010f",
   "metadata": {},
   "source": [
    "# PS 88 Week 10 Lecture Notebook"
   ]
  },
  {
   "cell_type": "markdown",
   "id": "1fc8e4e6",
   "metadata": {},
   "source": [
    "Loading Libraries"
   ]
  },
  {
   "cell_type": "code",
   "execution_count": null,
   "id": "66c9baed",
   "metadata": {},
   "outputs": [],
   "source": [
    "import numpy as np\n",
    "import matplotlib.pyplot as plt\n",
    "import pandas as pd\n",
    "import seaborn as sns\n",
    "import statsmodels.formula.api as smf\n",
    "from IPython.display import display, Markdown"
   ]
  },
  {
   "cell_type": "markdown",
   "id": "d5432fbb",
   "metadata": {},
   "source": [
    "Let's look at the economic performance and election result data we studied in week 2.\n",
    "\n",
    "First we loading the election data, which is stored in .dta (Stata) format, and then subsetting to years with elections after 1936."
   ]
  },
  {
   "cell_type": "code",
   "execution_count": null,
   "id": "a714061e",
   "metadata": {},
   "outputs": [],
   "source": [
    "elec = pd.read_stata(\"presvote.dta\")"
   ]
  },
  {
   "cell_type": "markdown",
   "id": "7ef52540",
   "metadata": {},
   "source": [
    "The full data contains all years since 1789, but we are only interested in election years with the relevant economic data"
   ]
  },
  {
   "cell_type": "code",
   "execution_count": null,
   "id": "2598fd32",
   "metadata": {},
   "outputs": [],
   "source": [
    "elec = elec[elec['incvote']>0]\n",
    "elec = elec[elec['year'] > 1936]\n",
    "elec"
   ]
  },
  {
   "cell_type": "markdown",
   "id": "851ba894",
   "metadata": {},
   "source": [
    "The NaN for 1964 creates some problems later, let's make a guess of that based on the RDIy column"
   ]
  },
  {
   "cell_type": "code",
   "execution_count": null,
   "id": "a725e13f",
   "metadata": {},
   "outputs": [],
   "source": [
    "# Guess at growth\n",
    "add = 100*(16748-14350)/14350\n",
    "elec.loc[elec['year']==1964, 'RDIg_term'] = add\n",
    "elec"
   ]
  },
  {
   "cell_type": "markdown",
   "id": "94300927",
   "metadata": {},
   "source": [
    "We can make a scatterplot with  the `scatterplot` function from seaborn (loaded here as sns). The first argument tells what variable  to use for the x axis, the second argumnt is the y  axis, and the third argument is the data frame containing these variables."
   ]
  },
  {
   "cell_type": "code",
   "execution_count": null,
   "id": "a7abe81b",
   "metadata": {},
   "outputs": [],
   "source": [
    "sns.scatterplot(x='RDIyrgrowth', y='incvote', data=elec)"
   ]
  },
  {
   "cell_type": "markdown",
   "id": "061ab865",
   "metadata": {},
   "source": [
    "Adding horizontal and vertical lines at the means using the `axvline` and `axhline` functions."
   ]
  },
  {
   "cell_type": "code",
   "execution_count": null,
   "id": "aa38d2f3",
   "metadata": {},
   "outputs": [],
   "source": [
    "m1 = smf.ols('incvote~RDIyrgrowth', data=elec).fit()\n",
    "m1.summary()"
   ]
  },
  {
   "cell_type": "markdown",
   "id": "14b342b5",
   "metadata": {},
   "source": [
    "Lets add another variable: how many years the current party has been in office, which is captured by `inc_yrs`. First run a bivariate regression"
   ]
  },
  {
   "cell_type": "code",
   "execution_count": null,
   "id": "91411414",
   "metadata": {},
   "outputs": [],
   "source": []
  },
  {
   "cell_type": "code",
   "execution_count": null,
   "id": "7088d27e",
   "metadata": {},
   "outputs": [],
   "source": [
    "m2 = smf.ols('incvote~RDIyrgrowth + inc_yrs', data=elec).fit()\n",
    "m2.summary()"
   ]
  },
  {
   "cell_type": "markdown",
   "id": "c3f50562",
   "metadata": {},
   "source": [
    "## Competing theories\n",
    "\n",
    "Run a multivariate regression with both `RDIyrgrowth` and `RDIg_term`. "
   ]
  },
  {
   "cell_type": "code",
   "execution_count": null,
   "id": "19270974",
   "metadata": {},
   "outputs": [],
   "source": [
    "\n"
   ]
  },
  {
   "cell_type": "code",
   "execution_count": null,
   "id": "3e810dc5",
   "metadata": {},
   "outputs": [],
   "source": []
  },
  {
   "cell_type": "markdown",
   "id": "8e2cf4cf",
   "metadata": {},
   "source": [
    "## Lab Preview\n",
    "\n",
    "In the lab we will do some work on simulated data about the use of violent tactics in protest movements and whether this affects their success."
   ]
  },
  {
   "cell_type": "markdown",
   "id": "8d483d49",
   "metadata": {},
   "source": [
    "Here is a simulation of this process. There  are three parameters which we will vary later:\n",
    "- `b_rep` is effect of repression on whether the protest  movement succeeds. We assume this is negative, meaning success is harder with a more repressive government\n",
    "- `b_viol` is the effect of violence of movement success. For the first simulation, we set this to zero, meaning there is no real causal effect\n",
    "- `b_rv` is the effect of repressiveness on the use of violence, which we assume is positive\n",
    "\n",
    "The following code simulates 1000 protest movements, with three variables we will observe: \n",
    "- `rep` is the repressiveness, which we will assume is normally distributed\n",
    "- `viol` is equal to 1 for a violent movement and 0 for nonviolent. We assume movments are more likely to be violent with a repressive government.\n",
    "- `succ` is a continuous measure of success, where higher numbers indicate a more successful movement. This is (potentially) a function of repressiveness, the choice of violent tactics, and random noise.\n",
    "\n",
    "We then put the variables in a pandas data frame."
   ]
  },
  {
   "cell_type": "code",
   "execution_count": null,
   "id": "11a5f653",
   "metadata": {},
   "outputs": [],
   "source": [
    "np.random.seed(89)\n",
    "b_rep = -1\n",
    "b_viol = 0\n",
    "b_rv = 1\n",
    "# Random repressiveness levels\n",
    "rep = np.random.normal(0,1,1000)\n",
    "viol = np.where(b_rv*rep + np.random.normal(0,1,1000) > 0, 1, 0)\n",
    "succ = b_rep*rep + b_viol*viol + np.random.normal(0,.3,1000)\n",
    "protest = pd.DataFrame(data={'Repressive': rep, \n",
    "                             'Violent': viol, \n",
    "                             'Success': succ})\n",
    "protest"
   ]
  },
  {
   "cell_type": "markdown",
   "id": "f4f266a8",
   "metadata": {},
   "source": [
    "Since violence is binary, we can look at the difference in average success between violent and nonviolent movements. Here is some pandas code to compute the average success of violent movements. \n",
    "\n",
    "In general, if we want to pull the values of `Var1` for the subset of rows where `Var2=x` from a data frame `df`, the code is:\n",
    "`df.loc[df['Var2']==x, Var1]`. Think of `.loc` as a combination of what the `.where` and `.column` functions do in the Table library."
   ]
  },
  {
   "cell_type": "code",
   "execution_count": null,
   "id": "bf27a1a1",
   "metadata": {},
   "outputs": [],
   "source": [
    "suc1 = np.mean(protest.loc[protest['Violent']==1, 'Success'])\n",
    "suc1"
   ]
  },
  {
   "cell_type": "markdown",
   "id": "9de8658b",
   "metadata": {},
   "source": [
    "Now we can compute the success of nonviolent movements and the differences of means"
   ]
  },
  {
   "cell_type": "code",
   "execution_count": null,
   "id": "01116c9c",
   "metadata": {},
   "outputs": [],
   "source": [
    "suc0=np.mean(protest.loc[protest['Violent']==0, 'Success'])\n",
    "suc0"
   ]
  },
  {
   "cell_type": "code",
   "execution_count": null,
   "id": "1c69140b",
   "metadata": {},
   "outputs": [],
   "source": [
    "suc1-suc0"
   ]
  },
  {
   "cell_type": "markdown",
   "id": "52f7e41b",
   "metadata": {},
   "source": [
    "In this simulation, violent movements are less successful than violent ones."
   ]
  },
  {
   "cell_type": "markdown",
   "id": "28eb470b",
   "metadata": {},
   "source": [
    "While we used regression for continuous variables last week, there is nothing to stop us from using it on binary (0 or 1) variables. Let's run a bivariate regression with `Success` as the dependent variable and `Violent` as the independent variable.\n",
    "\n",
    "Recall the code to \"fit\" a model with independent variable IV and dependent variable DV and data frame df is `smf.ols('DV~IV', data=df).fit()`. We will save this fitted model as `succ_ols` and then use the `.summary()` function to get the output."
   ]
  },
  {
   "cell_type": "code",
   "execution_count": null,
   "id": "027a174e",
   "metadata": {},
   "outputs": [],
   "source": [
    "succ_ols = smf.ols('Success~Violent', data=protest).fit()\n",
    "succ_ols.summary()"
   ]
  },
  {
   "cell_type": "markdown",
   "id": "ee3be5d3",
   "metadata": {},
   "source": [
    "We can also visualize this with a scatterplot, where we use the `sns.regplot` function to draw a best fit line too:"
   ]
  },
  {
   "cell_type": "code",
   "execution_count": null,
   "id": "7e83f1d1",
   "metadata": {},
   "outputs": [],
   "source": [
    "sns.regplot(x='Violent',y='Success', data=protest, ci=0)"
   ]
  },
  {
   "cell_type": "markdown",
   "id": "1f09d14b",
   "metadata": {},
   "source": [
    "The best fit \"line\" goes from the mean of the nonviolent movements to the mean of the violent movements. Visually:"
   ]
  },
  {
   "cell_type": "code",
   "execution_count": null,
   "id": "9ceb6329",
   "metadata": {},
   "outputs": [],
   "source": [
    "sns.regplot(x='Violent',y='Success', data=protest)\n",
    "plt.axhline(np.mean(protest.loc[protest['Violent']==1, 'Success']), color=\"red\")\n",
    "plt.axhline(np.mean(protest.loc[protest['Violent']==0, 'Success']), color=\"green\")"
   ]
  },
  {
   "cell_type": "markdown",
   "id": "9abd6d3d",
   "metadata": {},
   "source": [
    "The constant in the regression is equal to the mean of nonviolent protests, and the coefficient on `Violent` is the difference of means. "
   ]
  },
  {
   "cell_type": "markdown",
   "id": "6396f580",
   "metadata": {},
   "source": [
    "We can also run regressions with dependent variables that take on values 0 or 1. This is called a \"linear probability model\". In this example, `Violent` is binary, and by the way we generated the data we know that higher values of `Repressive` make it more likely to be 1 versus 0. \n",
    "\n",
    "To check this, let's fit and summarize a regression where `Violent` is the dependent variable and `Repressive` is the independent variable."
   ]
  },
  {
   "cell_type": "code",
   "execution_count": null,
   "id": "1cd5d811",
   "metadata": {},
   "outputs": [],
   "source": [
    "smf.ols('Violent~Repressive', data=protest).fit().summary()"
   ]
  },
  {
   "cell_type": "markdown",
   "id": "a2207622",
   "metadata": {},
   "source": [
    "You should get a positive coefficient on `Repressive`, which confirms that we are more likely to have violence when this variable is high. Or, visually:"
   ]
  },
  {
   "cell_type": "code",
   "execution_count": null,
   "id": "63ddacd9",
   "metadata": {},
   "outputs": [],
   "source": [
    "sns.regplot(x='Repressive', y='Violent', data=protest, ci=0)"
   ]
  },
  {
   "cell_type": "markdown",
   "id": "6003feab",
   "metadata": {},
   "source": [
    "While our dependent variable really only takes on values of 0 and 1, we can interpret the predicted value here as being a prediction about the probability of violent protest. One drawback to this is that it will sometimes predict negative probabilities or probabilities greater than 1. There are some other ways to analyze data like this that doesn't make predictions outside of 0 and 1, but at the cost of being a bit more complicated to interpret.\n",
    "\n",
    "The nice thing about this probability interpretation is that the slope then tells us how an increase in our independent variable affects the probability that the dependent variable is a 1. In this case, a 1 unit increase in our `Repressive` measure leads to a 28% increase in the probability of violent protest."
   ]
  },
  {
   "cell_type": "markdown",
   "id": "3b21d7ba",
   "metadata": {},
   "source": [
    "Now let's run a multivaraite regression with `Success` as the dependent variable, and `Violent` and `Repressive` as independent variables."
   ]
  },
  {
   "cell_type": "code",
   "execution_count": null,
   "id": "e36348cd",
   "metadata": {
    "scrolled": true
   },
   "outputs": [],
   "source": [
    "smf.ols('Success~Violent + Repressive', data=protest).fit().summary()"
   ]
  },
  {
   "cell_type": "markdown",
   "id": "e6c23d0b",
   "metadata": {},
   "source": [
    "When we control for how repressive the government is, there is no longer a relationship between violence and protest success. This is because repression was a confounding variable which makes violence more likely and success less likely. So, when we didn't control for repression, it looked like violent movements where less successful. "
   ]
  }
 ],
 "metadata": {
  "kernelspec": {
   "display_name": "Python 3 (ipykernel)",
   "language": "python",
   "name": "python3"
  },
  "language_info": {
   "codemirror_mode": {
    "name": "ipython",
    "version": 3
   },
   "file_extension": ".py",
   "mimetype": "text/x-python",
   "name": "python",
   "nbconvert_exporter": "python",
   "pygments_lexer": "ipython3",
   "version": "3.9.7"
  }
 },
 "nbformat": 4,
 "nbformat_minor": 5
}
