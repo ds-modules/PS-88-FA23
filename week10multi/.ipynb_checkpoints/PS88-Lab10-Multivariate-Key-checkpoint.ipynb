{
 "cells": [
  {
   "cell_type": "markdown",
   "metadata": {},
   "source": [
    "# PS 88 - Lab 9 - Multivariate Regression"
   ]
  },
  {
   "cell_type": "code",
   "execution_count": 1,
   "metadata": {},
   "outputs": [],
   "source": [
    "import pandas as pd\n",
    "import numpy as np\n",
    "import seaborn as sns\n",
    "import statsmodels.formula.api as smf\n",
    "import matplotlib.pyplot as plt\n",
    "import statsmodels.api as sm\n",
    "from scipy import stats"
   ]
  },
  {
   "cell_type": "markdown",
   "metadata": {},
   "source": [
    "## Part 1: Controlling with simulation"
   ]
  },
  {
   "cell_type": "markdown",
   "metadata": {},
   "source": [
    "To see how controlling for confounding variables can help us estimate causal effects, we will first use some simulated data, and then move on to real data in part 2.\n",
    "\n",
    "The political science motivation behind the simulations is the relationship between whether protest movements use violence and whether they succeed at attaining their goals. A <a href=\"http://cup.columbia.edu/book/why-civil-resistance-works/9780231156820\">prominent finding</a> in this literature is that nonviolent movements tend to be more likely to achieve their goals. Of course, the choice to use violence is not random, so this correlation may not be driven by a causal effect of tactics on success.\n",
    "\n",
    "One potential confounding variable is how repressive the government is. In particular, we may  be concerned that violence is more likely to be used when the government is more repressive, and repressive governments are less likely to grant concessions. \n",
    "\n",
    "Here is a simulation of this process. There  are three parameters which we will vary later:\n",
    "- `b_rep` is effect of repression on whether the protest  movement succeeds. We assume this is negative, meaning success is harder with a more repressive government\n",
    "- `b_viol` is the effect of violence of movement success. For the first simulation, we set this to zero, meaning there is no real causal effect\n",
    "- `b_rv` is the effect of repressiveness on the use of violence, which we assume is positive\n",
    "\n",
    "The following code simulates 1000 protest movements, with three variables we will observe: \n",
    "- `rep` is the repressiveness, which we will assume is normally distributed\n",
    "- `viol` is equal to 1 for a violent movement and 0 for nonviolent. We assume movments are more likely to be violent with a repressive government.\n",
    "- `succ` is a continuous measure of success, where higher numbers indicate a more successful movement. This is (potentially) a function of repressiveness, the choice of violent tactics, and random noise.\n",
    "\n",
    "Let's first recreate the data we used in class:"
   ]
  },
  {
   "cell_type": "code",
   "execution_count": 2,
   "metadata": {},
   "outputs": [
    {
     "data": {
      "text/html": [
       "<div>\n",
       "<style scoped>\n",
       "    .dataframe tbody tr th:only-of-type {\n",
       "        vertical-align: middle;\n",
       "    }\n",
       "\n",
       "    .dataframe tbody tr th {\n",
       "        vertical-align: top;\n",
       "    }\n",
       "\n",
       "    .dataframe thead th {\n",
       "        text-align: right;\n",
       "    }\n",
       "</style>\n",
       "<table border=\"1\" class=\"dataframe\">\n",
       "  <thead>\n",
       "    <tr style=\"text-align: right;\">\n",
       "      <th></th>\n",
       "      <th>Repressive</th>\n",
       "      <th>Violent</th>\n",
       "      <th>Success</th>\n",
       "    </tr>\n",
       "  </thead>\n",
       "  <tbody>\n",
       "    <tr>\n",
       "      <th>0</th>\n",
       "      <td>-1.693730</td>\n",
       "      <td>0</td>\n",
       "      <td>1.843308</td>\n",
       "    </tr>\n",
       "    <tr>\n",
       "      <th>1</th>\n",
       "      <td>-0.002121</td>\n",
       "      <td>1</td>\n",
       "      <td>0.092642</td>\n",
       "    </tr>\n",
       "    <tr>\n",
       "      <th>2</th>\n",
       "      <td>-0.425892</td>\n",
       "      <td>0</td>\n",
       "      <td>0.410261</td>\n",
       "    </tr>\n",
       "    <tr>\n",
       "      <th>3</th>\n",
       "      <td>-0.255590</td>\n",
       "      <td>1</td>\n",
       "      <td>0.074368</td>\n",
       "    </tr>\n",
       "    <tr>\n",
       "      <th>4</th>\n",
       "      <td>-0.305779</td>\n",
       "      <td>0</td>\n",
       "      <td>-0.005750</td>\n",
       "    </tr>\n",
       "    <tr>\n",
       "      <th>...</th>\n",
       "      <td>...</td>\n",
       "      <td>...</td>\n",
       "      <td>...</td>\n",
       "    </tr>\n",
       "    <tr>\n",
       "      <th>995</th>\n",
       "      <td>0.902642</td>\n",
       "      <td>1</td>\n",
       "      <td>-0.808663</td>\n",
       "    </tr>\n",
       "    <tr>\n",
       "      <th>996</th>\n",
       "      <td>0.336647</td>\n",
       "      <td>1</td>\n",
       "      <td>-0.646865</td>\n",
       "    </tr>\n",
       "    <tr>\n",
       "      <th>997</th>\n",
       "      <td>-0.691876</td>\n",
       "      <td>1</td>\n",
       "      <td>0.184749</td>\n",
       "    </tr>\n",
       "    <tr>\n",
       "      <th>998</th>\n",
       "      <td>0.395846</td>\n",
       "      <td>1</td>\n",
       "      <td>-0.257278</td>\n",
       "    </tr>\n",
       "    <tr>\n",
       "      <th>999</th>\n",
       "      <td>1.442579</td>\n",
       "      <td>1</td>\n",
       "      <td>-1.868760</td>\n",
       "    </tr>\n",
       "  </tbody>\n",
       "</table>\n",
       "<p>1000 rows × 3 columns</p>\n",
       "</div>"
      ],
      "text/plain": [
       "     Repressive  Violent   Success\n",
       "0     -1.693730        0  1.843308\n",
       "1     -0.002121        1  0.092642\n",
       "2     -0.425892        0  0.410261\n",
       "3     -0.255590        1  0.074368\n",
       "4     -0.305779        0 -0.005750\n",
       "..          ...      ...       ...\n",
       "995    0.902642        1 -0.808663\n",
       "996    0.336647        1 -0.646865\n",
       "997   -0.691876        1  0.184749\n",
       "998    0.395846        1 -0.257278\n",
       "999    1.442579        1 -1.868760\n",
       "\n",
       "[1000 rows x 3 columns]"
      ]
     },
     "execution_count": 2,
     "metadata": {},
     "output_type": "execute_result"
    }
   ],
   "source": [
    "np.random.seed(89)\n",
    "b_rep = -1\n",
    "b_viol = 0\n",
    "b_rv = 1\n",
    "# Random repressiveness levels\n",
    "rep = np.random.normal(0,1,1000)\n",
    "viol = np.where(b_rv*rep + np.random.normal(0,1,1000) > 0, 1, 0)\n",
    "succ = b_rep*rep + b_viol*viol + np.random.normal(0,.3,1000)\n",
    "protest = pd.DataFrame(data={'Repressive': rep, \n",
    "                             'Violent': viol, \n",
    "                             'Success': succ})\n",
    "protest"
   ]
  },
  {
   "cell_type": "markdown",
   "metadata": {},
   "source": [
    "Recall that in these data we found that there is a negative relationship between violence and success even though there is no causal effect:"
   ]
  },
  {
   "cell_type": "code",
   "execution_count": 3,
   "metadata": {},
   "outputs": [
    {
     "data": {
      "text/html": [
       "<table class=\"simpletable\">\n",
       "<caption>OLS Regression Results</caption>\n",
       "<tr>\n",
       "  <th>Dep. Variable:</th>         <td>Success</td>     <th>  R-squared:         </th> <td>   0.287</td>\n",
       "</tr>\n",
       "<tr>\n",
       "  <th>Model:</th>                   <td>OLS</td>       <th>  Adj. R-squared:    </th> <td>   0.286</td>\n",
       "</tr>\n",
       "<tr>\n",
       "  <th>Method:</th>             <td>Least Squares</td>  <th>  F-statistic:       </th> <td>   401.2</td>\n",
       "</tr>\n",
       "<tr>\n",
       "  <th>Date:</th>             <td>Wed, 25 Oct 2023</td> <th>  Prob (F-statistic):</th> <td>2.80e-75</td>\n",
       "</tr>\n",
       "<tr>\n",
       "  <th>Time:</th>                 <td>08:05:02</td>     <th>  Log-Likelihood:    </th> <td> -1288.7</td>\n",
       "</tr>\n",
       "<tr>\n",
       "  <th>No. Observations:</th>      <td>  1000</td>      <th>  AIC:               </th> <td>   2581.</td>\n",
       "</tr>\n",
       "<tr>\n",
       "  <th>Df Residuals:</th>          <td>   998</td>      <th>  BIC:               </th> <td>   2591.</td>\n",
       "</tr>\n",
       "<tr>\n",
       "  <th>Df Model:</th>              <td>     1</td>      <th>                     </th>     <td> </td>   \n",
       "</tr>\n",
       "<tr>\n",
       "  <th>Covariance Type:</th>      <td>nonrobust</td>    <th>                     </th>     <td> </td>   \n",
       "</tr>\n",
       "</table>\n",
       "<table class=\"simpletable\">\n",
       "<tr>\n",
       "      <td></td>         <th>coef</th>     <th>std err</th>      <th>t</th>      <th>P>|t|</th>  <th>[0.025</th>    <th>0.975]</th>  \n",
       "</tr>\n",
       "<tr>\n",
       "  <th>Intercept</th> <td>    0.5343</td> <td>    0.040</td> <td>   13.487</td> <td> 0.000</td> <td>    0.457</td> <td>    0.612</td>\n",
       "</tr>\n",
       "<tr>\n",
       "  <th>Violent</th>   <td>   -1.1134</td> <td>    0.056</td> <td>  -20.030</td> <td> 0.000</td> <td>   -1.222</td> <td>   -1.004</td>\n",
       "</tr>\n",
       "</table>\n",
       "<table class=\"simpletable\">\n",
       "<tr>\n",
       "  <th>Omnibus:</th>       <td> 3.587</td> <th>  Durbin-Watson:     </th> <td>   1.971</td>\n",
       "</tr>\n",
       "<tr>\n",
       "  <th>Prob(Omnibus):</th> <td> 0.166</td> <th>  Jarque-Bera (JB):  </th> <td>   3.618</td>\n",
       "</tr>\n",
       "<tr>\n",
       "  <th>Skew:</th>          <td>-0.146</td> <th>  Prob(JB):          </th> <td>   0.164</td>\n",
       "</tr>\n",
       "<tr>\n",
       "  <th>Kurtosis:</th>      <td> 2.958</td> <th>  Cond. No.          </th> <td>    2.64</td>\n",
       "</tr>\n",
       "</table><br/><br/>Notes:<br/>[1] Standard Errors assume that the covariance matrix of the errors is correctly specified."
      ],
      "text/plain": [
       "<class 'statsmodels.iolib.summary.Summary'>\n",
       "\"\"\"\n",
       "                            OLS Regression Results                            \n",
       "==============================================================================\n",
       "Dep. Variable:                Success   R-squared:                       0.287\n",
       "Model:                            OLS   Adj. R-squared:                  0.286\n",
       "Method:                 Least Squares   F-statistic:                     401.2\n",
       "Date:                Wed, 25 Oct 2023   Prob (F-statistic):           2.80e-75\n",
       "Time:                        08:05:02   Log-Likelihood:                -1288.7\n",
       "No. Observations:                1000   AIC:                             2581.\n",
       "Df Residuals:                     998   BIC:                             2591.\n",
       "Df Model:                           1                                         \n",
       "Covariance Type:            nonrobust                                         \n",
       "==============================================================================\n",
       "                 coef    std err          t      P>|t|      [0.025      0.975]\n",
       "------------------------------------------------------------------------------\n",
       "Intercept      0.5343      0.040     13.487      0.000       0.457       0.612\n",
       "Violent       -1.1134      0.056    -20.030      0.000      -1.222      -1.004\n",
       "==============================================================================\n",
       "Omnibus:                        3.587   Durbin-Watson:                   1.971\n",
       "Prob(Omnibus):                  0.166   Jarque-Bera (JB):                3.618\n",
       "Skew:                          -0.146   Prob(JB):                        0.164\n",
       "Kurtosis:                       2.958   Cond. No.                         2.64\n",
       "==============================================================================\n",
       "\n",
       "Notes:\n",
       "[1] Standard Errors assume that the covariance matrix of the errors is correctly specified.\n",
       "\"\"\""
      ]
     },
     "execution_count": 3,
     "metadata": {},
     "output_type": "execute_result"
    }
   ],
   "source": [
    "succ_ols = smf.ols('Success~Violent', data=protest).fit()\n",
    "succ_ols.summary()"
   ]
  },
  {
   "cell_type": "markdown",
   "metadata": {},
   "source": [
    "Now let's consider a case where there is a causal effect of violence on protest. In particular, let's suppose violence leads to less success. To capture this, we can set `b_viol = -.5` and simulate data using a similar procedure. Note that in this case we explicitly compute the potential outcomes with and without violence, putting these in columns `Success0` and `Success1`."
   ]
  },
  {
   "cell_type": "code",
   "execution_count": 6,
   "metadata": {},
   "outputs": [
    {
     "data": {
      "text/html": [
       "<div>\n",
       "<style scoped>\n",
       "    .dataframe tbody tr th:only-of-type {\n",
       "        vertical-align: middle;\n",
       "    }\n",
       "\n",
       "    .dataframe tbody tr th {\n",
       "        vertical-align: top;\n",
       "    }\n",
       "\n",
       "    .dataframe thead th {\n",
       "        text-align: right;\n",
       "    }\n",
       "</style>\n",
       "<table border=\"1\" class=\"dataframe\">\n",
       "  <thead>\n",
       "    <tr style=\"text-align: right;\">\n",
       "      <th></th>\n",
       "      <th>Repressive</th>\n",
       "      <th>Violent</th>\n",
       "      <th>Success</th>\n",
       "      <th>Success0</th>\n",
       "      <th>Success1</th>\n",
       "    </tr>\n",
       "  </thead>\n",
       "  <tbody>\n",
       "    <tr>\n",
       "      <th>0</th>\n",
       "      <td>-0.142359</td>\n",
       "      <td>1</td>\n",
       "      <td>0.087491</td>\n",
       "      <td>0.587491</td>\n",
       "      <td>0.087491</td>\n",
       "    </tr>\n",
       "    <tr>\n",
       "      <th>1</th>\n",
       "      <td>2.057222</td>\n",
       "      <td>1</td>\n",
       "      <td>-1.979648</td>\n",
       "      <td>-1.479648</td>\n",
       "      <td>-1.979648</td>\n",
       "    </tr>\n",
       "    <tr>\n",
       "      <th>2</th>\n",
       "      <td>0.283262</td>\n",
       "      <td>1</td>\n",
       "      <td>-0.575230</td>\n",
       "      <td>-0.075230</td>\n",
       "      <td>-0.575230</td>\n",
       "    </tr>\n",
       "    <tr>\n",
       "      <th>3</th>\n",
       "      <td>1.329812</td>\n",
       "      <td>1</td>\n",
       "      <td>-1.933491</td>\n",
       "      <td>-1.433491</td>\n",
       "      <td>-1.933491</td>\n",
       "    </tr>\n",
       "    <tr>\n",
       "      <th>4</th>\n",
       "      <td>-0.154622</td>\n",
       "      <td>0</td>\n",
       "      <td>-0.354592</td>\n",
       "      <td>-0.354592</td>\n",
       "      <td>-0.854592</td>\n",
       "    </tr>\n",
       "    <tr>\n",
       "      <th>...</th>\n",
       "      <td>...</td>\n",
       "      <td>...</td>\n",
       "      <td>...</td>\n",
       "      <td>...</td>\n",
       "      <td>...</td>\n",
       "    </tr>\n",
       "    <tr>\n",
       "      <th>995</th>\n",
       "      <td>-0.498927</td>\n",
       "      <td>0</td>\n",
       "      <td>0.292447</td>\n",
       "      <td>0.292447</td>\n",
       "      <td>-0.207553</td>\n",
       "    </tr>\n",
       "    <tr>\n",
       "      <th>996</th>\n",
       "      <td>-1.596513</td>\n",
       "      <td>0</td>\n",
       "      <td>1.544163</td>\n",
       "      <td>1.544163</td>\n",
       "      <td>1.044163</td>\n",
       "    </tr>\n",
       "    <tr>\n",
       "      <th>997</th>\n",
       "      <td>0.538688</td>\n",
       "      <td>1</td>\n",
       "      <td>-0.877597</td>\n",
       "      <td>-0.377597</td>\n",
       "      <td>-0.877597</td>\n",
       "    </tr>\n",
       "    <tr>\n",
       "      <th>998</th>\n",
       "      <td>-1.779445</td>\n",
       "      <td>0</td>\n",
       "      <td>1.564322</td>\n",
       "      <td>1.564322</td>\n",
       "      <td>1.064322</td>\n",
       "    </tr>\n",
       "    <tr>\n",
       "      <th>999</th>\n",
       "      <td>-0.217159</td>\n",
       "      <td>1</td>\n",
       "      <td>-0.597483</td>\n",
       "      <td>-0.097483</td>\n",
       "      <td>-0.597483</td>\n",
       "    </tr>\n",
       "  </tbody>\n",
       "</table>\n",
       "<p>1000 rows × 5 columns</p>\n",
       "</div>"
      ],
      "text/plain": [
       "     Repressive  Violent   Success  Success0  Success1\n",
       "0     -0.142359        1  0.087491  0.587491  0.087491\n",
       "1      2.057222        1 -1.979648 -1.479648 -1.979648\n",
       "2      0.283262        1 -0.575230 -0.075230 -0.575230\n",
       "3      1.329812        1 -1.933491 -1.433491 -1.933491\n",
       "4     -0.154622        0 -0.354592 -0.354592 -0.854592\n",
       "..          ...      ...       ...       ...       ...\n",
       "995   -0.498927        0  0.292447  0.292447 -0.207553\n",
       "996   -1.596513        0  1.544163  1.544163  1.044163\n",
       "997    0.538688        1 -0.877597 -0.377597 -0.877597\n",
       "998   -1.779445        0  1.564322  1.564322  1.064322\n",
       "999   -0.217159        1 -0.597483 -0.097483 -0.597483\n",
       "\n",
       "[1000 rows x 5 columns]"
      ]
     },
     "execution_count": 6,
     "metadata": {},
     "output_type": "execute_result"
    }
   ],
   "source": [
    "np.random.seed(99)\n",
    "b_rep = -1\n",
    "b_viol = -.5\n",
    "b_rv = 1\n",
    "rep = np.random.normal(0,1,1000)\n",
    "viol = np.where(b_rv*rep + np.random.normal(0,1,1000) > 0,1,0)\n",
    "succ0 = b_rep*rep + np.random.normal(0,.3,1000)\n",
    "succ1 = succ0 + b_viol\n",
    "succ = np.where(viol==1, succ1, succ0)\n",
    "protest2 = pd.DataFrame(data={'Repressive': rep, \n",
    "                                 'Violent': viol, \n",
    "                                 'Success': succ,\n",
    "                                'Success0':succ0,\n",
    "                                'Success1':succ1})\n",
    "protest2"
   ]
  },
  {
   "cell_type": "markdown",
   "metadata": {},
   "source": [
    "**Question 1.1. Fit and summarize a bivariate regression where `Success` is the dependent variable and ``Violent`` is the independent variable on the `protest2` data. Interpret the coefficient on `Violent`, and compare it to what we got on the `protest` data from the class example.**"
   ]
  },
  {
   "cell_type": "code",
   "execution_count": 8,
   "metadata": {},
   "outputs": [
    {
     "data": {
      "text/html": [
       "<table class=\"simpletable\">\n",
       "<caption>OLS Regression Results</caption>\n",
       "<tr>\n",
       "  <th>Dep. Variable:</th>         <td>Success</td>     <th>  R-squared:         </th> <td>   0.441</td> \n",
       "</tr>\n",
       "<tr>\n",
       "  <th>Model:</th>                   <td>OLS</td>       <th>  Adj. R-squared:    </th> <td>   0.441</td> \n",
       "</tr>\n",
       "<tr>\n",
       "  <th>Method:</th>             <td>Least Squares</td>  <th>  F-statistic:       </th> <td>   788.3</td> \n",
       "</tr>\n",
       "<tr>\n",
       "  <th>Date:</th>             <td>Wed, 25 Oct 2023</td> <th>  Prob (F-statistic):</th> <td>2.61e-128</td>\n",
       "</tr>\n",
       "<tr>\n",
       "  <th>Time:</th>                 <td>08:07:34</td>     <th>  Log-Likelihood:    </th> <td> -1296.6</td> \n",
       "</tr>\n",
       "<tr>\n",
       "  <th>No. Observations:</th>      <td>  1000</td>      <th>  AIC:               </th> <td>   2597.</td> \n",
       "</tr>\n",
       "<tr>\n",
       "  <th>Df Residuals:</th>          <td>   998</td>      <th>  BIC:               </th> <td>   2607.</td> \n",
       "</tr>\n",
       "<tr>\n",
       "  <th>Df Model:</th>              <td>     1</td>      <th>                     </th>     <td> </td>    \n",
       "</tr>\n",
       "<tr>\n",
       "  <th>Covariance Type:</th>      <td>nonrobust</td>    <th>                     </th>     <td> </td>    \n",
       "</tr>\n",
       "</table>\n",
       "<table class=\"simpletable\">\n",
       "<tr>\n",
       "      <td></td>         <th>coef</th>     <th>std err</th>      <th>t</th>      <th>P>|t|</th>  <th>[0.025</th>    <th>0.975]</th>  \n",
       "</tr>\n",
       "<tr>\n",
       "  <th>Intercept</th> <td>    0.5156</td> <td>    0.040</td> <td>   12.795</td> <td> 0.000</td> <td>    0.437</td> <td>    0.595</td>\n",
       "</tr>\n",
       "<tr>\n",
       "  <th>Violent</th>   <td>   -1.5737</td> <td>    0.056</td> <td>  -28.077</td> <td> 0.000</td> <td>   -1.684</td> <td>   -1.464</td>\n",
       "</tr>\n",
       "</table>\n",
       "<table class=\"simpletable\">\n",
       "<tr>\n",
       "  <th>Omnibus:</th>       <td> 4.043</td> <th>  Durbin-Watson:     </th> <td>   1.992</td>\n",
       "</tr>\n",
       "<tr>\n",
       "  <th>Prob(Omnibus):</th> <td> 0.132</td> <th>  Jarque-Bera (JB):  </th> <td>   3.969</td>\n",
       "</tr>\n",
       "<tr>\n",
       "  <th>Skew:</th>          <td>-0.121</td> <th>  Prob(JB):          </th> <td>   0.137</td>\n",
       "</tr>\n",
       "<tr>\n",
       "  <th>Kurtosis:</th>      <td> 3.191</td> <th>  Cond. No.          </th> <td>    2.66</td>\n",
       "</tr>\n",
       "</table><br/><br/>Notes:<br/>[1] Standard Errors assume that the covariance matrix of the errors is correctly specified."
      ],
      "text/plain": [
       "<class 'statsmodels.iolib.summary.Summary'>\n",
       "\"\"\"\n",
       "                            OLS Regression Results                            \n",
       "==============================================================================\n",
       "Dep. Variable:                Success   R-squared:                       0.441\n",
       "Model:                            OLS   Adj. R-squared:                  0.441\n",
       "Method:                 Least Squares   F-statistic:                     788.3\n",
       "Date:                Wed, 25 Oct 2023   Prob (F-statistic):          2.61e-128\n",
       "Time:                        08:07:34   Log-Likelihood:                -1296.6\n",
       "No. Observations:                1000   AIC:                             2597.\n",
       "Df Residuals:                     998   BIC:                             2607.\n",
       "Df Model:                           1                                         \n",
       "Covariance Type:            nonrobust                                         \n",
       "==============================================================================\n",
       "                 coef    std err          t      P>|t|      [0.025      0.975]\n",
       "------------------------------------------------------------------------------\n",
       "Intercept      0.5156      0.040     12.795      0.000       0.437       0.595\n",
       "Violent       -1.5737      0.056    -28.077      0.000      -1.684      -1.464\n",
       "==============================================================================\n",
       "Omnibus:                        4.043   Durbin-Watson:                   1.992\n",
       "Prob(Omnibus):                  0.132   Jarque-Bera (JB):                3.969\n",
       "Skew:                          -0.121   Prob(JB):                        0.137\n",
       "Kurtosis:                       3.191   Cond. No.                         2.66\n",
       "==============================================================================\n",
       "\n",
       "Notes:\n",
       "[1] Standard Errors assume that the covariance matrix of the errors is correctly specified.\n",
       "\"\"\""
      ]
     },
     "execution_count": 8,
     "metadata": {},
     "output_type": "execute_result"
    }
   ],
   "source": [
    "#Code for 1.1\n",
    "succ_ols = smf.ols('Success~Violent', data=protest2).fit()\n",
    "succ_ols.summary()"
   ]
  },
  {
   "cell_type": "markdown",
   "metadata": {},
   "source": [
    "The coefficient on \"violent\" is now even more negative, going from about -1 to about -1.5. So, there is a stronger negative relationship between violence and movement success in this version of the simulation."
   ]
  },
  {
   "cell_type": "markdown",
   "metadata": {},
   "source": [
    "Recall that if we want to pull the values of `Var1` for the subset of rows where `Var2=x` from a data frame `df`, the code is:\n",
    "`df.loc[df['Var2']==x, Var1]`. Think of `.loc` as a combination of what the `.where` and `.column` functions do in the Table library.\n",
    "\n",
    "For example, the following computes the difference of means in the realized success among violent vs nonviolent movements:"
   ]
  },
  {
   "cell_type": "code",
   "execution_count": 13,
   "metadata": {},
   "outputs": [
    {
     "data": {
      "text/plain": [
       "-1.5737238108308014"
      ]
     },
     "execution_count": 13,
     "metadata": {},
     "output_type": "execute_result"
    }
   ],
   "source": [
    "np.mean(protest2.loc[protest2['Violent']==1, \"Success\"]) - np.mean(protest2.loc[protest2['Violent']==0, \"Success\"])"
   ]
  },
  {
   "cell_type": "markdown",
   "metadata": {},
   "source": [
    "(Hint: compare this to what you got for 1.1!)"
   ]
  },
  {
   "cell_type": "markdown",
   "metadata": {},
   "source": [
    "**Question 1.2. Compute the difference in means of the potential outcome of success if nonviolent (`Success0`) for movements that were violent versus not. How does this relate to the \"difference of means = causal effect + selection bias\" formula? (Recall the true causal effect here is -.5, and the regression coefficient on `Violent` corresponds to a difference in means).**"
   ]
  },
  {
   "cell_type": "code",
   "execution_count": 14,
   "metadata": {},
   "outputs": [
    {
     "data": {
      "text/plain": [
       "-1.0737238108308012"
      ]
     },
     "execution_count": 14,
     "metadata": {},
     "output_type": "execute_result"
    }
   ],
   "source": [
    "# Code for 1.2\n",
    "np.mean(protest2.loc[protest2['Violent']==1, \"Success0\"]) - np.mean(protest2.loc[protest2['Violent']==0, \"Success0\"])"
   ]
  },
  {
   "cell_type": "markdown",
   "metadata": {},
   "source": [
    "This difference is the \"selection bias\" in the formula. It is also the difference between the difference of means (-1.57) and the real causal effect (-.5), as the formula indicates it shoudl be."
   ]
  },
  {
   "cell_type": "markdown",
   "metadata": {},
   "source": [
    "**Question 1.3. Fit and summarize a multivaraite regression model where `Success` is the dependent variable and `Violent` and `Repressive` are independent variables. Interpret the coefficients on both of these variables. How does the coefficient on `Violent` compare to the bivariate model from question 1.1 and the true causal effect?**"
   ]
  },
  {
   "cell_type": "code",
   "execution_count": 15,
   "metadata": {},
   "outputs": [
    {
     "data": {
      "text/html": [
       "<table class=\"simpletable\">\n",
       "<caption>OLS Regression Results</caption>\n",
       "<tr>\n",
       "  <th>Dep. Variable:</th>         <td>Success</td>     <th>  R-squared:         </th> <td>   0.934</td>\n",
       "</tr>\n",
       "<tr>\n",
       "  <th>Model:</th>                   <td>OLS</td>       <th>  Adj. R-squared:    </th> <td>   0.934</td>\n",
       "</tr>\n",
       "<tr>\n",
       "  <th>Method:</th>             <td>Least Squares</td>  <th>  F-statistic:       </th> <td>   7015.</td>\n",
       "</tr>\n",
       "<tr>\n",
       "  <th>Date:</th>             <td>Wed, 25 Oct 2023</td> <th>  Prob (F-statistic):</th>  <td>  0.00</td> \n",
       "</tr>\n",
       "<tr>\n",
       "  <th>Time:</th>                 <td>08:15:07</td>     <th>  Log-Likelihood:    </th> <td> -231.26</td>\n",
       "</tr>\n",
       "<tr>\n",
       "  <th>No. Observations:</th>      <td>  1000</td>      <th>  AIC:               </th> <td>   468.5</td>\n",
       "</tr>\n",
       "<tr>\n",
       "  <th>Df Residuals:</th>          <td>   997</td>      <th>  BIC:               </th> <td>   483.2</td>\n",
       "</tr>\n",
       "<tr>\n",
       "  <th>Df Model:</th>              <td>     2</td>      <th>                     </th>     <td> </td>   \n",
       "</tr>\n",
       "<tr>\n",
       "  <th>Covariance Type:</th>      <td>nonrobust</td>    <th>                     </th>     <td> </td>   \n",
       "</tr>\n",
       "</table>\n",
       "<table class=\"simpletable\">\n",
       "<tr>\n",
       "       <td></td>         <th>coef</th>     <th>std err</th>      <th>t</th>      <th>P>|t|</th>  <th>[0.025</th>    <th>0.975]</th>  \n",
       "</tr>\n",
       "<tr>\n",
       "  <th>Intercept</th>  <td>    0.0120</td> <td>    0.015</td> <td>    0.798</td> <td> 0.425</td> <td>   -0.018</td> <td>    0.042</td>\n",
       "</tr>\n",
       "<tr>\n",
       "  <th>Violent</th>    <td>   -0.4876</td> <td>    0.023</td> <td>  -21.120</td> <td> 0.000</td> <td>   -0.533</td> <td>   -0.442</td>\n",
       "</tr>\n",
       "<tr>\n",
       "  <th>Repressive</th> <td>   -0.9895</td> <td>    0.012</td> <td>  -86.011</td> <td> 0.000</td> <td>   -1.012</td> <td>   -0.967</td>\n",
       "</tr>\n",
       "</table>\n",
       "<table class=\"simpletable\">\n",
       "<tr>\n",
       "  <th>Omnibus:</th>       <td> 0.119</td> <th>  Durbin-Watson:     </th> <td>   2.091</td>\n",
       "</tr>\n",
       "<tr>\n",
       "  <th>Prob(Omnibus):</th> <td> 0.942</td> <th>  Jarque-Bera (JB):  </th> <td>   0.056</td>\n",
       "</tr>\n",
       "<tr>\n",
       "  <th>Skew:</th>          <td>-0.006</td> <th>  Prob(JB):          </th> <td>   0.972</td>\n",
       "</tr>\n",
       "<tr>\n",
       "  <th>Kurtosis:</th>      <td> 3.034</td> <th>  Cond. No.          </th> <td>    3.36</td>\n",
       "</tr>\n",
       "</table><br/><br/>Notes:<br/>[1] Standard Errors assume that the covariance matrix of the errors is correctly specified."
      ],
      "text/plain": [
       "<class 'statsmodels.iolib.summary.Summary'>\n",
       "\"\"\"\n",
       "                            OLS Regression Results                            \n",
       "==============================================================================\n",
       "Dep. Variable:                Success   R-squared:                       0.934\n",
       "Model:                            OLS   Adj. R-squared:                  0.934\n",
       "Method:                 Least Squares   F-statistic:                     7015.\n",
       "Date:                Wed, 25 Oct 2023   Prob (F-statistic):               0.00\n",
       "Time:                        08:15:07   Log-Likelihood:                -231.26\n",
       "No. Observations:                1000   AIC:                             468.5\n",
       "Df Residuals:                     997   BIC:                             483.2\n",
       "Df Model:                           2                                         \n",
       "Covariance Type:            nonrobust                                         \n",
       "==============================================================================\n",
       "                 coef    std err          t      P>|t|      [0.025      0.975]\n",
       "------------------------------------------------------------------------------\n",
       "Intercept      0.0120      0.015      0.798      0.425      -0.018       0.042\n",
       "Violent       -0.4876      0.023    -21.120      0.000      -0.533      -0.442\n",
       "Repressive    -0.9895      0.012    -86.011      0.000      -1.012      -0.967\n",
       "==============================================================================\n",
       "Omnibus:                        0.119   Durbin-Watson:                   2.091\n",
       "Prob(Omnibus):                  0.942   Jarque-Bera (JB):                0.056\n",
       "Skew:                          -0.006   Prob(JB):                        0.972\n",
       "Kurtosis:                       3.034   Cond. No.                         3.36\n",
       "==============================================================================\n",
       "\n",
       "Notes:\n",
       "[1] Standard Errors assume that the covariance matrix of the errors is correctly specified.\n",
       "\"\"\""
      ]
     },
     "execution_count": 15,
     "metadata": {},
     "output_type": "execute_result"
    }
   ],
   "source": [
    "# Code for 1.3\n",
    "succ_ols = smf.ols('Success~Violent + Repressive', data=protest2).fit()\n",
    "succ_ols.summary()"
   ]
  },
  {
   "cell_type": "markdown",
   "metadata": {},
   "source": [
    "Once we control for repressiveness, the coefficient on \"violent\" becomes around -0.5, which is the real causal effect. This is because we are properly accounting for the selection bias driven by the fact that movements in repressive countries tend to use violence more and be less successful."
   ]
  },
  {
   "cell_type": "markdown",
   "metadata": {},
   "source": [
    "Here is a function which does a simulation like the ones above, which takes the parameters that represent the real causal effects as arguments, and then returns the coefficient on `Violent` in the bivariate regression and the multivariate regression (controlling for `Repressive`). (We also increase the number of cities to make the simulation have less noise.) "
   ]
  },
  {
   "cell_type": "code",
   "execution_count": 20,
   "metadata": {},
   "outputs": [],
   "source": [
    "def sim_protest(b_rep, b_viol, b_rv,n_move=10000):\n",
    "    rep = np.random.normal(0,1,n_move)\n",
    "    viol = np.where(b_rv*rep + np.random.normal(0,1,n_move) > 0,1,0)\n",
    "    succ0 = b_rep*rep + np.random.normal(0,.3,n_move)\n",
    "    succ1 = succ0 + b_viol\n",
    "    succ = np.where(viol==1, succ1, succ0)\n",
    "    protest = pd.DataFrame(data={'Repressive': rep, \n",
    "                                 'Violent': viol, \n",
    "                                 'Success': succ,\n",
    "                                'Success0':succ0,\n",
    "                                'Success1':succ1})\n",
    "    mnocon = smf.ols('Success ~ Violent', data=protest).fit()\n",
    "    mcon = smf.ols('Success ~ Violent + Repressive', data=protest).fit()\n",
    "    return(\"Bivariate: \" + str(mnocon.params[1]) + \n",
    "           \", Multivariate: \"+ str(mcon.params[1]))"
   ]
  },
  {
   "cell_type": "markdown",
   "metadata": {},
   "source": [
    "Here is a simulation with our initial parameters, with no real causal effect of violence. This should give similar results (not exactly the same since there is some randomness in the data generation):"
   ]
  },
  {
   "cell_type": "code",
   "execution_count": 22,
   "metadata": {},
   "outputs": [
    {
     "data": {
      "text/plain": [
       "'Bivariate: -1.1276853528269202, Multivariate: 0.00711771778796849'"
      ]
     },
     "execution_count": 22,
     "metadata": {},
     "output_type": "execute_result"
    }
   ],
   "source": [
    "sim_protest(b_rep=-1,b_viol=0,b_rv=1)"
   ]
  },
  {
   "cell_type": "markdown",
   "metadata": {},
   "source": [
    "**Question 1.4 Use the `sim_protest` function to show that even if violence makes movements more successful, we could still observe a negative coefficient in the bivariate regression with `Success` as the dependent variable and `Violent` as the independent variable. (Hint: set `b_viol` to something positive but not too large) Compare this with the coefficient you get from the multivariate regression. What does this mean for what researchers might conclude if they aren't able to control for the confounding variable of repression?**"
   ]
  },
  {
   "cell_type": "code",
   "execution_count": 23,
   "metadata": {},
   "outputs": [
    {
     "data": {
      "text/plain": [
       "'Bivariate: -0.935627646385697, Multivariate: 0.19574637935879274'"
      ]
     },
     "execution_count": 23,
     "metadata": {},
     "output_type": "execute_result"
    }
   ],
   "source": [
    "# Code for 1.4\n",
    "sim_protest(b_rep=-1,b_viol=.2,b_rv=1)"
   ]
  },
  {
   "cell_type": "markdown",
   "metadata": {},
   "source": [
    "If the real causal effect is about .2, meaning violent movements are somewhat *more* likely to succeed, then the coefficient from the bivariate regression is around -1. So scholars might reach the wrong conclusion that violence decreases success if they take this relationship as causal. However, once we control for the level of repressiveness in the multivariate regression we get a coefficient which is close to the real causal effect. "
   ]
  },
  {
   "cell_type": "markdown",
   "metadata": {},
   "source": [
    "**Question 1.5. Now run a simulations where `b_rv = 0`, meaning repressiveness does not affect the violence choice (use whatever level of `b_viol` you like). How do the coefficients between in the bivariate and multivariate regression compare now, and why? (Hint: think about the conditions for a confounding variable to cause selection bias.)**"
   ]
  },
  {
   "cell_type": "code",
   "execution_count": 28,
   "metadata": {},
   "outputs": [
    {
     "data": {
      "text/plain": [
       "'Bivariate: 0.18059836620804862, Multivariate: 0.20438783868492746'"
      ]
     },
     "execution_count": 28,
     "metadata": {},
     "output_type": "execute_result"
    }
   ],
   "source": [
    "# Code for 1.5\n",
    "sim_protest(b_rep=-1,b_viol=.2,b_rv=0)"
   ]
  },
  {
   "cell_type": "markdown",
   "metadata": {},
   "source": [
    "Now the bivariate and multivariate coefficients are pretty similar. This is because when `b_rv=0` repressivness does not affect the choice to use violence. As a result, repressiveness is no longer a counfounding variable because it is not correlated with the treatment."
   ]
  },
  {
   "cell_type": "markdown",
   "metadata": {},
   "source": [
    "## Part 2: Voting for the ACA and 2010 Vote Share as Difference of Means/Regression\n",
    "In this part we are going to look at political implications of the <a href='https://en.wikipedia.org/wiki/Affordable_Care_Act'>Affordable Care Act</a> which was passed early in Obama's first term. This was one of the more consequential pieces of domestic legislation in decades, and the Democrats lost 63 seats in the House of Representatives in the 2010 midterms after the passing of the ACA. Let's explore if there is evidence that this was driven by votes on the bill.\n",
    "\n",
    "First, we are going to load up some data on the midterm elections in the House in 2010. The data come from <a href=\"https://journals.sagepub.com/doi/abs/10.1177/1532673X11433768\">this paper</a>, and are stored in Stata format. We can read this in using the `read_stata` function from the pandas library."
   ]
  },
  {
   "cell_type": "code",
   "execution_count": 29,
   "metadata": {},
   "outputs": [
    {
     "data": {
      "text/html": [
       "<div>\n",
       "<style scoped>\n",
       "    .dataframe tbody tr th:only-of-type {\n",
       "        vertical-align: middle;\n",
       "    }\n",
       "\n",
       "    .dataframe tbody tr th {\n",
       "        vertical-align: top;\n",
       "    }\n",
       "\n",
       "    .dataframe thead th {\n",
       "        text-align: right;\n",
       "    }\n",
       "</style>\n",
       "<table border=\"1\" class=\"dataframe\">\n",
       "  <thead>\n",
       "    <tr style=\"text-align: right;\">\n",
       "      <th></th>\n",
       "      <th>dem</th>\n",
       "      <th>rep</th>\n",
       "      <th>rpt</th>\n",
       "      <th>state</th>\n",
       "      <th>cd</th>\n",
       "      <th>party</th>\n",
       "      <th>hcr_yes</th>\n",
       "      <th>obama</th>\n",
       "      <th>dem_n</th>\n",
       "      <th>hcr_obama</th>\n",
       "    </tr>\n",
       "  </thead>\n",
       "  <tbody>\n",
       "    <tr>\n",
       "      <th>0</th>\n",
       "      <td>31%</td>\n",
       "      <td>69%</td>\n",
       "      <td>100%</td>\n",
       "      <td>AK</td>\n",
       "      <td>1</td>\n",
       "      <td>R</td>\n",
       "      <td>0</td>\n",
       "      <td>38</td>\n",
       "      <td>31.0</td>\n",
       "      <td>0.0</td>\n",
       "    </tr>\n",
       "    <tr>\n",
       "      <th>1</th>\n",
       "      <td></td>\n",
       "      <td>83%</td>\n",
       "      <td>100%</td>\n",
       "      <td>AL</td>\n",
       "      <td>1</td>\n",
       "      <td>R</td>\n",
       "      <td>0</td>\n",
       "      <td>39</td>\n",
       "      <td>NaN</td>\n",
       "      <td>0.0</td>\n",
       "    </tr>\n",
       "    <tr>\n",
       "      <th>2</th>\n",
       "      <td>49%</td>\n",
       "      <td>51%</td>\n",
       "      <td>100%</td>\n",
       "      <td>AL</td>\n",
       "      <td>2</td>\n",
       "      <td>D</td>\n",
       "      <td>0</td>\n",
       "      <td>36</td>\n",
       "      <td>49.0</td>\n",
       "      <td>0.0</td>\n",
       "    </tr>\n",
       "    <tr>\n",
       "      <th>3</th>\n",
       "      <td>41%</td>\n",
       "      <td>59%</td>\n",
       "      <td>100%</td>\n",
       "      <td>AL</td>\n",
       "      <td>3</td>\n",
       "      <td>R</td>\n",
       "      <td>0</td>\n",
       "      <td>43</td>\n",
       "      <td>41.0</td>\n",
       "      <td>0.0</td>\n",
       "    </tr>\n",
       "    <tr>\n",
       "      <th>4</th>\n",
       "      <td></td>\n",
       "      <td>Unc.</td>\n",
       "      <td></td>\n",
       "      <td>AL</td>\n",
       "      <td>4</td>\n",
       "      <td>R</td>\n",
       "      <td>0</td>\n",
       "      <td>23</td>\n",
       "      <td>NaN</td>\n",
       "      <td>0.0</td>\n",
       "    </tr>\n",
       "    <tr>\n",
       "      <th>...</th>\n",
       "      <td>...</td>\n",
       "      <td>...</td>\n",
       "      <td>...</td>\n",
       "      <td>...</td>\n",
       "      <td>...</td>\n",
       "      <td>...</td>\n",
       "      <td>...</td>\n",
       "      <td>...</td>\n",
       "      <td>...</td>\n",
       "      <td>...</td>\n",
       "    </tr>\n",
       "    <tr>\n",
       "      <th>429</th>\n",
       "      <td>45%</td>\n",
       "      <td>55%</td>\n",
       "      <td>99%</td>\n",
       "      <td>WI</td>\n",
       "      <td>8</td>\n",
       "      <td>D</td>\n",
       "      <td>1</td>\n",
       "      <td>54</td>\n",
       "      <td>45.0</td>\n",
       "      <td>54.0</td>\n",
       "    </tr>\n",
       "    <tr>\n",
       "      <th>430</th>\n",
       "      <td>50%</td>\n",
       "      <td>50%</td>\n",
       "      <td>100%</td>\n",
       "      <td>WV</td>\n",
       "      <td>1</td>\n",
       "      <td>D</td>\n",
       "      <td>1</td>\n",
       "      <td>42</td>\n",
       "      <td>50.0</td>\n",
       "      <td>42.0</td>\n",
       "    </tr>\n",
       "    <tr>\n",
       "      <th>431</th>\n",
       "      <td>30%</td>\n",
       "      <td>68%</td>\n",
       "      <td>100%</td>\n",
       "      <td>WV</td>\n",
       "      <td>2</td>\n",
       "      <td>R</td>\n",
       "      <td>0</td>\n",
       "      <td>44</td>\n",
       "      <td>30.0</td>\n",
       "      <td>0.0</td>\n",
       "    </tr>\n",
       "    <tr>\n",
       "      <th>432</th>\n",
       "      <td>55%</td>\n",
       "      <td>45%</td>\n",
       "      <td>100%</td>\n",
       "      <td>WV</td>\n",
       "      <td>3</td>\n",
       "      <td>D</td>\n",
       "      <td>1</td>\n",
       "      <td>42</td>\n",
       "      <td>55.0</td>\n",
       "      <td>42.0</td>\n",
       "    </tr>\n",
       "    <tr>\n",
       "      <th>433</th>\n",
       "      <td>25%</td>\n",
       "      <td>71%</td>\n",
       "      <td>100</td>\n",
       "      <td>WY</td>\n",
       "      <td>1</td>\n",
       "      <td>R</td>\n",
       "      <td>0</td>\n",
       "      <td>33</td>\n",
       "      <td>25.0</td>\n",
       "      <td>0.0</td>\n",
       "    </tr>\n",
       "  </tbody>\n",
       "</table>\n",
       "<p>434 rows × 10 columns</p>\n",
       "</div>"
      ],
      "text/plain": [
       "     dem   rep   rpt state  cd party  hcr_yes  obama  dem_n  hcr_obama\n",
       "0    31%   69%  100%    AK   1     R        0     38   31.0        0.0\n",
       "1          83%  100%    AL   1     R        0     39    NaN        0.0\n",
       "2    49%   51%  100%    AL   2     D        0     36   49.0        0.0\n",
       "3    41%   59%  100%    AL   3     R        0     43   41.0        0.0\n",
       "4         Unc.          AL   4     R        0     23    NaN        0.0\n",
       "..   ...   ...   ...   ...  ..   ...      ...    ...    ...        ...\n",
       "429  45%   55%   99%    WI   8     D        1     54   45.0       54.0\n",
       "430  50%   50%  100%    WV   1     D        1     42   50.0       42.0\n",
       "431  30%   68%  100%    WV   2     R        0     44   30.0        0.0\n",
       "432  55%   45%  100%    WV   3     D        1     42   55.0       42.0\n",
       "433  25%   71%   100    WY   1     R        0     33   25.0        0.0\n",
       "\n",
       "[434 rows x 10 columns]"
      ]
     },
     "execution_count": 29,
     "metadata": {},
     "output_type": "execute_result"
    }
   ],
   "source": [
    "hcr_mid = pd.read_stata(\"hcr_midterm.dta\")\n",
    "hcr_mid"
   ]
  },
  {
   "cell_type": "markdown",
   "metadata": {},
   "source": [
    "How someone voted on the ACA is stored in the variable `hcr_yes`, and whether they are a Republican or Democrat is in `party`. We can look at the relationship between these two with the `crosstab` function in pandas, which is like a pivot table."
   ]
  },
  {
   "cell_type": "code",
   "execution_count": 30,
   "metadata": {},
   "outputs": [
    {
     "data": {
      "text/html": [
       "<div>\n",
       "<style scoped>\n",
       "    .dataframe tbody tr th:only-of-type {\n",
       "        vertical-align: middle;\n",
       "    }\n",
       "\n",
       "    .dataframe tbody tr th {\n",
       "        vertical-align: top;\n",
       "    }\n",
       "\n",
       "    .dataframe thead th {\n",
       "        text-align: right;\n",
       "    }\n",
       "</style>\n",
       "<table border=\"1\" class=\"dataframe\">\n",
       "  <thead>\n",
       "    <tr style=\"text-align: right;\">\n",
       "      <th>party</th>\n",
       "      <th>D</th>\n",
       "      <th>R</th>\n",
       "    </tr>\n",
       "    <tr>\n",
       "      <th>hcr_yes</th>\n",
       "      <th></th>\n",
       "      <th></th>\n",
       "    </tr>\n",
       "  </thead>\n",
       "  <tbody>\n",
       "    <tr>\n",
       "      <th>0</th>\n",
       "      <td>39</td>\n",
       "      <td>176</td>\n",
       "    </tr>\n",
       "    <tr>\n",
       "      <th>1</th>\n",
       "      <td>218</td>\n",
       "      <td>1</td>\n",
       "    </tr>\n",
       "  </tbody>\n",
       "</table>\n",
       "</div>"
      ],
      "text/plain": [
       "party      D    R\n",
       "hcr_yes          \n",
       "0         39  176\n",
       "1        218    1"
      ]
     },
     "execution_count": 30,
     "metadata": {},
     "output_type": "execute_result"
    }
   ],
   "source": [
    "pd.crosstab(hcr_mid[\"hcr_yes\"], hcr_mid[\"party\"])"
   ]
  },
  {
   "cell_type": "markdown",
   "metadata": {},
   "source": [
    "This tells us that only <a href=\"https://en.wikipedia.org/wiki/Joseph_Cao\">one Republican</a> voted for the bill, and 39 democrats voted against it. The main comparison we want to make is whether the Democrats who voted for the bill did better or worse in the 2010 midterms than those who voted against it.\n",
    "\n",
    "To do this, let's first subset the data to districts with democratic incumbents who ran in competitive elections (i.e., with an opponent). To do this, we get a subset of the data where two conditions are met: `hcr_mid[\"dem_n\"] > 0` means the election was competitive (uncontested seats with only one candidate get coded as a zero in the data file) and `hcr_mid[\"party\"]==\"D\")` ensures they are democrats. We use the `&` to ensure both are true."
   ]
  },
  {
   "cell_type": "code",
   "execution_count": 31,
   "metadata": {},
   "outputs": [
    {
     "data": {
      "text/html": [
       "<div>\n",
       "<style scoped>\n",
       "    .dataframe tbody tr th:only-of-type {\n",
       "        vertical-align: middle;\n",
       "    }\n",
       "\n",
       "    .dataframe tbody tr th {\n",
       "        vertical-align: top;\n",
       "    }\n",
       "\n",
       "    .dataframe thead th {\n",
       "        text-align: right;\n",
       "    }\n",
       "</style>\n",
       "<table border=\"1\" class=\"dataframe\">\n",
       "  <thead>\n",
       "    <tr style=\"text-align: right;\">\n",
       "      <th></th>\n",
       "      <th>dem</th>\n",
       "      <th>rep</th>\n",
       "      <th>rpt</th>\n",
       "      <th>state</th>\n",
       "      <th>cd</th>\n",
       "      <th>party</th>\n",
       "      <th>hcr_yes</th>\n",
       "      <th>obama</th>\n",
       "      <th>dem_n</th>\n",
       "      <th>hcr_obama</th>\n",
       "    </tr>\n",
       "  </thead>\n",
       "  <tbody>\n",
       "    <tr>\n",
       "      <th>2</th>\n",
       "      <td>49%</td>\n",
       "      <td>51%</td>\n",
       "      <td>100%</td>\n",
       "      <td>AL</td>\n",
       "      <td>2</td>\n",
       "      <td>D</td>\n",
       "      <td>0</td>\n",
       "      <td>36</td>\n",
       "      <td>49.0</td>\n",
       "      <td>0.0</td>\n",
       "    </tr>\n",
       "    <tr>\n",
       "      <th>5</th>\n",
       "      <td>42%</td>\n",
       "      <td>58%</td>\n",
       "      <td>100%</td>\n",
       "      <td>AL</td>\n",
       "      <td>5</td>\n",
       "      <td>D</td>\n",
       "      <td>0</td>\n",
       "      <td>38</td>\n",
       "      <td>42.0</td>\n",
       "      <td>0.0</td>\n",
       "    </tr>\n",
       "    <tr>\n",
       "      <th>7</th>\n",
       "      <td>72%</td>\n",
       "      <td>28%</td>\n",
       "      <td>99%</td>\n",
       "      <td>AL</td>\n",
       "      <td>7</td>\n",
       "      <td>D</td>\n",
       "      <td>0</td>\n",
       "      <td>72</td>\n",
       "      <td>72.0</td>\n",
       "      <td>0.0</td>\n",
       "    </tr>\n",
       "    <tr>\n",
       "      <th>8</th>\n",
       "      <td>43%</td>\n",
       "      <td>52%</td>\n",
       "      <td>99%</td>\n",
       "      <td>AR</td>\n",
       "      <td>1</td>\n",
       "      <td>D</td>\n",
       "      <td>1</td>\n",
       "      <td>38</td>\n",
       "      <td>43.0</td>\n",
       "      <td>38.0</td>\n",
       "    </tr>\n",
       "    <tr>\n",
       "      <th>9</th>\n",
       "      <td>38%</td>\n",
       "      <td>58%</td>\n",
       "      <td>99%</td>\n",
       "      <td>AR</td>\n",
       "      <td>2</td>\n",
       "      <td>D</td>\n",
       "      <td>1</td>\n",
       "      <td>44</td>\n",
       "      <td>38.0</td>\n",
       "      <td>44.0</td>\n",
       "    </tr>\n",
       "    <tr>\n",
       "      <th>...</th>\n",
       "      <td>...</td>\n",
       "      <td>...</td>\n",
       "      <td>...</td>\n",
       "      <td>...</td>\n",
       "      <td>...</td>\n",
       "      <td>...</td>\n",
       "      <td>...</td>\n",
       "      <td>...</td>\n",
       "      <td>...</td>\n",
       "      <td>...</td>\n",
       "    </tr>\n",
       "    <tr>\n",
       "      <th>425</th>\n",
       "      <td>69%</td>\n",
       "      <td>30%</td>\n",
       "      <td>100%</td>\n",
       "      <td>WI</td>\n",
       "      <td>4</td>\n",
       "      <td>D</td>\n",
       "      <td>1</td>\n",
       "      <td>75</td>\n",
       "      <td>69.0</td>\n",
       "      <td>75.0</td>\n",
       "    </tr>\n",
       "    <tr>\n",
       "      <th>428</th>\n",
       "      <td>44%</td>\n",
       "      <td>52%</td>\n",
       "      <td>100%</td>\n",
       "      <td>WI</td>\n",
       "      <td>7</td>\n",
       "      <td>D</td>\n",
       "      <td>1</td>\n",
       "      <td>56</td>\n",
       "      <td>44.0</td>\n",
       "      <td>56.0</td>\n",
       "    </tr>\n",
       "    <tr>\n",
       "      <th>429</th>\n",
       "      <td>45%</td>\n",
       "      <td>55%</td>\n",
       "      <td>99%</td>\n",
       "      <td>WI</td>\n",
       "      <td>8</td>\n",
       "      <td>D</td>\n",
       "      <td>1</td>\n",
       "      <td>54</td>\n",
       "      <td>45.0</td>\n",
       "      <td>54.0</td>\n",
       "    </tr>\n",
       "    <tr>\n",
       "      <th>430</th>\n",
       "      <td>50%</td>\n",
       "      <td>50%</td>\n",
       "      <td>100%</td>\n",
       "      <td>WV</td>\n",
       "      <td>1</td>\n",
       "      <td>D</td>\n",
       "      <td>1</td>\n",
       "      <td>42</td>\n",
       "      <td>50.0</td>\n",
       "      <td>42.0</td>\n",
       "    </tr>\n",
       "    <tr>\n",
       "      <th>432</th>\n",
       "      <td>55%</td>\n",
       "      <td>45%</td>\n",
       "      <td>100%</td>\n",
       "      <td>WV</td>\n",
       "      <td>3</td>\n",
       "      <td>D</td>\n",
       "      <td>1</td>\n",
       "      <td>42</td>\n",
       "      <td>55.0</td>\n",
       "      <td>42.0</td>\n",
       "    </tr>\n",
       "  </tbody>\n",
       "</table>\n",
       "<p>255 rows × 10 columns</p>\n",
       "</div>"
      ],
      "text/plain": [
       "     dem  rep   rpt state  cd party  hcr_yes  obama  dem_n  hcr_obama\n",
       "2    49%  51%  100%    AL   2     D        0     36   49.0        0.0\n",
       "5    42%  58%  100%    AL   5     D        0     38   42.0        0.0\n",
       "7    72%  28%   99%    AL   7     D        0     72   72.0        0.0\n",
       "8    43%  52%   99%    AR   1     D        1     38   43.0       38.0\n",
       "9    38%  58%   99%    AR   2     D        1     44   38.0       44.0\n",
       "..   ...  ...   ...   ...  ..   ...      ...    ...    ...        ...\n",
       "425  69%  30%  100%    WI   4     D        1     75   69.0       75.0\n",
       "428  44%  52%  100%    WI   7     D        1     56   44.0       56.0\n",
       "429  45%  55%   99%    WI   8     D        1     54   45.0       54.0\n",
       "430  50%  50%  100%    WV   1     D        1     42   50.0       42.0\n",
       "432  55%  45%  100%    WV   3     D        1     42   55.0       42.0\n",
       "\n",
       "[255 rows x 10 columns]"
      ]
     },
     "execution_count": 31,
     "metadata": {},
     "output_type": "execute_result"
    }
   ],
   "source": [
    "hcr_mid = hcr_mid[(hcr_mid[\"dem_n\"] > 0) & (hcr_mid[\"party\"]==\"D\")]\n",
    "hcr_mid"
   ]
  },
  {
   "cell_type": "markdown",
   "metadata": {},
   "source": [
    "The `dem_n` variable is the democratic candidate vote share in the 2010 midterms. Let's look at the distribution:"
   ]
  },
  {
   "cell_type": "code",
   "execution_count": 32,
   "metadata": {},
   "outputs": [
    {
     "data": {
      "text/plain": [
       "58.16470718383789"
      ]
     },
     "execution_count": 32,
     "metadata": {},
     "output_type": "execute_result"
    }
   ],
   "source": [
    "np.mean(hcr_mid[\"dem_n\"])"
   ]
  },
  {
   "cell_type": "code",
   "execution_count": 33,
   "metadata": {},
   "outputs": [
    {
     "data": {
      "text/plain": [
       "<matplotlib.lines.Line2D at 0x7f90e0056d60>"
      ]
     },
     "execution_count": 33,
     "metadata": {},
     "output_type": "execute_result"
    },
    {
     "data": {
      "image/png": "[encoded data removed]",
      "text/plain": [
       "<Figure size 360x360 with 1 Axes>"
      ]
     },
     "metadata": {
      "needs_background": "light"
     },
     "output_type": "display_data"
    }
   ],
   "source": [
    "sns.displot(hcr_mid[\"dem_n\"])\n",
    "plt.axvline(50)"
   ]
  },
  {
   "cell_type": "markdown",
   "metadata": {},
   "source": [
    "The average D running for re-election recieved almost 60% of the vote, but quite a few got less than 50% of the vote and so were not re-elected.\n",
    "\n",
    "Now let's compare the performance of those who voted for and against the bill. First, let's create separate data frames for the Y and N voters. (Note: we could also keep them together and use the `.loc` function like above when computing means, but it's always good to see multiple ways to do the same thing!)"
   ]
  },
  {
   "cell_type": "code",
   "execution_count": 34,
   "metadata": {},
   "outputs": [],
   "source": [
    "hcr_mid_yea = hcr_mid[hcr_mid[\"hcr_yes\"] == 1]\n",
    "hcr_mid_nay = hcr_mid[hcr_mid[\"hcr_yes\"] == 0]"
   ]
  },
  {
   "cell_type": "markdown",
   "metadata": {},
   "source": [
    "And take the average vote shares among these two groups."
   ]
  },
  {
   "cell_type": "code",
   "execution_count": 35,
   "metadata": {},
   "outputs": [
    {
     "data": {
      "text/plain": [
       "60.203704833984375"
      ]
     },
     "execution_count": 35,
     "metadata": {},
     "output_type": "execute_result"
    }
   ],
   "source": [
    "mean_yea = np.mean(hcr_mid_yea[\"dem_n\"])\n",
    "mean_yea"
   ]
  },
  {
   "cell_type": "code",
   "execution_count": 36,
   "metadata": {},
   "outputs": [
    {
     "data": {
      "text/plain": [
       "46.871795654296875"
      ]
     },
     "execution_count": 36,
     "metadata": {},
     "output_type": "execute_result"
    }
   ],
   "source": [
    "mean_nay = np.mean(hcr_mid_nay[\"dem_n\"])\n",
    "mean_nay"
   ]
  },
  {
   "cell_type": "markdown",
   "metadata": {},
   "source": [
    "Here is the raw difference of means:"
   ]
  },
  {
   "cell_type": "code",
   "execution_count": 37,
   "metadata": {},
   "outputs": [
    {
     "data": {
      "text/plain": [
       "13.3319091796875"
      ]
     },
     "execution_count": 37,
     "metadata": {},
     "output_type": "execute_result"
    }
   ],
   "source": [
    "dom = mean_yea - mean_nay\n",
    "dom"
   ]
  },
  {
   "cell_type": "markdown",
   "metadata": {},
   "source": [
    "**Question 2.1 Use `smf.ols` to run a bivariate regression with `dem_n` as the dependent variable and `hcr_yes` as the independent variable. Save the fitted model as `ols_model`, and then use `.summary()` to get the output. (Hint: see the code between questions 1.1 and 1.2 for an example of what this should look like.) Compare this with the means/difference of means above.**"
   ]
  },
  {
   "cell_type": "code",
   "execution_count": 38,
   "metadata": {},
   "outputs": [
    {
     "data": {
      "text/html": [
       "<table class=\"simpletable\">\n",
       "<caption>OLS Regression Results</caption>\n",
       "<tr>\n",
       "  <th>Dep. Variable:</th>          <td>dem_n</td>      <th>  R-squared:         </th> <td>   0.139</td>\n",
       "</tr>\n",
       "<tr>\n",
       "  <th>Model:</th>                   <td>OLS</td>       <th>  Adj. R-squared:    </th> <td>   0.136</td>\n",
       "</tr>\n",
       "<tr>\n",
       "  <th>Method:</th>             <td>Least Squares</td>  <th>  F-statistic:       </th> <td>   40.99</td>\n",
       "</tr>\n",
       "<tr>\n",
       "  <th>Date:</th>             <td>Wed, 25 Oct 2023</td> <th>  Prob (F-statistic):</th> <td>7.39e-10</td>\n",
       "</tr>\n",
       "<tr>\n",
       "  <th>Time:</th>                 <td>08:25:12</td>     <th>  Log-Likelihood:    </th> <td> -993.81</td>\n",
       "</tr>\n",
       "<tr>\n",
       "  <th>No. Observations:</th>      <td>   255</td>      <th>  AIC:               </th> <td>   1992.</td>\n",
       "</tr>\n",
       "<tr>\n",
       "  <th>Df Residuals:</th>          <td>   253</td>      <th>  BIC:               </th> <td>   1999.</td>\n",
       "</tr>\n",
       "<tr>\n",
       "  <th>Df Model:</th>              <td>     1</td>      <th>                     </th>     <td> </td>   \n",
       "</tr>\n",
       "<tr>\n",
       "  <th>Covariance Type:</th>      <td>nonrobust</td>    <th>                     </th>     <td> </td>   \n",
       "</tr>\n",
       "</table>\n",
       "<table class=\"simpletable\">\n",
       "<tr>\n",
       "      <td></td>         <th>coef</th>     <th>std err</th>      <th>t</th>      <th>P>|t|</th>  <th>[0.025</th>    <th>0.975]</th>  \n",
       "</tr>\n",
       "<tr>\n",
       "  <th>Intercept</th> <td>   46.8718</td> <td>    1.917</td> <td>   24.456</td> <td> 0.000</td> <td>   43.097</td> <td>   50.646</td>\n",
       "</tr>\n",
       "<tr>\n",
       "  <th>hcr_yes</th>   <td>   13.3319</td> <td>    2.082</td> <td>    6.402</td> <td> 0.000</td> <td>    9.231</td> <td>   17.433</td>\n",
       "</tr>\n",
       "</table>\n",
       "<table class=\"simpletable\">\n",
       "<tr>\n",
       "  <th>Omnibus:</th>       <td>10.265</td> <th>  Durbin-Watson:     </th> <td>   1.412</td>\n",
       "</tr>\n",
       "<tr>\n",
       "  <th>Prob(Omnibus):</th> <td> 0.006</td> <th>  Jarque-Bera (JB):  </th> <td>  10.898</td>\n",
       "</tr>\n",
       "<tr>\n",
       "  <th>Skew:</th>          <td> 0.498</td> <th>  Prob(JB):          </th> <td> 0.00430</td>\n",
       "</tr>\n",
       "<tr>\n",
       "  <th>Kurtosis:</th>      <td> 2.817</td> <th>  Cond. No.          </th> <td>    4.93</td>\n",
       "</tr>\n",
       "</table><br/><br/>Notes:<br/>[1] Standard Errors assume that the covariance matrix of the errors is correctly specified."
      ],
      "text/plain": [
       "<class 'statsmodels.iolib.summary.Summary'>\n",
       "\"\"\"\n",
       "                            OLS Regression Results                            \n",
       "==============================================================================\n",
       "Dep. Variable:                  dem_n   R-squared:                       0.139\n",
       "Model:                            OLS   Adj. R-squared:                  0.136\n",
       "Method:                 Least Squares   F-statistic:                     40.99\n",
       "Date:                Wed, 25 Oct 2023   Prob (F-statistic):           7.39e-10\n",
       "Time:                        08:25:12   Log-Likelihood:                -993.81\n",
       "No. Observations:                 255   AIC:                             1992.\n",
       "Df Residuals:                     253   BIC:                             1999.\n",
       "Df Model:                           1                                         \n",
       "Covariance Type:            nonrobust                                         \n",
       "==============================================================================\n",
       "                 coef    std err          t      P>|t|      [0.025      0.975]\n",
       "------------------------------------------------------------------------------\n",
       "Intercept     46.8718      1.917     24.456      0.000      43.097      50.646\n",
       "hcr_yes       13.3319      2.082      6.402      0.000       9.231      17.433\n",
       "==============================================================================\n",
       "Omnibus:                       10.265   Durbin-Watson:                   1.412\n",
       "Prob(Omnibus):                  0.006   Jarque-Bera (JB):               10.898\n",
       "Skew:                           0.498   Prob(JB):                      0.00430\n",
       "Kurtosis:                       2.817   Cond. No.                         4.93\n",
       "==============================================================================\n",
       "\n",
       "Notes:\n",
       "[1] Standard Errors assume that the covariance matrix of the errors is correctly specified.\n",
       "\"\"\""
      ]
     },
     "execution_count": 38,
     "metadata": {},
     "output_type": "execute_result"
    }
   ],
   "source": [
    "# Code for 2.1\n",
    "m1 = smf.ols(\"dem_n ~ hcr_yes\", data=hcr_mid).fit()\n",
    "m1.summary()"
   ]
  },
  {
   "cell_type": "markdown",
   "metadata": {},
   "source": [
    "The coefficient correspond to the difference of means, meaning those who voted yes did about 13% better in their elections than those wh ovoted no."
   ]
  },
  {
   "cell_type": "markdown",
   "metadata": {},
   "source": [
    "Now let's think about some reasons why this relationship might not be causal. A major confounding variable is that those who voted for the bill likely represent more liberal districts, making their re-election easier. To check this, we will look also bring Obama's 2008 vote share into our analysis.\n",
    "\n",
    "First, let's look at the relationship between Obama's 2008 vote share and the House members 2010 vote share."
   ]
  },
  {
   "cell_type": "code",
   "execution_count": 39,
   "metadata": {
    "scrolled": true
   },
   "outputs": [
    {
     "data": {
      "text/plain": [
       "<AxesSubplot:xlabel='obama', ylabel='dem_n'>"
      ]
     },
     "execution_count": 39,
     "metadata": {},
     "output_type": "execute_result"
    },
    {
     "data": {
      "image/png": "[encoded data removed]",
      "text/plain": [
       "<Figure size 432x288 with 1 Axes>"
      ]
     },
     "metadata": {
      "needs_background": "light"
     },
     "output_type": "display_data"
    }
   ],
   "source": [
    "sns.scatterplot(x='obama', y='dem_n', data=hcr_mid)"
   ]
  },
  {
   "cell_type": "markdown",
   "metadata": {},
   "source": [
    "As we can see, there is a strong positive relationship. This shouldn't surprise us: most people vote for the same party consistently, and so districts where Obama did well also tended to vote more for Democratic candidate in the 2010 midterm.\n",
    "\n"
   ]
  },
  {
   "cell_type": "markdown",
   "metadata": {},
   "source": [
    "Let's look at the relationship between Obama vote share and voting for the ACA."
   ]
  },
  {
   "cell_type": "code",
   "execution_count": 40,
   "metadata": {},
   "outputs": [
    {
     "data": {
      "text/plain": [
       "<AxesSubplot:xlabel='obama', ylabel='hcr_yes'>"
      ]
     },
     "execution_count": 40,
     "metadata": {},
     "output_type": "execute_result"
    },
    {
     "data": {
      "image/png": "[encoded data removed]",
      "text/plain": [
       "<Figure size 432x288 with 1 Axes>"
      ]
     },
     "metadata": {
      "needs_background": "light"
     },
     "output_type": "display_data"
    }
   ],
   "source": [
    "sns.scatterplot(x='obama', y='hcr_yes', data=hcr_mid)"
   ]
  },
  {
   "cell_type": "markdown",
   "metadata": {},
   "source": [
    "As with some of our simulated data, this looks a little goofy because the hcr_yes variable just takes on value of 0 or 1. We can still run a \"linear probability model\" with Obama vote share as the independent ($X$) variable and the vote as the dependent ($Y$) variable.\n",
    "\n",
    "**Question 2.2. Use `smf.ols` to run a linear probability model with Obama vote share as the independent variable and whether the member of congress voted for the ACA as the dependent variable, save the fitted model as `vote_model`, then use the `.summary()` function to see the output. Interpret the slope on the `obama` variable.**"
   ]
  },
  {
   "cell_type": "code",
   "execution_count": 43,
   "metadata": {},
   "outputs": [
    {
     "data": {
      "text/html": [
       "<table class=\"simpletable\">\n",
       "<caption>OLS Regression Results</caption>\n",
       "<tr>\n",
       "  <th>Dep. Variable:</th>         <td>hcr_yes</td>     <th>  R-squared:         </th> <td>   0.280</td>\n",
       "</tr>\n",
       "<tr>\n",
       "  <th>Model:</th>                   <td>OLS</td>       <th>  Adj. R-squared:    </th> <td>   0.278</td>\n",
       "</tr>\n",
       "<tr>\n",
       "  <th>Method:</th>             <td>Least Squares</td>  <th>  F-statistic:       </th> <td>   98.62</td>\n",
       "</tr>\n",
       "<tr>\n",
       "  <th>Date:</th>             <td>Wed, 25 Oct 2023</td> <th>  Prob (F-statistic):</th> <td>7.74e-20</td>\n",
       "</tr>\n",
       "<tr>\n",
       "  <th>Time:</th>                 <td>08:27:45</td>     <th>  Log-Likelihood:    </th> <td> -59.292</td>\n",
       "</tr>\n",
       "<tr>\n",
       "  <th>No. Observations:</th>      <td>   255</td>      <th>  AIC:               </th> <td>   122.6</td>\n",
       "</tr>\n",
       "<tr>\n",
       "  <th>Df Residuals:</th>          <td>   253</td>      <th>  BIC:               </th> <td>   129.7</td>\n",
       "</tr>\n",
       "<tr>\n",
       "  <th>Df Model:</th>              <td>     1</td>      <th>                     </th>     <td> </td>   \n",
       "</tr>\n",
       "<tr>\n",
       "  <th>Covariance Type:</th>      <td>nonrobust</td>    <th>                     </th>     <td> </td>   \n",
       "</tr>\n",
       "</table>\n",
       "<table class=\"simpletable\">\n",
       "<tr>\n",
       "      <td></td>         <th>coef</th>     <th>std err</th>      <th>t</th>      <th>P>|t|</th>  <th>[0.025</th>    <th>0.975]</th>  \n",
       "</tr>\n",
       "<tr>\n",
       "  <th>Intercept</th> <td>   -0.0280</td> <td>    0.090</td> <td>   -0.310</td> <td> 0.757</td> <td>   -0.206</td> <td>    0.150</td>\n",
       "</tr>\n",
       "<tr>\n",
       "  <th>obama</th>     <td>    0.0143</td> <td>    0.001</td> <td>    9.931</td> <td> 0.000</td> <td>    0.011</td> <td>    0.017</td>\n",
       "</tr>\n",
       "</table>\n",
       "<table class=\"simpletable\">\n",
       "<tr>\n",
       "  <th>Omnibus:</th>       <td>39.245</td> <th>  Durbin-Watson:     </th> <td>   1.756</td>\n",
       "</tr>\n",
       "<tr>\n",
       "  <th>Prob(Omnibus):</th> <td> 0.000</td> <th>  Jarque-Bera (JB):  </th> <td>  53.175</td>\n",
       "</tr>\n",
       "<tr>\n",
       "  <th>Skew:</th>          <td>-1.106</td> <th>  Prob(JB):          </th> <td>2.84e-12</td>\n",
       "</tr>\n",
       "<tr>\n",
       "  <th>Kurtosis:</th>      <td> 3.334</td> <th>  Cond. No.          </th> <td>    294.</td>\n",
       "</tr>\n",
       "</table><br/><br/>Notes:<br/>[1] Standard Errors assume that the covariance matrix of the errors is correctly specified."
      ],
      "text/plain": [
       "<class 'statsmodels.iolib.summary.Summary'>\n",
       "\"\"\"\n",
       "                            OLS Regression Results                            \n",
       "==============================================================================\n",
       "Dep. Variable:                hcr_yes   R-squared:                       0.280\n",
       "Model:                            OLS   Adj. R-squared:                  0.278\n",
       "Method:                 Least Squares   F-statistic:                     98.62\n",
       "Date:                Wed, 25 Oct 2023   Prob (F-statistic):           7.74e-20\n",
       "Time:                        08:27:45   Log-Likelihood:                -59.292\n",
       "No. Observations:                 255   AIC:                             122.6\n",
       "Df Residuals:                     253   BIC:                             129.7\n",
       "Df Model:                           1                                         \n",
       "Covariance Type:            nonrobust                                         \n",
       "==============================================================================\n",
       "                 coef    std err          t      P>|t|      [0.025      0.975]\n",
       "------------------------------------------------------------------------------\n",
       "Intercept     -0.0280      0.090     -0.310      0.757      -0.206       0.150\n",
       "obama          0.0143      0.001      9.931      0.000       0.011       0.017\n",
       "==============================================================================\n",
       "Omnibus:                       39.245   Durbin-Watson:                   1.756\n",
       "Prob(Omnibus):                  0.000   Jarque-Bera (JB):               53.175\n",
       "Skew:                          -1.106   Prob(JB):                     2.84e-12\n",
       "Kurtosis:                       3.334   Cond. No.                         294.\n",
       "==============================================================================\n",
       "\n",
       "Notes:\n",
       "[1] Standard Errors assume that the covariance matrix of the errors is correctly specified.\n",
       "\"\"\""
      ]
     },
     "execution_count": 43,
     "metadata": {},
     "output_type": "execute_result"
    }
   ],
   "source": [
    "#Code for 2.2\n",
    "vote_model = smf.ols(\"hcr_yes ~ obama\", data=hcr_mid).fit()\n",
    "vote_model.summary()"
   ]
  },
  {
   "cell_type": "markdown",
   "metadata": {},
   "source": [
    "Since the DV here is binary, we can interpret the slope as meaning \"as Obama vote share goes up by 1%, the probability of voting for the ACA increases by 1.4%. So there is a positive relationship here.\n",
    "\n"
   ]
  },
  {
   "cell_type": "markdown",
   "metadata": {},
   "source": [
    "We can plot this prediction (note: this assumes you saved the `smf.ols` output as `vote_model`!"
   ]
  },
  {
   "cell_type": "code",
   "execution_count": 46,
   "metadata": {},
   "outputs": [
    {
     "data": {
      "text/plain": [
       "[<matplotlib.lines.Line2D at 0x7f91009e2b50>]"
      ]
     },
     "execution_count": 46,
     "metadata": {},
     "output_type": "execute_result"
    },
    {
     "data": {
      "image/png": "[encoded data removed]",
      "text/plain": [
       "<Figure size 432x288 with 1 Axes>"
      ]
     },
     "metadata": {
      "needs_background": "light"
     },
     "output_type": "display_data"
    }
   ],
   "source": [
    "sns.scatterplot(x='obama', y='hcr_yes', data=hcr_mid)\n",
    "xrange = np.arange(30, 100)\n",
    "plt.plot(xrange, vote_model.params[0] + xrange*vote_model.params[1])"
   ]
  },
  {
   "cell_type": "markdown",
   "metadata": {},
   "source": [
    "Now visualize the three variable together, but doing a scatter plot of Obama vote share and 2010 Democratic vote share, with green dots for those who voted Y and orange dots for those who voted N."
   ]
  },
  {
   "cell_type": "code",
   "execution_count": 48,
   "metadata": {},
   "outputs": [
    {
     "data": {
      "text/plain": [
       "<AxesSubplot:xlabel='obama', ylabel='dem_n'>"
      ]
     },
     "execution_count": 48,
     "metadata": {},
     "output_type": "execute_result"
    },
    {
     "data": {
      "image/png": "[encoded data removed]",
      "text/plain": [
       "<Figure size 432x288 with 1 Axes>"
      ]
     },
     "metadata": {
      "needs_background": "light"
     },
     "output_type": "display_data"
    }
   ],
   "source": [
    "sns.scatterplot(x='obama', y='dem_n', data=hcr_mid_yea, color=\"green\")\n",
    "sns.scatterplot(x='obama', y='dem_n', data=hcr_mid_nay, color=\"orange\")"
   ]
  },
  {
   "cell_type": "markdown",
   "metadata": {},
   "source": [
    "Note the orange dots are to the left, meaning those who voted N where generally in more moderate/conservative districts.\n",
    "\n",
    "**Question 2.3. Receate the scatterplot above, and add horizontal lines corresponing to the mean vote share of those who voted No and the mean vote share of those who voted Yes, using the `plt.axhline` function (see the last plot above question 1.2 for an example of this).**"
   ]
  },
  {
   "cell_type": "code",
   "execution_count": 50,
   "metadata": {},
   "outputs": [
    {
     "data": {
      "text/plain": [
       "<matplotlib.lines.Line2D at 0x7f9100a954f0>"
      ]
     },
     "execution_count": 50,
     "metadata": {},
     "output_type": "execute_result"
    },
    {
     "data": {
      "image/png": "[encoded data removed]",
      "text/plain": [
       "<Figure size 432x288 with 1 Axes>"
      ]
     },
     "metadata": {
      "needs_background": "light"
     },
     "output_type": "display_data"
    }
   ],
   "source": [
    "# Code for 2.3\n",
    "sns.scatterplot(x='obama', y='dem_n', data=hcr_mid_yea, color=\"green\")\n",
    "sns.scatterplot(x='obama', y='dem_n', data=hcr_mid_nay, color=\"orange\")\n",
    "plt.axhline(np.mean(hcr_mid_yea['dem_n']), color=\"green\")\n",
    "plt.axhline(np.mean(hcr_mid_nay['dem_n']), color=\"orange\")"
   ]
  },
  {
   "cell_type": "markdown",
   "metadata": {},
   "source": [
    "And we can look at the relationship between the vote and how liberal the district was by plotting the average Obama vote share among the Y and N districts.\n",
    "\n",
    "**Question 2.4. Receate the scatterplot above, but instead of the horizontal lines add vertical lines (using the `plt.axvline`) corresponding to the mean *Obama* vote share of those who voted No in orange and the mean of the Obama vote share among those who voted yes in green. "
   ]
  },
  {
   "cell_type": "code",
   "execution_count": 53,
   "metadata": {},
   "outputs": [
    {
     "data": {
      "text/plain": [
       "<matplotlib.lines.Line2D at 0x7f90f03a24f0>"
      ]
     },
     "execution_count": 53,
     "metadata": {},
     "output_type": "execute_result"
    },
    {
     "data": {
      "image/png": "[encoded data removed]",
      "text/plain": [
       "<Figure size 432x288 with 1 Axes>"
      ]
     },
     "metadata": {
      "needs_background": "light"
     },
     "output_type": "display_data"
    }
   ],
   "source": [
    "sns.scatterplot(x='obama', y='dem_n', data=hcr_mid_yea, color=\"green\")\n",
    "sns.scatterplot(x='obama', y='dem_n', data=hcr_mid_nay, color=\"orange\")\n",
    "plt.axvline(np.mean(hcr_mid_yea[\"obama\"]), color='green')\n",
    "plt.axvline(np.mean(hcr_mid_nay[\"obama\"]), color='orange')"
   ]
  },
  {
   "cell_type": "markdown",
   "metadata": {},
   "source": [
    "**Question 2.5. Summarize what we have learned so far about the bivariate relationships between these three variables (Obama vote share, 2010 midterm vote share, and ACA vote). What does this suggest about the potential selection bias if we try to estimate the causal effect of voting for the ACA on democratic vote share using the bivariate regression/difference of means from part 2.1?**"
   ]
  },
  {
   "cell_type": "markdown",
   "metadata": {},
   "source": [
    "So far we know that Democrats who voted for the ACA did better in the 2010 electtion. However, those who voted for the bill also tended to come from more liberal districts, and those from more liberal districts tended to do better in the midterms. So the liberalness of the district may be a confounding variable which makes the difference of means not correspond to a causal effect."
   ]
  },
  {
   "cell_type": "markdown",
   "metadata": {},
   "source": [
    "**Question 2.6. Now fit and summarize a multivariate regression with both `hcr_yes` and `obama` as independent variables. Save the fitted model as `ols_mv`, and then use `.summary()` to get the output.**"
   ]
  },
  {
   "cell_type": "code",
   "execution_count": 54,
   "metadata": {},
   "outputs": [
    {
     "data": {
      "text/html": [
       "<table class=\"simpletable\">\n",
       "<caption>OLS Regression Results</caption>\n",
       "<tr>\n",
       "  <th>Dep. Variable:</th>          <td>dem_n</td>      <th>  R-squared:         </th> <td>   0.839</td> \n",
       "</tr>\n",
       "<tr>\n",
       "  <th>Model:</th>                   <td>OLS</td>       <th>  Adj. R-squared:    </th> <td>   0.838</td> \n",
       "</tr>\n",
       "<tr>\n",
       "  <th>Method:</th>             <td>Least Squares</td>  <th>  F-statistic:       </th> <td>   657.5</td> \n",
       "</tr>\n",
       "<tr>\n",
       "  <th>Date:</th>             <td>Wed, 25 Oct 2023</td> <th>  Prob (F-statistic):</th> <td>9.98e-101</td>\n",
       "</tr>\n",
       "<tr>\n",
       "  <th>Time:</th>                 <td>08:37:58</td>     <th>  Log-Likelihood:    </th> <td> -779.96</td> \n",
       "</tr>\n",
       "<tr>\n",
       "  <th>No. Observations:</th>      <td>   255</td>      <th>  AIC:               </th> <td>   1566.</td> \n",
       "</tr>\n",
       "<tr>\n",
       "  <th>Df Residuals:</th>          <td>   252</td>      <th>  BIC:               </th> <td>   1577.</td> \n",
       "</tr>\n",
       "<tr>\n",
       "  <th>Df Model:</th>              <td>     2</td>      <th>                     </th>     <td> </td>    \n",
       "</tr>\n",
       "<tr>\n",
       "  <th>Covariance Type:</th>      <td>nonrobust</td>    <th>                     </th>     <td> </td>    \n",
       "</tr>\n",
       "</table>\n",
       "<table class=\"simpletable\">\n",
       "<tr>\n",
       "      <td></td>         <th>coef</th>     <th>std err</th>      <th>t</th>      <th>P>|t|</th>  <th>[0.025</th>    <th>0.975]</th>  \n",
       "</tr>\n",
       "<tr>\n",
       "  <th>Intercept</th> <td>    4.4892</td> <td>    1.526</td> <td>    2.943</td> <td> 0.004</td> <td>    1.485</td> <td>    7.494</td>\n",
       "</tr>\n",
       "<tr>\n",
       "  <th>hcr_yes</th>   <td>   -5.3155</td> <td>    1.063</td> <td>   -4.999</td> <td> 0.000</td> <td>   -7.410</td> <td>   -3.221</td>\n",
       "</tr>\n",
       "<tr>\n",
       "  <th>obama</th>     <td>    0.9510</td> <td>    0.029</td> <td>   33.113</td> <td> 0.000</td> <td>    0.894</td> <td>    1.008</td>\n",
       "</tr>\n",
       "</table>\n",
       "<table class=\"simpletable\">\n",
       "<tr>\n",
       "  <th>Omnibus:</th>       <td> 9.991</td> <th>  Durbin-Watson:     </th> <td>   1.936</td>\n",
       "</tr>\n",
       "<tr>\n",
       "  <th>Prob(Omnibus):</th> <td> 0.007</td> <th>  Jarque-Bera (JB):  </th> <td>  12.235</td>\n",
       "</tr>\n",
       "<tr>\n",
       "  <th>Skew:</th>          <td> 0.331</td> <th>  Prob(JB):          </th> <td> 0.00220</td>\n",
       "</tr>\n",
       "<tr>\n",
       "  <th>Kurtosis:</th>      <td> 3.844</td> <th>  Cond. No.          </th> <td>    294.</td>\n",
       "</tr>\n",
       "</table><br/><br/>Notes:<br/>[1] Standard Errors assume that the covariance matrix of the errors is correctly specified."
      ],
      "text/plain": [
       "<class 'statsmodels.iolib.summary.Summary'>\n",
       "\"\"\"\n",
       "                            OLS Regression Results                            \n",
       "==============================================================================\n",
       "Dep. Variable:                  dem_n   R-squared:                       0.839\n",
       "Model:                            OLS   Adj. R-squared:                  0.838\n",
       "Method:                 Least Squares   F-statistic:                     657.5\n",
       "Date:                Wed, 25 Oct 2023   Prob (F-statistic):          9.98e-101\n",
       "Time:                        08:37:58   Log-Likelihood:                -779.96\n",
       "No. Observations:                 255   AIC:                             1566.\n",
       "Df Residuals:                     252   BIC:                             1577.\n",
       "Df Model:                           2                                         \n",
       "Covariance Type:            nonrobust                                         \n",
       "==============================================================================\n",
       "                 coef    std err          t      P>|t|      [0.025      0.975]\n",
       "------------------------------------------------------------------------------\n",
       "Intercept      4.4892      1.526      2.943      0.004       1.485       7.494\n",
       "hcr_yes       -5.3155      1.063     -4.999      0.000      -7.410      -3.221\n",
       "obama          0.9510      0.029     33.113      0.000       0.894       1.008\n",
       "==============================================================================\n",
       "Omnibus:                        9.991   Durbin-Watson:                   1.936\n",
       "Prob(Omnibus):                  0.007   Jarque-Bera (JB):               12.235\n",
       "Skew:                           0.331   Prob(JB):                      0.00220\n",
       "Kurtosis:                       3.844   Cond. No.                         294.\n",
       "==============================================================================\n",
       "\n",
       "Notes:\n",
       "[1] Standard Errors assume that the covariance matrix of the errors is correctly specified.\n",
       "\"\"\""
      ]
     },
     "execution_count": 54,
     "metadata": {},
     "output_type": "execute_result"
    }
   ],
   "source": [
    "# Code for 2.6\n",
    "ols_mv = smf.ols(\"dem_n ~ hcr_yes + obama\", data=hcr_mid).fit()\n",
    "ols_mv.summary()"
   ]
  },
  {
   "cell_type": "markdown",
   "metadata": {},
   "source": [
    "To help interpret this result a plot, we can pull out the coefficients by adding a `.params` after the name of our fitted model (note: this assumes you named the fitted model `ols_mv`)."
   ]
  },
  {
   "cell_type": "code",
   "execution_count": 55,
   "metadata": {},
   "outputs": [
    {
     "data": {
      "text/plain": [
       "Intercept    4.489197\n",
       "hcr_yes     -5.315472\n",
       "obama        0.951048\n",
       "dtype: float64"
      ]
     },
     "execution_count": 55,
     "metadata": {},
     "output_type": "execute_result"
    }
   ],
   "source": [
    "ols_mv.params"
   ]
  },
  {
   "cell_type": "markdown",
   "metadata": {},
   "source": [
    "Let's overlay the predicted value for Y and N votes as a function of Obama vote share."
   ]
  },
  {
   "cell_type": "code",
   "execution_count": 57,
   "metadata": {},
   "outputs": [
    {
     "data": {
      "text/plain": [
       "[<matplotlib.lines.Line2D at 0x7f9100b4c6d0>]"
      ]
     },
     "execution_count": 57,
     "metadata": {},
     "output_type": "execute_result"
    },
    {
     "data": {
      "image/png": "[encoded data removed]",
      "text/plain": [
       "<Figure size 432x288 with 1 Axes>"
      ]
     },
     "metadata": {
      "needs_background": "light"
     },
     "output_type": "display_data"
    }
   ],
   "source": [
    "sns.scatterplot(x='obama', y='dem_n', data=hcr_mid_yea, color=\"green\")\n",
    "sns.scatterplot(x='obama', y='dem_n', data=hcr_mid_nay, color=\"orange\")\n",
    "xrange = np.arange(30, 100)\n",
    "plt.plot(xrange, ols_mv.params[0] + xrange*ols_mv.params[2], color=\"orange\")\n",
    "plt.plot(xrange, ols_mv.params[0] + ols_mv.params[1] + xrange*ols_mv.params[2], color=\"green\")"
   ]
  },
  {
   "cell_type": "markdown",
   "metadata": {},
   "source": [
    "**Question 2.7. Interpret the coefficients from your regression in question 2.6 and this graph. How does controlling for the Obama vote share affect the relationship between voting for the ACA and midterm performance?**"
   ]
  },
  {
   "cell_type": "markdown",
   "metadata": {},
   "source": [
    "Once we control for the Obama 2008 vote share, which captures how liberal the district is, there is now a negative relationship between voting for the ACA and midterm performance. This means that if we only compare members of congress from similar districts in terms of Obama vote share, those who voted for the ACA did worse. This reinforces our speculation that the initial difference of means was driven by a confounding variable.\n",
    "\n",
    "This is nice illustration of what we mean by \"controlling for Obama vote share\" or \"holding Obama vote share constant\". The model accounts for both of these variables, and so the prediction is that *for a fixed level of Obama vote share*, those who vote N do better. Visually, there are two parallel lines, and the N line is always higher. \n",
    "\n",
    "Knowing the Obama vote share for each Democrat in the house, the model does not predict that those who vote N will do better in general, because they tend to be in more conservative districts. But it does predict for any two members in districts where Obama got the same vote share, but one votes Y and one votes N, the one voting N will do better."
   ]
  },
  {
   "cell_type": "code",
   "execution_count": null,
   "metadata": {},
   "outputs": [],
   "source": []
  }
 ],
 "metadata": {
  "kernelspec": {
   "display_name": "Python 3 (ipykernel)",
   "language": "python",
   "name": "python3"
  },
  "language_info": {
   "codemirror_mode": {
    "name": "ipython",
    "version": 3
   },
   "file_extension": ".py",
   "mimetype": "text/x-python",
   "name": "python",
   "nbconvert_exporter": "python",
   "pygments_lexer": "ipython3",
   "version": "3.9.7"
  }
 },
 "nbformat": 4,
 "nbformat_minor": 4
}
