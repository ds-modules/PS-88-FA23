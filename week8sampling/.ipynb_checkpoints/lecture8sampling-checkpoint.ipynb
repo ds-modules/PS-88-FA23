{
 "cells": [
  {
   "cell_type": "markdown",
   "id": "62eb73d1",
   "metadata": {},
   "source": [
    "# PS 88 Week 8: Sampling Uncertainty vs Bias\n"
   ]
  },
  {
   "cell_type": "markdown",
   "id": "8f497405",
   "metadata": {},
   "source": [
    "Rabois Tweet\n",
    "\n",
    "One formula"
   ]
  },
  {
   "cell_type": "markdown",
   "id": "8c577c04",
   "metadata": {},
   "source": [
    "## Sampling Review\n",
    "\n",
    "Uncertainty about mean/proportion\n",
    "\n",
    "Uncertainty about difference of means"
   ]
  },
  {
   "cell_type": "markdown",
   "id": "847920f3",
   "metadata": {},
   "source": [
    "## Adding potential for bias\n",
    "\n",
    "Some simulation to show that standard procedures get sampling uncertainty \"right\" but not bias"
   ]
  },
  {
   "cell_type": "code",
   "execution_count": null,
   "id": "9cf01690",
   "metadata": {},
   "outputs": [],
   "source": []
  }
 ],
 "metadata": {
  "kernelspec": {
   "display_name": "Python 3 (ipykernel)",
   "language": "python",
   "name": "python3"
  },
  "language_info": {
   "codemirror_mode": {
    "name": "ipython",
    "version": 3
   },
   "file_extension": ".py",
   "mimetype": "text/x-python",
   "name": "python",
   "nbconvert_exporter": "python",
   "pygments_lexer": "ipython3",
   "version": "3.9.7"
  }
 },
 "nbformat": 4,
 "nbformat_minor": 5
}
