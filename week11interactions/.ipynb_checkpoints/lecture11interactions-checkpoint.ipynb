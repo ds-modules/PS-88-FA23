{
 "cells": [
  {
   "cell_type": "markdown",
   "id": "823eac5b",
   "metadata": {},
   "source": [
    "# PS 88 Week 11 Interactions and Heterogenous Effects"
   ]
  },
  {
   "cell_type": "markdown",
   "id": "f7bfd68f",
   "metadata": {},
   "source": [
    "Theory"
   ]
  },
  {
   "cell_type": "markdown",
   "id": "14e9919e",
   "metadata": {},
   "source": [
    "## Interaction terms in regressions\n"
   ]
  },
  {
   "cell_type": "markdown",
   "id": "08f36966",
   "metadata": {},
   "source": [
    "## Heterogenous effects in experiments"
   ]
  },
  {
   "cell_type": "code",
   "execution_count": null,
   "id": "0439fab1",
   "metadata": {},
   "outputs": [],
   "source": []
  }
 ],
 "metadata": {
  "kernelspec": {
   "display_name": "Python 3 (ipykernel)",
   "language": "python",
   "name": "python3"
  },
  "language_info": {
   "codemirror_mode": {
    "name": "ipython",
    "version": 3
   },
   "file_extension": ".py",
   "mimetype": "text/x-python",
   "name": "python",
   "nbconvert_exporter": "python",
   "pygments_lexer": "ipython3",
   "version": "3.9.7"
  }
 },
 "nbformat": 4,
 "nbformat_minor": 5
}
