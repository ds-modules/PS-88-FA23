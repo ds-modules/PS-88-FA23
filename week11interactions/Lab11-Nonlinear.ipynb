{
 "cells": [
  {
   "cell_type": "markdown",
   "id": "5bd6e578",
   "metadata": {},
   "source": [
    "# PS 88 Lab 11 - Nonlinear and Interactive Relationships\n",
    "\n",
    "We will explore both of the themes this week using a <a href=\"https://www.pnas.org/doi/10.1073/pnas.2116851119#executive-summary-abstract\">fascinating recent paper</a> about support for political violece in the United States. \n"
   ]
  },
  {
   "cell_type": "markdown",
   "id": "3018694a",
   "metadata": {},
   "source": [
    "## Part 1: Theory and initial findings\n",
    "\n",
    "We can motivate this paper with a quick callback to the game theory section of the class. Suppose two political actors can choose whether or not to use violence, with the following payoffs:"
   ]
  },
  {
   "cell_type": "markdown",
   "id": "c3905e3c",
   "metadata": {},
   "source": [
    "|          | B Violent | B Nonviolent     | \n",
    "|----------|----------|--------------|\n",
    "| A Violent |    0,0    |   1,-1        |  \n",
    "| A Nonviolent |    -1,1   |   2,2      |  \n"
   ]
  },
  {
   "cell_type": "markdown",
   "id": "3c0e6bc2",
   "metadata": {},
   "source": [
    "The best outcome is if both are nonviolent, giving payoff 2. But that may not be the only Nash equilibrium!\n",
    "\n",
    "**Question 1.1. Show that if one player expects the other to choose violence it is a best response to choose violence as well, and so there is a Nash Equilibrium where both pick Violent.**"
   ]
  },
  {
   "cell_type": "markdown",
   "id": "ed1b5526",
   "metadata": {},
   "source": [
    "*Words for 1.1*"
   ]
  },
  {
   "cell_type": "markdown",
   "id": "ab310ad5",
   "metadata": {},
   "source": [
    "From this we might expect that individuals who think their political opponents are apt to use violence may be more apt to use violence themselves. We can check if this is true in the United States using data from Mernyk et al."
   ]
  },
  {
   "cell_type": "code",
   "execution_count": null,
   "id": "a604e23d",
   "metadata": {},
   "outputs": [],
   "source": [
    "import numpy as np\n",
    "import seaborn as sns\n",
    "import statsmodels.formula.api as smf\n",
    "import pandas as pd\n",
    "import matplotlib.pyplot as plt\n",
    "%matplotlib inline"
   ]
  },
  {
   "cell_type": "code",
   "execution_count": null,
   "id": "c8956b1f",
   "metadata": {},
   "outputs": [],
   "source": [
    "spv = pd.read_csv(\"SPV_cleaned.csv\")\n",
    "spv"
   ]
  },
  {
   "cell_type": "markdown",
   "id": "5f3c059a",
   "metadata": {},
   "source": [
    "The authors did a survey which also involved an experiment that we will look at in part 2. First we will do some basic analysis of support for political violence in light of the theory above. \n",
    "\n",
    "In the survey, respondents were asked which party they supported, and we will focus on people who support the Democratic or Republican party (i.e., no independents). Democrats were then asked questions like \"How much do you feel it is justified for Democrats to use violence in advancing their political goals these days?” Republicans were asked the same question but with \"Republicans\" replace \"Democrats\". \n",
    "\n",
    "Respondents were asked four questions that were meant to tap into their *Support For Political Violence* (SPV), from which they make an index which ranges from 0 to 100, where higher numbers mean more support for violence. \n",
    "\n",
    "The authors then asked respondents how they thought *others* would answer questions like this. We will focus on the \"out-group metaperception\", which is their best guess of the average SPV of people in the other party.\n",
    "\n",
    "To summarize, the first variables we will study are:\n",
    "- `SPV_self`: the individual's own SPV measured on a scale from 0-100\n",
    "- `SPV_meta_out`: the guess about the average SPV among those in the other party\n",
    "\n",
    "Let's take a look at the histogram of actual SPV:"
   ]
  },
  {
   "cell_type": "code",
   "execution_count": null,
   "id": "707326ab",
   "metadata": {},
   "outputs": [],
   "source": [
    "spv.hist('SPV_self')"
   ]
  },
  {
   "cell_type": "markdown",
   "id": "d53984eb",
   "metadata": {},
   "source": [
    "SPV might be different among the two parties. Recall we can use `smf.ols` to run a bivariate regression which is essentially a difference of means. The party of the individual is given by the \"party\" variable, which is coded as 1 for Republicans and 2 for Democrats. To make this easier to interpret let's create a variable called \"dem\" for Democrats:\n"
   ]
  },
  {
   "cell_type": "code",
   "execution_count": null,
   "id": "9b98d383",
   "metadata": {},
   "outputs": [],
   "source": [
    "spv['dem'] = np.where(spv['party']==2,1,0)"
   ]
  },
  {
   "cell_type": "markdown",
   "id": "839dd8a8",
   "metadata": {},
   "source": [
    "Now we can run the following regression:"
   ]
  },
  {
   "cell_type": "code",
   "execution_count": null,
   "id": "97df1289",
   "metadata": {},
   "outputs": [],
   "source": [
    "smf.ols(\"SPV_self ~ dem\", data=spv).fit().summary()"
   ]
  },
  {
   "cell_type": "markdown",
   "id": "d0f801e2",
   "metadata": {},
   "source": [
    "Which tells us that the average Democrat in this survey reports about 1.4 points more SPV on the 100 point scale. However, this is not much bigger than a standard error, so this may just be driven by random noise. Moving forward we will assume there aren't major differences among the parties on this variable."
   ]
  },
  {
   "cell_type": "markdown",
   "id": "26b37f55",
   "metadata": {},
   "source": [
    "**Question 1.2. Make a histogram of the perceived SPV of the other party, and then fit and summarize a regression to see if this is higher or lower among Democrats. Interpret these results: do respondents have a good sense of the other parties support for political violence (if you aren't sure you may want to also compare the average of these variables), and is this different among the two parties?**"
   ]
  },
  {
   "cell_type": "code",
   "execution_count": null,
   "id": "87e2f525",
   "metadata": {},
   "outputs": [],
   "source": [
    "# Code for 1.2"
   ]
  },
  {
   "cell_type": "code",
   "execution_count": null,
   "id": "aedc5b9b",
   "metadata": {},
   "outputs": [],
   "source": []
  },
  {
   "cell_type": "markdown",
   "id": "4c2c451a",
   "metadata": {},
   "source": [
    "*Words for 1.2*"
   ]
  },
  {
   "cell_type": "markdown",
   "id": "d824d919",
   "metadata": {},
   "source": [
    "Another way to see this is to make a scatter plot of the self and outparty variables, along with a line where these two values are equal (or the \"45-degree line\"). Points above the line are individuals who support violence more themselves then they think the outparty does, and points below the line support violence less than they think the outparty does. "
   ]
  },
  {
   "cell_type": "code",
   "execution_count": null,
   "id": "c28d88e1",
   "metadata": {},
   "outputs": [],
   "source": [
    "sns.scatterplot(x='SPV_meta_out', y='SPV_self', data=spv)\n",
    "plt.plot([0,100],[0,100])"
   ]
  },
  {
   "cell_type": "markdown",
   "id": "498a2541",
   "metadata": {},
   "source": [
    "These differences will prove important later on, but before we get to that remember part of our initial motivation was to see if those who think their political opponents are apt to use violence are apt to use it themselves.\n",
    "\n",
    "**Question 1.3. Fit and summarize a bivariate regression with \"SPV_self\" as the dependent variable and \"SPV_meta_out\" as the dependent variable. Interpret the slope. Give a reason why this might not represent a causal effect of perceptions of outparty support for violence on personal support for violence.**"
   ]
  },
  {
   "cell_type": "code",
   "execution_count": null,
   "id": "9ddc359a",
   "metadata": {},
   "outputs": [],
   "source": [
    "# Code for 1.3"
   ]
  },
  {
   "cell_type": "markdown",
   "id": "9f6364ab",
   "metadata": {},
   "source": [
    "*Words for 1.3*"
   ]
  },
  {
   "cell_type": "markdown",
   "id": "d8895be0",
   "metadata": {},
   "source": [
    "## Part 2: Left-right ideology and SPV\n",
    "\n",
    "Above we looked at differences between Republicans and Democrats, but we also might think that those who are relatively more extreme in their ideological views will be more likely to support violence. the \"polit\" variable is a 1 to 7 point scale ranging from \"very liberal\" (1) to \"moderate\" (4) to \"very conservative\".\n",
    "\n",
    "We can check if there is a relationship between this variable and SPV visually using the regplot function:"
   ]
  },
  {
   "cell_type": "code",
   "execution_count": null,
   "id": "fea4cd54",
   "metadata": {},
   "outputs": [],
   "source": [
    "sns.regplot(x=\"polit\", y=\"SPV_self\", data=spv)"
   ]
  },
  {
   "cell_type": "markdown",
   "id": "341f8931",
   "metadata": {},
   "source": [
    "**Question 2.1 Use `smf.ols` to fit and summarize a regression with \"SPV_self\" as the dependent variable and \"polit\" as the indpendent variable. Interpret the slope (hint: how would going from the lowest level of 1 to the highest level of 7 change the predicted SPV?).\"**"
   ]
  },
  {
   "cell_type": "code",
   "execution_count": null,
   "id": "181c64d1",
   "metadata": {},
   "outputs": [],
   "source": [
    "# Code for 2.1"
   ]
  },
  {
   "cell_type": "markdown",
   "id": "3a8e9173",
   "metadata": {},
   "source": [
    "*Words for 2.1*"
   ]
  },
  {
   "cell_type": "markdown",
   "id": "d0290ed0",
   "metadata": {},
   "source": [
    "This regression can tell us if more liberal/conservative individuals have a higher SPV, but by assuming a linear relationship we can get at the idea that those on the ideological extremes have a higher SPV.\n",
    "\n",
    "One way we can see this visually is by using `sns.regplot` and adding an `order=2` argument, which adds a squared term to the regression. "
   ]
  },
  {
   "cell_type": "code",
   "execution_count": null,
   "id": "261a0470",
   "metadata": {},
   "outputs": [],
   "source": [
    "sns.regplot(x=\"polit\", y=\"SPV_self\", data=spv, order=2)"
   ]
  },
  {
   "cell_type": "markdown",
   "id": "56ad78b0",
   "metadata": {},
   "source": [
    "Hmm still looks pretty flat. Let's confirm this by running a regression.\n",
    "\n",
    "**Question 2.2 . Then fit and summarize a regression predicting \"SPV_self\" using a linear and squared term of `polit` (recall to make a squared term of a variable \"X\" we can add $I(X**2)$ to our regression formula.)**"
   ]
  },
  {
   "cell_type": "code",
   "execution_count": null,
   "id": "bbb8f083",
   "metadata": {},
   "outputs": [],
   "source": [
    "# Code for 2.2"
   ]
  },
  {
   "cell_type": "markdown",
   "id": "00341144",
   "metadata": {},
   "source": [
    "Now let's do some similar analysis looking at the relationship between political ideology and the perception of outparty SPV.\n",
    "\n",
    "**Question 2.3.  Using a combination of `sns.regplot` and `smf.ols`, examine the linear and quadratic relationship between political ideology and beliefs about outparty SPV in this survey. Interpret your results.** "
   ]
  },
  {
   "cell_type": "code",
   "execution_count": null,
   "id": "b11199bb",
   "metadata": {},
   "outputs": [],
   "source": [
    "# Code for 2.3"
   ]
  },
  {
   "cell_type": "code",
   "execution_count": null,
   "id": "d5c63336",
   "metadata": {},
   "outputs": [],
   "source": []
  },
  {
   "cell_type": "code",
   "execution_count": null,
   "id": "fb8a227f",
   "metadata": {},
   "outputs": [],
   "source": []
  },
  {
   "cell_type": "markdown",
   "id": "32c85d5a",
   "metadata": {},
   "source": [
    "*Words for 2.3*"
   ]
  },
  {
   "cell_type": "markdown",
   "id": "bdbe2b84",
   "metadata": {},
   "source": [
    "## Part 3: Do corrections reduce SPV?\n",
    "\n",
    "Now we are ready to get to the main point of the paper. So far we know that self SPV and perceptions of outparty SPV have a positive correlation, and that individuals exaggerate the outgroup support for SPV. So, what will happen if we *correct* their beliefs about the outparty by telling subjects the truth before figuring out their own SPV? We might expect that learning that the outparty rarely supports violece will make individuals less supportive of violence themselves.\n",
    "\n",
    "In other words, we can lower perceived SPV of the outparty in a randomized fashion, we can get a sense of the causal effect of these perceptions without selection bias.\n",
    "\n",
    "The authors check this by randomly assigning some people to obsere a \"correction\" which tells them the true outparty SPV. Given what we learned above, for most people this will make them realize their political opponents support violence less than they really thought. The control group does not receive this information. \n",
    "\n",
    "The variable which stores this treatment status is called \"condition\". To ease interpretation lets turn it into a 0/1 variable:"
   ]
  },
  {
   "cell_type": "code",
   "execution_count": null,
   "id": "427b4f4e",
   "metadata": {},
   "outputs": [],
   "source": [
    "spv['correct'] = np.where(spv['condition']==\"out_correct\", 1,0)"
   ]
  },
  {
   "cell_type": "markdown",
   "id": "5db3b117",
   "metadata": {},
   "source": [
    "**Question 3.1. Fit and summarize a bivariate regression with \"SPV_self\" as the dependent variable and \"correct\" as the independent variable. Interpret the coefficient on \"correct.\"**"
   ]
  },
  {
   "cell_type": "code",
   "execution_count": null,
   "id": "ea4de696",
   "metadata": {},
   "outputs": [],
   "source": [
    "# Code for 3.1"
   ]
  },
  {
   "cell_type": "markdown",
   "id": "e6d93c05",
   "metadata": {},
   "source": [
    "*Words for 3.1*"
   ]
  },
  {
   "cell_type": "markdown",
   "id": "5592e155",
   "metadata": {},
   "source": [
    "In the paper the authors also include some control variables for respondent demographics. This isn't about trying to control for counfounding variables since we know that the treatment status was randomized, so those who got the correction should be otherwise similar on average. However, doing so often leads to less noise in our estimates (for reasons we won't cover), and can also provide some additional interesting information about who tends to support violence. \n",
    "\n",
    "Some of the variables we want to include as controls are stored as \"factors\" which are categorical variables that can take on two or more values. The `smf.ols` function will automatically create several 0/1 variables which will tell us the difference in the predicted mean between each category and a \"base category\" (holding other variables fixed). For example, here is a table of the education variable:\n"
   ]
  },
  {
   "cell_type": "code",
   "execution_count": null,
   "id": "4980123b",
   "metadata": {},
   "outputs": [],
   "source": [
    "pd.value_counts(spv['education'])"
   ]
  },
  {
   "cell_type": "markdown",
   "id": "4b9c727e",
   "metadata": {},
   "source": [
    "If we use this as an independent variable in a regression we get:"
   ]
  },
  {
   "cell_type": "code",
   "execution_count": null,
   "id": "f4125c71",
   "metadata": {},
   "outputs": [],
   "source": [
    "smf.ols(\"SPV_self ~ education\", data=spv).fit().summary()"
   ]
  },
  {
   "cell_type": "markdown",
   "id": "8f970f4c",
   "metadata": {},
   "source": [
    "Note we get coefficients corresponding to \"Graduate\", \"HS or less\", and \"Some college\". Where is \"bachelor's degree\" This was set as the base category. So we can interpret the three coefficients as a comparison of the average SPV of each category compared to those with a bachelor's degree. In this case, those with HS or less have a higher support for SPV than those with a BA degree while those with a graduate degree have less SPV than those with a BA. "
   ]
  },
  {
   "cell_type": "markdown",
   "id": "281cbda6",
   "metadata": {},
   "source": [
    "**Question 3.2 Fit and summarize a multivariate regression predicting \"SPV_self\" using the correction variable, with control variances \"gender\", \"age\", \"dem\", and \"education\". Does this affect the coefficient on \"correction\" compared to the bivariate case? Interpret another coefficient from the regression.**"
   ]
  },
  {
   "cell_type": "code",
   "execution_count": null,
   "id": "6272e17e",
   "metadata": {},
   "outputs": [],
   "source": [
    "# Code for 3.2"
   ]
  },
  {
   "cell_type": "markdown",
   "id": "e65f91c2",
   "metadata": {},
   "source": [
    "*Words for 3.2*"
   ]
  },
  {
   "cell_type": "markdown",
   "id": "a9d37c59",
   "metadata": {},
   "source": [
    "We might think that these corrections may have a different effect on people who start with a low perceived outparty SPV vs those who think the outparty has a high SPV. To check this, the authors calculated a variable callsed \"SPV_meta_over\", which is the difference between the perceived outparty SPV and the truth. \n",
    "\n",
    "\n",
    "**Question 3.3. Make a histogram of this variable and interpret what you find.**"
   ]
  },
  {
   "cell_type": "code",
   "execution_count": null,
   "id": "d0c7fac4",
   "metadata": {},
   "outputs": [],
   "source": [
    "# Question for 3.3"
   ]
  },
  {
   "cell_type": "markdown",
   "id": "ab2e82e8",
   "metadata": {},
   "source": [
    "*Words for 3.3*"
   ]
  },
  {
   "cell_type": "markdown",
   "id": "68606688",
   "metadata": {},
   "source": [
    "**Question 3.4. Fit an summarize an interactive model predicting self SPV with the correction, \"SPV_meta_over\", and an interaction between the two (refer back to the class notebook for an example of how to do this.)**"
   ]
  },
  {
   "cell_type": "code",
   "execution_count": null,
   "id": "e67b1899",
   "metadata": {},
   "outputs": [],
   "source": [
    "# Code for 3.4"
   ]
  },
  {
   "cell_type": "markdown",
   "id": "d3cc341b",
   "metadata": {},
   "source": [
    "Note that when \"SPV_meta_over\" is equal to zero, the subject had a correct perception of the outgroup before the correction. \n",
    "\n",
    "**Question 3.4. What does this regression say about the effect of the correction on someone who had accurate beliefs to start with.**"
   ]
  },
  {
   "cell_type": "markdown",
   "id": "57f36317",
   "metadata": {},
   "source": [
    "*Words for 3.4*"
   ]
  },
  {
   "cell_type": "markdown",
   "id": "e5a5e9a6",
   "metadata": {},
   "source": [
    "**Question 3.5. Now interpret the coefficient on the interaction term. As one is more pessimistic (and incorrect) about the outgroup, how does the effect of the correction change?**"
   ]
  },
  {
   "cell_type": "markdown",
   "id": "a9a07179",
   "metadata": {},
   "source": [
    "*Words for 3.5*"
   ]
  },
  {
   "cell_type": "markdown",
   "id": "7775b8e1",
   "metadata": {},
   "source": [
    "**Question 3.6. What is the effect of the correction on someone who overestimated the outparty SPV by 50 points? (Note this is not too extreme; the average is around 40**"
   ]
  },
  {
   "cell_type": "code",
   "execution_count": null,
   "id": "be7fc97f",
   "metadata": {},
   "outputs": [],
   "source": [
    "# Code for 3.6"
   ]
  },
  {
   "cell_type": "markdown",
   "id": "e5b5be08",
   "metadata": {},
   "source": [
    "**Question 3.7. Interpret these results in light of our initial theory. Does changing perceptions of outparty SPV affect individuals on SPV? Who does the correction seem to affect, and why?**"
   ]
  },
  {
   "cell_type": "markdown",
   "id": "47416176",
   "metadata": {},
   "source": [
    "*Words for 3.7*"
   ]
  },
  {
   "cell_type": "code",
   "execution_count": null,
   "id": "e2c93fbb",
   "metadata": {},
   "outputs": [],
   "source": []
  }
 ],
 "metadata": {
  "kernelspec": {
   "display_name": "Python 3 (ipykernel)",
   "language": "python",
   "name": "python3"
  },
  "language_info": {
   "codemirror_mode": {
    "name": "ipython",
    "version": 3
   },
   "file_extension": ".py",
   "mimetype": "text/x-python",
   "name": "python",
   "nbconvert_exporter": "python",
   "pygments_lexer": "ipython3",
   "version": "3.9.7"
  }
 },
 "nbformat": 4,
 "nbformat_minor": 5
}
