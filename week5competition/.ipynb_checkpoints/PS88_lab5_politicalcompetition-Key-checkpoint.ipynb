{
 "cells": [
  {
   "cell_type": "markdown",
   "id": "d0c1bf30",
   "metadata": {},
   "source": [
    "# PS 88 Lab 5: Political Competition, Theory and Data"
   ]
  },
  {
   "cell_type": "markdown",
   "id": "f5d7f958",
   "metadata": {},
   "source": [
    "In this lab we will explore some theories of the ideological positions of candidates for political office, and then see how they line up with real data from the US House of Representatives."
   ]
  },
  {
   "cell_type": "code",
   "execution_count": 63,
   "id": "708135e1",
   "metadata": {},
   "outputs": [],
   "source": [
    "from datascience import Table\n",
    "import numpy as np\n",
    "%matplotlib inline"
   ]
  },
  {
   "cell_type": "markdown",
   "id": "a43fe852",
   "metadata": {},
   "source": [
    "## Part 1: The Hotelling-Downs Model\n",
    "\n",
    "First let's see how we can use the tools of Python to better understand the dynamics of the Hotelling-Downs model of political competition. \n",
    "\n",
    "So we have some real data as motivation, let's bring back the data from the survey of the class where I asked you all to place yourself on a 1-7 point scale from \"Very Liberal\" to \"Very Conservative\". Loading up the data:"
   ]
  },
  {
   "cell_type": "code",
   "execution_count": 64,
   "id": "b6a4c650",
   "metadata": {},
   "outputs": [
    {
     "data": {
      "text/html": [
       "<table border=\"1\" class=\"dataframe\">\n",
       "    <thead>\n",
       "        <tr>\n",
       "            <th>ID</th> <th>pd_class</th> <th>pd_stanford</th> <th>pd_class_prc</th> <th>pd_stanford_prc</th> <th>grabshare</th> <th>ult_offer</th> <th>ult_accept</th> <th>gt_knowledge</th> <th>libcon</th> <th>libgon_guess</th> <th>ingroup</th>\n",
       "        </tr>\n",
       "    </thead>\n",
       "    <tbody>\n",
       "        <tr>\n",
       "            <td>1   </td> <td>Defect   </td> <td>Defect     </td> <td>0.5         </td> <td>0.2            </td> <td>Share    </td> <td>5        </td> <td>5         </td> <td>2           </td> <td>4     </td> <td>3           </td> <td>6      </td>\n",
       "        </tr>\n",
       "        <tr>\n",
       "            <td>2   </td> <td>Cooperate</td> <td>Cooperate  </td> <td>0.5         </td> <td>0.5            </td> <td>Grab     </td> <td>5        </td> <td>4         </td> <td>1           </td> <td>3     </td> <td>2           </td> <td>2      </td>\n",
       "        </tr>\n",
       "        <tr>\n",
       "            <td>3   </td> <td>Defect   </td> <td>Defect     </td> <td>1           </td> <td>1              </td> <td>Grab     </td> <td>2        </td> <td>2         </td> <td>1           </td> <td>3     </td> <td>4           </td> <td>3      </td>\n",
       "        </tr>\n",
       "        <tr>\n",
       "            <td>4   </td> <td>Defect   </td> <td>Defect     </td> <td>0.5         </td> <td>0.1            </td> <td>Grab     </td> <td>5        </td> <td>5         </td> <td>3           </td> <td>2     </td> <td>3           </td> <td>1      </td>\n",
       "        </tr>\n",
       "        <tr>\n",
       "            <td>5   </td> <td>Defect   </td> <td>Defect     </td> <td>0           </td> <td>0              </td> <td>Share    </td> <td>5        </td> <td>5         </td> <td>3           </td> <td>1     </td> <td>3           </td> <td>5      </td>\n",
       "        </tr>\n",
       "        <tr>\n",
       "            <td>6   </td> <td>Defect   </td> <td>Defect     </td> <td>0           </td> <td>0              </td> <td>Share    </td> <td>5        </td> <td>1         </td> <td>4           </td> <td>2     </td> <td>3           </td> <td>5      </td>\n",
       "        </tr>\n",
       "        <tr>\n",
       "            <td>7   </td> <td>Cooperate</td> <td>Cooperate  </td> <td>0.25        </td> <td>0.1            </td> <td>Share    </td> <td>5        </td> <td>3         </td> <td>1           </td> <td>3     </td> <td>2           </td> <td>1      </td>\n",
       "        </tr>\n",
       "        <tr>\n",
       "            <td>8   </td> <td>Defect   </td> <td>Defect     </td> <td>0.6         </td> <td>0.9            </td> <td>Share    </td> <td>9        </td> <td>1         </td> <td>2           </td> <td>2     </td> <td>2           </td> <td>6      </td>\n",
       "        </tr>\n",
       "        <tr>\n",
       "            <td>9   </td> <td>Cooperate</td> <td>Cooperate  </td> <td>0.5         </td> <td>0.4            </td> <td>Share    </td> <td>8        </td> <td>6         </td> <td>0           </td> <td>3     </td> <td>3           </td> <td>3      </td>\n",
       "        </tr>\n",
       "        <tr>\n",
       "            <td>10  </td> <td>Defect   </td> <td>Defect     </td> <td>0.5         </td> <td>0.25           </td> <td>Share    </td> <td>1        </td> <td>1         </td> <td>2           </td> <td>3     </td> <td>3           </td> <td>6      </td>\n",
       "        </tr>\n",
       "    </tbody>\n",
       "</table>\n",
       "<p>... (28 rows omitted)</p>"
      ],
      "text/plain": [
       "ID   | pd_class  | pd_stanford | pd_class_prc | pd_stanford_prc | grabshare | ult_offer | ult_accept | gt_knowledge | libcon | libgon_guess | ingroup\n",
       "1    | Defect    | Defect      | 0.5          | 0.2             | Share     | 5         | 5          | 2            | 4      | 3            | 6\n",
       "2    | Cooperate | Cooperate   | 0.5          | 0.5             | Grab      | 5         | 4          | 1            | 3      | 2            | 2\n",
       "3    | Defect    | Defect      | 1            | 1               | Grab      | 2         | 2          | 1            | 3      | 4            | 3\n",
       "4    | Defect    | Defect      | 0.5          | 0.1             | Grab      | 5         | 5          | 3            | 2      | 3            | 1\n",
       "5    | Defect    | Defect      | 0            | 0               | Share     | 5         | 5          | 3            | 1      | 3            | 5\n",
       "6    | Defect    | Defect      | 0            | 0               | Share     | 5         | 1          | 4            | 2      | 3            | 5\n",
       "7    | Cooperate | Cooperate   | 0.25         | 0.1             | Share     | 5         | 3          | 1            | 3      | 2            | 1\n",
       "8    | Defect    | Defect      | 0.6          | 0.9             | Share     | 9         | 1          | 2            | 2      | 2            | 6\n",
       "9    | Cooperate | Cooperate   | 0.5          | 0.4             | Share     | 8         | 6          | 0            | 3      | 3            | 3\n",
       "10   | Defect    | Defect      | 0.5          | 0.25            | Share     | 1         | 1          | 2            | 3      | 3            | 6\n",
       "... (28 rows omitted)"
      ]
     },
     "execution_count": 64,
     "metadata": {},
     "output_type": "execute_result"
    }
   ],
   "source": [
    "classdata = Table.read_table(\"PS 88 Game Theory Survey 2023.csv\")\n",
    "classdata"
   ]
  },
  {
   "cell_type": "markdown",
   "id": "ebcae0a3",
   "metadata": {},
   "source": [
    "**Question 1.1. Make a histogram of the `libcon` variable. (Hint: use `bins=` argument to ensure there is one bin for each number). What does this tell you about the distribution of political ideology in the class?**"
   ]
  },
  {
   "cell_type": "code",
   "execution_count": 65,
   "id": "6374c5d4",
   "metadata": {},
   "outputs": [
    {
     "data": {
      "image/png": "[encoded data removed]",
      "text/plain": [
       "<Figure size 432x288 with 1 Axes>"
      ]
     },
     "metadata": {
      "needs_background": "light"
     },
     "output_type": "display_data"
    }
   ],
   "source": [
    "# Code for 1.1\n",
    "classdata.hist(\"libcon\", bins=range(8))"
   ]
  },
  {
   "cell_type": "markdown",
   "id": "eb068a91",
   "metadata": {},
   "source": [
    "The most common answer is 2 on the seven point scale, 3 and 4 are the second and third most common. So the typical student is reasonably liberal. "
   ]
  },
  {
   "cell_type": "markdown",
   "id": "682410e0",
   "metadata": {},
   "source": [
    "We can now ask what would happen in hypothetical elections for \"PS 88 President\" under the assumption that voters will vote for the candidate who is strictly closer to them if one meets that condition, and will abstain otherwise. \n",
    "\n",
    "Given platforms $x_A$ and $x_B$, we can check if someone with ideal point $x_i$ is closer to $A$ using absolute values. In particular, they vote for $A$ if:\n",
    "$$\n",
    "|x_i - x_A | < |x_i - x_B|\n",
    "$$\n",
    "\n",
    "For example, suppose candidate A picks a platform of 3 and candidate B picks 4. The following line of code creates an array  which answers the question of whether each class member would vote for A:"
   ]
  },
  {
   "cell_type": "code",
   "execution_count": 66,
   "id": "f0eab847",
   "metadata": {},
   "outputs": [
    {
     "data": {
      "text/plain": [
       "array([False,  True,  True,  True,  True,  True,  True,  True,  True,\n",
       "        True,  True, False,  True,  True,  True,  True,  True, False,\n",
       "        True,  True,  True,  True,  True,  True,  True,  True, False,\n",
       "        True,  True,  True, False,  True,  True,  True,  True,  True,\n",
       "       False,  True], dtype=bool)"
      ]
     },
     "execution_count": 66,
     "metadata": {},
     "output_type": "execute_result"
    }
   ],
   "source": [
    "abs(classdata.column(\"libcon\") - 3) < abs(classdata.column(\"libcon\") - 4)"
   ]
  },
  {
   "cell_type": "markdown",
   "id": "aea18353",
   "metadata": {},
   "source": [
    "We can count how many Trues there are (and hence how many A votes) by summing these:"
   ]
  },
  {
   "cell_type": "code",
   "execution_count": 67,
   "id": "f1b7e4cc",
   "metadata": {},
   "outputs": [
    {
     "data": {
      "text/plain": [
       "32"
      ]
     },
     "execution_count": 67,
     "metadata": {},
     "output_type": "execute_result"
    }
   ],
   "source": [
    "sum(abs(classdata.column(\"libcon\") - 3) < abs(classdata.column(\"libcon\") - 4))"
   ]
  },
  {
   "cell_type": "markdown",
   "id": "d304fbae",
   "metadata": {},
   "source": [
    "**Question 1.2. Write a line of code to count how many class members would vote for B (again assuming candidate A picks a platform of 2 and candidate B picks 4). Who would win in an election between candidates with these platforms?**"
   ]
  },
  {
   "cell_type": "code",
   "execution_count": 68,
   "id": "ccc77db0",
   "metadata": {},
   "outputs": [
    {
     "data": {
      "text/plain": [
       "6"
      ]
     },
     "execution_count": 68,
     "metadata": {},
     "output_type": "execute_result"
    }
   ],
   "source": [
    "#Code for 1.2\n",
    "sum(abs(classdata.column(\"libcon\") - 3) > abs(classdata.column(\"libcon\") - 4))"
   ]
  },
  {
   "cell_type": "markdown",
   "id": "f11f68c0",
   "metadata": {},
   "source": [
    "Candidate A gets 32 votes while B gets 6, so A would win the election."
   ]
  },
  {
   "cell_type": "markdown",
   "id": "992c1ecd",
   "metadata": {},
   "source": [
    "To make calculations like this more efficient, let's define some functions. Here is one that takes as input two platforms `xA` and `xB`, and the ideal points of the electorate as `electorate` and computes the votes that A and B would get."
   ]
  },
  {
   "cell_type": "code",
   "execution_count": 69,
   "id": "54112d1a",
   "metadata": {},
   "outputs": [],
   "source": [
    "def get_Avotes(xA,xB,electorate):\n",
    "    return sum(abs(electorate - xA) < abs(electorate - xB))"
   ]
  },
  {
   "cell_type": "code",
   "execution_count": 70,
   "id": "0aa885d4",
   "metadata": {},
   "outputs": [
    {
     "data": {
      "text/plain": [
       "32"
      ]
     },
     "execution_count": 70,
     "metadata": {},
     "output_type": "execute_result"
    }
   ],
   "source": [
    "get_Avotes(3,4, classdata.column(\"libcon\"))"
   ]
  },
  {
   "cell_type": "markdown",
   "id": "b7fb7815",
   "metadata": {},
   "source": [
    "**Question 1.3 Write a function called `get_bothvotes` which takes as input the platforms and the electorate ideal points, and returns an array with the number of A votes and the number of B votes. To check that it works, use the `get_bothvotes` function to ask how many votes each party gets if A picks a platform of 3 and B picks a platform of 4 (it should correspond to what you learned above).**"
   ]
  },
  {
   "cell_type": "code",
   "execution_count": 71,
   "id": "a9c11632",
   "metadata": {},
   "outputs": [],
   "source": [
    "# Code for 1.3\n",
    "def get_bothvotes(xA,xB,electorate):\n",
    "    return [sum(abs(electorate - xA) < abs(electorate - xB)),sum(abs(electorate - xA) > abs(electorate - xB))]"
   ]
  },
  {
   "cell_type": "code",
   "execution_count": 72,
   "id": "b6345a26",
   "metadata": {},
   "outputs": [
    {
     "data": {
      "text/plain": [
       "[32, 6]"
      ]
     },
     "execution_count": 72,
     "metadata": {},
     "output_type": "execute_result"
    }
   ],
   "source": [
    "get_bothvotes(3,4, classdata.column(\"libcon\"))"
   ]
  },
  {
   "cell_type": "markdown",
   "id": "c3406b2e",
   "metadata": {},
   "source": [
    "**Question 1.4. Use the `get_bothvotes` function to show that if party A picks a platform of 3, there is a platform that B could pick which would win the election.**"
   ]
  },
  {
   "cell_type": "code",
   "execution_count": 73,
   "id": "72989c4a",
   "metadata": {},
   "outputs": [
    {
     "data": {
      "text/plain": [
       "[17, 21]"
      ]
     },
     "execution_count": 73,
     "metadata": {},
     "output_type": "execute_result"
    }
   ],
   "source": [
    "# Code for 1.4\n",
    "get_bothvotes(3,2, classdata.column(\"libcon\"))"
   ]
  },
  {
   "cell_type": "markdown",
   "id": "295f5fea",
   "metadata": {},
   "source": [
    "By picking a platform of 2, B can capture everyone with an ideal point of 1 or 2, which is a slight majority of the class."
   ]
  },
  {
   "cell_type": "markdown",
   "id": "76b7ac23",
   "metadata": {},
   "source": [
    "**Question 1.5. Write code to find the median position of the class. Then use the `get_bothvotes` function to show that if candidate A places themselves at the median, then B will lose if placing themself slightly higher or lower but tie if also going to the median.**"
   ]
  },
  {
   "cell_type": "code",
   "execution_count": 74,
   "id": "ec44b696",
   "metadata": {},
   "outputs": [
    {
     "data": {
      "text/plain": [
       "2.0"
      ]
     },
     "execution_count": 74,
     "metadata": {},
     "output_type": "execute_result"
    }
   ],
   "source": [
    "# Code for 1.5\n",
    "np.median(classdata.column(\"libcon\"))"
   ]
  },
  {
   "cell_type": "code",
   "execution_count": 75,
   "id": "cec6e003",
   "metadata": {},
   "outputs": [
    {
     "data": {
      "text/plain": [
       "[34, 4]"
      ]
     },
     "execution_count": 75,
     "metadata": {},
     "output_type": "execute_result"
    }
   ],
   "source": [
    "get_bothvotes(2, 1.9, classdata.column(\"libcon\"))"
   ]
  },
  {
   "cell_type": "code",
   "execution_count": 76,
   "id": "a7845803",
   "metadata": {},
   "outputs": [
    {
     "data": {
      "text/plain": [
       "[21, 17]"
      ]
     },
     "execution_count": 76,
     "metadata": {},
     "output_type": "execute_result"
    }
   ],
   "source": [
    "get_bothvotes(2, 2.1, classdata.column(\"libcon\"))"
   ]
  },
  {
   "cell_type": "code",
   "execution_count": 77,
   "id": "df232ada",
   "metadata": {},
   "outputs": [
    {
     "data": {
      "text/plain": [
       "[0, 0]"
      ]
     },
     "execution_count": 77,
     "metadata": {},
     "output_type": "execute_result"
    }
   ],
   "source": [
    "get_bothvotes(2, 2, classdata.column(\"libcon\"))"
   ]
  },
  {
   "cell_type": "markdown",
   "id": "d7e1ede1",
   "metadata": {},
   "source": [
    "Note that our function can also see how the same platforms would do with a different electorate. Let's define `opp_class` as an electorate with the exact opposite preferences you reported. Since `libcon` is on a 1-7 scale, \n",
    "$$8-libcon$$ \n",
    "will also be on a 1 to 7 scale (think about why!)"
   ]
  },
  {
   "cell_type": "code",
   "execution_count": 78,
   "id": "ffa842f5",
   "metadata": {},
   "outputs": [
    {
     "data": {
      "text/plain": [
       "array([4, 5, 5, 6, 7, 6, 5, 6, 5, 5, 6, 3, 5, 6, 5, 6, 5, 4, 6, 6, 6, 6, 6,\n",
       "       5, 6, 5, 4, 7, 6, 5, 2, 6, 6, 7, 6, 6, 3, 7])"
      ]
     },
     "execution_count": 78,
     "metadata": {},
     "output_type": "execute_result"
    }
   ],
   "source": [
    "opp_class = 8- classdata.column(\"libcon\")\n",
    "opp_class"
   ]
  },
  {
   "cell_type": "markdown",
   "id": "686f9f6c",
   "metadata": {},
   "source": [
    "**Question 1.6. What does the Downs-Hotelling model say about the NE party positions with this electorate?**"
   ]
  },
  {
   "cell_type": "code",
   "execution_count": 79,
   "id": "442d6ce1",
   "metadata": {},
   "outputs": [
    {
     "data": {
      "text/plain": [
       "6.0"
      ]
     },
     "execution_count": 79,
     "metadata": {},
     "output_type": "execute_result"
    }
   ],
   "source": [
    "# Code for 1.6\n",
    "np.median(opp_class)"
   ]
  },
  {
   "cell_type": "markdown",
   "id": "09294e73",
   "metadata": {},
   "source": [
    "The median ideology of \"opposite class\" is 6, so the model says both parties should locate there."
   ]
  },
  {
   "cell_type": "markdown",
   "id": "3e14fc8e",
   "metadata": {},
   "source": [
    "**Question 1.7 [OPTIONAL]. Find pairs of platforms where (1) A would win with the class electorate but B would win with the opposite electorate, and (2) A would win with either electorate.**"
   ]
  },
  {
   "cell_type": "code",
   "execution_count": 80,
   "id": "7aa785e5",
   "metadata": {},
   "outputs": [
    {
     "data": {
      "text/plain": [
       "[32, 6]"
      ]
     },
     "execution_count": 80,
     "metadata": {},
     "output_type": "execute_result"
    }
   ],
   "source": [
    "# Code for 1.7\n",
    "get_bothvotes(2,5,classdata.column(\"libcon\"))"
   ]
  },
  {
   "cell_type": "code",
   "execution_count": 81,
   "id": "d9b93658",
   "metadata": {},
   "outputs": [
    {
     "data": {
      "text/plain": [
       "[3, 35]"
      ]
     },
     "execution_count": 81,
     "metadata": {},
     "output_type": "execute_result"
    }
   ],
   "source": [
    "get_bothvotes(2,5,opp_class)"
   ]
  },
  {
   "cell_type": "markdown",
   "id": "849c8b0d",
   "metadata": {},
   "source": [
    "This shows that if party A picks 2 and party B picks 5, A would win with the class electorate but B would win with the opposite electorate"
   ]
  },
  {
   "cell_type": "code",
   "execution_count": 82,
   "id": "c2dbf59c",
   "metadata": {},
   "outputs": [
    {
     "data": {
      "text/plain": [
       "[34, 4]"
      ]
     },
     "execution_count": 82,
     "metadata": {},
     "output_type": "execute_result"
    }
   ],
   "source": [
    "get_bothvotes(2,1,classdata.column(\"libcon\"))"
   ]
  },
  {
   "cell_type": "code",
   "execution_count": 83,
   "id": "162a2aec",
   "metadata": {},
   "outputs": [
    {
     "data": {
      "text/plain": [
       "[38, 0]"
      ]
     },
     "execution_count": 83,
     "metadata": {},
     "output_type": "execute_result"
    }
   ],
   "source": [
    "get_bothvotes(2,1,opp_class)"
   ]
  },
  {
   "cell_type": "markdown",
   "id": "04442429",
   "metadata": {},
   "source": [
    "This shows that if A picks 2 and B picks 1, then B will win no matter what. Intuitively here party A is very extreme so even the more liberal electorate prefers B."
   ]
  },
  {
   "cell_type": "markdown",
   "id": "e5d22cfb",
   "metadata": {},
   "source": [
    "## Part 2: Multiple Electorates, Multiple Elections\n",
    "\n",
    "Later on we will explore some data which compares the voting record of members of congress in the US -- which roughly corresponds to the \"platform\" they run on -- to the presidential vote share in the district which elects them. We can think of the presidential vote share as telling us about the (median) ideology of the district's voters. \n",
    "\n",
    "To see how, let's imagine there are a bunch of districts with different ideological distributions, which we will generate randomly. \n",
    "\n",
    "In each district, there is a \"district election\" (which will correspond to a member of the legislature) and a \"national election\". \n",
    "- We will first assume the \"district\" election happens as in the theory above, and so the winning candidate will have a platfom equal to the position of the median voter. As in the theory, we assume that this platform is \"credible\" in the sense that the winning candidate will implement this platform if in office.\n",
    "- We will assume that (for reasons not explicitly modeled), in the national election there are two candidates L and R who place themselves at positions 2 and 6, and voters pick the candidate closest to them. From this will compute the R vote share in the national election. \n",
    "\n",
    "Finally, we will look at the relationship between the result of the national election and the district election.\n",
    "\n",
    "Let's define some variables which will correspond to the number of districts (set to 400, to approximate the data we will use later). We also set the district size to 1000 voters; this is much smaller than the context of house disticts we will look at, but making it bigger will just make the code run more slowly."
   ]
  },
  {
   "cell_type": "code",
   "execution_count": 84,
   "id": "4c70b5b5",
   "metadata": {},
   "outputs": [],
   "source": [
    "n_dist = 400\n",
    "dist_size = 1000"
   ]
  },
  {
   "cell_type": "markdown",
   "id": "671c2585",
   "metadata": {},
   "source": [
    "We want to capture the idea that some districts will be more liberal or conservative than others on average, but within each district there will also be relatively liberal and conservative voters. \n",
    "\n",
    "To reflect this, we will simulate our electorate in two steps. First, we will create random district ideology means which range from 2 to 6, and then we will simulate the individual voter ideologies.\n",
    "\n",
    "For both steps, we can use the `np.random.rand(n)` function, which creates n random numbers between 0 and 1. These follow a \"uniform\" distribution which loosely means that all values are equally likely. For example this creates `n_dist` random numbers between 0 and 1 then puts it in a table so we can make a histogram with the `.hist` function."
   ]
  },
  {
   "cell_type": "code",
   "execution_count": 89,
   "id": "008e6e75",
   "metadata": {},
   "outputs": [
    {
     "data": {
      "image/png": "[encoded data removed]",
      "text/plain": [
       "<Figure size 432x288 with 1 Axes>"
      ]
     },
     "metadata": {
      "needs_background": "light"
     },
     "output_type": "display_data"
    }
   ],
   "source": [
    "np.random.seed(888)\n",
    "ideology01 = np.random.rand(n_dist)\n",
    "dist_data = Table().with_column(\"Ideology01\", ideology01)\n",
    "dist_data.hist(\"Ideology01\")"
   ]
  },
  {
   "cell_type": "markdown",
   "id": "b1730a88",
   "metadata": {},
   "source": [
    "To match the analysis we were doing earlier, we might want ideology to range from 1 to 7, rather than from 0 to 1. In general if we want the district ideology to have a different range, we can \"transform\" this variable. In particular, to make an ideology variable that ranges from 1 to 7 we can multiply `ideology01` and then add 6. This way the lowest ideologies on the 0-1 scale (0) get transformed to 1, and the highest ideologies on the 0-1 scale (1) get transformed to 7. \n",
    "\n",
    "Let's create this transformed variable, add it to the table, and then make a histogram:"
   ]
  },
  {
   "cell_type": "code",
   "execution_count": 96,
   "id": "80d7960a",
   "metadata": {},
   "outputs": [
    {
     "data": {
      "image/png": "[encoded data removed]",
      "text/plain": [
       "<Figure size 432x288 with 1 Axes>"
      ]
     },
     "metadata": {
      "needs_background": "light"
     },
     "output_type": "display_data"
    }
   ],
   "source": [
    "ideology17 = 1 + 6*ideology01\n",
    "dist_data = dist_data.with_column(\"ideology17\", ideology17)\n",
    "dist_data.hist(\"ideology17\")"
   ]
  },
  {
   "cell_type": "markdown",
   "id": "c1306f5e",
   "metadata": {},
   "source": [
    "Note this has the same \"shape\" as the ideology01, but now it appears to range from 1 to 7. We can also check this with:"
   ]
  },
  {
   "cell_type": "code",
   "execution_count": 97,
   "id": "78954987",
   "metadata": {},
   "outputs": [
    {
     "name": "stdout",
     "output_type": "stream",
     "text": [
      "1.00893953886 6.98786115832\n"
     ]
    }
   ],
   "source": [
    "\n",
    "print(np.min(ideology17),np.max(ideology17))"
   ]
  },
  {
   "cell_type": "markdown",
   "id": "c73b93b7",
   "metadata": {},
   "source": [
    "For our simulation we want the mean ideology to range from 2 to 6. \n",
    "\n",
    "\n",
    "**Question 2.1. Write code to (1) create an array called `dist_means` which is uniformly distributed from 2 to 6, (2) add it to the `dist_data` table, and (3) make a histogram to confirm that it has the range that we want.**"
   ]
  },
  {
   "cell_type": "code",
   "execution_count": 98,
   "id": "0d7b9d4d",
   "metadata": {},
   "outputs": [
    {
     "data": {
      "image/png": "[encoded data removed]",
      "text/plain": [
       "<Figure size 432x288 with 1 Axes>"
      ]
     },
     "metadata": {
      "needs_background": "light"
     },
     "output_type": "display_data"
    }
   ],
   "source": [
    "# Code for 2.1\n",
    "dist_means = 2 + 4*ideology01\n",
    "dist_data = dist_data.with_column(\"DistrictMean\", dist_means)\n",
    "dist_data.hist(\"DistrictMean\")"
   ]
  },
  {
   "cell_type": "markdown",
   "id": "ec6a7479",
   "metadata": {},
   "source": [
    "Now that we have set how generally liberal and conservative each district is, let's create individual voter ideologies. To do this for the first district, let's first figure out the mean ideology there (recall that the first voter is in position 0):"
   ]
  },
  {
   "cell_type": "code",
   "execution_count": 99,
   "id": "205f4180",
   "metadata": {},
   "outputs": [
    {
     "data": {
      "text/plain": [
       "5.438242424243767"
      ]
     },
     "execution_count": 99,
     "metadata": {},
     "output_type": "execute_result"
    }
   ],
   "source": [
    "dist_means[0]"
   ]
  },
  {
   "cell_type": "markdown",
   "id": "e561ddaf",
   "metadata": {},
   "source": [
    "Let's assume that within each district, the individual voters' ideologies are between the district mean - 2 and the district mean +2. We then check what the median voter ideology is within our test district."
   ]
  },
  {
   "cell_type": "code",
   "execution_count": 100,
   "id": "3f2aa220",
   "metadata": {},
   "outputs": [
    {
     "data": {
      "text/plain": [
       "5.4628661658004276"
      ]
     },
     "execution_count": 100,
     "metadata": {},
     "output_type": "execute_result"
    }
   ],
   "source": [
    "np.random.seed(89)\n",
    "dist1_voters = dist_means[0] -2 + 4*np.random.rand(dist_size)\n",
    "np.median(dist1_voters)"
   ]
  },
  {
   "cell_type": "markdown",
   "id": "43675c93",
   "metadata": {},
   "source": [
    "We can see how this district would vote in the national election with candidate platforms at 2 and 6 using the `get_bothvotes` function we defined above."
   ]
  },
  {
   "cell_type": "code",
   "execution_count": 101,
   "id": "a8e32c62",
   "metadata": {},
   "outputs": [
    {
     "data": {
      "text/plain": [
       "[138, 862]"
      ]
     },
     "execution_count": 101,
     "metadata": {},
     "output_type": "execute_result"
    }
   ],
   "source": [
    "get_bothvotes(2,6,dist1_voters)"
   ]
  },
  {
   "cell_type": "markdown",
   "id": "95ca1b92",
   "metadata": {},
   "source": [
    "So, if the Downs-Hotelling theory is right, this district would elect a member of congress with an ideology of around 5.5, and in the presidential election the R party will get about 86% of the vote."
   ]
  },
  {
   "cell_type": "markdown",
   "id": "ec83d21e",
   "metadata": {},
   "source": [
    "**Question 2.2. Now do the same thing to simulate `dist_size` voters in district 2, and compute (1) the district median ideology and (2) the number of votes for each candidate on the national level. Compare both to the first district.** "
   ]
  },
  {
   "cell_type": "code",
   "execution_count": 102,
   "id": "adb8b8be",
   "metadata": {},
   "outputs": [
    {
     "data": {
      "text/plain": [
       "2.6710850031466911"
      ]
     },
     "execution_count": 102,
     "metadata": {},
     "output_type": "execute_result"
    }
   ],
   "source": [
    "# Code for 2.2\n",
    "np.random.seed(87)\n",
    "dist2_voters = dist_means[1] -2 + 4*np.random.rand(dist_size)\n",
    "np.median(dist2_voters)"
   ]
  },
  {
   "cell_type": "code",
   "execution_count": 103,
   "id": "ad663c46",
   "metadata": {},
   "outputs": [
    {
     "data": {
      "text/plain": [
       "[844, 156]"
      ]
     },
     "execution_count": 103,
     "metadata": {},
     "output_type": "execute_result"
    }
   ],
   "source": [
    "get_bothvotes(2,6,dist2_voters)"
   ]
  },
  {
   "cell_type": "markdown",
   "id": "6d293aad",
   "metadata": {},
   "source": [
    "District 2 has a lower ideology (more liberal) than district 1, with a median of around 2.7. SO we would predict they have a more liberal member of congress. In the presidential election party L will will win about 84% of the vote."
   ]
  },
  {
   "cell_type": "markdown",
   "id": "ec1e5cdb",
   "metadata": {},
   "source": [
    "Rather than going through these one by one, let's write a loop which (1) simulates the voter ideologies in the district, and then (2) computes the district median and national vote share."
   ]
  },
  {
   "cell_type": "code",
   "execution_count": 104,
   "id": "a01cbf36",
   "metadata": {},
   "outputs": [],
   "source": [
    "np.random.seed(90)\n",
    "# Creating blank lists\n",
    "dist_med_dh = []\n",
    "nat_elec= []\n",
    "# Looping through ad adding the district and national results to our lists\n",
    "for i in range(n_dist):\n",
    "    dist_voters = dist_means[i] + 4*np.random.rand(dist_size) - 2\n",
    "    dist_med_dh = np.append(dist_med_dh, np.median(dist_voters))\n",
    "    lvotes = sum(abs(dist_voters - 2) < abs(dist_voters - 6))\n",
    "    rvotes = sum(abs(dist_voters - 2) > abs(dist_voters - 6))\n",
    "    nat_elec = np.append(nat_elec, rvotes/(lvotes + rvotes))\n",
    "    "
   ]
  },
  {
   "cell_type": "markdown",
   "id": "a5a7f340",
   "metadata": {},
   "source": [
    "**Question 2.3. Add the median district ideology (call this \"District DH\" to emphasize this is the prediction from the Downs-Hotelling model) and national vote share (call this \"National\") to the `dist_data` table, and then make a scatterplot with the national vote share on the x axis and the district median on the y axis. Interpret this graph**"
   ]
  },
  {
   "cell_type": "code",
   "execution_count": 106,
   "id": "75523b5e",
   "metadata": {},
   "outputs": [
    {
     "data": {
      "text/html": [
       "<table border=\"1\" class=\"dataframe\">\n",
       "    <thead>\n",
       "        <tr>\n",
       "            <th>Ideology01</th> <th>ideology17</th> <th>DistrictMean</th> <th>District DH</th> <th>National</th>\n",
       "        </tr>\n",
       "    </thead>\n",
       "    <tbody>\n",
       "        <tr>\n",
       "            <td>0.859561  </td> <td>6.15736   </td> <td>5.43824     </td> <td>5.43595    </td> <td>0.864   </td>\n",
       "        </tr>\n",
       "        <tr>\n",
       "            <td>0.164569  </td> <td>1.98742   </td> <td>2.65828     </td> <td>2.63958    </td> <td>0.158   </td>\n",
       "        </tr>\n",
       "        <tr>\n",
       "            <td>0.483476  </td> <td>3.90086   </td> <td>3.9339      </td> <td>3.99887    </td> <td>0.499   </td>\n",
       "        </tr>\n",
       "        <tr>\n",
       "            <td>0.921027  </td> <td>6.52616   </td> <td>5.68411     </td> <td>5.65882    </td> <td>0.913   </td>\n",
       "        </tr>\n",
       "        <tr>\n",
       "            <td>0.428556  </td> <td>3.57134   </td> <td>3.71423     </td> <td>3.76205    </td> <td>0.446   </td>\n",
       "        </tr>\n",
       "        <tr>\n",
       "            <td>0.0574601 </td> <td>1.34476   </td> <td>2.22984     </td> <td>2.2229     </td> <td>0.066   </td>\n",
       "        </tr>\n",
       "        <tr>\n",
       "            <td>0.925007  </td> <td>6.55004   </td> <td>5.70003     </td> <td>5.81023    </td> <td>0.938   </td>\n",
       "        </tr>\n",
       "        <tr>\n",
       "            <td>0.657602  </td> <td>4.94561   </td> <td>4.63041     </td> <td>4.57267    </td> <td>0.638   </td>\n",
       "        </tr>\n",
       "        <tr>\n",
       "            <td>0.132953  </td> <td>1.79772   </td> <td>2.53181     </td> <td>2.52228    </td> <td>0.15    </td>\n",
       "        </tr>\n",
       "        <tr>\n",
       "            <td>0.533449  </td> <td>4.20069   </td> <td>4.1338      </td> <td>4.11775    </td> <td>0.53    </td>\n",
       "        </tr>\n",
       "    </tbody>\n",
       "</table>\n",
       "<p>... (390 rows omitted)</p>"
      ],
      "text/plain": [
       "Ideology01 | ideology17 | DistrictMean | District DH | National\n",
       "0.859561   | 6.15736    | 5.43824      | 5.43595     | 0.864\n",
       "0.164569   | 1.98742    | 2.65828      | 2.63958     | 0.158\n",
       "0.483476   | 3.90086    | 3.9339       | 3.99887     | 0.499\n",
       "0.921027   | 6.52616    | 5.68411      | 5.65882     | 0.913\n",
       "0.428556   | 3.57134    | 3.71423      | 3.76205     | 0.446\n",
       "0.0574601  | 1.34476    | 2.22984      | 2.2229      | 0.066\n",
       "0.925007   | 6.55004    | 5.70003      | 5.81023     | 0.938\n",
       "0.657602   | 4.94561    | 4.63041      | 4.57267     | 0.638\n",
       "0.132953   | 1.79772    | 2.53181      | 2.52228     | 0.15\n",
       "0.533449   | 4.20069    | 4.1338       | 4.11775     | 0.53\n",
       "... (390 rows omitted)"
      ]
     },
     "execution_count": 106,
     "metadata": {},
     "output_type": "execute_result"
    }
   ],
   "source": [
    "#Code for 2.3\n",
    "dist_data = dist_data.with_columns(\"District DH\", dist_med_dh, \"National\", nat_elec)\n",
    "dist_data"
   ]
  },
  {
   "cell_type": "code",
   "execution_count": 107,
   "id": "ea7aa6e3",
   "metadata": {},
   "outputs": [
    {
     "data": {
      "image/png": "[encoded data removed]",
      "text/plain": [
       "<Figure size 360x360 with 1 Axes>"
      ]
     },
     "metadata": {
      "needs_background": "light"
     },
     "output_type": "display_data"
    }
   ],
   "source": [
    "dist_data.scatter(\"National\", \"District DH\")"
   ]
  },
  {
   "cell_type": "markdown",
   "id": "f7b7161e",
   "metadata": {},
   "source": [
    "There is a very strong positive relationship, where districts that have a higher vote share for the right party also have a higher median ideology and hence a more conservative district representative."
   ]
  },
  {
   "cell_type": "markdown",
   "id": "cc12128b",
   "metadata": {},
   "source": [
    "## Part 3: Party Loyalty Theory"
   ]
  },
  {
   "cell_type": "markdown",
   "id": "20c8bfe5",
   "metadata": {},
   "source": [
    "One thing that we might think is missing in the Downs-Hotelling theory is the role of parties. In most political systems, candidates don't just run on an ideology, they also usually run with a party label as well. In fact, in some electoral systems voters *only* have the option to pick one of the parties. Further, once in office, legislators are typically pressured to vote with the party, though there is hetereogeneity here across countries as well.\n",
    "\n",
    "Let's consider an extreme version of a model with party loyalty/discipline. As above, suppose the \"national\" platforms for the L party is at 2 and the R party is at 6. Voters in each district get a choice to vote for a candidate from the L party, expecting that they will vote with the national L party, or a candidate from the R party who will vote with her national party. As a result, voters will vote for the L party if their ideology is closer to 2 and for the R party if their ideology is closer to 6.\n"
   ]
  },
  {
   "cell_type": "markdown",
   "id": "4fe2bffe",
   "metadata": {},
   "source": [
    "We can do this with an immensely useful function called `np.where`. (Note the `np` means we are pulling this from the `numpy` library, and this is different than the `where` function in the datascience library!) This variable has three arguments:\n",
    "- A *condition* which is either True or False\n",
    "- The value to return if True\n",
    "- The value to return if False\n",
    "\n",
    "For example, let's say we wanted to create a variable called `VeryConservative` which is equal to \"yes\" if the national vote share for the right party is above 70%:\n",
    "\n"
   ]
  },
  {
   "cell_type": "code",
   "execution_count": 108,
   "id": "5061b86b",
   "metadata": {},
   "outputs": [
    {
     "data": {
      "text/html": [
       "<table border=\"1\" class=\"dataframe\">\n",
       "    <thead>\n",
       "        <tr>\n",
       "            <th>Ideology01</th> <th>ideology17</th> <th>DistrictMean</th> <th>District DH</th> <th>National</th> <th>Very Conservative</th>\n",
       "        </tr>\n",
       "    </thead>\n",
       "    <tbody>\n",
       "        <tr>\n",
       "            <td>0.859561  </td> <td>6.15736   </td> <td>5.43824     </td> <td>5.43595    </td> <td>0.864   </td> <td>Yes              </td>\n",
       "        </tr>\n",
       "        <tr>\n",
       "            <td>0.164569  </td> <td>1.98742   </td> <td>2.65828     </td> <td>2.63958    </td> <td>0.158   </td> <td>No               </td>\n",
       "        </tr>\n",
       "        <tr>\n",
       "            <td>0.483476  </td> <td>3.90086   </td> <td>3.9339      </td> <td>3.99887    </td> <td>0.499   </td> <td>No               </td>\n",
       "        </tr>\n",
       "        <tr>\n",
       "            <td>0.921027  </td> <td>6.52616   </td> <td>5.68411     </td> <td>5.65882    </td> <td>0.913   </td> <td>Yes              </td>\n",
       "        </tr>\n",
       "        <tr>\n",
       "            <td>0.428556  </td> <td>3.57134   </td> <td>3.71423     </td> <td>3.76205    </td> <td>0.446   </td> <td>No               </td>\n",
       "        </tr>\n",
       "        <tr>\n",
       "            <td>0.0574601 </td> <td>1.34476   </td> <td>2.22984     </td> <td>2.2229     </td> <td>0.066   </td> <td>No               </td>\n",
       "        </tr>\n",
       "        <tr>\n",
       "            <td>0.925007  </td> <td>6.55004   </td> <td>5.70003     </td> <td>5.81023    </td> <td>0.938   </td> <td>Yes              </td>\n",
       "        </tr>\n",
       "        <tr>\n",
       "            <td>0.657602  </td> <td>4.94561   </td> <td>4.63041     </td> <td>4.57267    </td> <td>0.638   </td> <td>No               </td>\n",
       "        </tr>\n",
       "        <tr>\n",
       "            <td>0.132953  </td> <td>1.79772   </td> <td>2.53181     </td> <td>2.52228    </td> <td>0.15    </td> <td>No               </td>\n",
       "        </tr>\n",
       "        <tr>\n",
       "            <td>0.533449  </td> <td>4.20069   </td> <td>4.1338      </td> <td>4.11775    </td> <td>0.53    </td> <td>No               </td>\n",
       "        </tr>\n",
       "    </tbody>\n",
       "</table>\n",
       "<p>... (390 rows omitted)</p>"
      ],
      "text/plain": [
       "Ideology01 | ideology17 | DistrictMean | District DH | National | Very Conservative\n",
       "0.859561   | 6.15736    | 5.43824      | 5.43595     | 0.864    | Yes\n",
       "0.164569   | 1.98742    | 2.65828      | 2.63958     | 0.158    | No\n",
       "0.483476   | 3.90086    | 3.9339       | 3.99887     | 0.499    | No\n",
       "0.921027   | 6.52616    | 5.68411      | 5.65882     | 0.913    | Yes\n",
       "0.428556   | 3.57134    | 3.71423      | 3.76205     | 0.446    | No\n",
       "0.0574601  | 1.34476    | 2.22984      | 2.2229      | 0.066    | No\n",
       "0.925007   | 6.55004    | 5.70003      | 5.81023     | 0.938    | Yes\n",
       "0.657602   | 4.94561    | 4.63041      | 4.57267     | 0.638    | No\n",
       "0.132953   | 1.79772    | 2.53181      | 2.52228     | 0.15     | No\n",
       "0.533449   | 4.20069    | 4.1338       | 4.11775     | 0.53     | No\n",
       "... (390 rows omitted)"
      ]
     },
     "execution_count": 108,
     "metadata": {},
     "output_type": "execute_result"
    }
   ],
   "source": [
    "VeryConservative = np.where(dist_data.column(\"National\") > .7, \"Yes\", \"No\")\n",
    "dist_data = dist_data.with_column(\"Very Conservative\", VeryConservative)\n",
    "dist_data"
   ]
  },
  {
   "cell_type": "markdown",
   "id": "fa3e4c51",
   "metadata": {},
   "source": [
    "Recall we want to make a prediction that districts where the majority of the voters who prefer a platform of 6 to 2 will have a representative with position 6, and thsoe who prefer a platform of 2 to 6 will have a representative with a position of 2. \n",
    "\n",
    "We already have a variable which indicates what proportion of each district prefers 6 to 2: that is just the `National` variable. When this is greater than $1/2$, we know more voters prefer 6, and when it is less than $1/2$ we know more voters prefer 2.\n"
   ]
  },
  {
   "cell_type": "markdown",
   "id": "bb3fe9bd",
   "metadata": {},
   "source": [
    "**Question 3.1. Create a variable called `District PL` which is equal to 2 for districts that elect a L party representative and 6 for those that elect an R party representative.**"
   ]
  },
  {
   "cell_type": "code",
   "execution_count": 110,
   "id": "295e96ce",
   "metadata": {},
   "outputs": [
    {
     "data": {
      "text/html": [
       "<table border=\"1\" class=\"dataframe\">\n",
       "    <thead>\n",
       "        <tr>\n",
       "            <th>Ideology01</th> <th>ideology17</th> <th>DistrictMean</th> <th>District DH</th> <th>National</th> <th>Very Conservative</th> <th>District PL</th>\n",
       "        </tr>\n",
       "    </thead>\n",
       "    <tbody>\n",
       "        <tr>\n",
       "            <td>0.859561  </td> <td>6.15736   </td> <td>5.43824     </td> <td>5.43595    </td> <td>0.864   </td> <td>Yes              </td> <td>6          </td>\n",
       "        </tr>\n",
       "        <tr>\n",
       "            <td>0.164569  </td> <td>1.98742   </td> <td>2.65828     </td> <td>2.63958    </td> <td>0.158   </td> <td>No               </td> <td>2          </td>\n",
       "        </tr>\n",
       "        <tr>\n",
       "            <td>0.483476  </td> <td>3.90086   </td> <td>3.9339      </td> <td>3.99887    </td> <td>0.499   </td> <td>No               </td> <td>2          </td>\n",
       "        </tr>\n",
       "        <tr>\n",
       "            <td>0.921027  </td> <td>6.52616   </td> <td>5.68411     </td> <td>5.65882    </td> <td>0.913   </td> <td>Yes              </td> <td>6          </td>\n",
       "        </tr>\n",
       "        <tr>\n",
       "            <td>0.428556  </td> <td>3.57134   </td> <td>3.71423     </td> <td>3.76205    </td> <td>0.446   </td> <td>No               </td> <td>2          </td>\n",
       "        </tr>\n",
       "        <tr>\n",
       "            <td>0.0574601 </td> <td>1.34476   </td> <td>2.22984     </td> <td>2.2229     </td> <td>0.066   </td> <td>No               </td> <td>2          </td>\n",
       "        </tr>\n",
       "        <tr>\n",
       "            <td>0.925007  </td> <td>6.55004   </td> <td>5.70003     </td> <td>5.81023    </td> <td>0.938   </td> <td>Yes              </td> <td>6          </td>\n",
       "        </tr>\n",
       "        <tr>\n",
       "            <td>0.657602  </td> <td>4.94561   </td> <td>4.63041     </td> <td>4.57267    </td> <td>0.638   </td> <td>No               </td> <td>6          </td>\n",
       "        </tr>\n",
       "        <tr>\n",
       "            <td>0.132953  </td> <td>1.79772   </td> <td>2.53181     </td> <td>2.52228    </td> <td>0.15    </td> <td>No               </td> <td>2          </td>\n",
       "        </tr>\n",
       "        <tr>\n",
       "            <td>0.533449  </td> <td>4.20069   </td> <td>4.1338      </td> <td>4.11775    </td> <td>0.53    </td> <td>No               </td> <td>6          </td>\n",
       "        </tr>\n",
       "    </tbody>\n",
       "</table>\n",
       "<p>... (390 rows omitted)</p>"
      ],
      "text/plain": [
       "Ideology01 | ideology17 | DistrictMean | District DH | National | Very Conservative | District PL\n",
       "0.859561   | 6.15736    | 5.43824      | 5.43595     | 0.864    | Yes               | 6\n",
       "0.164569   | 1.98742    | 2.65828      | 2.63958     | 0.158    | No                | 2\n",
       "0.483476   | 3.90086    | 3.9339       | 3.99887     | 0.499    | No                | 2\n",
       "0.921027   | 6.52616    | 5.68411      | 5.65882     | 0.913    | Yes               | 6\n",
       "0.428556   | 3.57134    | 3.71423      | 3.76205     | 0.446    | No                | 2\n",
       "0.0574601  | 1.34476    | 2.22984      | 2.2229      | 0.066    | No                | 2\n",
       "0.925007   | 6.55004    | 5.70003      | 5.81023     | 0.938    | Yes               | 6\n",
       "0.657602   | 4.94561    | 4.63041      | 4.57267     | 0.638    | No                | 6\n",
       "0.132953   | 1.79772    | 2.53181      | 2.52228     | 0.15     | No                | 2\n",
       "0.533449   | 4.20069    | 4.1338       | 4.11775     | 0.53     | No                | 6\n",
       "... (390 rows omitted)"
      ]
     },
     "execution_count": 110,
     "metadata": {},
     "output_type": "execute_result"
    }
   ],
   "source": [
    "#Code for 3.1\n",
    "district_pl = np.where(dist_data.column(\"National\") > .5, 6, 2)\n",
    "dist_data = dist_data.with_column(\"District PL\", district_pl)\n",
    "dist_data"
   ]
  },
  {
   "cell_type": "markdown",
   "id": "82213f97",
   "metadata": {},
   "source": [
    "**Question 3.2. Make a scatterplot with the National vote share on the x axis and the winning legislator position using the Party Loyalty theory on the Y axis. Compare this to the Downs-Hotelling prediction.**"
   ]
  },
  {
   "cell_type": "code",
   "execution_count": 111,
   "id": "6aa92d93",
   "metadata": {},
   "outputs": [
    {
     "data": {
      "image/png": "[encoded data removed]",
      "text/plain": [
       "<Figure size 360x360 with 1 Axes>"
      ]
     },
     "metadata": {
      "needs_background": "light"
     },
     "output_type": "display_data"
    }
   ],
   "source": [
    "#Code for 3.1\n",
    "dist_data.scatter(\"National\", \"District PL\")"
   ]
  },
  {
   "cell_type": "markdown",
   "id": "525a3e62",
   "metadata": {},
   "source": [
    "Rather than a smooth and linear relationship where more conservative districts have more conservative reresentatives, here there is a big jump up from a very liberal to a very conservative representative when the national vote share gets above .5."
   ]
  },
  {
   "cell_type": "markdown",
   "id": "17a72220",
   "metadata": {},
   "source": [
    "## Part 4: The Data"
   ]
  },
  {
   "cell_type": "markdown",
   "id": "72c4e3d1",
   "metadata": {},
   "source": [
    "Now let's look at some real data, which comes from <a href=\"https://www.jstor.org/stable/2669364?seq=1#metadata_info_tab_contents\">this paper</a>. The data include members of the House of Representatives who were elected in 2000. To measure their \"platform\" or \"position\", the authors use how they voted on bills after being elected. This is measured in the `Member Position` variable. It ranges from 0, meaning most liberal, to 1, meaning most conservative.\n",
    "\n",
    "To get at the ideology of the district, we can use how citizens within that districted voted in the 2000 presidential election. In particular, if we use `Bush` as our x axis variable that will give a sense of how conservative the median voter of the district is.\n",
    "\n",
    "There are also some other variables that may be of interest: The party of the member, how often they voted with their party, their gender, etc."
   ]
  },
  {
   "cell_type": "code",
   "execution_count": 112,
   "id": "2b800ce0",
   "metadata": {},
   "outputs": [
    {
     "data": {
      "text/html": [
       "<table border=\"1\" class=\"dataframe\">\n",
       "    <thead>\n",
       "        <tr>\n",
       "            <th>State</th> <th>Gore</th> <th>Bush</th> <th>location</th> <th>first_name</th> <th>middle_name</th> <th>last_name</th> <th>district</th> <th>votes_with_party_pct</th> <th>votes_against_party_pct</th> <th>party</th> <th>suffix</th> <th>gender</th> <th>geoid</th> <th>Member Position</th>\n",
       "        </tr>\n",
       "    </thead>\n",
       "    <tbody>\n",
       "        <tr>\n",
       "            <td>AK   </td> <td>0.28</td> <td>0.59</td> <td>AK1     </td> <td>Don       </td> <td>nan        </td> <td>Young    </td> <td>1       </td> <td>0.92                </td> <td>0.0757                 </td> <td>R    </td> <td>nan   </td> <td>M     </td> <td>200  </td> <td>0.92           </td>\n",
       "        </tr>\n",
       "        <tr>\n",
       "            <td>AL   </td> <td>0.38</td> <td>0.6 </td> <td>AL1     </td> <td>Sonny     </td> <td>nan        </td> <td>Callahan </td> <td>1       </td> <td>0.94                </td> <td>0.0589                 </td> <td>R    </td> <td>nan   </td> <td>nan   </td> <td>101  </td> <td>0.94           </td>\n",
       "        </tr>\n",
       "        <tr>\n",
       "            <td>AL   </td> <td>0.38</td> <td>0.61</td> <td>AL2     </td> <td>Terry     </td> <td>nan        </td> <td>Everett  </td> <td>2       </td> <td>0.95                </td> <td>0.0486                 </td> <td>R    </td> <td>nan   </td> <td>M     </td> <td>102  </td> <td>0.95           </td>\n",
       "        </tr>\n",
       "        <tr>\n",
       "            <td>AL   </td> <td>0.47</td> <td>0.52</td> <td>AL3     </td> <td>Bob       </td> <td>nan        </td> <td>Riley    </td> <td>3       </td> <td>0.93                </td> <td>0.0718                 </td> <td>R    </td> <td>nan   </td> <td>M     </td> <td>103  </td> <td>0.93           </td>\n",
       "        </tr>\n",
       "        <tr>\n",
       "            <td>AL   </td> <td>0.37</td> <td>0.61</td> <td>AL4     </td> <td>Robert    </td> <td>B.         </td> <td>Aderholt </td> <td>4       </td> <td>0.9                 </td> <td>0.0986                 </td> <td>R    </td> <td>nan   </td> <td>M     </td> <td>104  </td> <td>0.9            </td>\n",
       "        </tr>\n",
       "        <tr>\n",
       "            <td>AL   </td> <td>0.44</td> <td>0.54</td> <td>AL5     </td> <td>Robert    </td> <td>E.         </td> <td>Cramer   </td> <td>5       </td> <td>0.8                 </td> <td>0.1988                 </td> <td>D    </td> <td>nan   </td> <td>M     </td> <td>105  </td> <td>0.2            </td>\n",
       "        </tr>\n",
       "        <tr>\n",
       "            <td>AL   </td> <td>0.25</td> <td>0.74</td> <td>AL6     </td> <td>Spencer   </td> <td>nan        </td> <td>Bachus   </td> <td>6       </td> <td>0.93                </td> <td>0.0699                 </td> <td>R    </td> <td>nan   </td> <td>M     </td> <td>106  </td> <td>0.93           </td>\n",
       "        </tr>\n",
       "        <tr>\n",
       "            <td>AL   </td> <td>0.66</td> <td>0.33</td> <td>AL7     </td> <td>Earl      </td> <td>F.         </td> <td>Hilliard </td> <td>7       </td> <td>0.87                </td> <td>0.1248                 </td> <td>D    </td> <td>nan   </td> <td>M     </td> <td>107  </td> <td>0.13           </td>\n",
       "        </tr>\n",
       "        <tr>\n",
       "            <td>AR   </td> <td>0.5 </td> <td>0.48</td> <td>AR1     </td> <td>Marion    </td> <td>nan        </td> <td>Berry    </td> <td>1       </td> <td>0.81                </td> <td>0.1859                 </td> <td>D    </td> <td>nan   </td> <td>M     </td> <td>501  </td> <td>0.19           </td>\n",
       "        </tr>\n",
       "        <tr>\n",
       "            <td>AR   </td> <td>0.48</td> <td>0.49</td> <td>AR2     </td> <td>Vic       </td> <td>nan        </td> <td>Snyder   </td> <td>2       </td> <td>0.92                </td> <td>0.0755                 </td> <td>D    </td> <td>nan   </td> <td>M     </td> <td>502  </td> <td>0.08           </td>\n",
       "        </tr>\n",
       "    </tbody>\n",
       "</table>\n",
       "<p>... (429 rows omitted)</p>"
      ],
      "text/plain": [
       "State | Gore | Bush | location | first_name | middle_name | last_name | district | votes_with_party_pct | votes_against_party_pct | party | suffix | gender | geoid | Member Position\n",
       "AK    | 0.28 | 0.59 | AK1      | Don        | nan         | Young     | 1        | 0.92                 | 0.0757                  | R     | nan    | M      | 200   | 0.92\n",
       "AL    | 0.38 | 0.6  | AL1      | Sonny      | nan         | Callahan  | 1        | 0.94                 | 0.0589                  | R     | nan    | nan    | 101   | 0.94\n",
       "AL    | 0.38 | 0.61 | AL2      | Terry      | nan         | Everett   | 2        | 0.95                 | 0.0486                  | R     | nan    | M      | 102   | 0.95\n",
       "AL    | 0.47 | 0.52 | AL3      | Bob        | nan         | Riley     | 3        | 0.93                 | 0.0718                  | R     | nan    | M      | 103   | 0.93\n",
       "AL    | 0.37 | 0.61 | AL4      | Robert     | B.          | Aderholt  | 4        | 0.9                  | 0.0986                  | R     | nan    | M      | 104   | 0.9\n",
       "AL    | 0.44 | 0.54 | AL5      | Robert     | E.          | Cramer    | 5        | 0.8                  | 0.1988                  | D     | nan    | M      | 105   | 0.2\n",
       "AL    | 0.25 | 0.74 | AL6      | Spencer    | nan         | Bachus    | 6        | 0.93                 | 0.0699                  | R     | nan    | M      | 106   | 0.93\n",
       "AL    | 0.66 | 0.33 | AL7      | Earl       | F.          | Hilliard  | 7        | 0.87                 | 0.1248                  | D     | nan    | M      | 107   | 0.13\n",
       "AR    | 0.5  | 0.48 | AR1      | Marion     | nan         | Berry     | 1        | 0.81                 | 0.1859                  | D     | nan    | M      | 501   | 0.19\n",
       "AR    | 0.48 | 0.49 | AR2      | Vic        | nan         | Snyder    | 2        | 0.92                 | 0.0755                  | D     | nan    | M      | 502   | 0.08\n",
       "... (429 rows omitted)"
      ]
     },
     "execution_count": 112,
     "metadata": {},
     "output_type": "execute_result"
    }
   ],
   "source": [
    "realdata = Table.read_table(\"housedata.csv\")\n",
    "realdata"
   ]
  },
  {
   "cell_type": "markdown",
   "id": "209acfdc",
   "metadata": {},
   "source": [
    "**Question 4.1. To see the empirical analog of our theoretical predictions, make a scatter plot with `Bush` (the national vote) on the x axis and `Member Position` (the district representative ideology) on the y axis.**"
   ]
  },
  {
   "cell_type": "code",
   "execution_count": 113,
   "id": "d4e3c987",
   "metadata": {},
   "outputs": [
    {
     "data": {
      "image/png": "[encoded data removed]",
      "text/plain": [
       "<Figure size 360x360 with 1 Axes>"
      ]
     },
     "metadata": {
      "needs_background": "light"
     },
     "output_type": "display_data"
    }
   ],
   "source": [
    "# Code for 4.1\n",
    "realdata.scatter(\"Bush\", \"Member Position\")"
   ]
  },
  {
   "cell_type": "markdown",
   "id": "5ab6f316",
   "metadata": {},
   "source": [
    "You should see two \"clumps\" of data, which given the discussion above might correspond to the two parties. \n",
    "\n",
    "**Question 4.2. Make a version of the same graph, but use the `group` option to label the points by party (which is stored in the `party` column). See <a href=\"http://www.data8.org/datascience/_autosummary/datascience.tables.Table.scatter.html\">for documentation on the scatter function</a>.**"
   ]
  },
  {
   "cell_type": "code",
   "execution_count": 114,
   "id": "7a77fe72",
   "metadata": {},
   "outputs": [
    {
     "data": {
      "image/png": "[encoded data removed]",
      "text/plain": [
       "<Figure size 360x360 with 1 Axes>"
      ]
     },
     "metadata": {
      "needs_background": "light"
     },
     "output_type": "display_data"
    }
   ],
   "source": [
    "# Code for 4.2\n",
    "realdata.scatter(\"Bush\", \"Member Position\", group=\"party\")"
   ]
  },
  {
   "cell_type": "markdown",
   "id": "c18a2ac3",
   "metadata": {},
   "source": [
    "**Question 4.3. Compare this to the theoretical predictions of the Downs-Hotelling model and the Party Loyalty model. Which looks \"closer\" to reality, and why?**"
   ]
  },
  {
   "cell_type": "markdown",
   "id": "421adfdb",
   "metadata": {},
   "source": [
    "The big gap between D's and R's by party looks closer to the Party Loyalty model: members of congress generally vote in a way that their party wants rather than what their voters want. In other words, it looks like places with a Republican representative get pretty conservative representation in congress even if the district ideology is more liberal. Similarly, places with a Democratic representative get pretty liberal representation regardless of district ideology. "
   ]
  },
  {
   "cell_type": "markdown",
   "id": "06ca8949",
   "metadata": {},
   "source": [
    "Another thing we might want to check is whether *within the same party* members from more conservative districts vote in a more conservative fashion. \n",
    "\n",
    "**Question 4.4. To check this, make two scatterplots, one for each party. Hint: use the `where` (NOT `np.where`!) function to subset to the parties, and also include a `fit_line=True` argument to draw a best fit line.**"
   ]
  },
  {
   "cell_type": "code",
   "execution_count": 115,
   "id": "0dc7830d",
   "metadata": {},
   "outputs": [
    {
     "data": {
      "image/png": "[encoded data removed]",
      "text/plain": [
       "<Figure size 360x360 with 1 Axes>"
      ]
     },
     "metadata": {
      "needs_background": "light"
     },
     "output_type": "display_data"
    },
    {
     "data": {
      "image/png": "[encoded data removed]",
      "text/plain": [
       "<Figure size 360x360 with 1 Axes>"
      ]
     },
     "metadata": {
      "needs_background": "light"
     },
     "output_type": "display_data"
    }
   ],
   "source": [
    "# Code for 4.4\n",
    "realdata.where(\"party\", \"R\").scatter(\"Bush\", \"Member Position\", fit_line=True)\n",
    "realdata.where(\"party\", \"D\").scatter(\"Bush\", \"Member Position\", fit_line=True)"
   ]
  },
  {
   "cell_type": "markdown",
   "id": "614b5c0c",
   "metadata": {},
   "source": [
    "**Question 4.5. Interpret these graphs in light of the Downs-Hotelling and Party Loyalty theories.**"
   ]
  },
  {
   "cell_type": "markdown",
   "id": "daacb529",
   "metadata": {},
   "source": [
    "Even thought the Party Loyalty theory captures the large difference between members of each party, it is still the case that more conservative districts tend to get more conservative representatives when looking within the parties. So there is probably some truth to the DH model as well."
   ]
  },
  {
   "cell_type": "markdown",
   "id": "c94df180",
   "metadata": {},
   "source": [
    "## Part 5: A Hybrid Theory [OPTIONAL]"
   ]
  },
  {
   "cell_type": "markdown",
   "id": "18262a69",
   "metadata": {},
   "source": [
    "Perhaps a better theory to explain the voting behavior of members of the House combines the two models. A simple way we can do that is to predict a *weighted average* of the two predictions. Loosely, we can interpret this as predicting that members of congress sometimes get to vote according to their own/their district ideology, but other times have to vote with the party. \n",
    "\n",
    "With just two numbers $x$ and $y$, the $w$-weighted average is given by:\n",
    "$$\n",
    "w*x + (1-w)*y\n",
    "$$\n",
    "\n",
    "(We can also define weighted averages for more than two numbers, but won't need to do so for our purposes in this lab.)\n",
    "\n",
    "Here is a simple function to compute the weighted average of two columns/arrays with weight $w$. "
   ]
  },
  {
   "cell_type": "code",
   "execution_count": 116,
   "id": "a405540c",
   "metadata": {},
   "outputs": [],
   "source": [
    "def w_avg(x,y,w):\n",
    "    return w*x + (1-w)*y"
   ]
  },
  {
   "cell_type": "markdown",
   "id": "7bda6bfa",
   "metadata": {},
   "source": [
    "We can use this to compute the regular average of two numbers if we put the weight at $w=.5$:"
   ]
  },
  {
   "cell_type": "code",
   "execution_count": 117,
   "id": "882b8e2a",
   "metadata": {},
   "outputs": [
    {
     "data": {
      "text/plain": [
       "4.0"
      ]
     },
     "execution_count": 117,
     "metadata": {},
     "output_type": "execute_result"
    }
   ],
   "source": [
    "w_avg(2,6, .5)"
   ]
  },
  {
   "cell_type": "markdown",
   "id": "c2bd1ea7",
   "metadata": {},
   "source": [
    "If we increase the $w$ parameter, we put more weight on the first number:"
   ]
  },
  {
   "cell_type": "code",
   "execution_count": 118,
   "id": "3f3f8f15",
   "metadata": {},
   "outputs": [
    {
     "data": {
      "text/plain": [
       "2.8"
      ]
     },
     "execution_count": 118,
     "metadata": {},
     "output_type": "execute_result"
    }
   ],
   "source": [
    "w_avg(2,6, .8)"
   ]
  },
  {
   "cell_type": "markdown",
   "id": "94c6d54f",
   "metadata": {},
   "source": [
    "We can also apply this to arrays:"
   ]
  },
  {
   "cell_type": "code",
   "execution_count": 119,
   "id": "c9477060",
   "metadata": {},
   "outputs": [
    {
     "data": {
      "text/plain": [
       "array([ 5.6,  3.4,  1.8])"
      ]
     },
     "execution_count": 119,
     "metadata": {},
     "output_type": "execute_result"
    }
   ],
   "source": [
    "w_avg(np.array([5,3,2]), np.array([8,5,1]), .8)"
   ]
  },
  {
   "cell_type": "markdown",
   "id": "da9f2a39",
   "metadata": {},
   "source": [
    "Note that this is different from taking the average of the two arrays: rather we take the $w$-weighted average of the first number from each array, then the $w$-weighted average of the second number from each array, etc."
   ]
  },
  {
   "cell_type": "markdown",
   "id": "7b4d6d58",
   "metadata": {},
   "source": [
    "**Question 5.1. Create a variable which is equal to an equal weighted average ($w=.5$) of the prediction of the DH theory and the PL theory, and add it to the `dist_data` table with the name \"District Hybrid\".**"
   ]
  },
  {
   "cell_type": "code",
   "execution_count": 60,
   "id": "ef8cd415",
   "metadata": {},
   "outputs": [],
   "source": [
    "#Code for 5.1"
   ]
  },
  {
   "cell_type": "markdown",
   "id": "f9094d30",
   "metadata": {},
   "source": [
    "**Question 5.2 Make a scatter plot with \"National\" on the x axis and the hybrid prediction on the Y axis.**"
   ]
  },
  {
   "cell_type": "code",
   "execution_count": 61,
   "id": "5ccadb85",
   "metadata": {},
   "outputs": [],
   "source": [
    "# Code for 5.2"
   ]
  },
  {
   "cell_type": "markdown",
   "id": "a80eb2db",
   "metadata": {},
   "source": [
    "**Question 5.3. Repreat this process for $w=.2$ and $w=.8$. Which of these looks closest to the real data? What might this tell us about the relative importance of the two theories?**"
   ]
  },
  {
   "cell_type": "code",
   "execution_count": 62,
   "id": "2f1b8c4e",
   "metadata": {},
   "outputs": [],
   "source": [
    "# Code for 5.3"
   ]
  },
  {
   "cell_type": "markdown",
   "id": "43d20300",
   "metadata": {},
   "source": [
    "*Words for 5.3*"
   ]
  },
  {
   "cell_type": "markdown",
   "id": "6060c26d",
   "metadata": {},
   "source": [
    "**Question 5.4. What else might we want to add to our theory to make it more realistic/fit the theory better? (No need to write any code here, but if you want to that's great!)**"
   ]
  },
  {
   "cell_type": "markdown",
   "id": "d50b3e8d",
   "metadata": {},
   "source": [
    "*Words for 5.4*"
   ]
  },
  {
   "cell_type": "code",
   "execution_count": null,
   "id": "16bbbb7c",
   "metadata": {},
   "outputs": [],
   "source": []
  },
  {
   "cell_type": "code",
   "execution_count": null,
   "id": "f3e72ea1",
   "metadata": {},
   "outputs": [],
   "source": []
  }
 ],
 "metadata": {
  "kernelspec": {
   "display_name": "Python 3 (ipykernel)",
   "language": "python",
   "name": "python3"
  },
  "language_info": {
   "codemirror_mode": {
    "name": "ipython",
    "version": 3
   },
   "file_extension": ".py",
   "mimetype": "text/x-python",
   "name": "python",
   "nbconvert_exporter": "python",
   "pygments_lexer": "ipython3",
   "version": "3.9.7"
  }
 },
 "nbformat": 4,
 "nbformat_minor": 5
}
