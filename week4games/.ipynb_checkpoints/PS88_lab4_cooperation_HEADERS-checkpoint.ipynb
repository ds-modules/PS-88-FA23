{
 "cells": [
  {
   "cell_type": "markdown",
   "id": "b3cfbf07",
   "metadata": {},
   "source": [
    "# PS 88 Lab 4: Altruism and Cooperation"
   ]
  },
  {
   "cell_type": "markdown",
   "id": "7b1c6987",
   "metadata": {},
   "source": [
    "One reason that people may not always defect in a prisoners' dilemma situation (whether in the lab or real life) is that they might put weight on considerations beyond just material payoffs.\n",
    "\n",
    "Here is a simple way to get at this notion. Suppose that players 1 and 2 play a game with the same *material* payoffs as the prisoners' dilemma from lecture (recall player 1's decision determines the row and 2's decision determines the column):\n",
    "\n",
    "|          | Cooperate | Defect     | \n",
    "|----------|----------|--------------|\n",
    "| Cooperate |  2,2       |  0,3           |  \n",
    "| Defect |  3,0       |  1,1           |  \n",
    "\n",
    "\n",
    "Let's consider a theory that people are altruistic, meaning they value the welfare of others. Intuitively, this might lead them to cooperate in a prisoners' dilemma. \n",
    "\n",
    "To formalize this altruism theory let the players' utility be equal to their material payoff plus the material payoff of the other player times $a \\geq 0$, where $a$ measures how altruistic the players are. So, if $m_1$ and $m_2$ are the material payoffs, then the utilities are:\n",
    "$$\n",
    "u_1 = m_1 + a m_2\n",
    "$$\n",
    "$$\n",
    "u_2 = m_2 + a m_1\n",
    "$$\n",
    "\n",
    "\n",
    "**Question 1.1. Write a table which represents this version of the prisoners' dilemma. (Hint: you can double click on this cell and to copy the markdown code for the table above and paste it as a starting point.)**"
   ]
  },
  {
   "cell_type": "markdown",
   "id": "2757ff63",
   "metadata": {},
   "source": [
    "## Headers"
   ]
  },
  {
   "cell_type": "markdown",
   "id": "bde9b8cf",
   "metadata": {},
   "source": [
    "|          |   | PLAYER A |          |\n",
    "|----------|---|----------|----------|\n",
    "|          |   | __Cooperate__ | __Defect__   |\n",
    "| __PLAYER B__ | __Cooperate__ |  2,2       |  0,3     |  \n",
    "|          | __Defect__     |  3,0       |  1,1     |"
   ]
  },
  {
   "cell_type": "code",
   "execution_count": null,
   "id": "6eb544ee",
   "metadata": {},
   "outputs": [],
   "source": []
  },
  {
   "cell_type": "markdown",
   "id": "2a856593",
   "metadata": {},
   "source": [
    "<table border=\"1\">\n",
    "    <tr>\n",
    "        <th></th>\n",
    "        <th></th>\n",
    "        <th>PLAYER A</th>\n",
    "        <th></th>\n",
    "    </tr>\n",
    "    <tr>\n",
    "        <th></th>\n",
    "        <th></th>\n",
    "        <th><strong>Cooperate</strong></th>\n",
    "        <th><strong>Defect</strong></th>\n",
    "    </tr>\n",
    "    <tr>\n",
    "        <th><strong>PLAYER B</strong></th>\n",
    "        <th><strong>Cooperate</strong></th>\n",
    "        <td>2,2</td>\n",
    "        <td>0,3</td>\n",
    "    </tr>\n",
    "    <tr>\n",
    "        <th></th>\n",
    "        <th><strong>Defect</strong></th>\n",
    "        <td>3,0</td>\n",
    "        <td>1,1</td>\n",
    "    </tr>\n",
    "</table>"
   ]
  }
 ],
 "metadata": {
  "kernelspec": {
   "display_name": "Python 3 (ipykernel)",
   "language": "python",
   "name": "python3"
  },
  "language_info": {
   "codemirror_mode": {
    "name": "ipython",
    "version": 3
   },
   "file_extension": ".py",
   "mimetype": "text/x-python",
   "name": "python",
   "nbconvert_exporter": "python",
   "pygments_lexer": "ipython3",
   "version": "3.9.7"
  }
 },
 "nbformat": 4,
 "nbformat_minor": 5
}
